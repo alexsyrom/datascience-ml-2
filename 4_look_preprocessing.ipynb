{
 "cells": [
  {
   "cell_type": "markdown",
   "metadata": {},
   "source": [
    "Здесь будем фигачить признаки для деревьев, поэтому скоррелированные не выкидываем"
   ]
  },
  {
   "cell_type": "code",
   "execution_count": 1,
   "metadata": {
    "collapsed": false
   },
   "outputs": [],
   "source": [
    "%matplotlib inline\n",
    "import matplotlib.pyplot as plt\n",
    "import numpy as np\n",
    "import pandas as pd\n",
    "import seaborn as sns\n",
    "from tqdm import tnrange, tqdm_notebook\n",
    "import gc"
   ]
  },
  {
   "cell_type": "code",
   "execution_count": 2,
   "metadata": {
    "collapsed": true
   },
   "outputs": [],
   "source": [
    "from scipy import stats"
   ]
  },
  {
   "cell_type": "code",
   "execution_count": 3,
   "metadata": {
    "collapsed": true
   },
   "outputs": [],
   "source": [
    "sns.set_context('talk')"
   ]
  },
  {
   "cell_type": "code",
   "execution_count": 4,
   "metadata": {
    "collapsed": true
   },
   "outputs": [],
   "source": [
    "pd.set_option('display.max_columns', 500)"
   ]
  },
  {
   "cell_type": "code",
   "execution_count": 5,
   "metadata": {
    "collapsed": true
   },
   "outputs": [],
   "source": [
    "import warnings\n",
    "warnings.filterwarnings('ignore', message='Changing the shape of non-C contiguous array')"
   ]
  },
  {
   "cell_type": "markdown",
   "metadata": {},
   "source": [
    "# Read the data"
   ]
  },
  {
   "cell_type": "code",
   "execution_count": 6,
   "metadata": {
    "collapsed": false
   },
   "outputs": [
    {
     "name": "stderr",
     "output_type": "stream",
     "text": [
      "/home/alexey/.environments/ml/lib/python3.4/site-packages/IPython/core/interactiveshell.py:2717: DtypeWarning: Columns (6) have mixed types. Specify dtype option on import or set low_memory=False.\n",
      "  interactivity=interactivity, compiler=compiler, result=result)\n"
     ]
    }
   ],
   "source": [
    "test = pd.read_csv('csv/ech_test.csv', sep=';', index_col='id')\n",
    "train = pd.read_csv('csv/ech_apprentissage.csv', sep=';', index_col='id')"
   ]
  },
  {
   "cell_type": "markdown",
   "metadata": {},
   "source": [
    "# Graphs"
   ]
  },
  {
   "cell_type": "code",
   "execution_count": 7,
   "metadata": {
    "collapsed": false
   },
   "outputs": [
    {
     "data": {
      "text/plain": [
       "Index(['annee_naissance', 'annee_permis', 'marque', 'puis_fiscale', 'anc_veh',\n",
       "       'codepostal', 'energie_veh', 'kmage_annuel', 'crm', 'profession',\n",
       "       'var1', 'var2', 'var3', 'var4', 'var5', 'var6', 'var7', 'var8', 'var9',\n",
       "       'var10', 'var11', 'var12', 'var13', 'var14', 'var15', 'var16', 'var17',\n",
       "       'var18', 'var19', 'var20', 'var21', 'var22', 'prime_tot_ttc'],\n",
       "      dtype='object')"
      ]
     },
     "execution_count": 7,
     "metadata": {},
     "output_type": "execute_result"
    }
   ],
   "source": [
    "train.columns"
   ]
  },
  {
   "cell_type": "markdown",
   "metadata": {},
   "source": [
    "Заменим NR на NaN"
   ]
  },
  {
   "cell_type": "code",
   "execution_count": 8,
   "metadata": {
    "collapsed": true
   },
   "outputs": [],
   "source": [
    "train.replace('NR', np.NaN, inplace=True)\n",
    "test.replace('NR', np.NaN, inplace=True)"
   ]
  },
  {
   "cell_type": "markdown",
   "metadata": {},
   "source": [
    "Заменим ARMEE в codepostal на -1"
   ]
  },
  {
   "cell_type": "code",
   "execution_count": 9,
   "metadata": {
    "collapsed": false
   },
   "outputs": [],
   "source": [
    "train.loc[train.codepostal == 'ARMEE', 'codepostal'] = '-1'"
   ]
  },
  {
   "cell_type": "code",
   "execution_count": 10,
   "metadata": {
    "collapsed": false
   },
   "outputs": [
    {
     "data": {
      "text/plain": [
       "id\n",
       "46294    -1\n",
       "46295    -1\n",
       "46296    -1\n",
       "Name: codepostal, dtype: object"
      ]
     },
     "execution_count": 10,
     "metadata": {},
     "output_type": "execute_result"
    }
   ],
   "source": [
    "train.loc[train.codepostal == '-1', 'codepostal']"
   ]
  },
  {
   "cell_type": "markdown",
   "metadata": {},
   "source": [
    "Переведём codepostal в числа"
   ]
  },
  {
   "cell_type": "code",
   "execution_count": 11,
   "metadata": {
    "collapsed": false
   },
   "outputs": [],
   "source": [
    "train.codepostal = pd.to_numeric(train.codepostal)"
   ]
  },
  {
   "cell_type": "code",
   "execution_count": 12,
   "metadata": {
    "collapsed": false
   },
   "outputs": [
    {
     "data": {
      "text/plain": [
       "dtype('int64')"
      ]
     },
     "execution_count": 12,
     "metadata": {},
     "output_type": "execute_result"
    }
   ],
   "source": [
    "test.codepostal.dtype"
   ]
  },
  {
   "cell_type": "markdown",
   "metadata": {},
   "source": [
    "С тестом всё норм"
   ]
  },
  {
   "cell_type": "markdown",
   "metadata": {},
   "source": [
    "Разделим codepostal на часть, относящуюся к региону, и на остальное. Учтём всякие крайние случаи типа заморских территорий."
   ]
  },
  {
   "cell_type": "code",
   "execution_count": 13,
   "metadata": {
    "collapsed": false
   },
   "outputs": [],
   "source": [
    "def split_postcode(df):\n",
    "    df['department'] = df['codepostal'] // 1000\n",
    "    df['subreg'] = df['codepostal'] % 1000\n",
    "    overseas = (df['department'] == 98) | (df['department'] == 97)\n",
    "    df.ix[overseas, 'department'] = df['codepostal'] // 100\n",
    "    df.ix[overseas, 'subreg'] = df['codepostal'] % 100\n",
    "    df['ext_dep'] = df['codepostal'] // 100\n",
    "    return df.drop('codepostal', axis=1)"
   ]
  },
  {
   "cell_type": "code",
   "execution_count": 14,
   "metadata": {
    "collapsed": false
   },
   "outputs": [],
   "source": [
    "train = split_postcode(train)"
   ]
  },
  {
   "cell_type": "code",
   "execution_count": 15,
   "metadata": {
    "collapsed": true
   },
   "outputs": [],
   "source": [
    "test = split_postcode(test)"
   ]
  },
  {
   "cell_type": "markdown",
   "metadata": {},
   "source": [
    "Посмотрим на категориальные"
   ]
  },
  {
   "cell_type": "code",
   "execution_count": 16,
   "metadata": {
    "collapsed": false
   },
   "outputs": [
    {
     "name": "stdout",
     "output_type": "stream",
     "text": [
      "marque object\n",
      "energie_veh object\n",
      "profession object\n",
      "var6 object\n",
      "var7 object\n",
      "var8 object\n",
      "var14 object\n",
      "var16 object\n"
     ]
    }
   ],
   "source": [
    "categorical = []\n",
    "for col in train.columns:\n",
    "    if train[col].dtype not in ['int64', 'float64']:\n",
    "        print(col, train[col].dtype)\n",
    "        categorical.append(col)"
   ]
  },
  {
   "cell_type": "code",
   "execution_count": 17,
   "metadata": {
    "collapsed": false,
    "scrolled": true
   },
   "outputs": [
    {
     "name": "stdout",
     "output_type": "stream",
     "text": [
      "marque \n",
      " {nan, 'PONCIN', 'AMPHICAR', 'MAZDA', 'MEGA', 'MVS', 'CHEYENNE', 'PORSCHE', 'ROLLS ROYCE', 'TRIUMPH', 'SIMCA', 'ASTON MARTIN', 'CARBODIES', 'LORENZ', 'ENGIN TRAVAUX PUBLIC', 'BREMACH', 'SEAT', 'SSANGYONG', 'LOHR', 'IVECO', 'BERTONE', 'VEH SPECIAL', 'ACMA', 'HANOMAG', 'YAMAHA', 'TALBOT', 'CADILLAC', 'SANTANA', 'TATA', 'ASIA', 'MARUTI', 'SUZUKI', 'CATERHAM', 'CHEVROLET', 'PIAGGIO', 'JAGUAR', 'AUSTIN-HEALEY', 'LDV', 'LOTUS', 'AUTOBIANCHI', 'KIA', 'SECMA', 'LAFER', 'RAYTON FISSORE', 'PLYMOUTH', 'MOKE', 'RAMBLER', 'INFINITI', 'DETHLEFFS', 'EAGLE', 'EBS', 'AUVERLAND', 'FERRARI', 'LANCIA', 'HONDA', 'HOTCHKISS', 'DE LOREAN', 'VOLVO', 'STRAUBENHARDT', 'SMS', 'DANGEL', 'AMC', 'COURNIL', 'PONTIAC', 'JIDE', 'DELAHAYE', 'DAIMLER', 'MERCEDES', 'MCC', 'PANHARD', 'BUICK', 'DACIA', 'VAUXHALL', 'ALPINE RENAULT', 'MORRIS', 'FIAT', 'PGO', 'AUSTIN', 'ARO', 'LAND-ROVER', 'AUTOLAND', 'TVR', 'SKODA', 'SAAB', 'CHENARD ET WALKER', 'GRANDIN', 'MITSUBISHI', 'SINGER', 'LAMBORGHINI', 'OPEL', 'FORD', 'BRM', 'NECKAR', 'NSU', 'MG', 'MASERATI', 'DODGE', 'LEXUS', 'TOYOTA', 'EBRO', 'RELIANT', 'SUNBEAM', 'OLDSMOBILE', 'MORGAN', 'CITROEN', 'LADA', 'BMW', 'PININFARINA', 'LINCOLN', 'GMC', 'SOVRA', 'MATRA', 'TEILHOL', 'ENGIN LOISIRS', 'HUMMER', 'MARTIN', 'ROVER', 'DONKERVOORT', 'GME', 'ISUZU', 'SATURN', 'MINI', 'DAEWOO', 'VOLKSWAGEN', 'AUTO-UNION', 'FSO', 'PROTON', 'INTERNATIONAL', 'MAHINDRA', 'PEUGEOT', 'SAVIEM', 'DAIHATSU', 'UNIMOG', 'UMM', 'WIESMANN', 'CHRYSLER', 'ALFA ROMEO', 'DAF', 'MERCURY', 'RENAULT', 'HYUNDAI', 'BENTLEY', 'SMART', 'JEEP', 'AUDI', 'NISSAN', 'BEDFORD', 'DATSUN', 'SALMSON', 'PANTHER', 'WILLYS', 'SIATA', 'ENGIN SPECIAL', 'STEYR PUCH', 'SUBARU'} \n",
      "\n",
      "\n",
      "energie_veh \n",
      " {nan, 'gpl', 'hybride essence', 'essence', 'electricite', 'gazole'} \n",
      "\n",
      "\n",
      "profession \n",
      " {'technicien', 'cadre, ingenieur', 'educateur, animateur, moniteur', 'artisan', 'homme ou femme au foyer', \"demandeur d'emploi\", 'contremaitre, agent de maitrise', \"profession de l'information des arts et des spectacles\", 'profession liberale', 'agent, employe', \"chef d'entreprise\", 'ouvrier', 'enseignant, formateur, chercheur', 'etudiant', 'profession intermediaire de la sante et du travail social', 'commercant', 'agriculteur exploitant'} \n",
      "\n",
      "\n",
      "var6 \n",
      " {'C', 'N', 'A', 'D', 'B'} \n",
      "\n",
      "\n",
      "var7 \n",
      " {'7', '5', nan, '8', '50', '30', '4', '12', '0', '20', '6', '3', '10', '9', '14', '13', '2', '11', '1'} \n",
      "\n",
      "\n",
      "var8 \n",
      " {nan, 'K3', 'K', 'T2', 'B', 'K2', 'H1', 'F', 'PU', 'P1', 'P3', 'M2', 'P2', 'T4', 'T1', 'VA', 'MC', 'T3', 'H2', 'B2', 'B1', 'TU', 'M1', 'P4'} \n",
      "\n",
      "\n",
      "var14 \n",
      " {'N', 'C', 'F', 'E', 'D', 'A', 'G', 'B'} \n",
      "\n",
      "\n",
      "var16 \n",
      " {nan, '5', '4', '0', '3', '2', '1'} \n",
      "\n",
      "\n"
     ]
    }
   ],
   "source": [
    "for col in categorical:\n",
    "    print(col, '\\n', set(train[col]), '\\n\\n')"
   ]
  },
  {
   "cell_type": "markdown",
   "metadata": {},
   "source": [
    "Переведём в численные те признаки, которые посчитались за категориальные, потому что в них был NR (var7, var16). "
   ]
  },
  {
   "cell_type": "code",
   "execution_count": 18,
   "metadata": {
    "collapsed": false
   },
   "outputs": [],
   "source": [
    "train.var7 = pd.to_numeric(train.var7)\n",
    "train.var16 = pd.to_numeric(train.var16)"
   ]
  },
  {
   "cell_type": "code",
   "execution_count": 19,
   "metadata": {
    "collapsed": false
   },
   "outputs": [],
   "source": [
    "test.var7 = pd.to_numeric(test.var7)\n",
    "test.var16 = pd.to_numeric(test.var16)"
   ]
  },
  {
   "cell_type": "markdown",
   "metadata": {},
   "source": [
    "Опять посмотрим, но сразу с тестом"
   ]
  },
  {
   "cell_type": "code",
   "execution_count": 20,
   "metadata": {
    "collapsed": false,
    "scrolled": true
   },
   "outputs": [
    {
     "name": "stdout",
     "output_type": "stream",
     "text": [
      "marque 157 \n",
      " {nan, 'PONCIN', 'AMPHICAR', 'MAZDA', 'MEGA', 'MVS', 'CHEYENNE', 'PORSCHE', 'ROLLS ROYCE', 'TRIUMPH', 'SIMCA', 'ASTON MARTIN', 'CARBODIES', 'LORENZ', 'ENGIN TRAVAUX PUBLIC', 'BREMACH', 'SEAT', 'SSANGYONG', 'LOHR', 'IVECO', 'BERTONE', 'VEH SPECIAL', 'ACMA', 'HANOMAG', 'YAMAHA', 'TALBOT', 'CADILLAC', 'SANTANA', 'TATA', 'ASIA', 'MARUTI', 'SUZUKI', 'CATERHAM', 'CHEVROLET', 'PIAGGIO', 'JAGUAR', 'AUSTIN-HEALEY', 'LDV', 'LOTUS', 'AUTOBIANCHI', 'KIA', 'SECMA', 'LAFER', 'RAYTON FISSORE', 'PLYMOUTH', 'MOKE', 'RAMBLER', 'INFINITI', 'DETHLEFFS', 'EAGLE', 'EBS', 'AUVERLAND', 'FERRARI', 'LANCIA', 'HONDA', 'HOTCHKISS', 'DE LOREAN', 'VOLVO', 'STRAUBENHARDT', 'SMS', 'DANGEL', 'AMC', 'COURNIL', 'PONTIAC', 'JIDE', 'DELAHAYE', 'DAIMLER', 'MERCEDES', 'MCC', 'PANHARD', 'BUICK', 'DACIA', 'VAUXHALL', 'ALPINE RENAULT', 'MORRIS', 'FIAT', 'PGO', 'AUSTIN', 'ARO', 'LAND-ROVER', 'AUTOLAND', 'TVR', 'SKODA', 'SAAB', 'CHENARD ET WALKER', 'GRANDIN', 'MITSUBISHI', 'SINGER', 'LAMBORGHINI', 'OPEL', 'FORD', 'BRM', 'NECKAR', 'NSU', 'MG', 'MASERATI', 'DODGE', 'LEXUS', 'TOYOTA', 'EBRO', 'RELIANT', 'SOVAM', 'SUNBEAM', 'OLDSMOBILE', 'MORGAN', 'GEELY', 'CITROEN', 'LADA', 'BMW', 'PININFARINA', 'LINCOLN', 'GMC', 'SOVRA', 'MATRA', 'TEILHOL', 'ENGIN LOISIRS', 'HUMMER', 'MARTIN', 'ROVER', 'DONKERVOORT', 'GME', 'ISUZU', 'SATURN', 'MINI', 'DAEWOO', 'VOLKSWAGEN', 'AUTO-UNION', 'FSO', 'PROTON', 'INTERNATIONAL', 'MAHINDRA', 'PEUGEOT', 'SAVIEM', 'DAIHATSU', 'UNIMOG', 'UMM', 'WIESMANN', 'CHRYSLER', 'ALFA ROMEO', 'DAF', 'MERCURY', 'RENAULT', 'HYUNDAI', 'BENTLEY', 'SMART', 'JEEP', 'AUDI', 'NISSAN', 'BEDFORD', 'DATSUN', 'SALMSON', 'PANTHER', 'WILLYS', 'SIATA', 'ENGIN SPECIAL', 'STEYR PUCH', 'SUBARU'} \n",
      "\n",
      "\n",
      "energie_veh 6 \n",
      " {nan, 'gpl', 'hybride essence', 'essence', 'electricite', 'gazole'} \n",
      "\n",
      "\n",
      "profession 17 \n",
      " {'technicien', 'cadre, ingenieur', 'educateur, animateur, moniteur', 'artisan', 'homme ou femme au foyer', \"demandeur d'emploi\", 'contremaitre, agent de maitrise', \"profession de l'information des arts et des spectacles\", 'profession liberale', 'agent, employe', \"chef d'entreprise\", 'ouvrier', 'enseignant, formateur, chercheur', 'etudiant', 'profession intermediaire de la sante et du travail social', 'commercant', 'agriculteur exploitant'} \n",
      "\n",
      "\n",
      "var6 5 \n",
      " {'C', 'N', 'A', 'D', 'B'} \n",
      "\n",
      "\n",
      "var8 24 \n",
      " {nan, 'K3', 'K', 'T2', 'B', 'K2', 'H1', 'F', 'PU', 'P1', 'P3', 'M2', 'P2', 'T4', 'T1', 'VA', 'MC', 'T3', 'H2', 'B2', 'B1', 'TU', 'M1', 'P4'} \n",
      "\n",
      "\n",
      "var14 8 \n",
      " {'N', 'C', 'F', 'E', 'D', 'A', 'G', 'B'} \n",
      "\n",
      "\n"
     ]
    }
   ],
   "source": [
    "categorical = []\n",
    "bigX = pd.concat([train.drop('prime_tot_ttc', axis=1), test])\n",
    "for col in bigX.columns:\n",
    "    if bigX[col].dtype not in ['int64', 'float64']:\n",
    "        categorical.append(col)\n",
    "for col in categorical:\n",
    "    s = set(bigX[col])\n",
    "    print(col, len(s), '\\n', s, '\\n\\n')        "
   ]
  },
  {
   "cell_type": "markdown",
   "metadata": {
    "collapsed": true
   },
   "source": [
    "В категорию маломощных категориалов выделяются var14, var6, energie_veh.\n",
    "\n",
    "Средние var8, proffession\n",
    "\n",
    "Большие marque"
   ]
  },
  {
   "cell_type": "markdown",
   "metadata": {},
   "source": [
    "## var1 -- стаж == 2016 - annee_permis"
   ]
  },
  {
   "cell_type": "markdown",
   "metadata": {},
   "source": [
    "Думаю, annee_permis можно выкинуть, так как важны возраст и стаж"
   ]
  },
  {
   "cell_type": "code",
   "execution_count": 21,
   "metadata": {
    "collapsed": false
   },
   "outputs": [],
   "source": [
    "train['age'] = 2016 - train['annee_naissance']\n",
    "test['age'] = 2016 - test['annee_naissance']"
   ]
  },
  {
   "cell_type": "code",
   "execution_count": 22,
   "metadata": {
    "collapsed": true
   },
   "outputs": [],
   "source": [
    "train.drop(['annee_naissance', 'annee_permis'], axis=1, inplace=True)\n",
    "test.drop(['annee_naissance', 'annee_permis'], axis=1, inplace=True)"
   ]
  },
  {
   "cell_type": "markdown",
   "metadata": {},
   "source": [
    "## var9 -- мощность в лошадиных силах"
   ]
  },
  {
   "cell_type": "markdown",
   "metadata": {},
   "source": [
    "Забавно, var11 почти полностью повторяет anc_veh. Только иногда встречаются пары (0, 33)"
   ]
  },
  {
   "cell_type": "code",
   "execution_count": 27,
   "metadata": {
    "collapsed": false
   },
   "outputs": [
    {
     "data": {
      "text/plain": [
       "<matplotlib.collections.PathCollection at 0x7f3a2489d588>"
      ]
     },
     "execution_count": 27,
     "metadata": {},
     "output_type": "execute_result"
    },
    {
     "data": {
      "image/png": "[encoded data removed]",
      "text/plain": [
       "<matplotlib.figure.Figure at 0x7f3a2489dba8>"
      ]
     },
     "metadata": {},
     "output_type": "display_data"
    }
   ],
   "source": [
    "plt.scatter(train.var11, train.anc_veh)"
   ]
  },
  {
   "cell_type": "code",
   "execution_count": 28,
   "metadata": {
    "collapsed": false
   },
   "outputs": [
    {
     "data": {
      "text/plain": [
       "<matplotlib.collections.PathCollection at 0x7f3a24732d30>"
      ]
     },
     "execution_count": 28,
     "metadata": {},
     "output_type": "execute_result"
    },
    {
     "data": {
      "image/png": "[encoded data removed]",
      "text/plain": [
       "<matplotlib.figure.Figure at 0x7f3a2476d1d0>"
      ]
     },
     "metadata": {},
     "output_type": "display_data"
    }
   ],
   "source": [
    "plt.scatter(test.var11, test.anc_veh)"
   ]
  },
  {
   "cell_type": "markdown",
   "metadata": {},
   "source": [
    "Ну нахер, просто выбросим var11 (попробуем выбросить при обучении)"
   ]
  },
  {
   "cell_type": "markdown",
   "metadata": {},
   "source": [
    "## kmage_annuel -- ограничение на километраж за год"
   ]
  },
  {
   "cell_type": "markdown",
   "metadata": {},
   "source": [
    "На форумах говорят, что от налога на лошадиные силы зависят линеные добавки к цене. Вот же зараза-то какая. Придётся вернуться к обычному таргету, да ещё вернуть crm"
   ]
  },
  {
   "cell_type": "markdown",
   "metadata": {},
   "source": [
    "Ещё на форумах говорят, что сильно зависит от марки и возраста машины"
   ]
  },
  {
   "cell_type": "markdown",
   "metadata": {},
   "source": [
    "## var12 -- вес"
   ]
  },
  {
   "cell_type": "code",
   "execution_count": 23,
   "metadata": {
    "collapsed": false
   },
   "outputs": [
    {
     "data": {
      "text/plain": [
       "<matplotlib.collections.PathCollection at 0x7f3a24921cf8>"
      ]
     },
     "execution_count": 23,
     "metadata": {},
     "output_type": "execute_result"
    },
    {
     "data": {
      "image/png": "[encoded data removed]",
      "text/plain": [
       "<matplotlib.figure.Figure at 0x7f3a23c70f60>"
      ]
     },
     "metadata": {},
     "output_type": "display_data"
    }
   ],
   "source": [
    "plt.scatter(train.var12, train.kmage_annuel)"
   ]
  },
  {
   "cell_type": "code",
   "execution_count": 24,
   "metadata": {
    "collapsed": false
   },
   "outputs": [
    {
     "data": {
      "text/plain": [
       "<matplotlib.collections.PathCollection at 0x7f3a2484e400>"
      ]
     },
     "execution_count": 24,
     "metadata": {},
     "output_type": "execute_result"
    },
    {
     "data": {
      "image/png": "[encoded data removed]",
      "text/plain": [
       "<matplotlib.figure.Figure at 0x7f3a248c3208>"
      ]
     },
     "metadata": {},
     "output_type": "display_data"
    }
   ],
   "source": [
    "plt.scatter(test.var12, test.kmage_annuel)"
   ]
  },
  {
   "cell_type": "markdown",
   "metadata": {},
   "source": [
    "В трейне kmage_annuel монотонная функция от var12. Выкинем var12"
   ]
  },
  {
   "cell_type": "code",
   "execution_count": 25,
   "metadata": {
    "collapsed": true
   },
   "outputs": [],
   "source": [
    "train.drop('var12', axis=1, inplace=True)\n",
    "test.drop('var12', axis=1, inplace=True)"
   ]
  },
  {
   "cell_type": "markdown",
   "metadata": {},
   "source": [
    "# Target label separation "
   ]
  },
  {
   "cell_type": "code",
   "execution_count": 32,
   "metadata": {
    "collapsed": true
   },
   "outputs": [],
   "source": [
    "y_train = train['prime_tot_ttc']\n",
    "train = train.drop('prime_tot_ttc', axis=1)"
   ]
  },
  {
   "cell_type": "markdown",
   "metadata": {
    "collapsed": true
   },
   "source": [
    "# Save to file"
   ]
  },
  {
   "cell_type": "code",
   "execution_count": 33,
   "metadata": {
    "collapsed": true
   },
   "outputs": [],
   "source": [
    "y_train.to_csv('preprocessed_csv/y_train_4.csv', sep=';')"
   ]
  },
  {
   "cell_type": "code",
   "execution_count": 34,
   "metadata": {
    "collapsed": true
   },
   "outputs": [],
   "source": [
    "train.to_csv('preprocessed_csv/train_4.csv', sep=';')"
   ]
  },
  {
   "cell_type": "code",
   "execution_count": 35,
   "metadata": {
    "collapsed": true
   },
   "outputs": [],
   "source": [
    "test.to_csv('preprocessed_csv/test_4.csv', sep=';')"
   ]
  },
  {
   "cell_type": "code",
   "execution_count": null,
   "metadata": {
    "collapsed": true
   },
   "outputs": [],
   "source": []
  },
  {
   "cell_type": "code",
   "execution_count": null,
   "metadata": {
    "collapsed": true
   },
   "outputs": [],
   "source": []
  },
  {
   "cell_type": "code",
   "execution_count": null,
   "metadata": {
    "collapsed": true
   },
   "outputs": [],
   "source": []
  }
 ],
 "metadata": {
  "kernelspec": {
   "display_name": "Python 3",
   "language": "python",
   "name": "python3"
  },
  "language_info": {
   "codemirror_mode": {
    "name": "ipython",
    "version": 3
   },
   "file_extension": ".py",
   "mimetype": "text/x-python",
   "name": "python",
   "nbconvert_exporter": "python",
   "pygments_lexer": "ipython3",
   "version": "3.4.3"
  }
 },
 "nbformat": 4,
 "nbformat_minor": 0
}
