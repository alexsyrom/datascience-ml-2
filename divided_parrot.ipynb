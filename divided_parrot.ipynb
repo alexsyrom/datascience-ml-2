{
 "cells": [
  {
   "cell_type": "code",
   "execution_count": 1,
   "metadata": {
    "collapsed": false
   },
   "outputs": [],
   "source": [
    "%matplotlib inline\n",
    "import matplotlib.pyplot as plt\n",
    "import numpy as np\n",
    "import pandas as pd\n",
    "import seaborn as sns\n",
    "from tqdm import tnrange, tqdm_notebook\n",
    "import gc\n",
    "import operator"
   ]
  },
  {
   "cell_type": "code",
   "execution_count": 2,
   "metadata": {
    "collapsed": false
   },
   "outputs": [],
   "source": [
    "sns.set_context('talk')"
   ]
  },
  {
   "cell_type": "code",
   "execution_count": 3,
   "metadata": {
    "collapsed": true
   },
   "outputs": [],
   "source": [
    "pd.set_option('display.max_columns', 500)"
   ]
  },
  {
   "cell_type": "code",
   "execution_count": 4,
   "metadata": {
    "collapsed": true
   },
   "outputs": [],
   "source": [
    "import warnings\n",
    "warnings.filterwarnings('ignore', message='Changing the shape of non-C contiguous array')"
   ]
  },
  {
   "cell_type": "markdown",
   "metadata": {},
   "source": [
    "# Read the data"
   ]
  },
  {
   "cell_type": "code",
   "execution_count": 5,
   "metadata": {
    "collapsed": false
   },
   "outputs": [],
   "source": [
    "dfXtrain = pd.read_csv('preprocessed_csv/train_4.csv', index_col='id', sep=';')\n",
    "dfXtest = pd.read_csv('preprocessed_csv/test_4.csv', index_col='id', sep=';')\n",
    "dfYtrain = pd.read_csv('preprocessed_csv/y_train_4.csv', header=None, names=['ID', 'COTIS'], sep=';')"
   ]
  },
  {
   "cell_type": "code",
   "execution_count": 6,
   "metadata": {
    "collapsed": false
   },
   "outputs": [],
   "source": [
    "dfYtrain = dfYtrain.set_index('ID')"
   ]
  },
  {
   "cell_type": "markdown",
   "metadata": {},
   "source": [
    "# Preprocessing"
   ]
  },
  {
   "cell_type": "markdown",
   "metadata": {},
   "source": [
    "Вынесем var14, department и subreg."
   ]
  },
  {
   "cell_type": "code",
   "execution_count": 7,
   "metadata": {
    "collapsed": false
   },
   "outputs": [],
   "source": [
    "dropped_col_names = ['department', 'subreg', 'ext_dep'] \n",
    "\n",
    "def drop_cols(df):\n",
    "    return df.drop(dropped_col_names, axis=1), df[dropped_col_names]"
   ]
  },
  {
   "cell_type": "code",
   "execution_count": 8,
   "metadata": {
    "collapsed": false
   },
   "outputs": [],
   "source": [
    "train, dropped_train = drop_cols(dfXtrain)\n",
    "test, dropped_test = drop_cols(dfXtest)"
   ]
  },
  {
   "cell_type": "markdown",
   "metadata": {},
   "source": [
    "Добавим инфу о величине города из subreg'a"
   ]
  },
  {
   "cell_type": "code",
   "execution_count": 9,
   "metadata": {
    "collapsed": false
   },
   "outputs": [],
   "source": [
    "def add_big_city_cols(df, dropped_df):\n",
    "    df['big'] = np.where(dropped_df['subreg'] % 100 == 0, 1, 0)\n",
    "    df['average'] = np.where(dropped_df['subreg'] % 10 == 0, 1, 0)\n",
    "    df['average'] = df['average'] - df['big']\n",
    "    df['small'] = 1 - df['big'] - df['average']\n",
    "    return df"
   ]
  },
  {
   "cell_type": "code",
   "execution_count": 10,
   "metadata": {
    "collapsed": true
   },
   "outputs": [],
   "source": [
    "train = add_big_city_cols(train, dropped_train)\n",
    "test = add_big_city_cols(test, dropped_test)"
   ]
  },
  {
   "cell_type": "markdown",
   "metadata": {},
   "source": [
    "Декодируем оставшиеся категориальные признаки"
   ]
  },
  {
   "cell_type": "code",
   "execution_count": 11,
   "metadata": {
    "collapsed": false
   },
   "outputs": [
    {
     "data": {
      "text/plain": [
       "['puis_fiscale',\n",
       " 'anc_veh',\n",
       " 'kmage_annuel',\n",
       " 'crm',\n",
       " 'var1',\n",
       " 'var2',\n",
       " 'var3',\n",
       " 'var4',\n",
       " 'var5',\n",
       " 'var7',\n",
       " 'var9',\n",
       " 'var10',\n",
       " 'var11',\n",
       " 'var13',\n",
       " 'var15',\n",
       " 'var16',\n",
       " 'var17',\n",
       " 'var18',\n",
       " 'var19',\n",
       " 'var20',\n",
       " 'var21',\n",
       " 'var22',\n",
       " 'age',\n",
       " 'big',\n",
       " 'average',\n",
       " 'small']"
      ]
     },
     "execution_count": 11,
     "metadata": {},
     "output_type": "execute_result"
    }
   ],
   "source": [
    "numerical = list(train.select_dtypes(include=[np.number]).columns)\n",
    "numerical"
   ]
  },
  {
   "cell_type": "code",
   "execution_count": 12,
   "metadata": {
    "collapsed": false
   },
   "outputs": [
    {
     "data": {
      "text/plain": [
       "['marque', 'energie_veh', 'profession', 'var6', 'var8', 'var14']"
      ]
     },
     "execution_count": 12,
     "metadata": {},
     "output_type": "execute_result"
    }
   ],
   "source": [
    "categorical = list(train.select_dtypes(exclude=[np.number]).columns)\n",
    "categorical"
   ]
  },
  {
   "cell_type": "code",
   "execution_count": 13,
   "metadata": {
    "collapsed": false
   },
   "outputs": [
    {
     "data": {
      "text/plain": [
       "['marque', 'energie_veh', 'profession', 'var6', 'var8', 'var14']"
      ]
     },
     "execution_count": 13,
     "metadata": {},
     "output_type": "execute_result"
    }
   ],
   "source": [
    "list(test.select_dtypes(exclude=[np.number]).columns)"
   ]
  },
  {
   "cell_type": "code",
   "execution_count": 14,
   "metadata": {
    "collapsed": false
   },
   "outputs": [
    {
     "name": "stdout",
     "output_type": "stream",
     "text": [
      "marque 154 73\n",
      "energie_veh 5 5\n",
      "profession 17 17\n",
      "var6 5 5\n",
      "var8 23 19\n",
      "var14 8 1\n"
     ]
    }
   ],
   "source": [
    "for col in categorical:\n",
    "    print(col, train[col].nunique(), test[col].nunique())"
   ]
  },
  {
   "cell_type": "markdown",
   "metadata": {},
   "source": [
    "energie_veh и var6 с помощью get_dummies"
   ]
  },
  {
   "cell_type": "code",
   "execution_count": 15,
   "metadata": {
    "collapsed": false
   },
   "outputs": [
    {
     "data": {
      "text/plain": [
       "array(['gpl', 'hybride essence', 'electricite', 'gazole', 'essence', nan], dtype=object)"
      ]
     },
     "execution_count": 15,
     "metadata": {},
     "output_type": "execute_result"
    }
   ],
   "source": [
    "train.energie_veh.unique()"
   ]
  },
  {
   "cell_type": "code",
   "execution_count": 16,
   "metadata": {
    "collapsed": false
   },
   "outputs": [
    {
     "data": {
      "text/plain": [
       "array(['essence', 'gazole', 'gpl', 'hybride essence', nan, 'electricite'], dtype=object)"
      ]
     },
     "execution_count": 16,
     "metadata": {},
     "output_type": "execute_result"
    }
   ],
   "source": [
    "test.energie_veh.unique()"
   ]
  },
  {
   "cell_type": "code",
   "execution_count": 17,
   "metadata": {
    "collapsed": true
   },
   "outputs": [],
   "source": [
    "small_cat = ['energie_veh', 'var6']"
   ]
  },
  {
   "cell_type": "code",
   "execution_count": 18,
   "metadata": {
    "collapsed": true
   },
   "outputs": [],
   "source": [
    "train = pd.get_dummies(train, columns=small_cat)\n",
    "test = pd.get_dummies(test, columns=small_cat)"
   ]
  },
  {
   "cell_type": "markdown",
   "metadata": {},
   "source": [
    "Теперь посмотрим на остальные"
   ]
  },
  {
   "cell_type": "code",
   "execution_count": 19,
   "metadata": {
    "collapsed": false
   },
   "outputs": [
    {
     "data": {
      "text/plain": [
       "0"
      ]
     },
     "execution_count": 19,
     "metadata": {},
     "output_type": "execute_result"
    }
   ],
   "source": [
    "len(set(train.profession.values) - set(test.profession.values))"
   ]
  },
  {
   "cell_type": "code",
   "execution_count": 20,
   "metadata": {
    "collapsed": false
   },
   "outputs": [
    {
     "data": {
      "text/plain": [
       "4"
      ]
     },
     "execution_count": 20,
     "metadata": {},
     "output_type": "execute_result"
    }
   ],
   "source": [
    "len(set(train.var8.values) - set(test.var8.values))"
   ]
  },
  {
   "cell_type": "code",
   "execution_count": 21,
   "metadata": {
    "collapsed": false
   },
   "outputs": [
    {
     "data": {
      "text/plain": [
       "0"
      ]
     },
     "execution_count": 21,
     "metadata": {},
     "output_type": "execute_result"
    }
   ],
   "source": [
    "len(set(test.var8.values) - set(train.var8.values))"
   ]
  },
  {
   "cell_type": "code",
   "execution_count": 22,
   "metadata": {
    "collapsed": false
   },
   "outputs": [
    {
     "data": {
      "text/plain": [
       "83"
      ]
     },
     "execution_count": 22,
     "metadata": {},
     "output_type": "execute_result"
    }
   ],
   "source": [
    "len(set(train.marque.values) - set(test.marque.values))"
   ]
  },
  {
   "cell_type": "code",
   "execution_count": 23,
   "metadata": {
    "collapsed": false
   },
   "outputs": [
    {
     "data": {
      "text/plain": [
       "2"
      ]
     },
     "execution_count": 23,
     "metadata": {},
     "output_type": "execute_result"
    }
   ],
   "source": [
    "len(set(test.marque.values) - set(train.marque.values))"
   ]
  },
  {
   "cell_type": "code",
   "execution_count": 24,
   "metadata": {
    "collapsed": false
   },
   "outputs": [
    {
     "data": {
      "text/plain": [
       "{'GEELY', 'SOVAM'}"
      ]
     },
     "execution_count": 24,
     "metadata": {},
     "output_type": "execute_result"
    }
   ],
   "source": [
    "set(test.marque.values) - set(train.marque.values)"
   ]
  },
  {
   "cell_type": "code",
   "execution_count": 25,
   "metadata": {
    "collapsed": false
   },
   "outputs": [
    {
     "data": {
      "text/html": [
       "<div>\n",
       "<table border=\"1\" class=\"dataframe\">\n",
       "  <thead>\n",
       "    <tr style=\"text-align: right;\">\n",
       "      <th></th>\n",
       "      <th>marque</th>\n",
       "      <th>puis_fiscale</th>\n",
       "      <th>anc_veh</th>\n",
       "      <th>kmage_annuel</th>\n",
       "      <th>crm</th>\n",
       "      <th>profession</th>\n",
       "      <th>var1</th>\n",
       "      <th>var2</th>\n",
       "      <th>var3</th>\n",
       "      <th>var4</th>\n",
       "      <th>var5</th>\n",
       "      <th>var7</th>\n",
       "      <th>var8</th>\n",
       "      <th>var9</th>\n",
       "      <th>var10</th>\n",
       "      <th>var11</th>\n",
       "      <th>var13</th>\n",
       "      <th>var14</th>\n",
       "      <th>var15</th>\n",
       "      <th>var16</th>\n",
       "      <th>var17</th>\n",
       "      <th>var18</th>\n",
       "      <th>var19</th>\n",
       "      <th>var20</th>\n",
       "      <th>var21</th>\n",
       "      <th>var22</th>\n",
       "      <th>age</th>\n",
       "      <th>big</th>\n",
       "      <th>average</th>\n",
       "      <th>small</th>\n",
       "      <th>energie_veh_electricite</th>\n",
       "      <th>energie_veh_essence</th>\n",
       "      <th>energie_veh_gazole</th>\n",
       "      <th>energie_veh_gpl</th>\n",
       "      <th>energie_veh_hybride essence</th>\n",
       "      <th>var6_A</th>\n",
       "      <th>var6_B</th>\n",
       "      <th>var6_C</th>\n",
       "      <th>var6_D</th>\n",
       "      <th>var6_N</th>\n",
       "    </tr>\n",
       "    <tr>\n",
       "      <th>id</th>\n",
       "      <th></th>\n",
       "      <th></th>\n",
       "      <th></th>\n",
       "      <th></th>\n",
       "      <th></th>\n",
       "      <th></th>\n",
       "      <th></th>\n",
       "      <th></th>\n",
       "      <th></th>\n",
       "      <th></th>\n",
       "      <th></th>\n",
       "      <th></th>\n",
       "      <th></th>\n",
       "      <th></th>\n",
       "      <th></th>\n",
       "      <th></th>\n",
       "      <th></th>\n",
       "      <th></th>\n",
       "      <th></th>\n",
       "      <th></th>\n",
       "      <th></th>\n",
       "      <th></th>\n",
       "      <th></th>\n",
       "      <th></th>\n",
       "      <th></th>\n",
       "      <th></th>\n",
       "      <th></th>\n",
       "      <th></th>\n",
       "      <th></th>\n",
       "      <th></th>\n",
       "      <th></th>\n",
       "      <th></th>\n",
       "      <th></th>\n",
       "      <th></th>\n",
       "      <th></th>\n",
       "      <th></th>\n",
       "      <th></th>\n",
       "      <th></th>\n",
       "      <th></th>\n",
       "      <th></th>\n",
       "    </tr>\n",
       "  </thead>\n",
       "  <tbody>\n",
       "    <tr>\n",
       "      <th>305916</th>\n",
       "      <td>GEELY</td>\n",
       "      <td>5</td>\n",
       "      <td>0</td>\n",
       "      <td>7421</td>\n",
       "      <td>50</td>\n",
       "      <td>technicien</td>\n",
       "      <td>6.0</td>\n",
       "      <td>3</td>\n",
       "      <td>272</td>\n",
       "      <td>0</td>\n",
       "      <td>1</td>\n",
       "      <td>1.0</td>\n",
       "      <td>M1</td>\n",
       "      <td>94</td>\n",
       "      <td>150</td>\n",
       "      <td>0</td>\n",
       "      <td>4</td>\n",
       "      <td>N</td>\n",
       "      <td>2</td>\n",
       "      <td>4.0</td>\n",
       "      <td>1</td>\n",
       "      <td>20</td>\n",
       "      <td>0</td>\n",
       "      <td>1</td>\n",
       "      <td>1</td>\n",
       "      <td>4</td>\n",
       "      <td>25.0</td>\n",
       "      <td>0</td>\n",
       "      <td>0</td>\n",
       "      <td>1</td>\n",
       "      <td>0.0</td>\n",
       "      <td>1.0</td>\n",
       "      <td>0.0</td>\n",
       "      <td>0.0</td>\n",
       "      <td>0.0</td>\n",
       "      <td>1.0</td>\n",
       "      <td>0.0</td>\n",
       "      <td>0.0</td>\n",
       "      <td>0.0</td>\n",
       "      <td>0.0</td>\n",
       "    </tr>\n",
       "  </tbody>\n",
       "</table>\n",
       "</div>"
      ],
      "text/plain": [
       "       marque  puis_fiscale  anc_veh  kmage_annuel  crm  profession  var1  \\\n",
       "id                                                                          \n",
       "305916  GEELY             5        0          7421   50  technicien   6.0   \n",
       "\n",
       "        var2  var3  var4  var5  var7 var8  var9  var10  var11  var13 var14  \\\n",
       "id                                                                           \n",
       "305916     3   272     0     1   1.0   M1    94    150      0      4     N   \n",
       "\n",
       "        var15  var16  var17  var18  var19  var20  var21  var22   age  big  \\\n",
       "id                                                                          \n",
       "305916      2    4.0      1     20      0      1      1      4  25.0    0   \n",
       "\n",
       "        average  small  energie_veh_electricite  energie_veh_essence  \\\n",
       "id                                                                     \n",
       "305916        0      1                      0.0                  1.0   \n",
       "\n",
       "        energie_veh_gazole  energie_veh_gpl  energie_veh_hybride essence  \\\n",
       "id                                                                         \n",
       "305916                 0.0              0.0                          0.0   \n",
       "\n",
       "        var6_A  var6_B  var6_C  var6_D  var6_N  \n",
       "id                                              \n",
       "305916     1.0     0.0     0.0     0.0     0.0  "
      ]
     },
     "execution_count": 25,
     "metadata": {},
     "output_type": "execute_result"
    }
   ],
   "source": [
    "test[test.marque == 'GEELY']"
   ]
  },
  {
   "cell_type": "code",
   "execution_count": 26,
   "metadata": {
    "collapsed": false
   },
   "outputs": [
    {
     "data": {
      "text/html": [
       "<div>\n",
       "<table border=\"1\" class=\"dataframe\">\n",
       "  <thead>\n",
       "    <tr style=\"text-align: right;\">\n",
       "      <th></th>\n",
       "      <th>marque</th>\n",
       "      <th>puis_fiscale</th>\n",
       "      <th>anc_veh</th>\n",
       "      <th>kmage_annuel</th>\n",
       "      <th>crm</th>\n",
       "      <th>profession</th>\n",
       "      <th>var1</th>\n",
       "      <th>var2</th>\n",
       "      <th>var3</th>\n",
       "      <th>var4</th>\n",
       "      <th>var5</th>\n",
       "      <th>var7</th>\n",
       "      <th>var8</th>\n",
       "      <th>var9</th>\n",
       "      <th>var10</th>\n",
       "      <th>var11</th>\n",
       "      <th>var13</th>\n",
       "      <th>var14</th>\n",
       "      <th>var15</th>\n",
       "      <th>var16</th>\n",
       "      <th>var17</th>\n",
       "      <th>var18</th>\n",
       "      <th>var19</th>\n",
       "      <th>var20</th>\n",
       "      <th>var21</th>\n",
       "      <th>var22</th>\n",
       "      <th>age</th>\n",
       "      <th>big</th>\n",
       "      <th>average</th>\n",
       "      <th>small</th>\n",
       "      <th>energie_veh_electricite</th>\n",
       "      <th>energie_veh_essence</th>\n",
       "      <th>energie_veh_gazole</th>\n",
       "      <th>energie_veh_gpl</th>\n",
       "      <th>energie_veh_hybride essence</th>\n",
       "      <th>var6_A</th>\n",
       "      <th>var6_B</th>\n",
       "      <th>var6_C</th>\n",
       "      <th>var6_D</th>\n",
       "      <th>var6_N</th>\n",
       "    </tr>\n",
       "    <tr>\n",
       "      <th>id</th>\n",
       "      <th></th>\n",
       "      <th></th>\n",
       "      <th></th>\n",
       "      <th></th>\n",
       "      <th></th>\n",
       "      <th></th>\n",
       "      <th></th>\n",
       "      <th></th>\n",
       "      <th></th>\n",
       "      <th></th>\n",
       "      <th></th>\n",
       "      <th></th>\n",
       "      <th></th>\n",
       "      <th></th>\n",
       "      <th></th>\n",
       "      <th></th>\n",
       "      <th></th>\n",
       "      <th></th>\n",
       "      <th></th>\n",
       "      <th></th>\n",
       "      <th></th>\n",
       "      <th></th>\n",
       "      <th></th>\n",
       "      <th></th>\n",
       "      <th></th>\n",
       "      <th></th>\n",
       "      <th></th>\n",
       "      <th></th>\n",
       "      <th></th>\n",
       "      <th></th>\n",
       "      <th></th>\n",
       "      <th></th>\n",
       "      <th></th>\n",
       "      <th></th>\n",
       "      <th></th>\n",
       "      <th></th>\n",
       "      <th></th>\n",
       "      <th></th>\n",
       "      <th></th>\n",
       "      <th></th>\n",
       "    </tr>\n",
       "  </thead>\n",
       "  <tbody>\n",
       "    <tr>\n",
       "      <th>318867</th>\n",
       "      <td>SOVAM</td>\n",
       "      <td>9</td>\n",
       "      <td>19</td>\n",
       "      <td>17000</td>\n",
       "      <td>50</td>\n",
       "      <td>agent, employe</td>\n",
       "      <td>28.0</td>\n",
       "      <td>5</td>\n",
       "      <td>372</td>\n",
       "      <td>7</td>\n",
       "      <td>1</td>\n",
       "      <td>20.0</td>\n",
       "      <td>K2</td>\n",
       "      <td>0</td>\n",
       "      <td>0</td>\n",
       "      <td>19</td>\n",
       "      <td>5</td>\n",
       "      <td>N</td>\n",
       "      <td>3</td>\n",
       "      <td>1.0</td>\n",
       "      <td>1</td>\n",
       "      <td>19</td>\n",
       "      <td>0</td>\n",
       "      <td>0</td>\n",
       "      <td>1</td>\n",
       "      <td>0</td>\n",
       "      <td>47.0</td>\n",
       "      <td>0</td>\n",
       "      <td>0</td>\n",
       "      <td>1</td>\n",
       "      <td>0.0</td>\n",
       "      <td>1.0</td>\n",
       "      <td>0.0</td>\n",
       "      <td>0.0</td>\n",
       "      <td>0.0</td>\n",
       "      <td>1.0</td>\n",
       "      <td>0.0</td>\n",
       "      <td>0.0</td>\n",
       "      <td>0.0</td>\n",
       "      <td>0.0</td>\n",
       "    </tr>\n",
       "  </tbody>\n",
       "</table>\n",
       "</div>"
      ],
      "text/plain": [
       "       marque  puis_fiscale  anc_veh  kmage_annuel  crm      profession  var1  \\\n",
       "id                                                                              \n",
       "318867  SOVAM             9       19         17000   50  agent, employe  28.0   \n",
       "\n",
       "        var2  var3  var4  var5  var7 var8  var9  var10  var11  var13 var14  \\\n",
       "id                                                                           \n",
       "318867     5   372     7     1  20.0   K2     0      0     19      5     N   \n",
       "\n",
       "        var15  var16  var17  var18  var19  var20  var21  var22   age  big  \\\n",
       "id                                                                          \n",
       "318867      3    1.0      1     19      0      0      1      0  47.0    0   \n",
       "\n",
       "        average  small  energie_veh_electricite  energie_veh_essence  \\\n",
       "id                                                                     \n",
       "318867        0      1                      0.0                  1.0   \n",
       "\n",
       "        energie_veh_gazole  energie_veh_gpl  energie_veh_hybride essence  \\\n",
       "id                                                                         \n",
       "318867                 0.0              0.0                          0.0   \n",
       "\n",
       "        var6_A  var6_B  var6_C  var6_D  var6_N  \n",
       "id                                              \n",
       "318867     1.0     0.0     0.0     0.0     0.0  "
      ]
     },
     "execution_count": 26,
     "metadata": {},
     "output_type": "execute_result"
    }
   ],
   "source": [
    "test[test.marque == 'SOVAM']"
   ]
  },
  {
   "cell_type": "markdown",
   "metadata": {},
   "source": [
    "profession и var8 тоже в dummy"
   ]
  },
  {
   "cell_type": "code",
   "execution_count": 27,
   "metadata": {
    "collapsed": true
   },
   "outputs": [],
   "source": [
    "middle_cat = ['profession', 'var8', 'marque', 'var14']"
   ]
  },
  {
   "cell_type": "code",
   "execution_count": 28,
   "metadata": {
    "collapsed": true
   },
   "outputs": [],
   "source": [
    "bigX = pd.concat([train, test])"
   ]
  },
  {
   "cell_type": "code",
   "execution_count": 29,
   "metadata": {
    "collapsed": false
   },
   "outputs": [
    {
     "data": {
      "text/plain": [
       "(330000, 40)"
      ]
     },
     "execution_count": 29,
     "metadata": {},
     "output_type": "execute_result"
    }
   ],
   "source": [
    "bigX.shape"
   ]
  },
  {
   "cell_type": "code",
   "execution_count": 30,
   "metadata": {
    "collapsed": true
   },
   "outputs": [],
   "source": [
    "bigX = pd.get_dummies(bigX, columns=middle_cat)"
   ]
  },
  {
   "cell_type": "code",
   "execution_count": 31,
   "metadata": {
    "collapsed": false
   },
   "outputs": [
    {
     "data": {
      "text/plain": [
       "(330000, 240)"
      ]
     },
     "execution_count": 31,
     "metadata": {},
     "output_type": "execute_result"
    }
   ],
   "source": [
    "bigX.shape"
   ]
  },
  {
   "cell_type": "markdown",
   "metadata": {},
   "source": [
    "Расположим столбцы в нужном порядке, добавим константный столбец"
   ]
  },
  {
   "cell_type": "code",
   "execution_count": 32,
   "metadata": {
    "collapsed": true
   },
   "outputs": [],
   "source": [
    "bigX.crm /= 100"
   ]
  },
  {
   "cell_type": "code",
   "execution_count": 33,
   "metadata": {
    "collapsed": false
   },
   "outputs": [],
   "source": [
    "first_col_list = ['crm', 'puis_fiscale']\n",
    "col_list = first_col_list + sorted(list(set(bigX.columns) - set(first_col_list)))"
   ]
  },
  {
   "cell_type": "code",
   "execution_count": 34,
   "metadata": {
    "collapsed": false
   },
   "outputs": [],
   "source": [
    "bigX = bigX[col_list]"
   ]
  },
  {
   "cell_type": "markdown",
   "metadata": {},
   "source": [
    "Разберёмся с нумериками"
   ]
  },
  {
   "cell_type": "code",
   "execution_count": 35,
   "metadata": {
    "collapsed": true
   },
   "outputs": [],
   "source": [
    "numerical = set(numerical)\n",
    "numerical -= set(['big', 'average', 'small'])"
   ]
  },
  {
   "cell_type": "code",
   "execution_count": 36,
   "metadata": {
    "collapsed": false
   },
   "outputs": [
    {
     "name": "stdout",
     "output_type": "stream",
     "text": [
      "var15 10\n",
      "var3 2\n",
      "var13 4\n",
      "var17 6\n",
      "var2 6\n",
      "var5 2\n",
      "var21 2\n",
      "var4 10\n",
      "var16 6\n",
      "var20 2\n"
     ]
    }
   ],
   "source": [
    "for col in numerical:\n",
    "    treshold = 10\n",
    "    if bigX[col].nunique() <= treshold:\n",
    "        print(col, bigX[col].nunique())"
   ]
  },
  {
   "cell_type": "markdown",
   "metadata": {},
   "source": [
    "Эти (что выше) можно ohe"
   ]
  },
  {
   "cell_type": "code",
   "execution_count": 37,
   "metadata": {
    "collapsed": false
   },
   "outputs": [
    {
     "name": "stdout",
     "output_type": "stream",
     "text": [
      "var18 46\n",
      "age 69\n",
      "anc_veh 44\n",
      "var22 25\n",
      "crm 150\n",
      "var7 18\n",
      "var1 70\n",
      "var9 335\n",
      "kmage_annuel 1263\n",
      "puis_fiscale 51\n",
      "var19 29\n",
      "var11 44\n",
      "var10 213\n"
     ]
    }
   ],
   "source": [
    "for col in numerical:\n",
    "    treshold = 10\n",
    "    if bigX[col].nunique() > treshold:\n",
    "        print(col, bigX[col].nunique())"
   ]
  },
  {
   "cell_type": "markdown",
   "metadata": {},
   "source": [
    "* crm выкидывается\n",
    "* var1 порог 3\n",
    "* age порог 22"
   ]
  },
  {
   "cell_type": "code",
   "execution_count": 38,
   "metadata": {
    "collapsed": true
   },
   "outputs": [],
   "source": [
    "intercept = 50\n",
    "base = 400"
   ]
  },
  {
   "cell_type": "code",
   "execution_count": 39,
   "metadata": {
    "collapsed": false
   },
   "outputs": [],
   "source": [
    "target = (dfYtrain.COTIS - intercept)/ train.crm * 100 / base"
   ]
  },
  {
   "cell_type": "code",
   "execution_count": 40,
   "metadata": {
    "collapsed": false
   },
   "outputs": [
    {
     "data": {
      "text/plain": [
       "count    300000.000000\n",
       "mean          1.022082\n",
       "std           0.296673\n",
       "min           0.223900\n",
       "25%           0.805200\n",
       "50%           1.000818\n",
       "75%           1.212143\n",
       "max           2.815150\n",
       "dtype: float64"
      ]
     },
     "execution_count": 40,
     "metadata": {},
     "output_type": "execute_result"
    }
   ],
   "source": [
    "target.describe()"
   ]
  },
  {
   "cell_type": "markdown",
   "metadata": {},
   "source": [
    "50 и 400 хорошо ложатся"
   ]
  },
  {
   "cell_type": "code",
   "execution_count": 41,
   "metadata": {
    "collapsed": true
   },
   "outputs": [],
   "source": [
    "bigX.fillna(-9999, inplace=True)"
   ]
  },
  {
   "cell_type": "code",
   "execution_count": 136,
   "metadata": {
    "collapsed": false
   },
   "outputs": [],
   "source": [
    "y_train = np.array(dfYtrain)\n",
    "train = bigX.loc[train.index]\n",
    "x_train = np.array(train)\n",
    "test = bigX.loc[test.index]\n",
    "x_test = np.array(test)"
   ]
  },
  {
   "cell_type": "code",
   "execution_count": 137,
   "metadata": {
    "collapsed": false
   },
   "outputs": [
    {
     "data": {
      "text/plain": [
       "(300000, 240)"
      ]
     },
     "execution_count": 137,
     "metadata": {},
     "output_type": "execute_result"
    }
   ],
   "source": [
    "x_train.shape"
   ]
  },
  {
   "cell_type": "code",
   "execution_count": 138,
   "metadata": {
    "collapsed": false
   },
   "outputs": [
    {
     "data": {
      "text/plain": [
       "(30000, 240)"
      ]
     },
     "execution_count": 138,
     "metadata": {},
     "output_type": "execute_result"
    }
   ],
   "source": [
    "x_test.shape"
   ]
  },
  {
   "cell_type": "markdown",
   "metadata": {},
   "source": [
    "# Save routines"
   ]
  },
  {
   "cell_type": "code",
   "execution_count": 45,
   "metadata": {
    "collapsed": false
   },
   "outputs": [
    {
     "data": {
      "text/html": [
       "<div>\n",
       "<table border=\"1\" class=\"dataframe\">\n",
       "  <thead>\n",
       "    <tr style=\"text-align: right;\">\n",
       "      <th></th>\n",
       "      <th>ID</th>\n",
       "      <th>COTIS</th>\n",
       "    </tr>\n",
       "  </thead>\n",
       "  <tbody>\n",
       "    <tr>\n",
       "      <th>0</th>\n",
       "      <td>300001</td>\n",
       "      <td>0.0</td>\n",
       "    </tr>\n",
       "    <tr>\n",
       "      <th>1</th>\n",
       "      <td>300002</td>\n",
       "      <td>0.0</td>\n",
       "    </tr>\n",
       "    <tr>\n",
       "      <th>2</th>\n",
       "      <td>300003</td>\n",
       "      <td>0.0</td>\n",
       "    </tr>\n",
       "    <tr>\n",
       "      <th>3</th>\n",
       "      <td>300004</td>\n",
       "      <td>0.0</td>\n",
       "    </tr>\n",
       "    <tr>\n",
       "      <th>4</th>\n",
       "      <td>300005</td>\n",
       "      <td>0.0</td>\n",
       "    </tr>\n",
       "  </tbody>\n",
       "</table>\n",
       "</div>"
      ],
      "text/plain": [
       "       ID  COTIS\n",
       "0  300001    0.0\n",
       "1  300002    0.0\n",
       "2  300003    0.0\n",
       "3  300004    0.0\n",
       "4  300005    0.0"
      ]
     },
     "execution_count": 45,
     "metadata": {},
     "output_type": "execute_result"
    }
   ],
   "source": [
    "dfYtest = pd.DataFrame({'ID': dfXtest.index, 'COTIS': np.zeros(test.shape[0])})\n",
    "dfYtest = dfYtest[['ID', 'COTIS']]\n",
    "dfYtest.head()"
   ]
  },
  {
   "cell_type": "code",
   "execution_count": 46,
   "metadata": {
    "collapsed": true
   },
   "outputs": [],
   "source": [
    "def save_to_file(y, file_name):\n",
    "    dfYtest['COTIS'] = y\n",
    "    dfYtest.to_csv('results/{}'.format(file_name), index=False, sep=';')"
   ]
  },
  {
   "cell_type": "code",
   "execution_count": 47,
   "metadata": {
    "collapsed": false
   },
   "outputs": [
    {
     "data": {
      "text/html": [
       "<div>\n",
       "<table border=\"1\" class=\"dataframe\">\n",
       "  <thead>\n",
       "    <tr style=\"text-align: right;\">\n",
       "      <th></th>\n",
       "      <th>ID</th>\n",
       "      <th>divided</th>\n",
       "    </tr>\n",
       "  </thead>\n",
       "  <tbody>\n",
       "    <tr>\n",
       "      <th>0</th>\n",
       "      <td>1</td>\n",
       "      <td>0.0</td>\n",
       "    </tr>\n",
       "    <tr>\n",
       "      <th>1</th>\n",
       "      <td>2</td>\n",
       "      <td>0.0</td>\n",
       "    </tr>\n",
       "    <tr>\n",
       "      <th>2</th>\n",
       "      <td>3</td>\n",
       "      <td>0.0</td>\n",
       "    </tr>\n",
       "    <tr>\n",
       "      <th>3</th>\n",
       "      <td>4</td>\n",
       "      <td>0.0</td>\n",
       "    </tr>\n",
       "    <tr>\n",
       "      <th>4</th>\n",
       "      <td>5</td>\n",
       "      <td>0.0</td>\n",
       "    </tr>\n",
       "  </tbody>\n",
       "</table>\n",
       "</div>"
      ],
      "text/plain": [
       "   ID  divided\n",
       "0   1      0.0\n",
       "1   2      0.0\n",
       "2   3      0.0\n",
       "3   4      0.0\n",
       "4   5      0.0"
      ]
     },
     "execution_count": 47,
     "metadata": {},
     "output_type": "execute_result"
    }
   ],
   "source": [
    "model_name = 'divided'\n",
    "dfYtest_stacking = pd.DataFrame({'ID': dfXtrain.index, model_name: np.zeros(train.shape[0])})\n",
    "dfYtest_stacking = dfYtest_stacking[['ID', model_name]]\n",
    "dfYtest_stacking.head()"
   ]
  },
  {
   "cell_type": "code",
   "execution_count": 48,
   "metadata": {
    "collapsed": true
   },
   "outputs": [],
   "source": [
    "def save_to_file_stacking(y, file_name):\n",
    "    dfYtest_stacking[model_name] = y\n",
    "    dfYtest_stacking.to_csv('stacking/{}'.format(file_name), index=False, sep=';')"
   ]
  },
  {
   "cell_type": "markdown",
   "metadata": {},
   "source": [
    "# Train model"
   ]
  },
  {
   "cell_type": "code",
   "execution_count": 49,
   "metadata": {
    "collapsed": false
   },
   "outputs": [],
   "source": [
    "def plot_quality(grid_searcher, param_name):\n",
    "    means = []\n",
    "    stds = []\n",
    "    for elem in grid_searcher.grid_scores_:\n",
    "        means.append(np.mean(elem.cv_validation_scores))\n",
    "        stds.append(np.sqrt(np.var(elem.cv_validation_scores)))\n",
    "    means = np.array(means)\n",
    "    stds = np.array(stds)\n",
    "    \n",
    "    params = grid_searcher.param_grid\n",
    "    \n",
    "    plt.figure(figsize=(10, 6))\n",
    "    plt.plot(params[param_name], means)\n",
    "    plt.fill_between(params[param_name], \\\n",
    "                 means + stds, means - stds, alpha = 0.3, facecolor='blue')\n",
    "    plt.xlabel(param_name)\n",
    "    plt.ylabel('MAPE')"
   ]
  },
  {
   "cell_type": "code",
   "execution_count": 50,
   "metadata": {
    "collapsed": false
   },
   "outputs": [],
   "source": [
    "def mape(y_true, y_pred): \n",
    "    return -np.mean(np.abs((y_true - y_pred) / y_true)) * 100"
   ]
  },
  {
   "cell_type": "code",
   "execution_count": 51,
   "metadata": {
    "collapsed": true
   },
   "outputs": [],
   "source": [
    "def mape_scorer(est, X, y):\n",
    "    gc.collect()\n",
    "    return mape(y, est.predict(X))"
   ]
  },
  {
   "cell_type": "code",
   "execution_count": 52,
   "metadata": {
    "collapsed": true
   },
   "outputs": [],
   "source": [
    "class MyGS():\n",
    "    class Element():\n",
    "        def __init__(self):\n",
    "            self.cv_validation_scores = []\n",
    "        \n",
    "        \n",
    "        def add(self, score):\n",
    "            self.cv_validation_scores.append(score)\n",
    "    \n",
    "    \n",
    "    def __init__(self, param_grid, name, n_folds):\n",
    "        self.param_grid = {name: param_grid}\n",
    "        self.grid_scores_ = [MyGS.Element() for item in param_grid]\n",
    "        self.est = None\n",
    "        \n",
    "    \n",
    "    def add(self, score, param_num):\n",
    "        self.grid_scores_[param_num].add(score)\n",
    "        "
   ]
  },
  {
   "cell_type": "code",
   "execution_count": 53,
   "metadata": {
    "collapsed": true
   },
   "outputs": [],
   "source": [
    "intercept = 50\n",
    "base = 400\n",
    "\n",
    "def scorer(y_true, y_pred, crm):\n",
    "    y_true = inv_func(y_true, crm)\n",
    "    y_pred = inv_func(y_pred, crm)\n",
    "    return mape(y_true, y_pred)"
   ]
  },
  {
   "cell_type": "code",
   "execution_count": 54,
   "metadata": {
    "collapsed": true
   },
   "outputs": [],
   "source": [
    "def func(y, crm):\n",
    "    return (y - intercept) / crm / base"
   ]
  },
  {
   "cell_type": "code",
   "execution_count": 55,
   "metadata": {
    "collapsed": true
   },
   "outputs": [],
   "source": [
    "def inv_func(y, crm):\n",
    "    return y * crm * base + intercept"
   ]
  },
  {
   "cell_type": "code",
   "execution_count": 139,
   "metadata": {
    "collapsed": true
   },
   "outputs": [],
   "source": [
    "validation_index = (dropped_train.ext_dep == 10) | (dropped_train.ext_dep > 900)\n",
    "train_index = ~validation_index"
   ]
  },
  {
   "cell_type": "code",
   "execution_count": 140,
   "metadata": {
    "collapsed": false
   },
   "outputs": [],
   "source": [
    "subtrain, validation = train[train_index], train[validation_index]\n",
    "x_subtrain = np.array(subtrain)\n",
    "x_validation = np.array(validation)\n",
    "\n",
    "ysubtrain, yvalidation = dfYtrain[train_index], dfYtrain[validation_index]\n",
    "y_subtrain = np.array(ysubtrain).flatten()\n",
    "y_validation = np.array(yvalidation).flatten()"
   ]
  },
  {
   "cell_type": "code",
   "execution_count": 58,
   "metadata": {
    "collapsed": false
   },
   "outputs": [
    {
     "data": {
      "text/plain": [
       "(33155, 240)"
      ]
     },
     "execution_count": 58,
     "metadata": {},
     "output_type": "execute_result"
    }
   ],
   "source": [
    "validation.shape"
   ]
  },
  {
   "cell_type": "code",
   "execution_count": 59,
   "metadata": {
    "collapsed": true
   },
   "outputs": [],
   "source": [
    "from sklearn.tree import LinearDecisionTreeRegressor as LDTR"
   ]
  },
  {
   "cell_type": "code",
   "execution_count": 60,
   "metadata": {
    "collapsed": false
   },
   "outputs": [],
   "source": [
    "from sklearn.tree import DecisionTreeRegressor"
   ]
  },
  {
   "cell_type": "code",
   "execution_count": 61,
   "metadata": {
    "collapsed": false
   },
   "outputs": [],
   "source": [
    "from sklearn.ensemble import ExtraTreesRegressor"
   ]
  },
  {
   "cell_type": "code",
   "execution_count": 66,
   "metadata": {
    "collapsed": false
   },
   "outputs": [],
   "source": [
    "from sklearn.model_selection import ShuffleSplit"
   ]
  },
  {
   "cell_type": "code",
   "execution_count": 94,
   "metadata": {
    "collapsed": false
   },
   "outputs": [
    {
     "name": "stdout",
     "output_type": "stream",
     "text": [
      "CPU times: user 33.7 s, sys: 0 ns, total: 33.7 s\n",
      "Wall time: 33.7 s\n"
     ]
    }
   ],
   "source": [
    "%%time\n",
    "\n",
    "n_splits = 1000\n",
    "rs = ShuffleSplit(n_splits=n_splits, test_size=None, train_size=1 / 1000, random_state=42)\n",
    "estimators = []\n",
    "y_pred = 0\n",
    "\n",
    "for train_index, test_index in rs.split(x_subtrain):\n",
    "    estimators.append(LDTR(n_coefficients=1, n_first_dropped=1, const_term=True,\n",
    "                           max_depth=5, random_state=42).fit(\n",
    "                        x_subtrain[train_index], y_subtrain[train_index]))\n",
    "    y_pred += estimators[-1].predict(x_validation)\n",
    "    \n",
    "y_pred /= n_splits"
   ]
  },
  {
   "cell_type": "code",
   "execution_count": 95,
   "metadata": {
    "collapsed": false
   },
   "outputs": [
    {
     "data": {
      "text/plain": [
       "-12.691388494241659"
      ]
     },
     "execution_count": 95,
     "metadata": {},
     "output_type": "execute_result"
    }
   ],
   "source": [
    "mape(y_validation, y_pred)"
   ]
  },
  {
   "cell_type": "code",
   "execution_count": 96,
   "metadata": {
    "collapsed": false
   },
   "outputs": [
    {
     "data": {
      "text/plain": [
       "<matplotlib.collections.PathCollection at 0x7f494f22c358>"
      ]
     },
     "execution_count": 96,
     "metadata": {},
     "output_type": "execute_result"
    },
    {
     "data": {
      "image/png": "[encoded data removed]",
      "text/plain": [
       "<matplotlib.figure.Figure at 0x7f494f22c0f0>"
      ]
     },
     "metadata": {},
     "output_type": "display_data"
    }
   ],
   "source": [
    "plt.scatter(x_validation[:, 0], y_pred)"
   ]
  },
  {
   "cell_type": "code",
   "execution_count": 408,
   "metadata": {
    "collapsed": false
   },
   "outputs": [
    {
     "name": "stdout",
     "output_type": "stream",
     "text": [
      "CPU times: user 2min 7s, sys: 13.9 s, total: 2min 21s\n",
      "Wall time: 2min 21s\n"
     ]
    }
   ],
   "source": [
    "%%time\n",
    "\n",
    "intercept = 50\n",
    "sample_weight_subtrain = np.power(y_subtrain, -1)\n",
    "\n",
    "n_estimators = 100\n",
    "estimators = []\n",
    "weights = []\n",
    "diff = y_subtrain - 0\n",
    "estimators.append(LDTR(n_coefficients=1, n_first_dropped=1, const_term=False,\n",
    "                       max_depth=25, random_state=42, min_samples_leaf=50).fit(\n",
    "                    x_subtrain, diff - intercept, sample_weight=sample_weight_subtrain))\n",
    "diff -= estimators[-1].predict(x_subtrain) + intercept\n",
    "weights.append(1)\n",
    "\n",
    "rs = ShuffleSplit(n_splits=n_estimators, test_size=1 / 100, train_size=1 / 1000, random_state=42)\n",
    "\n",
    "for random_state, (train_index, test_index) in enumerate(rs.split(x_subtrain)):\n",
    "    grad = diff\n",
    "    estimators.append(LDTR(n_coefficients=2, n_first_dropped=0, const_term=False,\n",
    "                           max_depth=1, random_state=random_state, min_samples_leaf=5, splitter='random').fit(\n",
    "                        x_subtrain, grad))\n",
    "    grad = estimators[-1].predict(x_subtrain)\n",
    "    good_error = 100000\n",
    "    good_weight = 0\n",
    "    for coef in [0.001, 0.01, 0.1, 1, 10]:\n",
    "        error = np.mean(np.abs(diff - grad * coef) / y_subtrain)\n",
    "        if error < good_error:\n",
    "            good_weight = coef\n",
    "            good_error = error\n",
    "    if good_weight > 0:\n",
    "        weights.append(good_weight)\n",
    "        diff -= good_weight * estimators[-1].predict(x_subtrain)"
   ]
  },
  {
   "cell_type": "code",
   "execution_count": 409,
   "metadata": {
    "collapsed": true
   },
   "outputs": [],
   "source": [
    "y_pred = sum(weight * est.predict(x_validation) for weight, est in zip(weights, estimators)) + intercept"
   ]
  },
  {
   "cell_type": "code",
   "execution_count": 410,
   "metadata": {
    "collapsed": false
   },
   "outputs": [
    {
     "data": {
      "text/plain": [
       "-9.7748333621895203"
      ]
     },
     "execution_count": 410,
     "metadata": {},
     "output_type": "execute_result"
    }
   ],
   "source": [
    "mape(y_validation, y_pred)"
   ]
  },
  {
   "cell_type": "code",
   "execution_count": 411,
   "metadata": {
    "collapsed": false
   },
   "outputs": [
    {
     "data": {
      "text/plain": [
       "[1,\n",
       " 0.1,\n",
       " 0.1,\n",
       " 0.1,\n",
       " 0.1,\n",
       " 0.001,\n",
       " 0.001,\n",
       " 0.001,\n",
       " 0.001,\n",
       " 0.001,\n",
       " 0.001,\n",
       " 0.001,\n",
       " 0.001,\n",
       " 0.001,\n",
       " 0.001,\n",
       " 0.001,\n",
       " 0.001,\n",
       " 0.001,\n",
       " 0.001,\n",
       " 0.001,\n",
       " 0.001,\n",
       " 0.001,\n",
       " 0.001,\n",
       " 0.001,\n",
       " 0.001,\n",
       " 0.001,\n",
       " 0.001,\n",
       " 0.001,\n",
       " 0.001,\n",
       " 0.001,\n",
       " 0.001,\n",
       " 0.001,\n",
       " 0.001,\n",
       " 0.001,\n",
       " 0.001,\n",
       " 0.001,\n",
       " 0.001,\n",
       " 0.001,\n",
       " 0.001,\n",
       " 0.001,\n",
       " 0.001,\n",
       " 0.001,\n",
       " 0.001,\n",
       " 0.001,\n",
       " 0.001,\n",
       " 0.001,\n",
       " 0.001,\n",
       " 0.001,\n",
       " 0.001,\n",
       " 0.001,\n",
       " 0.001,\n",
       " 0.001,\n",
       " 0.001,\n",
       " 0.001,\n",
       " 0.001,\n",
       " 0.001,\n",
       " 0.001,\n",
       " 0.001,\n",
       " 0.001,\n",
       " 0.001,\n",
       " 0.001,\n",
       " 0.001,\n",
       " 0.001,\n",
       " 0.001,\n",
       " 0.001,\n",
       " 0.001,\n",
       " 0.001,\n",
       " 0.001,\n",
       " 0.001,\n",
       " 0.001,\n",
       " 0.001,\n",
       " 0.001,\n",
       " 0.001,\n",
       " 0.001,\n",
       " 0.001,\n",
       " 0.001,\n",
       " 0.001,\n",
       " 0.001,\n",
       " 0.001,\n",
       " 0.001,\n",
       " 0.001,\n",
       " 0.001,\n",
       " 0.001,\n",
       " 0.001,\n",
       " 0.001,\n",
       " 0.001,\n",
       " 0.001,\n",
       " 0.001,\n",
       " 0.001,\n",
       " 0.001,\n",
       " 0.001,\n",
       " 0.001,\n",
       " 0.001,\n",
       " 0.001,\n",
       " 0.001,\n",
       " 0.001,\n",
       " 0.001,\n",
       " 0.001,\n",
       " 0.001,\n",
       " 0.001,\n",
       " 0.001]"
      ]
     },
     "execution_count": 411,
     "metadata": {},
     "output_type": "execute_result"
    }
   ],
   "source": [
    "weights"
   ]
  },
  {
   "cell_type": "code",
   "execution_count": null,
   "metadata": {
    "collapsed": true
   },
   "outputs": [],
   "source": []
  },
  {
   "cell_type": "code",
   "execution_count": null,
   "metadata": {
    "collapsed": true
   },
   "outputs": [],
   "source": []
  },
  {
   "cell_type": "code",
   "execution_count": 126,
   "metadata": {
    "collapsed": false
   },
   "outputs": [
    {
     "name": "stdout",
     "output_type": "stream",
     "text": [
      "CPU times: user 3min 9s, sys: 1.4 s, total: 3min 10s\n",
      "Wall time: 55.9 s\n"
     ]
    }
   ],
   "source": [
    "%%time\n",
    "est = ExtraTreesRegressor(n_estimators=10, max_features=None, \n",
    "                          max_depth=None, n_jobs=-1, random_state=42).fit(\n",
    "    X=x_subtrain, y=func(y_subtrain, x_subtrain[:, 0]), sample_weight=None)"
   ]
  },
  {
   "cell_type": "code",
   "execution_count": 127,
   "metadata": {
    "collapsed": false
   },
   "outputs": [
    {
     "data": {
      "text/plain": [
       "-9.9668135794500436"
      ]
     },
     "execution_count": 127,
     "metadata": {},
     "output_type": "execute_result"
    }
   ],
   "source": [
    "y_pred = inv_func(est.predict(x_validation), x_validation[:, 0])\n",
    "mape(y_validation, y_pred)"
   ]
  },
  {
   "cell_type": "code",
   "execution_count": 128,
   "metadata": {
    "collapsed": false
   },
   "outputs": [
    {
     "data": {
      "text/plain": [
       "127"
      ]
     },
     "execution_count": 128,
     "metadata": {},
     "output_type": "execute_result"
    }
   ],
   "source": [
    "gc.collect()"
   ]
  },
  {
   "cell_type": "code",
   "execution_count": 130,
   "metadata": {
    "collapsed": true
   },
   "outputs": [],
   "source": [
    "sample_weight_subtrain = np.power(y_subtrain, -1)"
   ]
  },
  {
   "cell_type": "code",
   "execution_count": 131,
   "metadata": {
    "collapsed": false
   },
   "outputs": [
    {
     "name": "stdout",
     "output_type": "stream",
     "text": [
      "CPU times: user 18.6 s, sys: 172 ms, total: 18.8 s\n",
      "Wall time: 18.8 s\n"
     ]
    }
   ],
   "source": [
    "%%time\n",
    "est = DecisionTreeRegressor(max_features=None, \n",
    "                          max_depth=None, random_state=42).fit(\n",
    "    X=x_subtrain, y=func(y_subtrain, x_subtrain[:, 0]), sample_weight=sample_weight_subtrain)"
   ]
  },
  {
   "cell_type": "code",
   "execution_count": 132,
   "metadata": {
    "collapsed": false
   },
   "outputs": [
    {
     "data": {
      "text/plain": [
       "-13.18587197783933"
      ]
     },
     "execution_count": 132,
     "metadata": {},
     "output_type": "execute_result"
    }
   ],
   "source": [
    "y_pred = inv_func(est.predict(x_validation), x_validation[:, 0])\n",
    "mape(y_validation, y_pred)"
   ]
  },
  {
   "cell_type": "code",
   "execution_count": 133,
   "metadata": {
    "collapsed": false
   },
   "outputs": [
    {
     "data": {
      "text/plain": [
       "160"
      ]
     },
     "execution_count": 133,
     "metadata": {},
     "output_type": "execute_result"
    }
   ],
   "source": [
    "gc.collect()"
   ]
  },
  {
   "cell_type": "code",
   "execution_count": 134,
   "metadata": {
    "collapsed": false
   },
   "outputs": [
    {
     "name": "stderr",
     "output_type": "stream",
     "text": [
      "/home/alexey/.environments/ml/lib/python3.4/site-packages/sklearn/cross_validation.py:43: DeprecationWarning: This module was deprecated in version 0.18 in favor of the model_selection module into which all the refactored classes and functions are moved. Also note that the interface of the new CV iterators are different from that of this module. This module will be removed in 0.20.\n",
      "  \"This module will be removed in 0.20.\", DeprecationWarning)\n"
     ]
    }
   ],
   "source": [
    "import xgboost as xgb"
   ]
  },
  {
   "cell_type": "code",
   "execution_count": 167,
   "metadata": {
    "collapsed": false
   },
   "outputs": [],
   "source": [
    "def grid_search(x_train, y_train, x_validation, y_validation, scorer, weights=None):\n",
    "    param =   {'base_score':0.5, 'colsample_bylevel':1, 'colsample_bytree':1, 'gamma':0,\n",
    "               'eta':0.15, 'max_delta_step':0, 'max_depth':15,\n",
    "               'min_child_weight':20, 'nthread':-1,\n",
    "               'objective':'reg:linear', 'alpha':0, 'lambda':1,\n",
    "               'scale_pos_weight':1, 'seed':56, 'silent':True, 'subsample':1}\n",
    "\n",
    "    diff_num_round_list = [4 for i in range(5)]\n",
    "    diff_num_round_list[0] = 60\n",
    "    num_round_list = np.cumsum(diff_num_round_list)\n",
    "    n_folds = 1\n",
    "\n",
    "    mygs = MyGS(num_round_list, 'num_round', n_folds=n_folds)\n",
    "\n",
    "    #label_kfold = LabelKFold(np.array(dropped_train['department']), n_folds=n_folds)\n",
    "    \n",
    "    \n",
    "    dtrain = xgb.DMatrix(x_train, \n",
    "                         label=y_train, \n",
    "                         missing=-9999,\n",
    "                         weight=weights) \n",
    "    dvalidation = xgb.DMatrix(x_validation, missing=-9999)\n",
    "    param['base_score'] = np.mean(y_train)\n",
    "    bst = None\n",
    "    for index, diff_num_round in enumerate(diff_num_round_list):\n",
    "        bst = xgb.train(param, dtrain, diff_num_round, xgb_model=bst)\n",
    "        y_pred = bst.predict(dvalidation)\n",
    "        score = scorer(y_validation, y_pred, x_validation[:, 0])\n",
    "        mygs.add(score, index)\n",
    "    mygs.est = bst\n",
    "    gc.collect()\n",
    "    return mygs"
   ]
  },
  {
   "cell_type": "code",
   "execution_count": 168,
   "metadata": {
    "collapsed": false
   },
   "outputs": [
    {
     "name": "stdout",
     "output_type": "stream",
     "text": [
      "CPU times: user 15min 44s, sys: 1.03 s, total: 15min 45s\n",
      "Wall time: 15min 45s\n"
     ]
    }
   ],
   "source": [
    "%%time\n",
    "mygs = grid_search(x_subtrain, func(y_subtrain, x_subtrain[:, 0]), \n",
    "                   x_validation, func(y_validation, x_validation[:, 0]), \n",
    "                   scorer, None)"
   ]
  },
  {
   "cell_type": "code",
   "execution_count": 169,
   "metadata": {
    "collapsed": false
   },
   "outputs": [
    {
     "data": {
      "image/png": "[encoded data removed]",
      "text/plain": [
       "<matplotlib.figure.Figure at 0x7ff589c914e0>"
      ]
     },
     "metadata": {},
     "output_type": "display_data"
    }
   ],
   "source": [
    "plot_quality(mygs, 'num_round')"
   ]
  },
  {
   "cell_type": "markdown",
   "metadata": {},
   "source": [
    "min_child_weight = 5"
   ]
  },
  {
   "cell_type": "code",
   "execution_count": 166,
   "metadata": {
    "collapsed": false
   },
   "outputs": [
    {
     "data": {
      "image/png": "[encoded data removed]",
      "text/plain": [
       "<matplotlib.figure.Figure at 0x7ff57dc98eb8>"
      ]
     },
     "metadata": {},
     "output_type": "display_data"
    }
   ],
   "source": [
    "plot_quality(mygs, 'num_round')"
   ]
  },
  {
   "cell_type": "code",
   "execution_count": 162,
   "metadata": {
    "collapsed": false
   },
   "outputs": [
    {
     "data": {
      "image/png": "[encoded data removed]",
      "text/plain": [
       "<matplotlib.figure.Figure at 0x7ff5880e6d68>"
      ]
     },
     "metadata": {},
     "output_type": "display_data"
    }
   ],
   "source": [
    "plot_quality(mygs, 'num_round')"
   ]
  },
  {
   "cell_type": "code",
   "execution_count": 163,
   "metadata": {
    "collapsed": false
   },
   "outputs": [
    {
     "data": {
      "text/plain": [
       "4401"
      ]
     },
     "execution_count": 163,
     "metadata": {},
     "output_type": "execute_result"
    }
   ],
   "source": [
    "gc.collect()"
   ]
  },
  {
   "cell_type": "code",
   "execution_count": null,
   "metadata": {
    "collapsed": true
   },
   "outputs": [],
   "source": []
  },
  {
   "cell_type": "code",
   "execution_count": null,
   "metadata": {
    "collapsed": true
   },
   "outputs": [],
   "source": []
  },
  {
   "cell_type": "code",
   "execution_count": 140,
   "metadata": {
    "collapsed": true
   },
   "outputs": [],
   "source": [
    "dvalidation = xgb.DMatrix(x_validation, missing=-9999)"
   ]
  },
  {
   "cell_type": "code",
   "execution_count": 142,
   "metadata": {
    "collapsed": true
   },
   "outputs": [],
   "source": [
    "y_pred = inv_func(mygs.est.predict(dvalidation), x_validation[:, 0])"
   ]
  },
  {
   "cell_type": "code",
   "execution_count": 146,
   "metadata": {
    "collapsed": false
   },
   "outputs": [
    {
     "data": {
      "image/png": "[encoded data removed]",
      "text/plain": [
       "<matplotlib.figure.Figure at 0x7ff57dc45b38>"
      ]
     },
     "metadata": {},
     "output_type": "display_data"
    }
   ],
   "source": [
    "plt.scatter(x_validation[:, 0], y_validation)\n",
    "plt.scatter(x_validation[:, 0], y_pred, color='g')\n",
    "plt.show()"
   ]
  },
  {
   "cell_type": "code",
   "execution_count": null,
   "metadata": {
    "collapsed": true
   },
   "outputs": [],
   "source": []
  },
  {
   "cell_type": "code",
   "execution_count": null,
   "metadata": {
    "collapsed": true
   },
   "outputs": [],
   "source": []
  },
  {
   "cell_type": "code",
   "execution_count": null,
   "metadata": {
    "collapsed": true
   },
   "outputs": [],
   "source": []
  },
  {
   "cell_type": "markdown",
   "metadata": {},
   "source": [
    "# Save"
   ]
  },
  {
   "cell_type": "code",
   "execution_count": 144,
   "metadata": {
    "collapsed": false
   },
   "outputs": [
    {
     "name": "stdout",
     "output_type": "stream",
     "text": [
      "CPU times: user 19 s, sys: 248 ms, total: 19.2 s\n",
      "Wall time: 19.3 s\n"
     ]
    }
   ],
   "source": [
    "%%time\n",
    "est = LDTR(max_features=None, max_depth=15, random_state=42,\n",
    "           n_coefficients=2, n_first_dropped=2, const_term=True, min_samples_leaf=40).fit(\n",
    "    X=x_train, y=y_train, sample_weight=np.power(y_train.flatten(), -1))"
   ]
  },
  {
   "cell_type": "code",
   "execution_count": 145,
   "metadata": {
    "collapsed": false
   },
   "outputs": [],
   "source": [
    "y_pred = est.predict(x_test)"
   ]
  },
  {
   "cell_type": "code",
   "execution_count": 146,
   "metadata": {
    "collapsed": false
   },
   "outputs": [],
   "source": [
    "save_to_file(y_pred, 'ldtr.csv')"
   ]
  },
  {
   "cell_type": "code",
   "execution_count": null,
   "metadata": {
    "collapsed": true
   },
   "outputs": [],
   "source": []
  },
  {
   "cell_type": "code",
   "execution_count": null,
   "metadata": {
    "collapsed": true
   },
   "outputs": [],
   "source": []
  },
  {
   "cell_type": "code",
   "execution_count": null,
   "metadata": {
    "collapsed": true
   },
   "outputs": [],
   "source": []
  },
  {
   "cell_type": "code",
   "execution_count": null,
   "metadata": {
    "collapsed": true
   },
   "outputs": [],
   "source": []
  }
 ],
 "metadata": {
  "kernelspec": {
   "display_name": "Python 3",
   "language": "python",
   "name": "python3"
  },
  "language_info": {
   "codemirror_mode": {
    "name": "ipython",
    "version": 3
   },
   "file_extension": ".py",
   "mimetype": "text/x-python",
   "name": "python",
   "nbconvert_exporter": "python",
   "pygments_lexer": "ipython3",
   "version": "3.4.3"
  }
 },
 "nbformat": 4,
 "nbformat_minor": 0
}
