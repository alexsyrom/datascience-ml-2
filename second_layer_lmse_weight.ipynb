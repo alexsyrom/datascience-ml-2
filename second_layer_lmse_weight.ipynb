{
 "cells": [
  {
   "cell_type": "code",
   "execution_count": 1,
   "metadata": {
    "collapsed": false
   },
   "outputs": [],
   "source": [
    "%matplotlib inline\n",
    "import matplotlib.pyplot as plt\n",
    "import numpy as np\n",
    "import pandas as pd\n",
    "import seaborn as sns\n",
    "from tqdm import tnrange, tqdm_notebook\n",
    "import gc\n",
    "import operator"
   ]
  },
  {
   "cell_type": "code",
   "execution_count": 2,
   "metadata": {
    "collapsed": false
   },
   "outputs": [],
   "source": [
    "sns.set_context('talk')"
   ]
  },
  {
   "cell_type": "code",
   "execution_count": 3,
   "metadata": {
    "collapsed": true
   },
   "outputs": [],
   "source": [
    "pd.set_option('display.max_columns', 500)"
   ]
  },
  {
   "cell_type": "code",
   "execution_count": 4,
   "metadata": {
    "collapsed": true
   },
   "outputs": [],
   "source": [
    "import warnings\n",
    "warnings.filterwarnings('ignore', message='Changing the shape of non-C contiguous array')"
   ]
  },
  {
   "cell_type": "markdown",
   "metadata": {},
   "source": [
    "# Read the data"
   ]
  },
  {
   "cell_type": "code",
   "execution_count": 7,
   "metadata": {
    "collapsed": true
   },
   "outputs": [],
   "source": [
    "from os import listdir\n",
    "from os.path import isfile, join\n",
    "stacking_dir = 'stacking'\n",
    "results_dir = 'results'\n",
    "stacking_files = [f for f in listdir(stacking_dir) if isfile(join(stacking_dir, f)) if f.endswith('lmse.csv')]"
   ]
  },
  {
   "cell_type": "code",
   "execution_count": 8,
   "metadata": {
    "collapsed": false
   },
   "outputs": [
    {
     "data": {
      "text/plain": [
       "['xbg_tune_eta015_num300_lmse.csv',\n",
       " 'xbg_tune_eta015_num300_with_size_dropped_lmse.csv',\n",
       " 'xbg_tune_eta015_num300_dropped_lmse.csv']"
      ]
     },
     "execution_count": 8,
     "metadata": {},
     "output_type": "execute_result"
    }
   ],
   "source": [
    "stacking_files"
   ]
  },
  {
   "cell_type": "code",
   "execution_count": 9,
   "metadata": {
    "collapsed": false
   },
   "outputs": [],
   "source": [
    "dfXtrain = pd.concat([pd.read_csv(join(stacking_dir, f), index_col='ID', sep=';') for f in stacking_files], axis=1)\n",
    "dfXtest = pd.concat([pd.read_csv(join(results_dir, f), index_col='ID', sep=';') for f in stacking_files], axis=1)\n",
    "dfXtest.columns = dfXtrain.columns\n",
    "dfYtrain = pd.read_csv('preprocessed_csv/y_train_tree.csv', header=None, names=['ID', 'COTIS'], sep=';')"
   ]
  },
  {
   "cell_type": "code",
   "execution_count": 10,
   "metadata": {
    "collapsed": true
   },
   "outputs": [],
   "source": [
    "dfYtrain = dfYtrain.set_index('ID')"
   ]
  },
  {
   "cell_type": "code",
   "execution_count": 11,
   "metadata": {
    "collapsed": false
   },
   "outputs": [],
   "source": [
    "department = pd.read_csv('preprocessed_csv/train_tree.csv', index_col='id', sep=';')['department']"
   ]
  },
  {
   "cell_type": "markdown",
   "metadata": {},
   "source": [
    "# Preprocessing"
   ]
  },
  {
   "cell_type": "code",
   "execution_count": 13,
   "metadata": {
    "collapsed": false
   },
   "outputs": [],
   "source": [
    "y_train = np.array(dfYtrain)\n",
    "x_train = np.array(dfXtrain)\n",
    "x_test = np.array(dfXtest)"
   ]
  },
  {
   "cell_type": "markdown",
   "metadata": {},
   "source": [
    "# Save routines"
   ]
  },
  {
   "cell_type": "code",
   "execution_count": 14,
   "metadata": {
    "collapsed": false
   },
   "outputs": [
    {
     "data": {
      "text/html": [
       "<div>\n",
       "<table border=\"1\" class=\"dataframe\">\n",
       "  <thead>\n",
       "    <tr style=\"text-align: right;\">\n",
       "      <th></th>\n",
       "      <th>ID</th>\n",
       "      <th>COTIS</th>\n",
       "    </tr>\n",
       "  </thead>\n",
       "  <tbody>\n",
       "    <tr>\n",
       "      <th>0</th>\n",
       "      <td>300001</td>\n",
       "      <td>0.0</td>\n",
       "    </tr>\n",
       "    <tr>\n",
       "      <th>1</th>\n",
       "      <td>300002</td>\n",
       "      <td>0.0</td>\n",
       "    </tr>\n",
       "    <tr>\n",
       "      <th>2</th>\n",
       "      <td>300003</td>\n",
       "      <td>0.0</td>\n",
       "    </tr>\n",
       "    <tr>\n",
       "      <th>3</th>\n",
       "      <td>300004</td>\n",
       "      <td>0.0</td>\n",
       "    </tr>\n",
       "    <tr>\n",
       "      <th>4</th>\n",
       "      <td>300005</td>\n",
       "      <td>0.0</td>\n",
       "    </tr>\n",
       "  </tbody>\n",
       "</table>\n",
       "</div>"
      ],
      "text/plain": [
       "       ID  COTIS\n",
       "0  300001    0.0\n",
       "1  300002    0.0\n",
       "2  300003    0.0\n",
       "3  300004    0.0\n",
       "4  300005    0.0"
      ]
     },
     "execution_count": 14,
     "metadata": {},
     "output_type": "execute_result"
    }
   ],
   "source": [
    "model_name = 'COTIS'\n",
    "dfYtest = pd.DataFrame({'ID': dfXtest.index, model_name: np.zeros(dfXtest.shape[0])})\n",
    "dfYtest = dfYtest[['ID', model_name]]\n",
    "dfYtest.head()"
   ]
  },
  {
   "cell_type": "code",
   "execution_count": 15,
   "metadata": {
    "collapsed": true
   },
   "outputs": [],
   "source": [
    "def save_to_file(y, file_name):\n",
    "    dfYtest[model_name] = y\n",
    "    dfYtest.to_csv('results/{}'.format(file_name), index=False, sep=';')"
   ]
  },
  {
   "cell_type": "markdown",
   "metadata": {},
   "source": [
    "# Train XGB"
   ]
  },
  {
   "cell_type": "code",
   "execution_count": 16,
   "metadata": {
    "collapsed": true
   },
   "outputs": [],
   "source": [
    "from sklearn.cross_validation import LabelKFold"
   ]
  },
  {
   "cell_type": "code",
   "execution_count": 17,
   "metadata": {
    "collapsed": false
   },
   "outputs": [],
   "source": [
    "def plot_quality(grid_searcher, param_name):\n",
    "    means = []\n",
    "    stds = []\n",
    "    for elem in grid_searcher.grid_scores_:\n",
    "        means.append(np.mean(elem.cv_validation_scores))\n",
    "        stds.append(np.sqrt(np.var(elem.cv_validation_scores)))\n",
    "    means = np.array(means)\n",
    "    stds = np.array(stds)\n",
    "    \n",
    "    params = grid_searcher.param_grid\n",
    "    \n",
    "    plt.figure(figsize=(10, 6))\n",
    "    plt.plot(params[param_name], means)\n",
    "    plt.fill_between(params[param_name], \\\n",
    "                 means + stds, means - stds, alpha = 0.3, facecolor='blue')\n",
    "    plt.xlabel(param_name)\n",
    "    plt.ylabel('MAPE')"
   ]
  },
  {
   "cell_type": "code",
   "execution_count": 18,
   "metadata": {
    "collapsed": false
   },
   "outputs": [],
   "source": [
    "def mape(y_true, y_pred): \n",
    "    return -np.mean(np.abs((y_true - y_pred) / y_true)) * 100"
   ]
  },
  {
   "cell_type": "code",
   "execution_count": 19,
   "metadata": {
    "collapsed": true
   },
   "outputs": [],
   "source": [
    "def mape_scorer(est, X, y):\n",
    "    gc.collect()\n",
    "    return mape(y, est.predict(X))"
   ]
  },
  {
   "cell_type": "code",
   "execution_count": 20,
   "metadata": {
    "collapsed": true
   },
   "outputs": [],
   "source": [
    "class MyGS():\n",
    "    class Element():\n",
    "        def __init__(self):\n",
    "            self.cv_validation_scores = []\n",
    "        \n",
    "        \n",
    "        def add(self, score):\n",
    "            self.cv_validation_scores.append(score)\n",
    "    \n",
    "    \n",
    "    def __init__(self, param_grid, name, n_folds):\n",
    "        self.param_grid = {name: param_grid}\n",
    "        self.grid_scores_ = [MyGS.Element() for item in param_grid]\n",
    "        \n",
    "    \n",
    "    def add(self, score, param_num):\n",
    "        self.grid_scores_[param_num].add(score)\n",
    "        "
   ]
  },
  {
   "cell_type": "code",
   "execution_count": 21,
   "metadata": {
    "collapsed": true
   },
   "outputs": [],
   "source": [
    "def amse(preds, dtrain, alpha=1, beta=1, gamma=1, divider=1):\n",
    "    labels = dtrain.get_label()\n",
    "    labels2 = np.power(labels, 2)\n",
    "    grad = np.where(preds > labels, \n",
    "                    alpha * (preds - labels) / labels2 - gamma, \n",
    "                    alpha * (preds - labels) / (labels2 * divider) + gamma)\n",
    "    second_grad = beta * np.where(preds > labels, 1, 1 / divider) / labels2\n",
    "    return grad, second_grad"
   ]
  },
  {
   "cell_type": "code",
   "execution_count": 22,
   "metadata": {
    "collapsed": true
   },
   "outputs": [],
   "source": [
    "def amse_fixed(alpha, beta, gamma, divider):\n",
    "    def wrapper(*args, **kwargs):\n",
    "        return amse(*args, alpha=alpha, beta=beta, gamma=gamma, divider=divider, **kwargs)\n",
    "    return wrapper"
   ]
  },
  {
   "cell_type": "markdown",
   "metadata": {},
   "source": [
    "Подберём веса"
   ]
  },
  {
   "cell_type": "code",
   "execution_count": 33,
   "metadata": {
    "collapsed": false
   },
   "outputs": [
    {
     "name": "stdout",
     "output_type": "stream",
     "text": [
      "CPU times: user 3min 26s, sys: 31.8 ms, total: 3min 26s\n",
      "Wall time: 3min 26s\n"
     ]
    }
   ],
   "source": [
    "%%time\n",
    "\n",
    "n_folds = 10\n",
    "label_kfold = LabelKFold(np.array(department), n_folds=n_folds)\n",
    "weight_list = [(alpha, beta, 1 - alpha - beta) \n",
    "               for alpha in np.arange(0.02, 1, 0.02)\n",
    "               for beta in np.arange(0.02, 1 - alpha, 0.02) \n",
    "               ]\n",
    "scores = [-100 for i in range(n_folds)]\n",
    "train_scores = [-100 for i in range(n_folds)]\n",
    "weights = [0 for i in range(n_folds)]\n",
    "\n",
    "for fold_index, (train_index, test_index) in enumerate(label_kfold):\n",
    "    X = x_train[train_index]\n",
    "    y = y_train[train_index][:, 0]\n",
    "    X_validation = x_train[test_index]\n",
    "    y_validation = y_train[test_index][:, 0]\n",
    "    good_score = -np.Inf\n",
    "    good_weight = None\n",
    "    for weight in weight_list:\n",
    "        wX = X / weight\n",
    "        #y_pred = X.flatten()[np.argmin(wX, axis=1) + np.arange(X.shape[0]) * X.shape[1]]\n",
    "        y_pred = np.sum(X * weight, axis=1)\n",
    "        score = mape(y, y_pred)\n",
    "        if score > good_score:\n",
    "            good_score = score\n",
    "            good_weight = weight\n",
    "    wX = X_validation / good_weight\n",
    "    #y_pred = X_validation.flatten()[np.argmin(wX, axis=1) + np.arange(X_validation.shape[0]) * X_validation.shape[1]]\n",
    "    y_pred = np.sum(X_validation * good_weight, axis=1)\n",
    "    scores[fold_index] = mape(y_validation, y_pred)\n",
    "    train_scores[fold_index] = good_score\n",
    "    weights[fold_index] = good_weight   "
   ]
  },
  {
   "cell_type": "code",
   "execution_count": 34,
   "metadata": {
    "collapsed": false
   },
   "outputs": [
    {
     "data": {
      "text/plain": [
       "[<matplotlib.lines.Line2D at 0x7f11135d1b38>]"
      ]
     },
     "execution_count": 34,
     "metadata": {},
     "output_type": "execute_result"
    },
    {
     "data": {
      "image/png": "[encoded data removed]",
      "text/plain": [
       "<matplotlib.figure.Figure at 0x7f1113682128>"
      ]
     },
     "metadata": {},
     "output_type": "display_data"
    }
   ],
   "source": [
    "plt.plot(train_scores)\n",
    "mean = np.mean(train_scores)\n",
    "plt.plot([mean for i in train_scores])"
   ]
  },
  {
   "cell_type": "code",
   "execution_count": 35,
   "metadata": {
    "collapsed": false
   },
   "outputs": [
    {
     "data": {
      "text/plain": [
       "[<matplotlib.lines.Line2D at 0x7f1113545a20>]"
      ]
     },
     "execution_count": 35,
     "metadata": {},
     "output_type": "execute_result"
    },
    {
     "data": {
      "image/png": "[encoded data removed]",
      "text/plain": [
       "<matplotlib.figure.Figure at 0x7f1113603c18>"
      ]
     },
     "metadata": {},
     "output_type": "display_data"
    }
   ],
   "source": [
    "plt.plot(scores)\n",
    "mean = np.mean(scores)\n",
    "plt.plot([mean for i in scores])"
   ]
  },
  {
   "cell_type": "code",
   "execution_count": 36,
   "metadata": {
    "collapsed": false
   },
   "outputs": [
    {
     "data": {
      "text/plain": [
       "[(0.36000000000000004, 0.34000000000000002, 0.29999999999999988),\n",
       " (0.34000000000000002, 0.34000000000000002, 0.3199999999999999),\n",
       " (0.36000000000000004, 0.34000000000000002, 0.29999999999999988),\n",
       " (0.36000000000000004, 0.34000000000000002, 0.29999999999999988),\n",
       " (0.36000000000000004, 0.34000000000000002, 0.29999999999999988),\n",
       " (0.34000000000000002, 0.34000000000000002, 0.3199999999999999),\n",
       " (0.36000000000000004, 0.34000000000000002, 0.29999999999999988),\n",
       " (0.36000000000000004, 0.34000000000000002, 0.29999999999999988),\n",
       " (0.36000000000000004, 0.34000000000000002, 0.29999999999999988),\n",
       " (0.36000000000000004, 0.34000000000000002, 0.29999999999999988)]"
      ]
     },
     "execution_count": 36,
     "metadata": {},
     "output_type": "execute_result"
    }
   ],
   "source": [
    "weights"
   ]
  },
  {
   "cell_type": "code",
   "execution_count": 37,
   "metadata": {
    "collapsed": false
   },
   "outputs": [
    {
     "data": {
      "text/plain": [
       "-8.8544688474447746"
      ]
     },
     "execution_count": 37,
     "metadata": {},
     "output_type": "execute_result"
    }
   ],
   "source": [
    "mean"
   ]
  },
  {
   "cell_type": "markdown",
   "metadata": {},
   "source": [
    "Попробуем подобрать, на который стоит домжножать, чтобы скостить скор"
   ]
  },
  {
   "cell_type": "code",
   "execution_count": 82,
   "metadata": {
    "collapsed": true
   },
   "outputs": [],
   "source": [
    "weight = (0.36000000000000004, 0.34000000000000002, 0.29999999999999988)"
   ]
  },
  {
   "cell_type": "code",
   "execution_count": 38,
   "metadata": {
    "collapsed": true
   },
   "outputs": [],
   "source": [
    "wX = x_train * weight\n",
    "#one_x = x_train.flatten()[np.argmin(wX, axis=1) + np.arange(x_train.shape[0]) * x_train.shape[1]]\n",
    "one_x = np.sum(wX, axis=1)"
   ]
  },
  {
   "cell_type": "code",
   "execution_count": 39,
   "metadata": {
    "collapsed": false
   },
   "outputs": [],
   "source": [
    "onex = one_x.reshape((one_x.shape[0], 1))"
   ]
  },
  {
   "cell_type": "code",
   "execution_count": 40,
   "metadata": {
    "collapsed": false
   },
   "outputs": [
    {
     "name": "stdout",
     "output_type": "stream",
     "text": [
      "CPU times: user 14.4 s, sys: 2 µs, total: 14.4 s\n",
      "Wall time: 14.4 s\n"
     ]
    }
   ],
   "source": [
    "%%time\n",
    "\n",
    "n_folds = 10\n",
    "label_kfold = LabelKFold(np.array(department), n_folds=n_folds)\n",
    "weight_list = [w for w in np.arange(0.8, 1.2, 0.001)\n",
    "               ]\n",
    "scores = [-100 for i in range(n_folds)]\n",
    "train_scores = [-100 for i in range(n_folds)]\n",
    "weights = [0 for i in range(n_folds)]\n",
    "\n",
    "for fold_index, (train_index, test_index) in enumerate(label_kfold):\n",
    "    X = onex[train_index]\n",
    "    y = y_train[train_index][:, 0]\n",
    "    X_validation = onex[test_index]\n",
    "    y_validation = y_train[test_index][:, 0]\n",
    "    good_score = -np.Inf\n",
    "    good_weight = None\n",
    "    for weight in weight_list:\n",
    "        y_pred = X[:, 0] * weight\n",
    "        score = mape(y, y_pred)\n",
    "        if score > good_score:\n",
    "            good_score = score\n",
    "            good_weight = weight\n",
    "    y_pred = X_validation[:, 0] * good_weight\n",
    "    scores[fold_index] = mape(y_validation, y_pred)\n",
    "    train_scores[fold_index] = good_score\n",
    "    weights[fold_index] = good_weight   "
   ]
  },
  {
   "cell_type": "code",
   "execution_count": 41,
   "metadata": {
    "collapsed": false
   },
   "outputs": [
    {
     "data": {
      "text/plain": [
       "[<matplotlib.lines.Line2D at 0x7f1113534f98>]"
      ]
     },
     "execution_count": 41,
     "metadata": {},
     "output_type": "execute_result"
    },
    {
     "data": {
      "image/png": "[encoded data removed]",
      "text/plain": [
       "<matplotlib.figure.Figure at 0x7f1113607860>"
      ]
     },
     "metadata": {},
     "output_type": "display_data"
    }
   ],
   "source": [
    "plt.plot(train_scores)\n",
    "mean = np.mean(train_scores)\n",
    "plt.plot([mean for i in train_scores])"
   ]
  },
  {
   "cell_type": "code",
   "execution_count": 42,
   "metadata": {
    "collapsed": false
   },
   "outputs": [
    {
     "data": {
      "text/plain": [
       "[<matplotlib.lines.Line2D at 0x7f11134d3278>]"
      ]
     },
     "execution_count": 42,
     "metadata": {},
     "output_type": "execute_result"
    },
    {
     "data": {
      "image/png": "[encoded data removed]",
      "text/plain": [
       "<matplotlib.figure.Figure at 0x7f11134d3080>"
      ]
     },
     "metadata": {},
     "output_type": "display_data"
    }
   ],
   "source": [
    "plt.plot(scores)\n",
    "mean = np.mean(scores)\n",
    "plt.plot([mean for i in scores])"
   ]
  },
  {
   "cell_type": "code",
   "execution_count": 43,
   "metadata": {
    "collapsed": false
   },
   "outputs": [
    {
     "data": {
      "text/plain": [
       "[1.0010000000000003,\n",
       " 1.0000000000000002,\n",
       " 0.99600000000000022,\n",
       " 1.0020000000000002,\n",
       " 0.99800000000000022,\n",
       " 0.99900000000000022,\n",
       " 0.99900000000000022,\n",
       " 0.99900000000000022,\n",
       " 0.99900000000000022,\n",
       " 1.0000000000000002]"
      ]
     },
     "execution_count": 43,
     "metadata": {},
     "output_type": "execute_result"
    }
   ],
   "source": [
    "weights"
   ]
  },
  {
   "cell_type": "code",
   "execution_count": 44,
   "metadata": {
    "collapsed": false
   },
   "outputs": [
    {
     "data": {
      "text/plain": [
       "-8.9323917989320396"
      ]
     },
     "execution_count": 44,
     "metadata": {},
     "output_type": "execute_result"
    }
   ],
   "source": [
    "mean"
   ]
  },
  {
   "cell_type": "markdown",
   "metadata": {},
   "source": [
    "Чёт хуже, не будем домножать"
   ]
  },
  {
   "cell_type": "markdown",
   "metadata": {},
   "source": [
    "# Save"
   ]
  },
  {
   "cell_type": "code",
   "execution_count": 47,
   "metadata": {
    "collapsed": true
   },
   "outputs": [],
   "source": [
    "weight = (0.36000000000000004, 0.34000000000000002, 0.29999999999999988)"
   ]
  },
  {
   "cell_type": "code",
   "execution_count": 48,
   "metadata": {
    "collapsed": true
   },
   "outputs": [],
   "source": [
    "wX = x_test * weight\n",
    "y_pred = np.sum(wX, axis=1)"
   ]
  },
  {
   "cell_type": "code",
   "execution_count": 49,
   "metadata": {
    "collapsed": false
   },
   "outputs": [],
   "source": [
    "save_to_file(y_pred, 'lmse_weight_stacking.csv')"
   ]
  },
  {
   "cell_type": "code",
   "execution_count": 48,
   "metadata": {
    "collapsed": true
   },
   "outputs": [],
   "source": [
    "wX = x_test * weight\n",
    "y_pred = np.sum(wX, axis=1)"
   ]
  },
  {
   "cell_type": "code",
   "execution_count": 98,
   "metadata": {
    "collapsed": false
   },
   "outputs": [],
   "source": [
    "save_to_file(y_pred, 'weight_stacking_without_101.csv')"
   ]
  },
  {
   "cell_type": "code",
   "execution_count": null,
   "metadata": {
    "collapsed": true
   },
   "outputs": [],
   "source": []
  },
  {
   "cell_type": "code",
   "execution_count": null,
   "metadata": {
    "collapsed": true
   },
   "outputs": [],
   "source": []
  },
  {
   "cell_type": "code",
   "execution_count": null,
   "metadata": {
    "collapsed": true
   },
   "outputs": [],
   "source": []
  }
 ],
 "metadata": {
  "kernelspec": {
   "display_name": "Python 3",
   "language": "python",
   "name": "python3"
  },
  "language_info": {
   "codemirror_mode": {
    "name": "ipython",
    "version": 3
   },
   "file_extension": ".py",
   "mimetype": "text/x-python",
   "name": "python",
   "nbconvert_exporter": "python",
   "pygments_lexer": "ipython3",
   "version": "3.4.4"
  }
 },
 "nbformat": 4,
 "nbformat_minor": 0
}
