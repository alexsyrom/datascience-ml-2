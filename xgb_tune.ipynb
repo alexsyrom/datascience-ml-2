{
 "cells": [
  {
   "cell_type": "code",
   "execution_count": 1,
   "metadata": {
    "collapsed": false
   },
   "outputs": [],
   "source": [
    "%matplotlib inline\n",
    "import matplotlib.pyplot as plt\n",
    "import numpy as np\n",
    "import pandas as pd\n",
    "import seaborn as sns\n",
    "from tqdm import tnrange, tqdm_notebook\n",
    "import gc"
   ]
  },
  {
   "cell_type": "code",
   "execution_count": 2,
   "metadata": {
    "collapsed": false
   },
   "outputs": [],
   "source": [
    "sns.set_context('talk')"
   ]
  },
  {
   "cell_type": "code",
   "execution_count": 3,
   "metadata": {
    "collapsed": true
   },
   "outputs": [],
   "source": [
    "pd.set_option('display.max_columns', 500)"
   ]
  },
  {
   "cell_type": "code",
   "execution_count": 4,
   "metadata": {
    "collapsed": true
   },
   "outputs": [],
   "source": [
    "import warnings\n",
    "warnings.filterwarnings('ignore', message='Changing the shape of non-C contiguous array')"
   ]
  },
  {
   "cell_type": "markdown",
   "metadata": {},
   "source": [
    "# Read the data"
   ]
  },
  {
   "cell_type": "code",
   "execution_count": 5,
   "metadata": {
    "collapsed": false
   },
   "outputs": [],
   "source": [
    "dfXtrain = pd.read_csv('preprocessed_csv/train_tree.csv', index_col='id', sep=';')\n",
    "dfXtest = pd.read_csv('preprocessed_csv/test_tree.csv', index_col='id', sep=';')\n",
    "dfYtrain = pd.read_csv('preprocessed_csv/y_train_tree.csv', header=None, names=['ID', 'COTIS'], sep=';')"
   ]
  },
  {
   "cell_type": "code",
   "execution_count": 6,
   "metadata": {
    "collapsed": true
   },
   "outputs": [],
   "source": [
    "dfYtrain = dfYtrain.set_index('ID')"
   ]
  },
  {
   "cell_type": "markdown",
   "metadata": {},
   "source": [
    "# Preprocessing"
   ]
  },
  {
   "cell_type": "markdown",
   "metadata": {},
   "source": [
    "Вынесем var14, department и subreg."
   ]
  },
  {
   "cell_type": "code",
   "execution_count": 7,
   "metadata": {
    "collapsed": true
   },
   "outputs": [],
   "source": [
    "dropped_col_names = ['var14', 'department', 'subreg'] \n",
    "\n",
    "def drop_cols(df):\n",
    "    return df.drop(dropped_col_names, axis=1), df[dropped_col_names]"
   ]
  },
  {
   "cell_type": "code",
   "execution_count": 8,
   "metadata": {
    "collapsed": false
   },
   "outputs": [],
   "source": [
    "train, dropped_train = drop_cols(dfXtrain)\n",
    "test, dropped_test = drop_cols(dfXtest)"
   ]
  },
  {
   "cell_type": "markdown",
   "metadata": {},
   "source": [
    "Добавим инфу о величине города из subreg'a"
   ]
  },
  {
   "cell_type": "code",
   "execution_count": 9,
   "metadata": {
    "collapsed": false
   },
   "outputs": [],
   "source": [
    "def add_big_city_cols(df, dropped_df):\n",
    "    df['big'] = np.where(dropped_df['subreg'] % 100 == 0, 1, 0)\n",
    "    df['average'] = np.where(dropped_df['subreg'] % 10 == 0, 1, 0)\n",
    "    df['average'] = df['average'] - df['big']\n",
    "    df['small'] = 1 - df['big'] - df['average']\n",
    "    return df"
   ]
  },
  {
   "cell_type": "code",
   "execution_count": 10,
   "metadata": {
    "collapsed": true
   },
   "outputs": [],
   "source": [
    "train = add_big_city_cols(train, dropped_train)\n",
    "test = add_big_city_cols(test, dropped_test)"
   ]
  },
  {
   "cell_type": "markdown",
   "metadata": {},
   "source": [
    "Декодируем оставшиеся категориальные признаки"
   ]
  },
  {
   "cell_type": "code",
   "execution_count": 11,
   "metadata": {
    "collapsed": false
   },
   "outputs": [
    {
     "data": {
      "text/plain": [
       "['marque', 'energie_veh', 'profession', 'var6', 'var8']"
      ]
     },
     "execution_count": 11,
     "metadata": {},
     "output_type": "execute_result"
    }
   ],
   "source": [
    "categorical = list(train.select_dtypes(exclude=[np.number]).columns)\n",
    "categorical"
   ]
  },
  {
   "cell_type": "code",
   "execution_count": 12,
   "metadata": {
    "collapsed": false
   },
   "outputs": [
    {
     "data": {
      "text/plain": [
       "['marque', 'energie_veh', 'profession', 'var6', 'var8']"
      ]
     },
     "execution_count": 12,
     "metadata": {},
     "output_type": "execute_result"
    }
   ],
   "source": [
    "list(test.select_dtypes(exclude=[np.number]).columns)"
   ]
  },
  {
   "cell_type": "code",
   "execution_count": 13,
   "metadata": {
    "collapsed": false
   },
   "outputs": [
    {
     "name": "stdout",
     "output_type": "stream",
     "text": [
      "marque 154\n",
      "energie_veh 5\n",
      "profession 17\n",
      "var6 5\n",
      "var8 23\n"
     ]
    }
   ],
   "source": [
    "for col in categorical:\n",
    "    print(col, train[col].nunique())"
   ]
  },
  {
   "cell_type": "markdown",
   "metadata": {},
   "source": [
    "energie_veh и var6 с помощью get_dummies"
   ]
  },
  {
   "cell_type": "code",
   "execution_count": 14,
   "metadata": {
    "collapsed": true
   },
   "outputs": [],
   "source": [
    "small_cat = ['energie_veh', 'var6']"
   ]
  },
  {
   "cell_type": "code",
   "execution_count": 15,
   "metadata": {
    "collapsed": true
   },
   "outputs": [],
   "source": [
    "train = pd.get_dummies(train, columns=small_cat)\n",
    "test = pd.get_dummies(test, columns=small_cat)"
   ]
  },
  {
   "cell_type": "markdown",
   "metadata": {},
   "source": [
    "Для остальных посчитаем сглаженные средние таргета"
   ]
  },
  {
   "cell_type": "code",
   "execution_count": 16,
   "metadata": {
    "collapsed": true
   },
   "outputs": [],
   "source": [
    "big_cat = ['marque', 'profession', 'var8']"
   ]
  },
  {
   "cell_type": "markdown",
   "metadata": {},
   "source": [
    "Описание для начала"
   ]
  },
  {
   "cell_type": "code",
   "execution_count": 17,
   "metadata": {
    "collapsed": false
   },
   "outputs": [
    {
     "data": {
      "text/html": [
       "<div>\n",
       "<table border=\"1\" class=\"dataframe\">\n",
       "  <thead>\n",
       "    <tr style=\"text-align: right;\">\n",
       "      <th></th>\n",
       "      <th>COTIS</th>\n",
       "      <th>marque</th>\n",
       "      <th>profession</th>\n",
       "      <th>var8</th>\n",
       "    </tr>\n",
       "  </thead>\n",
       "  <tbody>\n",
       "    <tr>\n",
       "      <th>count</th>\n",
       "      <td>300000.000000</td>\n",
       "      <td>154.000000</td>\n",
       "      <td>17.000000</td>\n",
       "      <td>23.000000</td>\n",
       "    </tr>\n",
       "    <tr>\n",
       "      <th>mean</th>\n",
       "      <td>346.063566</td>\n",
       "      <td>1946.168831</td>\n",
       "      <td>17647.058824</td>\n",
       "      <td>13018.000000</td>\n",
       "    </tr>\n",
       "    <tr>\n",
       "      <th>std</th>\n",
       "      <td>119.870510</td>\n",
       "      <td>8040.202889</td>\n",
       "      <td>29867.244501</td>\n",
       "      <td>24502.085807</td>\n",
       "    </tr>\n",
       "    <tr>\n",
       "      <th>min</th>\n",
       "      <td>94.780000</td>\n",
       "      <td>1.000000</td>\n",
       "      <td>393.000000</td>\n",
       "      <td>1.000000</td>\n",
       "    </tr>\n",
       "    <tr>\n",
       "      <th>25%</th>\n",
       "      <td>262.050000</td>\n",
       "      <td>3.000000</td>\n",
       "      <td>2610.000000</td>\n",
       "      <td>775.000000</td>\n",
       "    </tr>\n",
       "    <tr>\n",
       "      <th>50%</th>\n",
       "      <td>323.220000</td>\n",
       "      <td>11.500000</td>\n",
       "      <td>5829.000000</td>\n",
       "      <td>2208.000000</td>\n",
       "    </tr>\n",
       "    <tr>\n",
       "      <th>75%</th>\n",
       "      <td>407.500000</td>\n",
       "      <td>359.750000</td>\n",
       "      <td>13273.000000</td>\n",
       "      <td>7045.000000</td>\n",
       "    </tr>\n",
       "    <tr>\n",
       "      <th>max</th>\n",
       "      <td>1518.810000</td>\n",
       "      <td>73371.000000</td>\n",
       "      <td>110354.000000</td>\n",
       "      <td>91826.000000</td>\n",
       "    </tr>\n",
       "  </tbody>\n",
       "</table>\n",
       "</div>"
      ],
      "text/plain": [
       "               COTIS        marque     profession          var8\n",
       "count  300000.000000    154.000000      17.000000     23.000000\n",
       "mean      346.063566   1946.168831   17647.058824  13018.000000\n",
       "std       119.870510   8040.202889   29867.244501  24502.085807\n",
       "min        94.780000      1.000000     393.000000      1.000000\n",
       "25%       262.050000      3.000000    2610.000000    775.000000\n",
       "50%       323.220000     11.500000    5829.000000   2208.000000\n",
       "75%       407.500000    359.750000   13273.000000   7045.000000\n",
       "max      1518.810000  73371.000000  110354.000000  91826.000000"
      ]
     },
     "execution_count": 17,
     "metadata": {},
     "output_type": "execute_result"
    }
   ],
   "source": [
    "df = pd.concat([dfYtrain.describe()] + [train[col].value_counts().describe() for col in big_cat], axis=1)\n",
    "df"
   ]
  },
  {
   "cell_type": "markdown",
   "metadata": {},
   "source": [
    "Сглаживать будем с 500"
   ]
  },
  {
   "cell_type": "markdown",
   "metadata": {},
   "source": [
    "Будем использовать среднее, 25%, 50% и 75%"
   ]
  },
  {
   "cell_type": "markdown",
   "metadata": {},
   "source": [
    "Декодирование"
   ]
  },
  {
   "cell_type": "code",
   "execution_count": 18,
   "metadata": {
    "collapsed": false
   },
   "outputs": [],
   "source": [
    "class EncodeWithAggregates():\n",
    "\n",
    "    def __init__(self, cols, y_train, train, *tests):\n",
    "        self.cols = cols\n",
    "        self.y_train = y_train\n",
    "        self.train = train\n",
    "        self.tests = tests\n",
    "        self.Xs = (self.train,) + self.tests\n",
    "        \n",
    "        self.smooth_coef = 500\n",
    "        self.miss_val = 'NAN'\n",
    "        self.percentiles = [25, 50, 75]\n",
    "        self.names = ['Mean'] + [str(q) for q in self.percentiles]\n",
    "        self.aggs = [np.mean] + [self.percentile_fix(q) for q in self.percentiles]\n",
    "        self.miss_val_fills = [agg(y_train) for agg in self.aggs]\n",
    "        self.train_aggs = [agg(y_train) for agg in self.aggs]\n",
    "\n",
    "    def percentile_fix(self, q):\n",
    "        def wrapped(a):\n",
    "            return np.percentile(a, q)\n",
    "\n",
    "        return wrapped\n",
    "        \n",
    "    \n",
    "    def transform(self):\n",
    "        for col in self.cols:\n",
    "            self.encode(col)\n",
    "            gc.collect()\n",
    "        return self.Xs\n",
    "    \n",
    "    \n",
    "    def encode(self, col):\n",
    "        df = pd.concat([self.y_train, self.train[col]], axis=1)\n",
    "        dfgb = df.groupby(col)\n",
    "        dfsize = dfgb.size()\n",
    "        dfsize.ix[self.miss_val] = 0\n",
    "        \n",
    "        for name, agg, miss_val_fill, train_agg in zip(self.names, self.aggs, self.miss_val_fills, self.train_aggs):\n",
    "            dfm = dfgb.agg(agg)\n",
    "            dfm.ix[self.miss_val] = miss_val_fill\n",
    "            for X in self.Xs:                \n",
    "                agg_df = dfm.ix[X[col].fillna(self.miss_val)].set_index(X.index)[self.y_train.name]\n",
    "                agg_size = dfsize.ix[X[col].fillna(self.miss_val)]\n",
    "                agg_size = pd.DataFrame({'size': agg_size}).set_index(X.index)['size']\n",
    "                agg_name = \"{}_{}\".format(col, name)\n",
    "                X[agg_name] = (agg_df * agg_size + self.smooth_coef * train_agg) / (self.smooth_coef + agg_size)\n",
    "        \n",
    "        self.Xs = [X.drop(col, axis=1) for X in self.Xs]\n"
   ]
  },
  {
   "cell_type": "code",
   "execution_count": 19,
   "metadata": {
    "collapsed": false
   },
   "outputs": [],
   "source": [
    "train, test = EncodeWithAggregates(big_cat, dfYtrain['COTIS'], train, test).transform()"
   ]
  },
  {
   "cell_type": "code",
   "execution_count": 20,
   "metadata": {
    "collapsed": false
   },
   "outputs": [
    {
     "data": {
      "text/plain": [
       "(30000, 51)"
      ]
     },
     "execution_count": 20,
     "metadata": {},
     "output_type": "execute_result"
    }
   ],
   "source": [
    "test.shape"
   ]
  },
  {
   "cell_type": "code",
   "execution_count": 21,
   "metadata": {
    "collapsed": false
   },
   "outputs": [
    {
     "data": {
      "text/plain": [
       "(300000, 51)"
      ]
     },
     "execution_count": 21,
     "metadata": {},
     "output_type": "execute_result"
    }
   ],
   "source": [
    "train.shape"
   ]
  },
  {
   "cell_type": "code",
   "execution_count": 22,
   "metadata": {
    "collapsed": true
   },
   "outputs": [],
   "source": [
    "train.fillna(-9999, inplace=True)\n",
    "test.fillna(-9999, inplace=True)"
   ]
  },
  {
   "cell_type": "code",
   "execution_count": 23,
   "metadata": {
    "collapsed": true
   },
   "outputs": [],
   "source": [
    "y_train = np.array(dfYtrain)\n",
    "x_train = np.array(train)\n",
    "x_test = np.array(test)"
   ]
  },
  {
   "cell_type": "markdown",
   "metadata": {},
   "source": [
    "# Save routines"
   ]
  },
  {
   "cell_type": "code",
   "execution_count": 24,
   "metadata": {
    "collapsed": false
   },
   "outputs": [
    {
     "data": {
      "text/html": [
       "<div>\n",
       "<table border=\"1\" class=\"dataframe\">\n",
       "  <thead>\n",
       "    <tr style=\"text-align: right;\">\n",
       "      <th></th>\n",
       "      <th>ID</th>\n",
       "      <th>COTIS</th>\n",
       "    </tr>\n",
       "  </thead>\n",
       "  <tbody>\n",
       "    <tr>\n",
       "      <th>0</th>\n",
       "      <td>300001</td>\n",
       "      <td>0.0</td>\n",
       "    </tr>\n",
       "    <tr>\n",
       "      <th>1</th>\n",
       "      <td>300002</td>\n",
       "      <td>0.0</td>\n",
       "    </tr>\n",
       "    <tr>\n",
       "      <th>2</th>\n",
       "      <td>300003</td>\n",
       "      <td>0.0</td>\n",
       "    </tr>\n",
       "    <tr>\n",
       "      <th>3</th>\n",
       "      <td>300004</td>\n",
       "      <td>0.0</td>\n",
       "    </tr>\n",
       "    <tr>\n",
       "      <th>4</th>\n",
       "      <td>300005</td>\n",
       "      <td>0.0</td>\n",
       "    </tr>\n",
       "  </tbody>\n",
       "</table>\n",
       "</div>"
      ],
      "text/plain": [
       "       ID  COTIS\n",
       "0  300001    0.0\n",
       "1  300002    0.0\n",
       "2  300003    0.0\n",
       "3  300004    0.0\n",
       "4  300005    0.0"
      ]
     },
     "execution_count": 24,
     "metadata": {},
     "output_type": "execute_result"
    }
   ],
   "source": [
    "dfYtest = pd.DataFrame({'ID': dfXtest.index, 'COTIS': np.zeros(test.shape[0])})\n",
    "dfYtest = dfYtest[['ID', 'COTIS']]\n",
    "dfYtest.head()"
   ]
  },
  {
   "cell_type": "code",
   "execution_count": 25,
   "metadata": {
    "collapsed": true
   },
   "outputs": [],
   "source": [
    "def save_to_file(y, file_name):\n",
    "    dfYtest['COTIS'] = y\n",
    "    dfYtest.to_csv('results/{}'.format(file_name), index=False, sep=';')"
   ]
  },
  {
   "cell_type": "markdown",
   "metadata": {},
   "source": [
    "# Train XGB"
   ]
  },
  {
   "cell_type": "code",
   "execution_count": 26,
   "metadata": {
    "collapsed": false
   },
   "outputs": [],
   "source": [
    "import xgboost as xgb\n",
    "XGBR = xgb.XGBRegressor\n",
    "from sklearn.cross_validation import LabelKFold\n",
    "from sklearn.grid_search import GridSearchCV"
   ]
  },
  {
   "cell_type": "code",
   "execution_count": 27,
   "metadata": {
    "collapsed": false
   },
   "outputs": [],
   "source": [
    "def plot_quality(grid_searcher, param_name):\n",
    "    means = []\n",
    "    stds = []\n",
    "    for elem in grid_searcher.grid_scores_:\n",
    "        means.append(np.mean(elem.cv_validation_scores))\n",
    "        stds.append(np.sqrt(np.var(elem.cv_validation_scores)))\n",
    "    means = np.array(means)\n",
    "    stds = np.array(stds)\n",
    "    \n",
    "    params = grid_searcher.param_grid\n",
    "    \n",
    "    plt.figure(figsize=(8, 6))\n",
    "    plt.plot(params[param_name], means)\n",
    "    plt.fill_between(params[param_name], \\\n",
    "                 means + stds, means - stds, alpha = 0.3, facecolor='blue')\n",
    "    plt.xlabel(param_name)\n",
    "    plt.ylabel('MAPE')"
   ]
  },
  {
   "cell_type": "code",
   "execution_count": 28,
   "metadata": {
    "collapsed": false
   },
   "outputs": [],
   "source": [
    "def mape(y_true, y_pred): \n",
    "    return -np.mean(np.abs((y_true - y_pred) / y_true)) * 100"
   ]
  },
  {
   "cell_type": "code",
   "execution_count": 29,
   "metadata": {
    "collapsed": true
   },
   "outputs": [],
   "source": [
    "def mape_scorer(est, X, y):\n",
    "    gc.collect()\n",
    "    return mape(y, est.predict(X))"
   ]
  },
  {
   "cell_type": "code",
   "execution_count": 30,
   "metadata": {
    "collapsed": true
   },
   "outputs": [],
   "source": [
    "class MyGS():\n",
    "    class Element():\n",
    "        def __init__(self):\n",
    "            self.cv_validation_scores = []\n",
    "        \n",
    "        \n",
    "        def add(self, score):\n",
    "            self.cv_validation_scores.append(score)\n",
    "    \n",
    "    \n",
    "    def __init__(self, param_grid, name, n_folds):\n",
    "        self.param_grid = {name: param_grid}\n",
    "        self.grid_scores_ = [MyGS.Element() for item in param_grid]\n",
    "        \n",
    "    \n",
    "    def add(self, score, param_num):\n",
    "        self.grid_scores_[param_num].add(score)\n",
    "        "
   ]
  },
  {
   "cell_type": "code",
   "execution_count": 31,
   "metadata": {
    "collapsed": true
   },
   "outputs": [],
   "source": [
    "def amse(preds, dtrain, alpha=1, beta=1, gamma=1, divider=1):\n",
    "    labels = dtrain.get_label()\n",
    "    labels2 = np.power(labels, 2)\n",
    "    grad = np.where(preds > labels, \n",
    "                    alpha * (preds - labels) / labels2 - gamma, \n",
    "                    alpha * (preds - labels) / (labels2 * divider) + gamma)\n",
    "    second_grad = beta * np.where(preds > labels, 1, 1 / divider) / labels2\n",
    "    return grad, second_grad"
   ]
  },
  {
   "cell_type": "code",
   "execution_count": 32,
   "metadata": {
    "collapsed": true
   },
   "outputs": [],
   "source": [
    "def amse_fixed(alpha, beta, gamma, divider):\n",
    "    def wrapper(*args, **kwargs):\n",
    "        return amse(*args, alpha=alpha, beta=beta, gamma=gamma, divider=divider, **kwargs)\n",
    "    return wrapper"
   ]
  },
  {
   "cell_type": "code",
   "execution_count": 71,
   "metadata": {
    "collapsed": false,
    "scrolled": true
   },
   "outputs": [
    {
     "name": "stdout",
     "output_type": "stream",
     "text": [
      "\n",
      "CPU times: user 4min 21s, sys: 1.21 s, total: 4min 22s\n",
      "Wall time: 4min 23s\n"
     ]
    }
   ],
   "source": [
    "%%time\n",
    "\n",
    "param =   {'base_score':0.5, 'colsample_bylevel':1, 'colsample_bytree':1, 'gamma':0,\n",
    "           'eta':0.05, 'max_delta_step':0, 'max_depth':3,\n",
    "           'min_child_weight':1, 'nthread':-1,\n",
    "           'objective':'reg:linear', 'reg_alpha':0, 'reg_lambda':1,\n",
    "           'scale_pos_weight':1, 'seed':56, 'silent':True, 'subsample':1}\n",
    "\n",
    "diff_num_round_list = [5 for i in range(20)]\n",
    "num_round_list = np.cumsum(diff_num_round_list)\n",
    "n_folds = 5\n",
    "obj=None\n",
    "\n",
    "mygs = MyGS(num_round_list, 'num_round', n_folds=n_folds)\n",
    "\n",
    "label_kfold = LabelKFold(np.array(dropped_train['var14']), n_folds=n_folds)\n",
    "\n",
    "for train_index, test_index in tqdm_notebook(label_kfold, desc='fold'):\n",
    "    dtrain = xgb.DMatrix(x_train[train_index], \n",
    "                         label=y_train[train_index], \n",
    "                         missing=-9999, \n",
    "                         weight=100 * np.power(y_train[train_index], -2) )\n",
    "    dvalidation = xgb.DMatrix(x_train[test_index], missing=-9999)\n",
    "    y_validation = y_train[test_index][:, 0]\n",
    "    param['base_score'] = np.percentile(y_train[train_index], 25)\n",
    "    bst = None\n",
    "    for index, diff_num_round in enumerate(diff_num_round_list):\n",
    "        bst = xgb.train(param, dtrain, diff_num_round, obj=obj, xgb_model=bst)\n",
    "        y_pred = bst.predict(dvalidation)\n",
    "        score = mape(y_validation, y_pred)\n",
    "        mygs.add(score, index)\n",
    "    gc.collect()"
   ]
  },
  {
   "cell_type": "code",
   "execution_count": 72,
   "metadata": {
    "collapsed": false
   },
   "outputs": [
    {
     "data": {
      "image/png": "[encoded data removed]",
      "text/plain": [
       "<matplotlib.figure.Figure at 0x7f2c2f232d68>"
      ]
     },
     "metadata": {},
     "output_type": "display_data"
    }
   ],
   "source": [
    "plot_quality(mygs, 'num_round')"
   ]
  },
  {
   "cell_type": "markdown",
   "metadata": {},
   "source": [
    "Увеличим шаг прироста количества деревьев"
   ]
  },
  {
   "cell_type": "code",
   "execution_count": 73,
   "metadata": {
    "collapsed": false,
    "scrolled": true
   },
   "outputs": [
    {
     "name": "stdout",
     "output_type": "stream",
     "text": [
      "\n",
      "CPU times: user 3min 59s, sys: 1.09 s, total: 4min\n",
      "Wall time: 4min\n"
     ]
    }
   ],
   "source": [
    "%%time\n",
    "\n",
    "param =   {'base_score':0.5, 'colsample_bylevel':1, 'colsample_bytree':1, 'gamma':0,\n",
    "           'eta':0.05, 'max_delta_step':0, 'max_depth':3,\n",
    "           'min_child_weight':1, 'nthread':-1,\n",
    "           'objective':'reg:linear', 'reg_alpha':0, 'reg_lambda':1,\n",
    "           'scale_pos_weight':1, 'seed':56, 'silent':True, 'subsample':1}\n",
    "\n",
    "diff_num_round_list = [20 for i in range(5)]\n",
    "num_round_list = np.cumsum(diff_num_round_list)\n",
    "n_folds = 5\n",
    "obj=None\n",
    "\n",
    "mygs = MyGS(num_round_list, 'num_round', n_folds=n_folds)\n",
    "\n",
    "label_kfold = LabelKFold(np.array(dropped_train['var14']), n_folds=n_folds)\n",
    "\n",
    "for train_index, test_index in tqdm_notebook(label_kfold, desc='fold'):\n",
    "    dtrain = xgb.DMatrix(x_train[train_index], \n",
    "                         label=y_train[train_index], \n",
    "                         missing=-9999, \n",
    "                         weight=100 * np.power(y_train[train_index], -2) )\n",
    "    dvalidation = xgb.DMatrix(x_train[test_index], missing=-9999)\n",
    "    y_validation = y_train[test_index][:, 0]\n",
    "    param['base_score'] = np.percentile(y_train[train_index], 25)\n",
    "    bst = None\n",
    "    for index, diff_num_round in enumerate(diff_num_round_list):\n",
    "        bst = xgb.train(param, dtrain, diff_num_round, obj=obj, xgb_model=bst)\n",
    "        y_pred = bst.predict(dvalidation)\n",
    "        score = mape(y_validation, y_pred)\n",
    "        mygs.add(score, index)\n",
    "    gc.collect()"
   ]
  },
  {
   "cell_type": "code",
   "execution_count": 74,
   "metadata": {
    "collapsed": false
   },
   "outputs": [
    {
     "data": {
      "image/png": "[encoded data removed]",
      "text/plain": [
       "<matplotlib.figure.Figure at 0x7f2c2f248400>"
      ]
     },
     "metadata": {},
     "output_type": "display_data"
    }
   ],
   "source": [
    "plot_quality(mygs, 'num_round')"
   ]
  },
  {
   "cell_type": "markdown",
   "metadata": {},
   "source": [
    "Уменьшим число фолдов"
   ]
  },
  {
   "cell_type": "code",
   "execution_count": 75,
   "metadata": {
    "collapsed": false,
    "scrolled": true
   },
   "outputs": [
    {
     "name": "stdout",
     "output_type": "stream",
     "text": [
      "\n",
      "CPU times: user 1min 54s, sys: 598 ms, total: 1min 54s\n",
      "Wall time: 1min 55s\n"
     ]
    }
   ],
   "source": [
    "%%time\n",
    "\n",
    "param =   {'base_score':0.5, 'colsample_bylevel':1, 'colsample_bytree':1, 'gamma':0,\n",
    "           'eta':0.05, 'max_delta_step':0, 'max_depth':3,\n",
    "           'min_child_weight':1, 'nthread':-1,\n",
    "           'objective':'reg:linear', 'reg_alpha':0, 'reg_lambda':1,\n",
    "           'scale_pos_weight':1, 'seed':56, 'silent':True, 'subsample':1}\n",
    "\n",
    "diff_num_round_list = [20 for i in range(5)]\n",
    "num_round_list = np.cumsum(diff_num_round_list)\n",
    "n_folds = 3\n",
    "obj=None\n",
    "\n",
    "mygs = MyGS(num_round_list, 'num_round', n_folds=n_folds)\n",
    "\n",
    "label_kfold = LabelKFold(np.array(dropped_train['var14']), n_folds=n_folds)\n",
    "\n",
    "for train_index, test_index in tqdm_notebook(label_kfold, desc='fold'):\n",
    "    dtrain = xgb.DMatrix(x_train[train_index], \n",
    "                         label=y_train[train_index], \n",
    "                         missing=-9999, \n",
    "                         weight=100 * np.power(y_train[train_index], -2) )\n",
    "    dvalidation = xgb.DMatrix(x_train[test_index], missing=-9999)\n",
    "    y_validation = y_train[test_index][:, 0]\n",
    "    param['base_score'] = np.percentile(y_train[train_index], 25)\n",
    "    bst = None\n",
    "    for index, diff_num_round in enumerate(diff_num_round_list):\n",
    "        bst = xgb.train(param, dtrain, diff_num_round, obj=obj, xgb_model=bst)\n",
    "        y_pred = bst.predict(dvalidation)\n",
    "        score = mape(y_validation, y_pred)\n",
    "        mygs.add(score, index)\n",
    "    gc.collect()"
   ]
  },
  {
   "cell_type": "code",
   "execution_count": 76,
   "metadata": {
    "collapsed": false
   },
   "outputs": [
    {
     "data": {
      "image/png": "[encoded data removed]",
      "text/plain": [
       "<matplotlib.figure.Figure at 0x7f2c2f970208>"
      ]
     },
     "metadata": {},
     "output_type": "display_data"
    }
   ],
   "source": [
    "plot_quality(mygs, 'num_round')"
   ]
  },
  {
   "cell_type": "markdown",
   "metadata": {},
   "source": [
    "Изменим точку старта"
   ]
  },
  {
   "cell_type": "code",
   "execution_count": 89,
   "metadata": {
    "collapsed": false,
    "scrolled": true
   },
   "outputs": [
    {
     "name": "stdout",
     "output_type": "stream",
     "text": [
      "\n",
      "CPU times: user 2min 31s, sys: 591 ms, total: 2min 32s\n",
      "Wall time: 2min 32s\n"
     ]
    }
   ],
   "source": [
    "%%time\n",
    "\n",
    "param =   {'base_score':0.5, 'colsample_bylevel':1, 'colsample_bytree':1, 'gamma':0,\n",
    "           'eta':0.05, 'max_delta_step':0, 'max_depth':3,\n",
    "           'min_child_weight':1, 'nthread':-1,\n",
    "           'objective':'reg:linear', 'reg_alpha':0, 'reg_lambda':1,\n",
    "           'scale_pos_weight':1, 'seed':56, 'silent':True, 'subsample':1}\n",
    "\n",
    "diff_num_round_list = [20 for i in range(5)]\n",
    "diff_num_round_list[0] = 60\n",
    "num_round_list = np.cumsum(diff_num_round_list)\n",
    "n_folds = 3\n",
    "obj=None\n",
    "weight_coef = 100\n",
    "\n",
    "mygs = MyGS(num_round_list, 'num_round', n_folds=n_folds)\n",
    "\n",
    "label_kfold = LabelKFold(np.array(dropped_train['var14']), n_folds=n_folds)\n",
    "\n",
    "for train_index, test_index in tqdm_notebook(label_kfold, desc='fold'):\n",
    "    dtrain = xgb.DMatrix(x_train[train_index], \n",
    "                         label=y_train[train_index], \n",
    "                         missing=-9999, \n",
    "                         weight=weight_coef * np.power(y_train[train_index], -2) )\n",
    "    dvalidation = xgb.DMatrix(x_train[test_index], missing=-9999)\n",
    "    y_validation = y_train[test_index][:, 0]\n",
    "    param['base_score'] = np.percentile(y_train[train_index], 25)\n",
    "    bst = None\n",
    "    for index, diff_num_round in enumerate(diff_num_round_list):\n",
    "        bst = xgb.train(param, dtrain, diff_num_round, obj=obj, xgb_model=bst)\n",
    "        y_pred = bst.predict(dvalidation)\n",
    "        score = mape(y_validation, y_pred)\n",
    "        mygs.add(score, index)\n",
    "    gc.collect()"
   ]
  },
  {
   "cell_type": "code",
   "execution_count": 90,
   "metadata": {
    "collapsed": false
   },
   "outputs": [
    {
     "data": {
      "image/png": "[encoded data removed]",
      "text/plain": [
       "<matplotlib.figure.Figure at 0x7f2c2f179278>"
      ]
     },
     "metadata": {},
     "output_type": "display_data"
    }
   ],
   "source": [
    "plot_quality(mygs, 'num_round')"
   ]
  },
  {
   "cell_type": "markdown",
   "metadata": {},
   "source": [
    "Увеличим весовой коэффициент"
   ]
  },
  {
   "cell_type": "code",
   "execution_count": 91,
   "metadata": {
    "collapsed": false,
    "scrolled": true
   },
   "outputs": [
    {
     "name": "stdout",
     "output_type": "stream",
     "text": [
      "\n",
      "CPU times: user 2min 51s, sys: 646 ms, total: 2min 52s\n",
      "Wall time: 2min 52s\n"
     ]
    }
   ],
   "source": [
    "%%time\n",
    "\n",
    "param =   {'base_score':0.5, 'colsample_bylevel':1, 'colsample_bytree':1, 'gamma':0,\n",
    "           'eta':0.05, 'max_delta_step':0, 'max_depth':3,\n",
    "           'min_child_weight':1, 'nthread':-1,\n",
    "           'objective':'reg:linear', 'reg_alpha':0, 'reg_lambda':1,\n",
    "           'scale_pos_weight':1, 'seed':56, 'silent':True, 'subsample':1}\n",
    "\n",
    "diff_num_round_list = [20 for i in range(5)]\n",
    "diff_num_round_list[0] = 60\n",
    "num_round_list = np.cumsum(diff_num_round_list)\n",
    "n_folds = 3\n",
    "obj=None\n",
    "weight_coef = 1000\n",
    "\n",
    "mygs = MyGS(num_round_list, 'num_round', n_folds=n_folds)\n",
    "\n",
    "label_kfold = LabelKFold(np.array(dropped_train['var14']), n_folds=n_folds)\n",
    "\n",
    "for train_index, test_index in tqdm_notebook(label_kfold, desc='fold'):\n",
    "    dtrain = xgb.DMatrix(x_train[train_index], \n",
    "                         label=y_train[train_index], \n",
    "                         missing=-9999, \n",
    "                         weight=weight_coef * np.power(y_train[train_index], -2) )\n",
    "    dvalidation = xgb.DMatrix(x_train[test_index], missing=-9999)\n",
    "    y_validation = y_train[test_index][:, 0]\n",
    "    param['base_score'] = np.percentile(y_train[train_index], 25)\n",
    "    bst = None\n",
    "    for index, diff_num_round in enumerate(diff_num_round_list):\n",
    "        bst = xgb.train(param, dtrain, diff_num_round, obj=obj, xgb_model=bst)\n",
    "        y_pred = bst.predict(dvalidation)\n",
    "        score = mape(y_validation, y_pred)\n",
    "        mygs.add(score, index)\n",
    "    gc.collect()"
   ]
  },
  {
   "cell_type": "code",
   "execution_count": 92,
   "metadata": {
    "collapsed": false
   },
   "outputs": [
    {
     "data": {
      "image/png": "[encoded data removed]",
      "text/plain": [
       "<matplotlib.figure.Figure at 0x7f2c2f215e80>"
      ]
     },
     "metadata": {},
     "output_type": "display_data"
    }
   ],
   "source": [
    "plot_quality(mygs, 'num_round')"
   ]
  },
  {
   "cell_type": "markdown",
   "metadata": {},
   "source": [
    "Весовой коэффициент влияет на скорость сходимости. При большом числе деревьев его вклад уже не очень большой. Оставим его на 1000"
   ]
  },
  {
   "cell_type": "markdown",
   "metadata": {},
   "source": [
    "Увеличим шаг прироста количества деревьев"
   ]
  },
  {
   "cell_type": "code",
   "execution_count": 93,
   "metadata": {
    "collapsed": false,
    "scrolled": true
   },
   "outputs": [
    {
     "name": "stdout",
     "output_type": "stream",
     "text": [
      "\n",
      "CPU times: user 4min 7s, sys: 894 ms, total: 4min 8s\n",
      "Wall time: 4min 8s\n"
     ]
    }
   ],
   "source": [
    "%%time\n",
    "\n",
    "param =   {'base_score':0.5, 'colsample_bylevel':1, 'colsample_bytree':1, 'gamma':0,\n",
    "           'eta':0.05, 'max_delta_step':0, 'max_depth':3,\n",
    "           'min_child_weight':1, 'nthread':-1,\n",
    "           'objective':'reg:linear', 'reg_alpha':0, 'reg_lambda':1,\n",
    "           'scale_pos_weight':1, 'seed':56, 'silent':True, 'subsample':1}\n",
    "\n",
    "diff_num_round_list = [40 for i in range(5)]\n",
    "diff_num_round_list[0] = 60\n",
    "num_round_list = np.cumsum(diff_num_round_list)\n",
    "n_folds = 3\n",
    "obj=None\n",
    "weight_coef = 1000\n",
    "\n",
    "mygs = MyGS(num_round_list, 'num_round', n_folds=n_folds)\n",
    "\n",
    "label_kfold = LabelKFold(np.array(dropped_train['var14']), n_folds=n_folds)\n",
    "\n",
    "for train_index, test_index in tqdm_notebook(label_kfold, desc='fold'):\n",
    "    dtrain = xgb.DMatrix(x_train[train_index], \n",
    "                         label=y_train[train_index], \n",
    "                         missing=-9999, \n",
    "                         weight=weight_coef * np.power(y_train[train_index], -2) )\n",
    "    dvalidation = xgb.DMatrix(x_train[test_index], missing=-9999)\n",
    "    y_validation = y_train[test_index][:, 0]\n",
    "    param['base_score'] = np.percentile(y_train[train_index], 25)\n",
    "    bst = None\n",
    "    for index, diff_num_round in enumerate(diff_num_round_list):\n",
    "        bst = xgb.train(param, dtrain, diff_num_round, obj=obj, xgb_model=bst)\n",
    "        y_pred = bst.predict(dvalidation)\n",
    "        score = mape(y_validation, y_pred)\n",
    "        mygs.add(score, index)\n",
    "    gc.collect()"
   ]
  },
  {
   "cell_type": "code",
   "execution_count": 94,
   "metadata": {
    "collapsed": false
   },
   "outputs": [
    {
     "data": {
      "image/png": "[encoded data removed]",
      "text/plain": [
       "<matplotlib.figure.Figure at 0x7f2c2f233a90>"
      ]
     },
     "metadata": {},
     "output_type": "display_data"
    }
   ],
   "source": [
    "plot_quality(mygs, 'num_round')"
   ]
  },
  {
   "cell_type": "code",
   "execution_count": null,
   "metadata": {
    "collapsed": true
   },
   "outputs": [],
   "source": []
  },
  {
   "cell_type": "code",
   "execution_count": null,
   "metadata": {
    "collapsed": true
   },
   "outputs": [],
   "source": []
  },
  {
   "cell_type": "code",
   "execution_count": null,
   "metadata": {
    "collapsed": true
   },
   "outputs": [],
   "source": []
  },
  {
   "cell_type": "code",
   "execution_count": null,
   "metadata": {
    "collapsed": true
   },
   "outputs": [],
   "source": []
  },
  {
   "cell_type": "code",
   "execution_count": null,
   "metadata": {
    "collapsed": true
   },
   "outputs": [],
   "source": []
  },
  {
   "cell_type": "code",
   "execution_count": null,
   "metadata": {
    "collapsed": true
   },
   "outputs": [],
   "source": []
  },
  {
   "cell_type": "code",
   "execution_count": null,
   "metadata": {
    "collapsed": true
   },
   "outputs": [],
   "source": []
  },
  {
   "cell_type": "markdown",
   "metadata": {},
   "source": [
    "# Save"
   ]
  },
  {
   "cell_type": "code",
   "execution_count": 95,
   "metadata": {
    "collapsed": false,
    "scrolled": true
   },
   "outputs": [
    {
     "name": "stdout",
     "output_type": "stream",
     "text": [
      "CPU times: user 2min 11s, sys: 419 ms, total: 2min 11s\n",
      "Wall time: 2min 12s\n"
     ]
    }
   ],
   "source": [
    "%%time\n",
    "\n",
    "param =   {'base_score':0.5, 'colsample_bylevel':1, 'colsample_bytree':1, 'gamma':0,\n",
    "           'eta':0.05, 'max_delta_step':0, 'max_depth':3,\n",
    "           'min_child_weight':1, 'nthread':-1,\n",
    "           'objective':'reg:linear', 'reg_alpha':0, 'reg_lambda':1,\n",
    "           'scale_pos_weight':1, 'seed':56, 'silent':True, 'subsample':1}\n",
    "\n",
    "num_round = 220\n",
    "obj=None\n",
    "weight_coef = 1000\n",
    "\n",
    "dtrain = xgb.DMatrix(x_train, \n",
    "                     label=y_train, \n",
    "                     missing=-9999, \n",
    "                     weight=weight_coef * np.power(y_train, -2) )\n",
    "dtest = xgb.DMatrix(x_test, missing=-9999)\n",
    "param['base_score'] = np.percentile(y_train, 25)\n",
    "bst = xgb.train(param, dtrain, num_round, obj=obj)\n",
    "y_pred = bst.predict(dvalidation)\n",
    "\n",
    "gc.collect()"
   ]
  },
  {
   "cell_type": "code",
   "execution_count": 97,
   "metadata": {
    "collapsed": true
   },
   "outputs": [],
   "source": [
    "y_pred = bst.predict(dtest)"
   ]
  },
  {
   "cell_type": "code",
   "execution_count": 98,
   "metadata": {
    "collapsed": false
   },
   "outputs": [],
   "source": [
    "save_to_file(y_pred, 'xbg_tune.csv')"
   ]
  },
  {
   "cell_type": "code",
   "execution_count": null,
   "metadata": {
    "collapsed": true
   },
   "outputs": [],
   "source": []
  },
  {
   "cell_type": "code",
   "execution_count": null,
   "metadata": {
    "collapsed": true
   },
   "outputs": [],
   "source": []
  },
  {
   "cell_type": "code",
   "execution_count": null,
   "metadata": {
    "collapsed": true
   },
   "outputs": [],
   "source": []
  },
  {
   "cell_type": "code",
   "execution_count": null,
   "metadata": {
    "collapsed": true
   },
   "outputs": [],
   "source": []
  },
  {
   "cell_type": "code",
   "execution_count": null,
   "metadata": {
    "collapsed": true
   },
   "outputs": [],
   "source": []
  }
 ],
 "metadata": {
  "kernelspec": {
   "display_name": "Python 3",
   "language": "python",
   "name": "python3"
  },
  "language_info": {
   "codemirror_mode": {
    "name": "ipython",
    "version": 3
   },
   "file_extension": ".py",
   "mimetype": "text/x-python",
   "name": "python",
   "nbconvert_exporter": "python",
   "pygments_lexer": "ipython3",
   "version": "3.4.4"
  }
 },
 "nbformat": 4,
 "nbformat_minor": 0
}
