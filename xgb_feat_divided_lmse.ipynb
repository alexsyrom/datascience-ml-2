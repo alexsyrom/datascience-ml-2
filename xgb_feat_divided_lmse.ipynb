{
 "cells": [
  {
   "cell_type": "code",
   "execution_count": 1,
   "metadata": {
    "collapsed": false
   },
   "outputs": [],
   "source": [
    "%matplotlib inline\n",
    "import matplotlib.pyplot as plt\n",
    "import numpy as np\n",
    "import pandas as pd\n",
    "import seaborn as sns\n",
    "from tqdm import tnrange, tqdm_notebook\n",
    "import gc\n",
    "import operator"
   ]
  },
  {
   "cell_type": "code",
   "execution_count": 2,
   "metadata": {
    "collapsed": true
   },
   "outputs": [],
   "source": [
    "from scipy import stats"
   ]
  },
  {
   "cell_type": "code",
   "execution_count": 3,
   "metadata": {
    "collapsed": false
   },
   "outputs": [],
   "source": [
    "sns.set_context('talk')"
   ]
  },
  {
   "cell_type": "code",
   "execution_count": 4,
   "metadata": {
    "collapsed": true
   },
   "outputs": [],
   "source": [
    "pd.set_option('display.max_columns', 500)"
   ]
  },
  {
   "cell_type": "code",
   "execution_count": 5,
   "metadata": {
    "collapsed": true
   },
   "outputs": [],
   "source": [
    "import warnings\n",
    "warnings.filterwarnings('ignore', message='Changing the shape of non-C contiguous array')"
   ]
  },
  {
   "cell_type": "markdown",
   "metadata": {},
   "source": [
    "# Read the data"
   ]
  },
  {
   "cell_type": "code",
   "execution_count": 14,
   "metadata": {
    "collapsed": false
   },
   "outputs": [],
   "source": [
    "dfXtrain = pd.read_csv('preprocessed_csv/train_tree.csv', index_col='id', sep=';')\n",
    "dfXtest = pd.read_csv('preprocessed_csv/test_tree.csv', index_col='id', sep=';')\n",
    "dfYtrain = pd.read_csv('preprocessed_csv/y_train_tree.csv', header=None, names=['ID', 'COTIS'], sep=';')"
   ]
  },
  {
   "cell_type": "code",
   "execution_count": 15,
   "metadata": {
    "collapsed": false
   },
   "outputs": [],
   "source": [
    "dfYtrain = dfYtrain.set_index('ID')"
   ]
  },
  {
   "cell_type": "markdown",
   "metadata": {},
   "source": [
    "# Preprocessing"
   ]
  },
  {
   "cell_type": "markdown",
   "metadata": {},
   "source": [
    "Заполним пропуски в департаменте"
   ]
  },
  {
   "cell_type": "code",
   "execution_count": 16,
   "metadata": {
    "collapsed": false
   },
   "outputs": [],
   "source": [
    "dfXtrain.department = dfXtrain.department.fillna(method='ffill')\n",
    "dfXtrain.subreg = dfXtrain.subreg.fillna(method='ffill')"
   ]
  },
  {
   "cell_type": "markdown",
   "metadata": {},
   "source": [
    "Вынесем var14, department и subreg."
   ]
  },
  {
   "cell_type": "code",
   "execution_count": 17,
   "metadata": {
    "collapsed": true
   },
   "outputs": [],
   "source": [
    "dropped_col_names = ['var14', 'department', 'subreg'] \n",
    "\n",
    "def drop_cols(df):\n",
    "    return df.drop(dropped_col_names, axis=1), df[dropped_col_names]"
   ]
  },
  {
   "cell_type": "code",
   "execution_count": 18,
   "metadata": {
    "collapsed": false
   },
   "outputs": [],
   "source": [
    "train, dropped_train = drop_cols(dfXtrain)\n",
    "test, dropped_test = drop_cols(dfXtest)"
   ]
  },
  {
   "cell_type": "code",
   "execution_count": 19,
   "metadata": {
    "collapsed": false
   },
   "outputs": [
    {
     "data": {
      "text/plain": [
       "var14         0\n",
       "department    0\n",
       "subreg        0\n",
       "dtype: int64"
      ]
     },
     "execution_count": 19,
     "metadata": {},
     "output_type": "execute_result"
    }
   ],
   "source": [
    "dropped_train.isnull().sum()"
   ]
  },
  {
   "cell_type": "markdown",
   "metadata": {},
   "source": [
    "Добавим инфу о величине города из subreg'a"
   ]
  },
  {
   "cell_type": "code",
   "execution_count": 20,
   "metadata": {
    "collapsed": false
   },
   "outputs": [],
   "source": [
    "def add_big_city_cols(df, dropped_df):\n",
    "    df['big'] = np.where(dropped_df['subreg'] % 100 == 0, 1, 0)\n",
    "    df['average'] = np.where(dropped_df['subreg'] % 10 == 0, 1, 0)\n",
    "    df['average'] = df['average'] - df['big']\n",
    "    df['small'] = 1 - df['big'] - df['average']\n",
    "    return df"
   ]
  },
  {
   "cell_type": "code",
   "execution_count": 21,
   "metadata": {
    "collapsed": true
   },
   "outputs": [],
   "source": [
    "train = add_big_city_cols(train, dropped_train)\n",
    "test = add_big_city_cols(test, dropped_test)"
   ]
  },
  {
   "cell_type": "markdown",
   "metadata": {},
   "source": [
    "Декодируем оставшиеся категориальные признаки"
   ]
  },
  {
   "cell_type": "code",
   "execution_count": 22,
   "metadata": {
    "collapsed": false
   },
   "outputs": [
    {
     "data": {
      "text/plain": [
       "['marque', 'energie_veh', 'profession', 'var6', 'var8']"
      ]
     },
     "execution_count": 22,
     "metadata": {},
     "output_type": "execute_result"
    }
   ],
   "source": [
    "categorical = list(train.select_dtypes(exclude=[np.number]).columns)\n",
    "categorical"
   ]
  },
  {
   "cell_type": "code",
   "execution_count": 23,
   "metadata": {
    "collapsed": false
   },
   "outputs": [
    {
     "data": {
      "text/plain": [
       "['marque', 'energie_veh', 'profession', 'var6', 'var8']"
      ]
     },
     "execution_count": 23,
     "metadata": {},
     "output_type": "execute_result"
    }
   ],
   "source": [
    "list(test.select_dtypes(exclude=[np.number]).columns)"
   ]
  },
  {
   "cell_type": "code",
   "execution_count": 24,
   "metadata": {
    "collapsed": false
   },
   "outputs": [
    {
     "name": "stdout",
     "output_type": "stream",
     "text": [
      "marque 154\n",
      "energie_veh 5\n",
      "profession 17\n",
      "var6 5\n",
      "var8 23\n"
     ]
    }
   ],
   "source": [
    "for col in categorical:\n",
    "    print(col, train[col].nunique())"
   ]
  },
  {
   "cell_type": "markdown",
   "metadata": {},
   "source": [
    "energie_veh и var6 с помощью get_dummies"
   ]
  },
  {
   "cell_type": "code",
   "execution_count": 25,
   "metadata": {
    "collapsed": true
   },
   "outputs": [],
   "source": [
    "small_cat = ['energie_veh', 'var6']"
   ]
  },
  {
   "cell_type": "code",
   "execution_count": 26,
   "metadata": {
    "collapsed": true
   },
   "outputs": [],
   "source": [
    "train = pd.get_dummies(train, columns=small_cat)\n",
    "test = pd.get_dummies(test, columns=small_cat)"
   ]
  },
  {
   "cell_type": "markdown",
   "metadata": {},
   "source": [
    "Для остальных посчитаем сглаженные средние таргета"
   ]
  },
  {
   "cell_type": "code",
   "execution_count": 27,
   "metadata": {
    "collapsed": true
   },
   "outputs": [],
   "source": [
    "big_cat = ['marque', 'profession', 'var8']"
   ]
  },
  {
   "cell_type": "markdown",
   "metadata": {},
   "source": [
    "Описание для начала"
   ]
  },
  {
   "cell_type": "code",
   "execution_count": 28,
   "metadata": {
    "collapsed": false
   },
   "outputs": [
    {
     "data": {
      "text/html": [
       "<div>\n",
       "<table border=\"1\" class=\"dataframe\">\n",
       "  <thead>\n",
       "    <tr style=\"text-align: right;\">\n",
       "      <th></th>\n",
       "      <th>COTIS</th>\n",
       "      <th>marque</th>\n",
       "      <th>profession</th>\n",
       "      <th>var8</th>\n",
       "    </tr>\n",
       "  </thead>\n",
       "  <tbody>\n",
       "    <tr>\n",
       "      <th>count</th>\n",
       "      <td>300000.000000</td>\n",
       "      <td>154.000000</td>\n",
       "      <td>17.000000</td>\n",
       "      <td>23.000000</td>\n",
       "    </tr>\n",
       "    <tr>\n",
       "      <th>mean</th>\n",
       "      <td>346.063566</td>\n",
       "      <td>1946.168831</td>\n",
       "      <td>17647.058824</td>\n",
       "      <td>13018.000000</td>\n",
       "    </tr>\n",
       "    <tr>\n",
       "      <th>std</th>\n",
       "      <td>119.870510</td>\n",
       "      <td>8040.202889</td>\n",
       "      <td>29867.244501</td>\n",
       "      <td>24502.085807</td>\n",
       "    </tr>\n",
       "    <tr>\n",
       "      <th>min</th>\n",
       "      <td>94.780000</td>\n",
       "      <td>1.000000</td>\n",
       "      <td>393.000000</td>\n",
       "      <td>1.000000</td>\n",
       "    </tr>\n",
       "    <tr>\n",
       "      <th>25%</th>\n",
       "      <td>262.050000</td>\n",
       "      <td>3.000000</td>\n",
       "      <td>2610.000000</td>\n",
       "      <td>775.000000</td>\n",
       "    </tr>\n",
       "    <tr>\n",
       "      <th>50%</th>\n",
       "      <td>323.220000</td>\n",
       "      <td>11.500000</td>\n",
       "      <td>5829.000000</td>\n",
       "      <td>2208.000000</td>\n",
       "    </tr>\n",
       "    <tr>\n",
       "      <th>75%</th>\n",
       "      <td>407.500000</td>\n",
       "      <td>359.750000</td>\n",
       "      <td>13273.000000</td>\n",
       "      <td>7045.000000</td>\n",
       "    </tr>\n",
       "    <tr>\n",
       "      <th>max</th>\n",
       "      <td>1518.810000</td>\n",
       "      <td>73371.000000</td>\n",
       "      <td>110354.000000</td>\n",
       "      <td>91826.000000</td>\n",
       "    </tr>\n",
       "  </tbody>\n",
       "</table>\n",
       "</div>"
      ],
      "text/plain": [
       "               COTIS        marque     profession          var8\n",
       "count  300000.000000    154.000000      17.000000     23.000000\n",
       "mean      346.063566   1946.168831   17647.058824  13018.000000\n",
       "std       119.870510   8040.202889   29867.244501  24502.085807\n",
       "min        94.780000      1.000000     393.000000      1.000000\n",
       "25%       262.050000      3.000000    2610.000000    775.000000\n",
       "50%       323.220000     11.500000    5829.000000   2208.000000\n",
       "75%       407.500000    359.750000   13273.000000   7045.000000\n",
       "max      1518.810000  73371.000000  110354.000000  91826.000000"
      ]
     },
     "execution_count": 28,
     "metadata": {},
     "output_type": "execute_result"
    }
   ],
   "source": [
    "df = pd.concat([dfYtrain.describe()] + [train[col].value_counts().describe() for col in big_cat], axis=1)\n",
    "df"
   ]
  },
  {
   "cell_type": "markdown",
   "metadata": {},
   "source": [
    "Сглаживать будем с 500"
   ]
  },
  {
   "cell_type": "markdown",
   "metadata": {},
   "source": [
    "Будем использовать среднее, 25%, 50% и 75%"
   ]
  },
  {
   "cell_type": "markdown",
   "metadata": {},
   "source": [
    "Декодирование"
   ]
  },
  {
   "cell_type": "code",
   "execution_count": 29,
   "metadata": {
    "collapsed": false
   },
   "outputs": [],
   "source": [
    "class EncodeWithAggregates():\n",
    "\n",
    "    def __init__(self, cols, y_train, train, *tests, smooth_coef=None):\n",
    "        self.cols = cols\n",
    "        self.y_train = y_train\n",
    "        self.train = train\n",
    "        self.tests = tests\n",
    "        self.Xs = (self.train,) + self.tests\n",
    "        \n",
    "        self.miss_val = 'NAN'\n",
    "        self.percentiles = [25, 50, 75]\n",
    "        self.names = ['Mean'] + [str(q) for q in self.percentiles]\n",
    "        self.aggs = [np.mean] + [self.percentile_fix(q) for q in self.percentiles]\n",
    "        self.miss_val_fills = [agg(y_train) for agg in self.aggs]\n",
    "        self.train_aggs = [agg(y_train) for agg in self.aggs]\n",
    "        if smooth_coef:\n",
    "            self.smooth_coef = smooth_coef\n",
    "        else:\n",
    "            self.smooth_coef = {col: 0 for col in cols}\n",
    "        \n",
    "\n",
    "    def percentile_fix(self, q):\n",
    "        def wrapped(a):\n",
    "            return np.percentile(a, q)\n",
    "\n",
    "        return wrapped\n",
    "        \n",
    "    \n",
    "    def transform(self):\n",
    "        for col in self.cols:\n",
    "            self.encode(col)\n",
    "            gc.collect()\n",
    "        return self.Xs\n",
    "    \n",
    "    \n",
    "    def encode(self, col):\n",
    "        df = pd.concat([self.y_train, self.train[col]], axis=1)\n",
    "        dfgb = df.groupby(col)\n",
    "        dfsize = dfgb.size()\n",
    "        dfsize.ix[self.miss_val] = 0\n",
    "\n",
    "        for X in self.Xs:                \n",
    "            agg_size = dfsize.ix[X[col].fillna(self.miss_val)]\n",
    "            agg_size = pd.DataFrame({'size': agg_size}).set_index(X.index)['size']\n",
    "            agg_name = \"{}_{}\".format(col, 'size')\n",
    "            X[agg_name] = agg_size\n",
    "\n",
    "        for name, agg, miss_val_fill, train_agg in zip(self.names, self.aggs, self.miss_val_fills, self.train_aggs):\n",
    "            dfm = dfgb.agg(agg)\n",
    "            dfm.ix[self.miss_val] = miss_val_fill\n",
    "            for X in self.Xs:                \n",
    "                agg_df = dfm.ix[X[col].fillna(self.miss_val)].set_index(X.index)[self.y_train.name]\n",
    "                agg_size = dfsize.ix[X[col].fillna(self.miss_val)]\n",
    "                agg_size = pd.DataFrame({'size': agg_size}).set_index(X.index)['size']\n",
    "                agg_name = \"{}_{}\".format(col, name)\n",
    "                X[agg_name] = (agg_df * agg_size + self.smooth_coef[col] * train_agg) / (self.smooth_coef[col] + agg_size)\n",
    "        \n",
    "        self.Xs = [X.drop(col, axis=1) for X in self.Xs]"
   ]
  },
  {
   "cell_type": "code",
   "execution_count": 30,
   "metadata": {
    "collapsed": false
   },
   "outputs": [],
   "source": [
    "smooth_coef = {'profession': 0, 'var8': 500, 'marque': 500}\n",
    "\n",
    "train, test = EncodeWithAggregates(big_cat, dfYtrain['COTIS'], train, test, smooth_coef=smooth_coef).transform()"
   ]
  },
  {
   "cell_type": "code",
   "execution_count": 31,
   "metadata": {
    "collapsed": false
   },
   "outputs": [
    {
     "data": {
      "text/plain": [
       "(30000, 54)"
      ]
     },
     "execution_count": 31,
     "metadata": {},
     "output_type": "execute_result"
    }
   ],
   "source": [
    "test.shape"
   ]
  },
  {
   "cell_type": "code",
   "execution_count": 32,
   "metadata": {
    "collapsed": false
   },
   "outputs": [
    {
     "data": {
      "text/plain": [
       "(300000, 54)"
      ]
     },
     "execution_count": 32,
     "metadata": {},
     "output_type": "execute_result"
    }
   ],
   "source": [
    "train.shape"
   ]
  },
  {
   "cell_type": "code",
   "execution_count": 33,
   "metadata": {
    "collapsed": true
   },
   "outputs": [],
   "source": [
    "train.fillna(-9999, inplace=True)\n",
    "test.fillna(-9999, inplace=True)"
   ]
  },
  {
   "cell_type": "code",
   "execution_count": 34,
   "metadata": {
    "collapsed": true
   },
   "outputs": [],
   "source": [
    "y_train = np.array(dfYtrain)\n",
    "x_train = np.array(train)\n",
    "x_test = np.array(test)"
   ]
  },
  {
   "cell_type": "markdown",
   "metadata": {},
   "source": [
    "# Save routines"
   ]
  },
  {
   "cell_type": "code",
   "execution_count": 35,
   "metadata": {
    "collapsed": false
   },
   "outputs": [
    {
     "data": {
      "text/html": [
       "<div>\n",
       "<table border=\"1\" class=\"dataframe\">\n",
       "  <thead>\n",
       "    <tr style=\"text-align: right;\">\n",
       "      <th></th>\n",
       "      <th>ID</th>\n",
       "      <th>COTIS</th>\n",
       "    </tr>\n",
       "  </thead>\n",
       "  <tbody>\n",
       "    <tr>\n",
       "      <th>0</th>\n",
       "      <td>300001</td>\n",
       "      <td>0.0</td>\n",
       "    </tr>\n",
       "    <tr>\n",
       "      <th>1</th>\n",
       "      <td>300002</td>\n",
       "      <td>0.0</td>\n",
       "    </tr>\n",
       "    <tr>\n",
       "      <th>2</th>\n",
       "      <td>300003</td>\n",
       "      <td>0.0</td>\n",
       "    </tr>\n",
       "    <tr>\n",
       "      <th>3</th>\n",
       "      <td>300004</td>\n",
       "      <td>0.0</td>\n",
       "    </tr>\n",
       "    <tr>\n",
       "      <th>4</th>\n",
       "      <td>300005</td>\n",
       "      <td>0.0</td>\n",
       "    </tr>\n",
       "  </tbody>\n",
       "</table>\n",
       "</div>"
      ],
      "text/plain": [
       "       ID  COTIS\n",
       "0  300001    0.0\n",
       "1  300002    0.0\n",
       "2  300003    0.0\n",
       "3  300004    0.0\n",
       "4  300005    0.0"
      ]
     },
     "execution_count": 35,
     "metadata": {},
     "output_type": "execute_result"
    }
   ],
   "source": [
    "dfYtest = pd.DataFrame({'ID': dfXtest.index, 'COTIS': np.zeros(test.shape[0])})\n",
    "dfYtest = dfYtest[['ID', 'COTIS']]\n",
    "dfYtest.head()"
   ]
  },
  {
   "cell_type": "code",
   "execution_count": 36,
   "metadata": {
    "collapsed": true
   },
   "outputs": [],
   "source": [
    "def save_to_file(y, file_name):\n",
    "    dfYtest['COTIS'] = y\n",
    "    dfYtest.to_csv('results/{}'.format(file_name), index=False, sep=';')"
   ]
  },
  {
   "cell_type": "code",
   "execution_count": 37,
   "metadata": {
    "collapsed": false
   },
   "outputs": [
    {
     "data": {
      "text/html": [
       "<div>\n",
       "<table border=\"1\" class=\"dataframe\">\n",
       "  <thead>\n",
       "    <tr style=\"text-align: right;\">\n",
       "      <th></th>\n",
       "      <th>ID</th>\n",
       "      <th>lmse_with_size_all_divided</th>\n",
       "    </tr>\n",
       "  </thead>\n",
       "  <tbody>\n",
       "    <tr>\n",
       "      <th>0</th>\n",
       "      <td>1</td>\n",
       "      <td>0.0</td>\n",
       "    </tr>\n",
       "    <tr>\n",
       "      <th>1</th>\n",
       "      <td>2</td>\n",
       "      <td>0.0</td>\n",
       "    </tr>\n",
       "    <tr>\n",
       "      <th>2</th>\n",
       "      <td>3</td>\n",
       "      <td>0.0</td>\n",
       "    </tr>\n",
       "    <tr>\n",
       "      <th>3</th>\n",
       "      <td>4</td>\n",
       "      <td>0.0</td>\n",
       "    </tr>\n",
       "    <tr>\n",
       "      <th>4</th>\n",
       "      <td>5</td>\n",
       "      <td>0.0</td>\n",
       "    </tr>\n",
       "  </tbody>\n",
       "</table>\n",
       "</div>"
      ],
      "text/plain": [
       "   ID  lmse_with_size_all_divided\n",
       "0   1                         0.0\n",
       "1   2                         0.0\n",
       "2   3                         0.0\n",
       "3   4                         0.0\n",
       "4   5                         0.0"
      ]
     },
     "execution_count": 37,
     "metadata": {},
     "output_type": "execute_result"
    }
   ],
   "source": [
    "model_name = 'lmse_with_size_all_divided'\n",
    "dfYtest_stacking = pd.DataFrame({'ID': dfXtrain.index, model_name: np.zeros(train.shape[0])})\n",
    "dfYtest_stacking = dfYtest_stacking[['ID', model_name]]\n",
    "dfYtest_stacking.head()"
   ]
  },
  {
   "cell_type": "code",
   "execution_count": 38,
   "metadata": {
    "collapsed": true
   },
   "outputs": [],
   "source": [
    "def save_to_file_stacking(y, file_name):\n",
    "    dfYtest_stacking[model_name] = y\n",
    "    dfYtest_stacking.to_csv('stacking/{}'.format(file_name), index=False, sep=';')"
   ]
  },
  {
   "cell_type": "markdown",
   "metadata": {},
   "source": [
    "# Train XGB"
   ]
  },
  {
   "cell_type": "code",
   "execution_count": 39,
   "metadata": {
    "collapsed": false
   },
   "outputs": [],
   "source": [
    "import xgboost as xgb\n",
    "XGBR = xgb.XGBRegressor\n",
    "from sklearn.cross_validation import LabelKFold\n",
    "from sklearn.grid_search import GridSearchCV"
   ]
  },
  {
   "cell_type": "code",
   "execution_count": 40,
   "metadata": {
    "collapsed": false
   },
   "outputs": [],
   "source": [
    "def plot_quality(grid_searcher, param_name):\n",
    "    means = []\n",
    "    stds = []\n",
    "    for elem in grid_searcher.grid_scores_:\n",
    "        means.append(np.mean(elem.cv_validation_scores))\n",
    "        stds.append(np.sqrt(np.var(elem.cv_validation_scores)))\n",
    "    means = np.array(means)\n",
    "    stds = np.array(stds)\n",
    "    \n",
    "    params = grid_searcher.param_grid\n",
    "    \n",
    "    plt.figure(figsize=(10, 6))\n",
    "    plt.plot(params[param_name], means)\n",
    "    plt.fill_between(params[param_name], \\\n",
    "                 means + stds, means - stds, alpha = 0.3, facecolor='blue')\n",
    "    plt.xlabel(param_name)\n",
    "    plt.ylabel('MAPE')"
   ]
  },
  {
   "cell_type": "code",
   "execution_count": 41,
   "metadata": {
    "collapsed": false
   },
   "outputs": [],
   "source": [
    "def mape(y_true, y_pred): \n",
    "    return -np.mean(np.abs((y_true - y_pred) / y_true)) * 100"
   ]
  },
  {
   "cell_type": "code",
   "execution_count": 42,
   "metadata": {
    "collapsed": true
   },
   "outputs": [],
   "source": [
    "def mape_scorer(est, X, y):\n",
    "    gc.collect()\n",
    "    return mape(y, est.predict(X))"
   ]
  },
  {
   "cell_type": "code",
   "execution_count": 43,
   "metadata": {
    "collapsed": true
   },
   "outputs": [],
   "source": [
    "class MyGS():\n",
    "    class Element():\n",
    "        def __init__(self):\n",
    "            self.cv_validation_scores = []\n",
    "        \n",
    "        \n",
    "        def add(self, score):\n",
    "            self.cv_validation_scores.append(score)\n",
    "    \n",
    "    \n",
    "    def __init__(self, param_grid, name, n_folds):\n",
    "        self.param_grid = {name: param_grid}\n",
    "        self.grid_scores_ = [MyGS.Element() for item in param_grid]\n",
    "        \n",
    "    \n",
    "    def add(self, score, param_num):\n",
    "        self.grid_scores_[param_num].add(score)\n",
    "        "
   ]
  },
  {
   "cell_type": "markdown",
   "metadata": {},
   "source": [
    "Вот клетка с оптимальными настройками"
   ]
  },
  {
   "cell_type": "code",
   "execution_count": 72,
   "metadata": {
    "collapsed": false,
    "scrolled": true
   },
   "outputs": [],
   "source": [
    "def grid_search(x_train, y_train, scorer):\n",
    "    param =   {'base_score':0.5, 'colsample_bylevel':1, 'colsample_bytree':1, 'gamma':0,\n",
    "               'eta':0.15, 'max_delta_step':0, 'max_depth':9,\n",
    "               'min_child_weight':1, 'nthread':-1,\n",
    "               'objective':'reg:linear', 'alpha':0, 'lambda':1,\n",
    "               'scale_pos_weight':1, 'seed':56, 'silent':True, 'subsample':1}\n",
    "\n",
    "    diff_num_round_list = [40 for i in range(7)]\n",
    "    diff_num_round_list[0] = 60\n",
    "    num_round_list = np.cumsum(diff_num_round_list)\n",
    "    n_folds = 3\n",
    "\n",
    "    mygs = MyGS(num_round_list, 'num_round', n_folds=n_folds)\n",
    "\n",
    "    label_kfold = LabelKFold(np.array(dropped_train['department']), n_folds=n_folds)\n",
    "\n",
    "    for train_index, test_index in tqdm_notebook(label_kfold, desc='fold'):\n",
    "        dtrain = xgb.DMatrix(x_train[train_index], \n",
    "                             label=y_train[train_index], \n",
    "                             missing=-9999,) \n",
    "        dvalidation = xgb.DMatrix(x_train[test_index], missing=-9999)\n",
    "        param['base_score'] = np.mean(y_train[train_index])\n",
    "        bst = None\n",
    "        for index, diff_num_round in enumerate(diff_num_round_list):\n",
    "            bst = xgb.train(param, dtrain, diff_num_round, xgb_model=bst)\n",
    "            y_pred = bst.predict(dvalidation)\n",
    "            score = scorer(y_pred, test_index)\n",
    "            mygs.add(score, index)\n",
    "        gc.collect()\n",
    "    \n",
    "    return mygs"
   ]
  },
  {
   "cell_type": "code",
   "execution_count": 47,
   "metadata": {
    "collapsed": false
   },
   "outputs": [],
   "source": [
    "df = pd.DataFrame()\n",
    "df['crm'] = train['crm']\n",
    "df['target'] = y_train\n",
    "df['department'] = dropped_train['department']"
   ]
  },
  {
   "cell_type": "code",
   "execution_count": 48,
   "metadata": {
    "collapsed": false
   },
   "outputs": [
    {
     "data": {
      "text/html": [
       "<div>\n",
       "<table border=\"1\" class=\"dataframe\">\n",
       "  <thead>\n",
       "    <tr style=\"text-align: right;\">\n",
       "      <th></th>\n",
       "      <th>crm</th>\n",
       "      <th>target</th>\n",
       "    </tr>\n",
       "    <tr>\n",
       "      <th>department</th>\n",
       "      <th></th>\n",
       "      <th></th>\n",
       "    </tr>\n",
       "  </thead>\n",
       "  <tbody>\n",
       "    <tr>\n",
       "      <th>1.0</th>\n",
       "      <td>68</td>\n",
       "      <td>254.75</td>\n",
       "    </tr>\n",
       "    <tr>\n",
       "      <th>1.0</th>\n",
       "      <td>50</td>\n",
       "      <td>259.89</td>\n",
       "    </tr>\n",
       "    <tr>\n",
       "      <th>1.0</th>\n",
       "      <td>95</td>\n",
       "      <td>431.65</td>\n",
       "    </tr>\n",
       "    <tr>\n",
       "      <th>1.0</th>\n",
       "      <td>100</td>\n",
       "      <td>577.99</td>\n",
       "    </tr>\n",
       "    <tr>\n",
       "      <th>1.0</th>\n",
       "      <td>50</td>\n",
       "      <td>222.67</td>\n",
       "    </tr>\n",
       "  </tbody>\n",
       "</table>\n",
       "</div>"
      ],
      "text/plain": [
       "            crm  target\n",
       "department             \n",
       "1.0          68  254.75\n",
       "1.0          50  259.89\n",
       "1.0          95  431.65\n",
       "1.0         100  577.99\n",
       "1.0          50  222.67"
      ]
     },
     "execution_count": 48,
     "metadata": {},
     "output_type": "execute_result"
    }
   ],
   "source": [
    "gb = df.set_index('department')\n",
    "gb.loc[1].head()"
   ]
  },
  {
   "cell_type": "code",
   "execution_count": 49,
   "metadata": {
    "collapsed": true
   },
   "outputs": [],
   "source": [
    "names = ['slope', 'intercept', 'r_value', 'p_value', 'std_err']\n",
    "def linreg(df):\n",
    "    tup = stats.linregress(df.crm, df.target)\n",
    "    res = dict((k, v) for k, v in zip(names, tup))\n",
    "    return pd.Series(res)"
   ]
  },
  {
   "cell_type": "code",
   "execution_count": 50,
   "metadata": {
    "collapsed": false
   },
   "outputs": [],
   "source": [
    "linreg_coef = df.groupby('department').apply(linreg)[names]"
   ]
  },
  {
   "cell_type": "code",
   "execution_count": 51,
   "metadata": {
    "collapsed": false
   },
   "outputs": [
    {
     "data": {
      "text/html": [
       "<div>\n",
       "<table border=\"1\" class=\"dataframe\">\n",
       "  <thead>\n",
       "    <tr style=\"text-align: right;\">\n",
       "      <th></th>\n",
       "      <th>slope</th>\n",
       "      <th>intercept</th>\n",
       "      <th>r_value</th>\n",
       "      <th>p_value</th>\n",
       "      <th>std_err</th>\n",
       "    </tr>\n",
       "    <tr>\n",
       "      <th>department</th>\n",
       "      <th></th>\n",
       "      <th></th>\n",
       "      <th></th>\n",
       "      <th></th>\n",
       "      <th></th>\n",
       "    </tr>\n",
       "  </thead>\n",
       "  <tbody>\n",
       "    <tr>\n",
       "      <th>-1.0</th>\n",
       "      <td>4.191528</td>\n",
       "      <td>126.567500</td>\n",
       "      <td>0.996192</td>\n",
       "      <td>5.557769e-02</td>\n",
       "      <td>0.366858</td>\n",
       "    </tr>\n",
       "    <tr>\n",
       "      <th>1.0</th>\n",
       "      <td>3.979562</td>\n",
       "      <td>71.354886</td>\n",
       "      <td>0.707645</td>\n",
       "      <td>0.000000e+00</td>\n",
       "      <td>0.064518</td>\n",
       "    </tr>\n",
       "    <tr>\n",
       "      <th>2.0</th>\n",
       "      <td>3.695100</td>\n",
       "      <td>78.862787</td>\n",
       "      <td>0.707187</td>\n",
       "      <td>2.511544e-221</td>\n",
       "      <td>0.096849</td>\n",
       "    </tr>\n",
       "    <tr>\n",
       "      <th>3.0</th>\n",
       "      <td>3.364459</td>\n",
       "      <td>95.960800</td>\n",
       "      <td>0.692171</td>\n",
       "      <td>2.611755e-189</td>\n",
       "      <td>0.096522</td>\n",
       "    </tr>\n",
       "    <tr>\n",
       "      <th>4.0</th>\n",
       "      <td>3.045565</td>\n",
       "      <td>97.516267</td>\n",
       "      <td>0.663976</td>\n",
       "      <td>4.826496e-164</td>\n",
       "      <td>0.095792</td>\n",
       "    </tr>\n",
       "  </tbody>\n",
       "</table>\n",
       "</div>"
      ],
      "text/plain": [
       "               slope   intercept   r_value        p_value   std_err\n",
       "department                                                         \n",
       "-1.0        4.191528  126.567500  0.996192   5.557769e-02  0.366858\n",
       " 1.0        3.979562   71.354886  0.707645   0.000000e+00  0.064518\n",
       " 2.0        3.695100   78.862787  0.707187  2.511544e-221  0.096849\n",
       " 3.0        3.364459   95.960800  0.692171  2.611755e-189  0.096522\n",
       " 4.0        3.045565   97.516267  0.663976  4.826496e-164  0.095792"
      ]
     },
     "execution_count": 51,
     "metadata": {},
     "output_type": "execute_result"
    }
   ],
   "source": [
    "linreg_coef.head()"
   ]
  },
  {
   "cell_type": "code",
   "execution_count": 53,
   "metadata": {
    "collapsed": false
   },
   "outputs": [],
   "source": [
    "recount_table = pd.concat([df, linreg_coef.loc[df.department].reset_index().drop('department', axis=1).set_index(df.index)], axis=1)"
   ]
  },
  {
   "cell_type": "code",
   "execution_count": 54,
   "metadata": {
    "collapsed": false
   },
   "outputs": [
    {
     "data": {
      "text/html": [
       "<div>\n",
       "<table border=\"1\" class=\"dataframe\">\n",
       "  <thead>\n",
       "    <tr style=\"text-align: right;\">\n",
       "      <th></th>\n",
       "      <th>crm</th>\n",
       "      <th>target</th>\n",
       "      <th>department</th>\n",
       "      <th>slope</th>\n",
       "      <th>intercept</th>\n",
       "      <th>r_value</th>\n",
       "      <th>p_value</th>\n",
       "      <th>std_err</th>\n",
       "    </tr>\n",
       "    <tr>\n",
       "      <th>id</th>\n",
       "      <th></th>\n",
       "      <th></th>\n",
       "      <th></th>\n",
       "      <th></th>\n",
       "      <th></th>\n",
       "      <th></th>\n",
       "      <th></th>\n",
       "      <th></th>\n",
       "    </tr>\n",
       "  </thead>\n",
       "  <tbody>\n",
       "    <tr>\n",
       "      <th>1</th>\n",
       "      <td>68</td>\n",
       "      <td>254.75</td>\n",
       "      <td>1.0</td>\n",
       "      <td>3.979562</td>\n",
       "      <td>71.354886</td>\n",
       "      <td>0.707645</td>\n",
       "      <td>0.0</td>\n",
       "      <td>0.064518</td>\n",
       "    </tr>\n",
       "    <tr>\n",
       "      <th>2</th>\n",
       "      <td>50</td>\n",
       "      <td>259.89</td>\n",
       "      <td>1.0</td>\n",
       "      <td>3.979562</td>\n",
       "      <td>71.354886</td>\n",
       "      <td>0.707645</td>\n",
       "      <td>0.0</td>\n",
       "      <td>0.064518</td>\n",
       "    </tr>\n",
       "    <tr>\n",
       "      <th>3</th>\n",
       "      <td>95</td>\n",
       "      <td>431.65</td>\n",
       "      <td>1.0</td>\n",
       "      <td>3.979562</td>\n",
       "      <td>71.354886</td>\n",
       "      <td>0.707645</td>\n",
       "      <td>0.0</td>\n",
       "      <td>0.064518</td>\n",
       "    </tr>\n",
       "    <tr>\n",
       "      <th>4</th>\n",
       "      <td>100</td>\n",
       "      <td>577.99</td>\n",
       "      <td>1.0</td>\n",
       "      <td>3.979562</td>\n",
       "      <td>71.354886</td>\n",
       "      <td>0.707645</td>\n",
       "      <td>0.0</td>\n",
       "      <td>0.064518</td>\n",
       "    </tr>\n",
       "    <tr>\n",
       "      <th>5</th>\n",
       "      <td>50</td>\n",
       "      <td>222.67</td>\n",
       "      <td>1.0</td>\n",
       "      <td>3.979562</td>\n",
       "      <td>71.354886</td>\n",
       "      <td>0.707645</td>\n",
       "      <td>0.0</td>\n",
       "      <td>0.064518</td>\n",
       "    </tr>\n",
       "  </tbody>\n",
       "</table>\n",
       "</div>"
      ],
      "text/plain": [
       "    crm  target  department     slope  intercept   r_value  p_value   std_err\n",
       "id                                                                           \n",
       "1    68  254.75         1.0  3.979562  71.354886  0.707645      0.0  0.064518\n",
       "2    50  259.89         1.0  3.979562  71.354886  0.707645      0.0  0.064518\n",
       "3    95  431.65         1.0  3.979562  71.354886  0.707645      0.0  0.064518\n",
       "4   100  577.99         1.0  3.979562  71.354886  0.707645      0.0  0.064518\n",
       "5    50  222.67         1.0  3.979562  71.354886  0.707645      0.0  0.064518"
      ]
     },
     "execution_count": 54,
     "metadata": {},
     "output_type": "execute_result"
    }
   ],
   "source": [
    "recount_table.head()"
   ]
  },
  {
   "cell_type": "code",
   "execution_count": 60,
   "metadata": {
    "collapsed": false
   },
   "outputs": [],
   "source": [
    "delta = recount_table.target - recount_table.intercept - recount_table.slope * recount_table.crm\n",
    "delta = np.array(delta).reshape(y_train.shape)"
   ]
  },
  {
   "cell_type": "code",
   "execution_count": 69,
   "metadata": {
    "collapsed": false
   },
   "outputs": [],
   "source": [
    "def scorer(y_pred, test_index):\n",
    "    table = recount_table.iloc[test_index]\n",
    "    return mape(y_train[test_index][:, 0], y_pred + table.intercept + table.slope * table.crm)"
   ]
  },
  {
   "cell_type": "code",
   "execution_count": 73,
   "metadata": {
    "collapsed": false
   },
   "outputs": [
    {
     "name": "stdout",
     "output_type": "stream",
     "text": [
      "\n",
      "CPU times: user 25min 30s, sys: 536 ms, total: 25min 30s\n",
      "Wall time: 25min 31s\n"
     ]
    }
   ],
   "source": [
    "%%time\n",
    "mygs = grid_search(x_train, delta, scorer)"
   ]
  },
  {
   "cell_type": "code",
   "execution_count": 74,
   "metadata": {
    "collapsed": false,
    "scrolled": false
   },
   "outputs": [
    {
     "data": {
      "image/png": "[encoded data removed]",
      "text/plain": [
       "<matplotlib.figure.Figure at 0x7f775a299e10>"
      ]
     },
     "metadata": {},
     "output_type": "display_data"
    }
   ],
   "source": [
    "plot_quality(mygs, 'num_round')"
   ]
  },
  {
   "cell_type": "markdown",
   "metadata": {},
   "source": [
    "Збс, две десятые процента подняли"
   ]
  },
  {
   "cell_type": "code",
   "execution_count": 75,
   "metadata": {
    "collapsed": false
   },
   "outputs": [
    {
     "data": {
      "text/plain": [
       "{974}"
      ]
     },
     "execution_count": 75,
     "metadata": {},
     "output_type": "execute_result"
    }
   ],
   "source": [
    "set(dropped_test.department) - set(dropped_train.department)"
   ]
  },
  {
   "cell_type": "markdown",
   "metadata": {},
   "source": [
    "Надо придумать, какой intercept и slope использовать для департамента, которого нет в train'e"
   ]
  },
  {
   "cell_type": "code",
   "execution_count": 76,
   "metadata": {
    "collapsed": false
   },
   "outputs": [],
   "source": [
    "def stacking_target(x_train, y_train):\n",
    "    param =   {'base_score':0.5, 'colsample_bylevel':1, 'colsample_bytree':1, 'gamma':0,\n",
    "               'eta':0.15, 'max_delta_step':0, 'max_depth':9,\n",
    "               'min_child_weight':1, 'nthread':-1,\n",
    "               'objective':'reg:linear', 'alpha':0, 'lambda':1,\n",
    "               'scale_pos_weight':1, 'seed':56, 'silent':True, 'subsample':1}\n",
    "\n",
    "    num_round = 180\n",
    "    n_folds = 5\n",
    "    \n",
    "    y_pred = y_train[:, :]\n",
    "\n",
    "    label_kfold = LabelKFold(np.array(dropped_train['department']), n_folds=n_folds)\n",
    "\n",
    "    for train_index, test_index in tqdm_notebook(label_kfold, desc='fold'):\n",
    "        dtrain = xgb.DMatrix(x_train[train_index], \n",
    "                             label=y_train[train_index], \n",
    "                             missing=-9999,) \n",
    "        dvalidation = xgb.DMatrix(x_train[test_index], missing=-9999)\n",
    "        param['base_score'] = np.mean(y_train[train_index])\n",
    "        bst = xgb.train(param, dtrain, num_round)\n",
    "        y_pred[test_index, 0] = bst.predict(dvalidation)\n",
    "        gc.collect()\n",
    "    \n",
    "    return y_pred"
   ]
  },
  {
   "cell_type": "code",
   "execution_count": 77,
   "metadata": {
    "collapsed": false
   },
   "outputs": [
    {
     "name": "stdout",
     "output_type": "stream",
     "text": [
      "\n",
      "CPU times: user 27min 7s, sys: 892 ms, total: 27min 8s\n",
      "Wall time: 27min 8s\n"
     ]
    }
   ],
   "source": [
    "%%time\n",
    "delta_pred = stacking_target(x_train, delta)"
   ]
  },
  {
   "cell_type": "code",
   "execution_count": 78,
   "metadata": {
    "collapsed": false
   },
   "outputs": [
    {
     "data": {
      "text/html": [
       "<div>\n",
       "<table border=\"1\" class=\"dataframe\">\n",
       "  <thead>\n",
       "    <tr style=\"text-align: right;\">\n",
       "      <th></th>\n",
       "      <th>id</th>\n",
       "      <th>crm</th>\n",
       "      <th>target</th>\n",
       "      <th>department</th>\n",
       "      <th>slope</th>\n",
       "      <th>intercept</th>\n",
       "      <th>r_value</th>\n",
       "      <th>p_value</th>\n",
       "      <th>std_err</th>\n",
       "    </tr>\n",
       "  </thead>\n",
       "  <tbody>\n",
       "    <tr>\n",
       "      <th>0</th>\n",
       "      <td>1</td>\n",
       "      <td>68</td>\n",
       "      <td>254.75</td>\n",
       "      <td>1.0</td>\n",
       "      <td>3.979562</td>\n",
       "      <td>71.354886</td>\n",
       "      <td>0.707645</td>\n",
       "      <td>0.0</td>\n",
       "      <td>0.064518</td>\n",
       "    </tr>\n",
       "    <tr>\n",
       "      <th>1</th>\n",
       "      <td>2</td>\n",
       "      <td>50</td>\n",
       "      <td>259.89</td>\n",
       "      <td>1.0</td>\n",
       "      <td>3.979562</td>\n",
       "      <td>71.354886</td>\n",
       "      <td>0.707645</td>\n",
       "      <td>0.0</td>\n",
       "      <td>0.064518</td>\n",
       "    </tr>\n",
       "    <tr>\n",
       "      <th>2</th>\n",
       "      <td>3</td>\n",
       "      <td>95</td>\n",
       "      <td>431.65</td>\n",
       "      <td>1.0</td>\n",
       "      <td>3.979562</td>\n",
       "      <td>71.354886</td>\n",
       "      <td>0.707645</td>\n",
       "      <td>0.0</td>\n",
       "      <td>0.064518</td>\n",
       "    </tr>\n",
       "    <tr>\n",
       "      <th>3</th>\n",
       "      <td>4</td>\n",
       "      <td>100</td>\n",
       "      <td>577.99</td>\n",
       "      <td>1.0</td>\n",
       "      <td>3.979562</td>\n",
       "      <td>71.354886</td>\n",
       "      <td>0.707645</td>\n",
       "      <td>0.0</td>\n",
       "      <td>0.064518</td>\n",
       "    </tr>\n",
       "    <tr>\n",
       "      <th>4</th>\n",
       "      <td>5</td>\n",
       "      <td>50</td>\n",
       "      <td>222.67</td>\n",
       "      <td>1.0</td>\n",
       "      <td>3.979562</td>\n",
       "      <td>71.354886</td>\n",
       "      <td>0.707645</td>\n",
       "      <td>0.0</td>\n",
       "      <td>0.064518</td>\n",
       "    </tr>\n",
       "  </tbody>\n",
       "</table>\n",
       "</div>"
      ],
      "text/plain": [
       "   id  crm  target  department     slope  intercept   r_value  p_value  \\\n",
       "0   1   68  254.75         1.0  3.979562  71.354886  0.707645      0.0   \n",
       "1   2   50  259.89         1.0  3.979562  71.354886  0.707645      0.0   \n",
       "2   3   95  431.65         1.0  3.979562  71.354886  0.707645      0.0   \n",
       "3   4  100  577.99         1.0  3.979562  71.354886  0.707645      0.0   \n",
       "4   5   50  222.67         1.0  3.979562  71.354886  0.707645      0.0   \n",
       "\n",
       "    std_err  \n",
       "0  0.064518  \n",
       "1  0.064518  \n",
       "2  0.064518  \n",
       "3  0.064518  \n",
       "4  0.064518  "
      ]
     },
     "execution_count": 78,
     "metadata": {},
     "output_type": "execute_result"
    }
   ],
   "source": [
    "recount_table.reset_index().head()"
   ]
  },
  {
   "cell_type": "code",
   "execution_count": 98,
   "metadata": {
    "collapsed": false
   },
   "outputs": [],
   "source": [
    "table = recount_table.reset_index()\n",
    "onex = delta_pred[:, 0] + table.intercept + table.slope * table.crm"
   ]
  },
  {
   "cell_type": "code",
   "execution_count": 99,
   "metadata": {
    "collapsed": false
   },
   "outputs": [],
   "source": [
    "onex = np.array(onex).reshape(y_train.shape)"
   ]
  },
  {
   "cell_type": "code",
   "execution_count": 92,
   "metadata": {
    "collapsed": false
   },
   "outputs": [
    {
     "name": "stdout",
     "output_type": "stream",
     "text": [
      "CPU times: user 2.65 s, sys: 92 ms, total: 2.74 s\n",
      "Wall time: 2.74 s\n"
     ]
    }
   ],
   "source": [
    "%%time\n",
    "\n",
    "n_folds = 10\n",
    "label_kfold = LabelKFold(np.array(dropped_train['department']), n_folds=n_folds)\n",
    "weight_list = [w for w in np.arange(0.8, 1.2, 0.005)\n",
    "               ]\n",
    "scores = [-100 for i in range(n_folds)]\n",
    "train_scores = [-100 for i in range(n_folds)]\n",
    "weights = [0 for i in range(n_folds)]\n",
    "\n",
    "for fold_index, (train_index, test_index) in enumerate(label_kfold):\n",
    "    X = onex[train_index]\n",
    "    y = y_train[train_index][:, 0]\n",
    "    X_validation = onex[test_index]\n",
    "    y_validation = y_train[test_index][:, 0]\n",
    "    good_score = -np.Inf\n",
    "    good_weight = None\n",
    "    for weight in weight_list:\n",
    "        y_pred = X[:, 0] * weight\n",
    "        score = mape(y, y_pred)\n",
    "        if score > good_score:\n",
    "            good_score = score\n",
    "            good_weight = weight\n",
    "    y_pred = X_validation[:, 0] * good_weight\n",
    "    scores[fold_index] = mape(y_validation, y_pred)\n",
    "    train_scores[fold_index] = good_score\n",
    "    weights[fold_index] = good_weight   "
   ]
  },
  {
   "cell_type": "code",
   "execution_count": 93,
   "metadata": {
    "collapsed": false
   },
   "outputs": [
    {
     "data": {
      "text/plain": [
       "[<matplotlib.lines.Line2D at 0x7f775a1e8240>]"
      ]
     },
     "execution_count": 93,
     "metadata": {},
     "output_type": "execute_result"
    },
    {
     "data": {
      "image/png": "[encoded data removed]",
      "text/plain": [
       "<matplotlib.figure.Figure at 0x7f775b7766a0>"
      ]
     },
     "metadata": {},
     "output_type": "display_data"
    }
   ],
   "source": [
    "plt.plot(train_scores)\n",
    "mean = np.mean(train_scores)\n",
    "plt.plot([mean for i in train_scores])"
   ]
  },
  {
   "cell_type": "code",
   "execution_count": 94,
   "metadata": {
    "collapsed": false
   },
   "outputs": [
    {
     "data": {
      "text/plain": [
       "[<matplotlib.lines.Line2D at 0x7f775a1bdd68>]"
      ]
     },
     "execution_count": 94,
     "metadata": {},
     "output_type": "execute_result"
    },
    {
     "data": {
      "image/png": "[encoded data removed]",
      "text/plain": [
       "<matplotlib.figure.Figure at 0x7f775a1bdac8>"
      ]
     },
     "metadata": {},
     "output_type": "display_data"
    }
   ],
   "source": [
    "plt.plot(scores)\n",
    "mean = np.mean(scores)\n",
    "plt.plot([mean for i in scores])"
   ]
  },
  {
   "cell_type": "code",
   "execution_count": 95,
   "metadata": {
    "collapsed": false
   },
   "outputs": [
    {
     "data": {
      "text/plain": [
       "[0.99000000000000021,\n",
       " 0.99000000000000021,\n",
       " 0.99000000000000021,\n",
       " 0.99000000000000021,\n",
       " 0.99000000000000021,\n",
       " 0.99000000000000021,\n",
       " 0.99000000000000021,\n",
       " 0.99000000000000021,\n",
       " 0.99000000000000021,\n",
       " 0.99500000000000022]"
      ]
     },
     "execution_count": 95,
     "metadata": {},
     "output_type": "execute_result"
    }
   ],
   "source": [
    "weights"
   ]
  },
  {
   "cell_type": "code",
   "execution_count": 96,
   "metadata": {
    "collapsed": false
   },
   "outputs": [
    {
     "data": {
      "text/plain": [
       "-8.6420027756375841"
      ]
     },
     "execution_count": 96,
     "metadata": {},
     "output_type": "execute_result"
    }
   ],
   "source": [
    "mean"
   ]
  },
  {
   "cell_type": "markdown",
   "metadata": {},
   "source": [
    "# Save"
   ]
  },
  {
   "cell_type": "code",
   "execution_count": 101,
   "metadata": {
    "collapsed": false
   },
   "outputs": [],
   "source": [
    "save_to_file_stacking(onex * 0.99, 'xbg_with_size_divided.csv')"
   ]
  },
  {
   "cell_type": "code",
   "execution_count": 102,
   "metadata": {
    "collapsed": false
   },
   "outputs": [],
   "source": [
    "def test_target(x_train, y_train, x_test):\n",
    "    param =   {'base_score':0.5, 'colsample_bylevel':1, 'colsample_bytree':1, 'gamma':0,\n",
    "               'eta':0.15, 'max_delta_step':0, 'max_depth':9,\n",
    "               'min_child_weight':1, 'nthread':-1,\n",
    "               'objective':'reg:linear', 'alpha':0, 'lambda':1,\n",
    "               'scale_pos_weight':1, 'seed':56, 'silent':True, 'subsample':1}\n",
    "\n",
    "    num_round = 180\n",
    "    dtrain = xgb.DMatrix(x_train, \n",
    "                         label=y_train, \n",
    "                         missing=-9999,) \n",
    "    dtest = xgb.DMatrix(x_test, missing=-9999)\n",
    "    param['base_score'] = np.mean(y_train)\n",
    "    bst = xgb.train(param, dtrain, num_round)\n",
    "    y_pred = bst.predict(dtest)\n",
    "    gc.collect()\n",
    "    \n",
    "    return y_pred"
   ]
  },
  {
   "cell_type": "code",
   "execution_count": 103,
   "metadata": {
    "collapsed": false
   },
   "outputs": [
    {
     "name": "stdout",
     "output_type": "stream",
     "text": [
      "CPU times: user 7min 26s, sys: 228 ms, total: 7min 26s\n",
      "Wall time: 7min 27s\n"
     ]
    }
   ],
   "source": [
    "%%time\n",
    "delta_pred = test_target(x_train, delta, x_test)"
   ]
  },
  {
   "cell_type": "code",
   "execution_count": 106,
   "metadata": {
    "collapsed": false
   },
   "outputs": [
    {
     "data": {
      "text/html": [
       "<div>\n",
       "<table border=\"1\" class=\"dataframe\">\n",
       "  <thead>\n",
       "    <tr style=\"text-align: right;\">\n",
       "      <th></th>\n",
       "      <th>slope</th>\n",
       "      <th>intercept</th>\n",
       "      <th>r_value</th>\n",
       "      <th>p_value</th>\n",
       "      <th>std_err</th>\n",
       "    </tr>\n",
       "    <tr>\n",
       "      <th>department</th>\n",
       "      <th></th>\n",
       "      <th></th>\n",
       "      <th></th>\n",
       "      <th></th>\n",
       "      <th></th>\n",
       "    </tr>\n",
       "  </thead>\n",
       "  <tbody>\n",
       "    <tr>\n",
       "      <th>971</th>\n",
       "      <td>3.456195</td>\n",
       "      <td>75.761862</td>\n",
       "      <td>0.712962</td>\n",
       "      <td>0.0</td>\n",
       "      <td>0.055905</td>\n",
       "    </tr>\n",
       "    <tr>\n",
       "      <th>1</th>\n",
       "      <td>3.979562</td>\n",
       "      <td>71.354886</td>\n",
       "      <td>0.707645</td>\n",
       "      <td>0.0</td>\n",
       "      <td>0.064518</td>\n",
       "    </tr>\n",
       "    <tr>\n",
       "      <th>974</th>\n",
       "      <td>NaN</td>\n",
       "      <td>NaN</td>\n",
       "      <td>NaN</td>\n",
       "      <td>NaN</td>\n",
       "      <td>NaN</td>\n",
       "    </tr>\n",
       "  </tbody>\n",
       "</table>\n",
       "</div>"
      ],
      "text/plain": [
       "               slope  intercept   r_value  p_value   std_err\n",
       "department                                                  \n",
       "971         3.456195  75.761862  0.712962      0.0  0.055905\n",
       "1           3.979562  71.354886  0.707645      0.0  0.064518\n",
       "974              NaN        NaN       NaN      NaN       NaN"
      ]
     },
     "execution_count": 106,
     "metadata": {},
     "output_type": "execute_result"
    }
   ],
   "source": [
    "linreg_coef.loc[dropped_test.department.unique()]"
   ]
  },
  {
   "cell_type": "code",
   "execution_count": 109,
   "metadata": {
    "collapsed": false
   },
   "outputs": [
    {
     "data": {
      "text/plain": [
       "slope         3.412184\n",
       "intercept    96.561713\n",
       "r_value       0.677539\n",
       "p_value       0.000573\n",
       "std_err       0.082011\n",
       "dtype: float64"
      ]
     },
     "execution_count": 109,
     "metadata": {},
     "output_type": "execute_result"
    }
   ],
   "source": [
    "linreg_coef.mean()"
   ]
  },
  {
   "cell_type": "markdown",
   "metadata": {},
   "source": [
    "Можно заменить статистику для 974 значениями 971 или средними значениями. Проверим оба способа на лидерборде"
   ]
  },
  {
   "cell_type": "code",
   "execution_count": 111,
   "metadata": {
    "collapsed": false
   },
   "outputs": [
    {
     "data": {
      "text/plain": [
       "slope         3.412184\n",
       "intercept    96.561713\n",
       "r_value       0.677539\n",
       "p_value       0.000573\n",
       "std_err       0.082011\n",
       "dtype: float64"
      ]
     },
     "execution_count": 111,
     "metadata": {},
     "output_type": "execute_result"
    }
   ],
   "source": [
    "mean_row = linreg_coef.mean()\n",
    "mean_row"
   ]
  },
  {
   "cell_type": "code",
   "execution_count": 112,
   "metadata": {
    "collapsed": false
   },
   "outputs": [
    {
     "data": {
      "text/plain": [
       "slope         3.456195\n",
       "intercept    75.761862\n",
       "r_value       0.712962\n",
       "p_value       0.000000\n",
       "std_err       0.055905\n",
       "Name: 971.0, dtype: float64"
      ]
     },
     "execution_count": 112,
     "metadata": {},
     "output_type": "execute_result"
    }
   ],
   "source": [
    "row_971 = linreg_coef.loc[971]\n",
    "row_971"
   ]
  },
  {
   "cell_type": "code",
   "execution_count": 118,
   "metadata": {
    "collapsed": true
   },
   "outputs": [],
   "source": [
    "linreg_coef.loc[974] = row_971"
   ]
  },
  {
   "cell_type": "code",
   "execution_count": 121,
   "metadata": {
    "collapsed": false
   },
   "outputs": [
    {
     "data": {
      "text/plain": [
       "slope         3.456195\n",
       "intercept    75.761862\n",
       "r_value       0.712962\n",
       "p_value       0.000000\n",
       "std_err       0.055905\n",
       "Name: 974.0, dtype: float64"
      ]
     },
     "execution_count": 121,
     "metadata": {},
     "output_type": "execute_result"
    }
   ],
   "source": [
    "linreg_coef.loc[974]"
   ]
  },
  {
   "cell_type": "code",
   "execution_count": 124,
   "metadata": {
    "collapsed": false
   },
   "outputs": [],
   "source": [
    "test_table = linreg_coef.loc[dropped_test.department].reset_index().set_index(dropped_test.index)"
   ]
  },
  {
   "cell_type": "code",
   "execution_count": 130,
   "metadata": {
    "collapsed": false
   },
   "outputs": [
    {
     "data": {
      "text/html": [
       "<div>\n",
       "<table border=\"1\" class=\"dataframe\">\n",
       "  <thead>\n",
       "    <tr style=\"text-align: right;\">\n",
       "      <th></th>\n",
       "      <th>department</th>\n",
       "      <th>slope</th>\n",
       "      <th>intercept</th>\n",
       "      <th>r_value</th>\n",
       "      <th>p_value</th>\n",
       "      <th>std_err</th>\n",
       "    </tr>\n",
       "    <tr>\n",
       "      <th>id</th>\n",
       "      <th></th>\n",
       "      <th></th>\n",
       "      <th></th>\n",
       "      <th></th>\n",
       "      <th></th>\n",
       "      <th></th>\n",
       "    </tr>\n",
       "  </thead>\n",
       "  <tbody>\n",
       "    <tr>\n",
       "      <th>300001</th>\n",
       "      <td>971.0</td>\n",
       "      <td>3.456195</td>\n",
       "      <td>75.761862</td>\n",
       "      <td>0.712962</td>\n",
       "      <td>0.0</td>\n",
       "      <td>0.055905</td>\n",
       "    </tr>\n",
       "    <tr>\n",
       "      <th>300002</th>\n",
       "      <td>971.0</td>\n",
       "      <td>3.456195</td>\n",
       "      <td>75.761862</td>\n",
       "      <td>0.712962</td>\n",
       "      <td>0.0</td>\n",
       "      <td>0.055905</td>\n",
       "    </tr>\n",
       "    <tr>\n",
       "      <th>300003</th>\n",
       "      <td>971.0</td>\n",
       "      <td>3.456195</td>\n",
       "      <td>75.761862</td>\n",
       "      <td>0.712962</td>\n",
       "      <td>0.0</td>\n",
       "      <td>0.055905</td>\n",
       "    </tr>\n",
       "    <tr>\n",
       "      <th>300004</th>\n",
       "      <td>971.0</td>\n",
       "      <td>3.456195</td>\n",
       "      <td>75.761862</td>\n",
       "      <td>0.712962</td>\n",
       "      <td>0.0</td>\n",
       "      <td>0.055905</td>\n",
       "    </tr>\n",
       "    <tr>\n",
       "      <th>300005</th>\n",
       "      <td>971.0</td>\n",
       "      <td>3.456195</td>\n",
       "      <td>75.761862</td>\n",
       "      <td>0.712962</td>\n",
       "      <td>0.0</td>\n",
       "      <td>0.055905</td>\n",
       "    </tr>\n",
       "  </tbody>\n",
       "</table>\n",
       "</div>"
      ],
      "text/plain": [
       "        department     slope  intercept   r_value  p_value   std_err\n",
       "id                                                                  \n",
       "300001       971.0  3.456195  75.761862  0.712962      0.0  0.055905\n",
       "300002       971.0  3.456195  75.761862  0.712962      0.0  0.055905\n",
       "300003       971.0  3.456195  75.761862  0.712962      0.0  0.055905\n",
       "300004       971.0  3.456195  75.761862  0.712962      0.0  0.055905\n",
       "300005       971.0  3.456195  75.761862  0.712962      0.0  0.055905"
      ]
     },
     "execution_count": 130,
     "metadata": {},
     "output_type": "execute_result"
    }
   ],
   "source": [
    "test_table.head()"
   ]
  },
  {
   "cell_type": "code",
   "execution_count": 132,
   "metadata": {
    "collapsed": false
   },
   "outputs": [
    {
     "data": {
      "text/html": [
       "<div>\n",
       "<table border=\"1\" class=\"dataframe\">\n",
       "  <thead>\n",
       "    <tr style=\"text-align: right;\">\n",
       "      <th></th>\n",
       "      <th>department</th>\n",
       "      <th>slope</th>\n",
       "      <th>intercept</th>\n",
       "      <th>r_value</th>\n",
       "      <th>p_value</th>\n",
       "      <th>std_err</th>\n",
       "      <th>crm</th>\n",
       "    </tr>\n",
       "    <tr>\n",
       "      <th>id</th>\n",
       "      <th></th>\n",
       "      <th></th>\n",
       "      <th></th>\n",
       "      <th></th>\n",
       "      <th></th>\n",
       "      <th></th>\n",
       "      <th></th>\n",
       "    </tr>\n",
       "  </thead>\n",
       "  <tbody>\n",
       "    <tr>\n",
       "      <th>300001</th>\n",
       "      <td>971.0</td>\n",
       "      <td>3.456195</td>\n",
       "      <td>75.761862</td>\n",
       "      <td>0.712962</td>\n",
       "      <td>0.0</td>\n",
       "      <td>0.055905</td>\n",
       "      <td>88</td>\n",
       "    </tr>\n",
       "    <tr>\n",
       "      <th>300002</th>\n",
       "      <td>971.0</td>\n",
       "      <td>3.456195</td>\n",
       "      <td>75.761862</td>\n",
       "      <td>0.712962</td>\n",
       "      <td>0.0</td>\n",
       "      <td>0.055905</td>\n",
       "      <td>50</td>\n",
       "    </tr>\n",
       "    <tr>\n",
       "      <th>300003</th>\n",
       "      <td>971.0</td>\n",
       "      <td>3.456195</td>\n",
       "      <td>75.761862</td>\n",
       "      <td>0.712962</td>\n",
       "      <td>0.0</td>\n",
       "      <td>0.055905</td>\n",
       "      <td>50</td>\n",
       "    </tr>\n",
       "    <tr>\n",
       "      <th>300004</th>\n",
       "      <td>971.0</td>\n",
       "      <td>3.456195</td>\n",
       "      <td>75.761862</td>\n",
       "      <td>0.712962</td>\n",
       "      <td>0.0</td>\n",
       "      <td>0.055905</td>\n",
       "      <td>68</td>\n",
       "    </tr>\n",
       "    <tr>\n",
       "      <th>300005</th>\n",
       "      <td>971.0</td>\n",
       "      <td>3.456195</td>\n",
       "      <td>75.761862</td>\n",
       "      <td>0.712962</td>\n",
       "      <td>0.0</td>\n",
       "      <td>0.055905</td>\n",
       "      <td>50</td>\n",
       "    </tr>\n",
       "  </tbody>\n",
       "</table>\n",
       "</div>"
      ],
      "text/plain": [
       "        department     slope  intercept   r_value  p_value   std_err  crm\n",
       "id                                                                       \n",
       "300001       971.0  3.456195  75.761862  0.712962      0.0  0.055905   88\n",
       "300002       971.0  3.456195  75.761862  0.712962      0.0  0.055905   50\n",
       "300003       971.0  3.456195  75.761862  0.712962      0.0  0.055905   50\n",
       "300004       971.0  3.456195  75.761862  0.712962      0.0  0.055905   68\n",
       "300005       971.0  3.456195  75.761862  0.712962      0.0  0.055905   50"
      ]
     },
     "execution_count": 132,
     "metadata": {},
     "output_type": "execute_result"
    }
   ],
   "source": [
    "test_table = pd.concat([test_table, test.crm], axis=1)\n",
    "test_table.head()"
   ]
  },
  {
   "cell_type": "code",
   "execution_count": 133,
   "metadata": {
    "collapsed": false
   },
   "outputs": [],
   "source": [
    "reset_table = test_table.reset_index()\n",
    "y_pred = delta_pred + reset_table.intercept + reset_table.slope * reset_table.crm"
   ]
  },
  {
   "cell_type": "code",
   "execution_count": 134,
   "metadata": {
    "collapsed": false
   },
   "outputs": [],
   "source": [
    "save_to_file(y_pred * 0.99, 'xbg_with_size_divided_971.csv')"
   ]
  },
  {
   "cell_type": "markdown",
   "metadata": {},
   "source": [
    "12.88 на лидерборде"
   ]
  },
  {
   "cell_type": "code",
   "execution_count": 135,
   "metadata": {
    "collapsed": true
   },
   "outputs": [],
   "source": [
    "linreg_coef.loc[974] = mean_row"
   ]
  },
  {
   "cell_type": "code",
   "execution_count": 136,
   "metadata": {
    "collapsed": false
   },
   "outputs": [],
   "source": [
    "test_table = linreg_coef.loc[dropped_test.department].reset_index().set_index(dropped_test.index)"
   ]
  },
  {
   "cell_type": "code",
   "execution_count": 137,
   "metadata": {
    "collapsed": false
   },
   "outputs": [
    {
     "data": {
      "text/html": [
       "<div>\n",
       "<table border=\"1\" class=\"dataframe\">\n",
       "  <thead>\n",
       "    <tr style=\"text-align: right;\">\n",
       "      <th></th>\n",
       "      <th>department</th>\n",
       "      <th>slope</th>\n",
       "      <th>intercept</th>\n",
       "      <th>r_value</th>\n",
       "      <th>p_value</th>\n",
       "      <th>std_err</th>\n",
       "      <th>crm</th>\n",
       "    </tr>\n",
       "    <tr>\n",
       "      <th>id</th>\n",
       "      <th></th>\n",
       "      <th></th>\n",
       "      <th></th>\n",
       "      <th></th>\n",
       "      <th></th>\n",
       "      <th></th>\n",
       "      <th></th>\n",
       "    </tr>\n",
       "  </thead>\n",
       "  <tbody>\n",
       "    <tr>\n",
       "      <th>300001</th>\n",
       "      <td>971.0</td>\n",
       "      <td>3.456195</td>\n",
       "      <td>75.761862</td>\n",
       "      <td>0.712962</td>\n",
       "      <td>0.0</td>\n",
       "      <td>0.055905</td>\n",
       "      <td>88</td>\n",
       "    </tr>\n",
       "    <tr>\n",
       "      <th>300002</th>\n",
       "      <td>971.0</td>\n",
       "      <td>3.456195</td>\n",
       "      <td>75.761862</td>\n",
       "      <td>0.712962</td>\n",
       "      <td>0.0</td>\n",
       "      <td>0.055905</td>\n",
       "      <td>50</td>\n",
       "    </tr>\n",
       "    <tr>\n",
       "      <th>300003</th>\n",
       "      <td>971.0</td>\n",
       "      <td>3.456195</td>\n",
       "      <td>75.761862</td>\n",
       "      <td>0.712962</td>\n",
       "      <td>0.0</td>\n",
       "      <td>0.055905</td>\n",
       "      <td>50</td>\n",
       "    </tr>\n",
       "    <tr>\n",
       "      <th>300004</th>\n",
       "      <td>971.0</td>\n",
       "      <td>3.456195</td>\n",
       "      <td>75.761862</td>\n",
       "      <td>0.712962</td>\n",
       "      <td>0.0</td>\n",
       "      <td>0.055905</td>\n",
       "      <td>68</td>\n",
       "    </tr>\n",
       "    <tr>\n",
       "      <th>300005</th>\n",
       "      <td>971.0</td>\n",
       "      <td>3.456195</td>\n",
       "      <td>75.761862</td>\n",
       "      <td>0.712962</td>\n",
       "      <td>0.0</td>\n",
       "      <td>0.055905</td>\n",
       "      <td>50</td>\n",
       "    </tr>\n",
       "  </tbody>\n",
       "</table>\n",
       "</div>"
      ],
      "text/plain": [
       "        department     slope  intercept   r_value  p_value   std_err  crm\n",
       "id                                                                       \n",
       "300001       971.0  3.456195  75.761862  0.712962      0.0  0.055905   88\n",
       "300002       971.0  3.456195  75.761862  0.712962      0.0  0.055905   50\n",
       "300003       971.0  3.456195  75.761862  0.712962      0.0  0.055905   50\n",
       "300004       971.0  3.456195  75.761862  0.712962      0.0  0.055905   68\n",
       "300005       971.0  3.456195  75.761862  0.712962      0.0  0.055905   50"
      ]
     },
     "execution_count": 137,
     "metadata": {},
     "output_type": "execute_result"
    }
   ],
   "source": [
    "test_table = pd.concat([test_table, test.crm], axis=1)\n",
    "test_table.head()"
   ]
  },
  {
   "cell_type": "code",
   "execution_count": 138,
   "metadata": {
    "collapsed": false
   },
   "outputs": [],
   "source": [
    "reset_table = test_table.reset_index()\n",
    "y_pred = delta_pred + reset_table.intercept + reset_table.slope * reset_table.crm"
   ]
  },
  {
   "cell_type": "code",
   "execution_count": 139,
   "metadata": {
    "collapsed": false
   },
   "outputs": [],
   "source": [
    "save_to_file(y_pred * 0.99, 'xbg_with_size_divided_mean.csv')"
   ]
  },
  {
   "cell_type": "code",
   "execution_count": null,
   "metadata": {
    "collapsed": true
   },
   "outputs": [],
   "source": []
  },
  {
   "cell_type": "code",
   "execution_count": null,
   "metadata": {
    "collapsed": true
   },
   "outputs": [],
   "source": []
  },
  {
   "cell_type": "code",
   "execution_count": null,
   "metadata": {
    "collapsed": true
   },
   "outputs": [],
   "source": []
  },
  {
   "cell_type": "code",
   "execution_count": null,
   "metadata": {
    "collapsed": true
   },
   "outputs": [],
   "source": []
  }
 ],
 "metadata": {
  "kernelspec": {
   "display_name": "Python 3",
   "language": "python",
   "name": "python3"
  },
  "language_info": {
   "codemirror_mode": {
    "name": "ipython",
    "version": 3
   },
   "file_extension": ".py",
   "mimetype": "text/x-python",
   "name": "python",
   "nbconvert_exporter": "python",
   "pygments_lexer": "ipython3",
   "version": "3.4.3"
  },
  "widgets": {
   "state": {
    "1da255cf2c1a4b27be669c24b4cbcb3b": {
     "views": [
      {
       "cell_index": 60
      }
     ]
    },
    "b6045ff3e3b34f36afeaa06edff7ae69": {
     "views": [
      {
       "cell_index": 66
      }
     ]
    }
   },
   "version": "1.2.0"
  }
 },
 "nbformat": 4,
 "nbformat_minor": 0
}
