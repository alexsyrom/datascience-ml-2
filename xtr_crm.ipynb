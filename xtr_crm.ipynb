{
 "cells": [
  {
   "cell_type": "code",
   "execution_count": 202,
   "metadata": {
    "collapsed": false
   },
   "outputs": [],
   "source": [
    "%matplotlib inline\n",
    "import matplotlib.pyplot as plt\n",
    "import numpy as np\n",
    "import pandas as pd\n",
    "import seaborn as sns\n",
    "from tqdm import tnrange, tqdm_notebook\n",
    "import gc\n",
    "import operator"
   ]
  },
  {
   "cell_type": "code",
   "execution_count": 3,
   "metadata": {
    "collapsed": true
   },
   "outputs": [],
   "source": [
    "from scipy import stats"
   ]
  },
  {
   "cell_type": "code",
   "execution_count": 203,
   "metadata": {
    "collapsed": false
   },
   "outputs": [],
   "source": [
    "sns.set_context('talk')"
   ]
  },
  {
   "cell_type": "code",
   "execution_count": 5,
   "metadata": {
    "collapsed": true
   },
   "outputs": [],
   "source": [
    "pd.set_option('display.max_columns', 500)"
   ]
  },
  {
   "cell_type": "code",
   "execution_count": 6,
   "metadata": {
    "collapsed": true
   },
   "outputs": [],
   "source": [
    "import warnings\n",
    "warnings.filterwarnings('ignore', message='Changing the shape of non-C contiguous array')"
   ]
  },
  {
   "cell_type": "markdown",
   "metadata": {},
   "source": [
    "# Read the data"
   ]
  },
  {
   "cell_type": "code",
   "execution_count": 7,
   "metadata": {
    "collapsed": false
   },
   "outputs": [],
   "source": [
    "dfXtrain = pd.read_csv('preprocessed_csv/train_tree.csv', index_col='id', sep=';')\n",
    "dfXtest = pd.read_csv('preprocessed_csv/test_tree.csv', index_col='id', sep=';')\n",
    "dfYtrain = pd.read_csv('preprocessed_csv/y_train_tree.csv', header=None, names=['ID', 'COTIS'], sep=';')"
   ]
  },
  {
   "cell_type": "code",
   "execution_count": 8,
   "metadata": {
    "collapsed": false
   },
   "outputs": [],
   "source": [
    "dfYtrain = dfYtrain.set_index('ID')"
   ]
  },
  {
   "cell_type": "markdown",
   "metadata": {},
   "source": [
    "# Preprocessing"
   ]
  },
  {
   "cell_type": "markdown",
   "metadata": {},
   "source": [
    "Заполним пропуски в департаменте"
   ]
  },
  {
   "cell_type": "code",
   "execution_count": 9,
   "metadata": {
    "collapsed": false
   },
   "outputs": [],
   "source": [
    "dfXtrain.department = dfXtrain.department.fillna(method='ffill')\n",
    "dfXtrain.subreg = dfXtrain.subreg.fillna(method='ffill')"
   ]
  },
  {
   "cell_type": "markdown",
   "metadata": {},
   "source": [
    "Вынесем var14, department и subreg."
   ]
  },
  {
   "cell_type": "code",
   "execution_count": 10,
   "metadata": {
    "collapsed": true
   },
   "outputs": [],
   "source": [
    "dropped_col_names = ['var14', 'department', 'subreg'] \n",
    "\n",
    "def drop_cols(df):\n",
    "    return df.drop(dropped_col_names, axis=1), df[dropped_col_names]"
   ]
  },
  {
   "cell_type": "code",
   "execution_count": 11,
   "metadata": {
    "collapsed": false
   },
   "outputs": [],
   "source": [
    "train, dropped_train = drop_cols(dfXtrain)\n",
    "test, dropped_test = drop_cols(dfXtest)"
   ]
  },
  {
   "cell_type": "code",
   "execution_count": 12,
   "metadata": {
    "collapsed": false
   },
   "outputs": [
    {
     "data": {
      "text/plain": [
       "var14         0\n",
       "department    0\n",
       "subreg        0\n",
       "dtype: int64"
      ]
     },
     "execution_count": 12,
     "metadata": {},
     "output_type": "execute_result"
    }
   ],
   "source": [
    "dropped_train.isnull().sum()"
   ]
  },
  {
   "cell_type": "markdown",
   "metadata": {},
   "source": [
    "Декодируем оставшиеся категориальные признаки"
   ]
  },
  {
   "cell_type": "code",
   "execution_count": 13,
   "metadata": {
    "collapsed": false
   },
   "outputs": [
    {
     "data": {
      "text/plain": [
       "['marque', 'energie_veh', 'profession', 'var6', 'var8']"
      ]
     },
     "execution_count": 13,
     "metadata": {},
     "output_type": "execute_result"
    }
   ],
   "source": [
    "categorical = list(train.select_dtypes(exclude=[np.number]).columns)\n",
    "categorical"
   ]
  },
  {
   "cell_type": "code",
   "execution_count": 14,
   "metadata": {
    "collapsed": false
   },
   "outputs": [
    {
     "data": {
      "text/plain": [
       "['marque', 'energie_veh', 'profession', 'var6', 'var8']"
      ]
     },
     "execution_count": 14,
     "metadata": {},
     "output_type": "execute_result"
    }
   ],
   "source": [
    "list(test.select_dtypes(exclude=[np.number]).columns)"
   ]
  },
  {
   "cell_type": "code",
   "execution_count": 15,
   "metadata": {
    "collapsed": false
   },
   "outputs": [
    {
     "name": "stdout",
     "output_type": "stream",
     "text": [
      "marque 154\n",
      "energie_veh 5\n",
      "profession 17\n",
      "var6 5\n",
      "var8 23\n"
     ]
    }
   ],
   "source": [
    "for col in categorical:\n",
    "    print(col, train[col].nunique())"
   ]
  },
  {
   "cell_type": "markdown",
   "metadata": {},
   "source": [
    "energie_veh и var6 с помощью get_dummies"
   ]
  },
  {
   "cell_type": "code",
   "execution_count": 16,
   "metadata": {
    "collapsed": true
   },
   "outputs": [],
   "source": [
    "small_cat = ['energie_veh', 'var6']"
   ]
  },
  {
   "cell_type": "code",
   "execution_count": 17,
   "metadata": {
    "collapsed": true
   },
   "outputs": [],
   "source": [
    "train = pd.get_dummies(train, columns=small_cat)\n",
    "test = pd.get_dummies(test, columns=small_cat)"
   ]
  },
  {
   "cell_type": "markdown",
   "metadata": {},
   "source": [
    "Для остальных посчитаем сглаженные средние таргета"
   ]
  },
  {
   "cell_type": "code",
   "execution_count": 18,
   "metadata": {
    "collapsed": true
   },
   "outputs": [],
   "source": [
    "big_cat = ['marque', 'profession', 'var8']"
   ]
  },
  {
   "cell_type": "markdown",
   "metadata": {},
   "source": [
    "Описание для начала"
   ]
  },
  {
   "cell_type": "code",
   "execution_count": 19,
   "metadata": {
    "collapsed": false
   },
   "outputs": [
    {
     "data": {
      "text/html": [
       "<div>\n",
       "<table border=\"1\" class=\"dataframe\">\n",
       "  <thead>\n",
       "    <tr style=\"text-align: right;\">\n",
       "      <th></th>\n",
       "      <th>COTIS</th>\n",
       "      <th>marque</th>\n",
       "      <th>profession</th>\n",
       "      <th>var8</th>\n",
       "    </tr>\n",
       "  </thead>\n",
       "  <tbody>\n",
       "    <tr>\n",
       "      <th>count</th>\n",
       "      <td>300000.000000</td>\n",
       "      <td>154.000000</td>\n",
       "      <td>17.000000</td>\n",
       "      <td>23.000000</td>\n",
       "    </tr>\n",
       "    <tr>\n",
       "      <th>mean</th>\n",
       "      <td>346.063566</td>\n",
       "      <td>1946.168831</td>\n",
       "      <td>17647.058824</td>\n",
       "      <td>13018.000000</td>\n",
       "    </tr>\n",
       "    <tr>\n",
       "      <th>std</th>\n",
       "      <td>119.870510</td>\n",
       "      <td>8040.202889</td>\n",
       "      <td>29867.244501</td>\n",
       "      <td>24502.085807</td>\n",
       "    </tr>\n",
       "    <tr>\n",
       "      <th>min</th>\n",
       "      <td>94.780000</td>\n",
       "      <td>1.000000</td>\n",
       "      <td>393.000000</td>\n",
       "      <td>1.000000</td>\n",
       "    </tr>\n",
       "    <tr>\n",
       "      <th>25%</th>\n",
       "      <td>262.050000</td>\n",
       "      <td>3.000000</td>\n",
       "      <td>2610.000000</td>\n",
       "      <td>775.000000</td>\n",
       "    </tr>\n",
       "    <tr>\n",
       "      <th>50%</th>\n",
       "      <td>323.220000</td>\n",
       "      <td>11.500000</td>\n",
       "      <td>5829.000000</td>\n",
       "      <td>2208.000000</td>\n",
       "    </tr>\n",
       "    <tr>\n",
       "      <th>75%</th>\n",
       "      <td>407.500000</td>\n",
       "      <td>359.750000</td>\n",
       "      <td>13273.000000</td>\n",
       "      <td>7045.000000</td>\n",
       "    </tr>\n",
       "    <tr>\n",
       "      <th>max</th>\n",
       "      <td>1518.810000</td>\n",
       "      <td>73371.000000</td>\n",
       "      <td>110354.000000</td>\n",
       "      <td>91826.000000</td>\n",
       "    </tr>\n",
       "  </tbody>\n",
       "</table>\n",
       "</div>"
      ],
      "text/plain": [
       "               COTIS        marque     profession          var8\n",
       "count  300000.000000    154.000000      17.000000     23.000000\n",
       "mean      346.063566   1946.168831   17647.058824  13018.000000\n",
       "std       119.870510   8040.202889   29867.244501  24502.085807\n",
       "min        94.780000      1.000000     393.000000      1.000000\n",
       "25%       262.050000      3.000000    2610.000000    775.000000\n",
       "50%       323.220000     11.500000    5829.000000   2208.000000\n",
       "75%       407.500000    359.750000   13273.000000   7045.000000\n",
       "max      1518.810000  73371.000000  110354.000000  91826.000000"
      ]
     },
     "execution_count": 19,
     "metadata": {},
     "output_type": "execute_result"
    }
   ],
   "source": [
    "df = pd.concat([dfYtrain.describe()] + [train[col].value_counts().describe() for col in big_cat], axis=1)\n",
    "df"
   ]
  },
  {
   "cell_type": "markdown",
   "metadata": {},
   "source": [
    "Сглаживать будем с 500"
   ]
  },
  {
   "cell_type": "markdown",
   "metadata": {},
   "source": [
    "Будем использовать среднее, 25%, 50% и 75%"
   ]
  },
  {
   "cell_type": "markdown",
   "metadata": {},
   "source": [
    "Декодирование"
   ]
  },
  {
   "cell_type": "code",
   "execution_count": 20,
   "metadata": {
    "collapsed": false
   },
   "outputs": [],
   "source": [
    "class EncodeWithAggregates():\n",
    "\n",
    "    def __init__(self, cols, y_train, train, *tests, smooth_coef=None):\n",
    "        self.cols = cols\n",
    "        self.y_train = y_train\n",
    "        self.train = train\n",
    "        self.tests = tests\n",
    "        self.Xs = (self.train,) + self.tests\n",
    "        \n",
    "        self.miss_val = 'NAN'\n",
    "        self.percentiles = [25, 50, 75]\n",
    "        self.names = ['Mean'] + [str(q) for q in self.percentiles]\n",
    "        self.aggs = [np.mean] + [self.percentile_fix(q) for q in self.percentiles]\n",
    "        self.miss_val_fills = [agg(y_train) for agg in self.aggs]\n",
    "        self.train_aggs = [agg(y_train) for agg in self.aggs]\n",
    "        if smooth_coef:\n",
    "            self.smooth_coef = smooth_coef\n",
    "        else:\n",
    "            self.smooth_coef = {col: 0 for col in cols}\n",
    "        \n",
    "\n",
    "    def percentile_fix(self, q):\n",
    "        def wrapped(a):\n",
    "            return np.percentile(a, q)\n",
    "\n",
    "        return wrapped\n",
    "        \n",
    "    \n",
    "    def transform(self):\n",
    "        for col in self.cols:\n",
    "            self.encode(col)\n",
    "            gc.collect()\n",
    "        return self.Xs\n",
    "    \n",
    "    \n",
    "    def encode(self, col):\n",
    "        df = pd.concat([self.y_train, self.train[col]], axis=1)\n",
    "        dfgb = df.groupby(col)\n",
    "        dfsize = dfgb.size()\n",
    "        dfsize.ix[self.miss_val] = 0\n",
    "\n",
    "        for X in self.Xs:                \n",
    "            agg_size = dfsize.ix[X[col].fillna(self.miss_val)]\n",
    "            agg_size = pd.DataFrame({'size': agg_size}).set_index(X.index)['size']\n",
    "            agg_name = \"{}_{}\".format(col, 'size')\n",
    "            X[agg_name] = agg_size\n",
    "\n",
    "        for name, agg, miss_val_fill, train_agg in zip(self.names, self.aggs, self.miss_val_fills, self.train_aggs):\n",
    "            dfm = dfgb.agg(agg)\n",
    "            dfm.ix[self.miss_val] = miss_val_fill\n",
    "            for X in self.Xs:                \n",
    "                agg_df = dfm.ix[X[col].fillna(self.miss_val)].set_index(X.index)[self.y_train.name]\n",
    "                agg_size = dfsize.ix[X[col].fillna(self.miss_val)]\n",
    "                agg_size = pd.DataFrame({'size': agg_size}).set_index(X.index)['size']\n",
    "                agg_name = \"{}_{}\".format(col, name)\n",
    "                X[agg_name] = (agg_df * agg_size + self.smooth_coef[col] * train_agg) / (self.smooth_coef[col] + agg_size)\n",
    "        \n",
    "        self.Xs = [X.drop(col, axis=1) for X in self.Xs]"
   ]
  },
  {
   "cell_type": "code",
   "execution_count": 21,
   "metadata": {
    "collapsed": false
   },
   "outputs": [],
   "source": [
    "smooth_coef = {'profession': 0, 'var8': 500, 'marque': 500}\n",
    "\n",
    "train, test = EncodeWithAggregates(big_cat, dfYtrain['COTIS'], train, test, smooth_coef=smooth_coef).transform()"
   ]
  },
  {
   "cell_type": "code",
   "execution_count": 22,
   "metadata": {
    "collapsed": false
   },
   "outputs": [
    {
     "data": {
      "text/plain": [
       "(30000, 51)"
      ]
     },
     "execution_count": 22,
     "metadata": {},
     "output_type": "execute_result"
    }
   ],
   "source": [
    "test.shape"
   ]
  },
  {
   "cell_type": "code",
   "execution_count": 23,
   "metadata": {
    "collapsed": false
   },
   "outputs": [
    {
     "data": {
      "text/plain": [
       "(300000, 51)"
      ]
     },
     "execution_count": 23,
     "metadata": {},
     "output_type": "execute_result"
    }
   ],
   "source": [
    "train.shape"
   ]
  },
  {
   "cell_type": "code",
   "execution_count": 24,
   "metadata": {
    "collapsed": true
   },
   "outputs": [],
   "source": [
    "train.fillna(-9999, inplace=True)\n",
    "test.fillna(-9999, inplace=True)"
   ]
  },
  {
   "cell_type": "code",
   "execution_count": 25,
   "metadata": {
    "collapsed": true
   },
   "outputs": [],
   "source": [
    "y_train = np.array(dfYtrain)\n",
    "x_train = np.array(train)\n",
    "x_test = np.array(test)"
   ]
  },
  {
   "cell_type": "code",
   "execution_count": 26,
   "metadata": {
    "collapsed": false
   },
   "outputs": [],
   "source": [
    "slope, intercept, rvalue, pvalue, stderr = stats.linregress(train.crm, dfYtrain.COTIS)"
   ]
  },
  {
   "cell_type": "code",
   "execution_count": 27,
   "metadata": {
    "collapsed": false
   },
   "outputs": [
    {
     "data": {
      "text/plain": [
       "(3.4019808086311301,\n",
       " 95.841221149398137,\n",
       " 0.67260296056871227,\n",
       " 0.0,\n",
       " 0.0068335709763392965)"
      ]
     },
     "execution_count": 27,
     "metadata": {},
     "output_type": "execute_result"
    }
   ],
   "source": [
    "slope, intercept, rvalue, pvalue, stderr"
   ]
  },
  {
   "cell_type": "code",
   "execution_count": 28,
   "metadata": {
    "collapsed": false
   },
   "outputs": [
    {
     "data": {
      "text/plain": [
       "<matplotlib.axes._subplots.AxesSubplot at 0x7f86c6352be0>"
      ]
     },
     "execution_count": 28,
     "metadata": {},
     "output_type": "execute_result"
    },
    {
     "data": {
      "image/png": "[encoded data removed]",
      "text/plain": [
       "<matplotlib.figure.Figure at 0x7f86c3939828>"
      ]
     },
     "metadata": {},
     "output_type": "display_data"
    }
   ],
   "source": [
    "dfYtrain.COTIS.hist(bins=100)"
   ]
  },
  {
   "cell_type": "code",
   "execution_count": 29,
   "metadata": {
    "collapsed": false
   },
   "outputs": [
    {
     "data": {
      "text/plain": [
       "<matplotlib.axes._subplots.AxesSubplot at 0x7f86c5a263c8>"
      ]
     },
     "execution_count": 29,
     "metadata": {},
     "output_type": "execute_result"
    },
    {
     "data": {
      "image/png": "[encoded data removed]",
      "text/plain": [
       "<matplotlib.figure.Figure at 0x7f86fe9acdd8>"
      ]
     },
     "metadata": {},
     "output_type": "display_data"
    }
   ],
   "source": [
    "((dfYtrain.COTIS - intercept) / train.crm).hist(bins=100)"
   ]
  },
  {
   "cell_type": "code",
   "execution_count": 30,
   "metadata": {
    "collapsed": false
   },
   "outputs": [
    {
     "data": {
      "text/plain": [
       "<matplotlib.axes._subplots.AxesSubplot at 0x7f86c5976cc0>"
      ]
     },
     "execution_count": 30,
     "metadata": {},
     "output_type": "execute_result"
    },
    {
     "data": {
      "image/png": "[encoded data removed]",
      "text/plain": [
       "<matplotlib.figure.Figure at 0x7f86fa7713c8>"
      ]
     },
     "metadata": {},
     "output_type": "display_data"
    }
   ],
   "source": [
    "(dfYtrain.COTIS - slope * train.crm).hist(bins=100)"
   ]
  },
  {
   "cell_type": "code",
   "execution_count": 31,
   "metadata": {
    "collapsed": false
   },
   "outputs": [
    {
     "data": {
      "text/plain": [
       "(300000, 51)"
      ]
     },
     "execution_count": 31,
     "metadata": {},
     "output_type": "execute_result"
    }
   ],
   "source": [
    "train.shape"
   ]
  },
  {
   "cell_type": "code",
   "execution_count": 32,
   "metadata": {
    "collapsed": false
   },
   "outputs": [
    {
     "data": {
      "text/plain": [
       "(299971, 50)"
      ]
     },
     "execution_count": 32,
     "metadata": {},
     "output_type": "execute_result"
    }
   ],
   "source": [
    "train.drop('crm', axis=1).drop_duplicates().shape"
   ]
  },
  {
   "cell_type": "code",
   "execution_count": 33,
   "metadata": {
    "collapsed": false,
    "scrolled": true
   },
   "outputs": [
    {
     "data": {
      "text/html": [
       "<div>\n",
       "<table border=\"1\" class=\"dataframe\">\n",
       "  <thead>\n",
       "    <tr style=\"text-align: right;\">\n",
       "      <th></th>\n",
       "      <th>annee_naissance</th>\n",
       "      <th>annee_permis</th>\n",
       "      <th>puis_fiscale</th>\n",
       "      <th>anc_veh</th>\n",
       "      <th>kmage_annuel</th>\n",
       "      <th>crm</th>\n",
       "      <th>var1</th>\n",
       "      <th>var2</th>\n",
       "      <th>var3</th>\n",
       "      <th>var4</th>\n",
       "      <th>var5</th>\n",
       "      <th>var7</th>\n",
       "      <th>var9</th>\n",
       "      <th>var10</th>\n",
       "      <th>var11</th>\n",
       "      <th>var12</th>\n",
       "      <th>var13</th>\n",
       "      <th>var15</th>\n",
       "      <th>var16</th>\n",
       "      <th>var17</th>\n",
       "      <th>var18</th>\n",
       "      <th>var19</th>\n",
       "      <th>var20</th>\n",
       "      <th>var21</th>\n",
       "      <th>var22</th>\n",
       "      <th>permis_age</th>\n",
       "      <th>energie_veh_electricite</th>\n",
       "      <th>energie_veh_essence</th>\n",
       "      <th>energie_veh_gazole</th>\n",
       "      <th>energie_veh_gpl</th>\n",
       "      <th>energie_veh_hybride essence</th>\n",
       "      <th>var6_A</th>\n",
       "      <th>var6_B</th>\n",
       "      <th>var6_C</th>\n",
       "      <th>var6_D</th>\n",
       "      <th>var6_N</th>\n",
       "      <th>marque_size</th>\n",
       "      <th>marque_Mean</th>\n",
       "      <th>marque_25</th>\n",
       "      <th>marque_50</th>\n",
       "      <th>marque_75</th>\n",
       "      <th>profession_size</th>\n",
       "      <th>profession_Mean</th>\n",
       "      <th>profession_25</th>\n",
       "      <th>profession_50</th>\n",
       "      <th>profession_75</th>\n",
       "      <th>var8_size</th>\n",
       "      <th>var8_Mean</th>\n",
       "      <th>var8_25</th>\n",
       "      <th>var8_50</th>\n",
       "      <th>var8_75</th>\n",
       "    </tr>\n",
       "    <tr>\n",
       "      <th>id</th>\n",
       "      <th></th>\n",
       "      <th></th>\n",
       "      <th></th>\n",
       "      <th></th>\n",
       "      <th></th>\n",
       "      <th></th>\n",
       "      <th></th>\n",
       "      <th></th>\n",
       "      <th></th>\n",
       "      <th></th>\n",
       "      <th></th>\n",
       "      <th></th>\n",
       "      <th></th>\n",
       "      <th></th>\n",
       "      <th></th>\n",
       "      <th></th>\n",
       "      <th></th>\n",
       "      <th></th>\n",
       "      <th></th>\n",
       "      <th></th>\n",
       "      <th></th>\n",
       "      <th></th>\n",
       "      <th></th>\n",
       "      <th></th>\n",
       "      <th></th>\n",
       "      <th></th>\n",
       "      <th></th>\n",
       "      <th></th>\n",
       "      <th></th>\n",
       "      <th></th>\n",
       "      <th></th>\n",
       "      <th></th>\n",
       "      <th></th>\n",
       "      <th></th>\n",
       "      <th></th>\n",
       "      <th></th>\n",
       "      <th></th>\n",
       "      <th></th>\n",
       "      <th></th>\n",
       "      <th></th>\n",
       "      <th></th>\n",
       "      <th></th>\n",
       "      <th></th>\n",
       "      <th></th>\n",
       "      <th></th>\n",
       "      <th></th>\n",
       "      <th></th>\n",
       "      <th></th>\n",
       "      <th></th>\n",
       "      <th></th>\n",
       "      <th></th>\n",
       "    </tr>\n",
       "  </thead>\n",
       "  <tbody>\n",
       "    <tr>\n",
       "      <th>20807</th>\n",
       "      <td>1988.0</td>\n",
       "      <td>2007.0</td>\n",
       "      <td>5</td>\n",
       "      <td>1</td>\n",
       "      <td>2837</td>\n",
       "      <td>112</td>\n",
       "      <td>9.0</td>\n",
       "      <td>5</td>\n",
       "      <td>372</td>\n",
       "      <td>0</td>\n",
       "      <td>1</td>\n",
       "      <td>1.0</td>\n",
       "      <td>60</td>\n",
       "      <td>162</td>\n",
       "      <td>1</td>\n",
       "      <td>805</td>\n",
       "      <td>3</td>\n",
       "      <td>3</td>\n",
       "      <td>1.0</td>\n",
       "      <td>1</td>\n",
       "      <td>27</td>\n",
       "      <td>0</td>\n",
       "      <td>0</td>\n",
       "      <td>1</td>\n",
       "      <td>1</td>\n",
       "      <td>19.0</td>\n",
       "      <td>0.0</td>\n",
       "      <td>1.0</td>\n",
       "      <td>0.0</td>\n",
       "      <td>0.0</td>\n",
       "      <td>0.0</td>\n",
       "      <td>0.0</td>\n",
       "      <td>1.0</td>\n",
       "      <td>0.0</td>\n",
       "      <td>0.0</td>\n",
       "      <td>0.0</td>\n",
       "      <td>35086</td>\n",
       "      <td>340.844844</td>\n",
       "      <td>259.419980</td>\n",
       "      <td>319.330429</td>\n",
       "      <td>402.629409</td>\n",
       "      <td>110354</td>\n",
       "      <td>360.052820</td>\n",
       "      <td>272.2800</td>\n",
       "      <td>330.370</td>\n",
       "      <td>424.3775</td>\n",
       "      <td>66389</td>\n",
       "      <td>358.238655</td>\n",
       "      <td>264.680191</td>\n",
       "      <td>335.825067</td>\n",
       "      <td>428.769809</td>\n",
       "    </tr>\n",
       "    <tr>\n",
       "      <th>20808</th>\n",
       "      <td>1988.0</td>\n",
       "      <td>2007.0</td>\n",
       "      <td>5</td>\n",
       "      <td>1</td>\n",
       "      <td>2837</td>\n",
       "      <td>106</td>\n",
       "      <td>9.0</td>\n",
       "      <td>5</td>\n",
       "      <td>372</td>\n",
       "      <td>0</td>\n",
       "      <td>1</td>\n",
       "      <td>1.0</td>\n",
       "      <td>60</td>\n",
       "      <td>162</td>\n",
       "      <td>1</td>\n",
       "      <td>805</td>\n",
       "      <td>3</td>\n",
       "      <td>3</td>\n",
       "      <td>1.0</td>\n",
       "      <td>1</td>\n",
       "      <td>27</td>\n",
       "      <td>0</td>\n",
       "      <td>0</td>\n",
       "      <td>1</td>\n",
       "      <td>1</td>\n",
       "      <td>19.0</td>\n",
       "      <td>0.0</td>\n",
       "      <td>1.0</td>\n",
       "      <td>0.0</td>\n",
       "      <td>0.0</td>\n",
       "      <td>0.0</td>\n",
       "      <td>0.0</td>\n",
       "      <td>1.0</td>\n",
       "      <td>0.0</td>\n",
       "      <td>0.0</td>\n",
       "      <td>0.0</td>\n",
       "      <td>35086</td>\n",
       "      <td>340.844844</td>\n",
       "      <td>259.419980</td>\n",
       "      <td>319.330429</td>\n",
       "      <td>402.629409</td>\n",
       "      <td>110354</td>\n",
       "      <td>360.052820</td>\n",
       "      <td>272.2800</td>\n",
       "      <td>330.370</td>\n",
       "      <td>424.3775</td>\n",
       "      <td>66389</td>\n",
       "      <td>358.238655</td>\n",
       "      <td>264.680191</td>\n",
       "      <td>335.825067</td>\n",
       "      <td>428.769809</td>\n",
       "    </tr>\n",
       "    <tr>\n",
       "      <th>72227</th>\n",
       "      <td>1989.0</td>\n",
       "      <td>2008.0</td>\n",
       "      <td>7</td>\n",
       "      <td>2</td>\n",
       "      <td>7056</td>\n",
       "      <td>62</td>\n",
       "      <td>8.0</td>\n",
       "      <td>1</td>\n",
       "      <td>372</td>\n",
       "      <td>0</td>\n",
       "      <td>2</td>\n",
       "      <td>10.0</td>\n",
       "      <td>115</td>\n",
       "      <td>187</td>\n",
       "      <td>2</td>\n",
       "      <td>1245</td>\n",
       "      <td>5</td>\n",
       "      <td>0</td>\n",
       "      <td>1.0</td>\n",
       "      <td>2</td>\n",
       "      <td>24</td>\n",
       "      <td>0</td>\n",
       "      <td>0</td>\n",
       "      <td>1</td>\n",
       "      <td>5</td>\n",
       "      <td>19.0</td>\n",
       "      <td>0.0</td>\n",
       "      <td>1.0</td>\n",
       "      <td>0.0</td>\n",
       "      <td>0.0</td>\n",
       "      <td>0.0</td>\n",
       "      <td>0.0</td>\n",
       "      <td>1.0</td>\n",
       "      <td>0.0</td>\n",
       "      <td>0.0</td>\n",
       "      <td>0.0</td>\n",
       "      <td>35086</td>\n",
       "      <td>340.844844</td>\n",
       "      <td>259.419980</td>\n",
       "      <td>319.330429</td>\n",
       "      <td>402.629409</td>\n",
       "      <td>110354</td>\n",
       "      <td>360.052820</td>\n",
       "      <td>272.2800</td>\n",
       "      <td>330.370</td>\n",
       "      <td>424.3775</td>\n",
       "      <td>91826</td>\n",
       "      <td>363.817658</td>\n",
       "      <td>274.902517</td>\n",
       "      <td>341.808783</td>\n",
       "      <td>430.492305</td>\n",
       "    </tr>\n",
       "    <tr>\n",
       "      <th>72228</th>\n",
       "      <td>1989.0</td>\n",
       "      <td>2008.0</td>\n",
       "      <td>7</td>\n",
       "      <td>2</td>\n",
       "      <td>7056</td>\n",
       "      <td>58</td>\n",
       "      <td>8.0</td>\n",
       "      <td>1</td>\n",
       "      <td>372</td>\n",
       "      <td>0</td>\n",
       "      <td>2</td>\n",
       "      <td>10.0</td>\n",
       "      <td>115</td>\n",
       "      <td>187</td>\n",
       "      <td>2</td>\n",
       "      <td>1245</td>\n",
       "      <td>5</td>\n",
       "      <td>0</td>\n",
       "      <td>1.0</td>\n",
       "      <td>2</td>\n",
       "      <td>24</td>\n",
       "      <td>0</td>\n",
       "      <td>0</td>\n",
       "      <td>1</td>\n",
       "      <td>5</td>\n",
       "      <td>19.0</td>\n",
       "      <td>0.0</td>\n",
       "      <td>1.0</td>\n",
       "      <td>0.0</td>\n",
       "      <td>0.0</td>\n",
       "      <td>0.0</td>\n",
       "      <td>0.0</td>\n",
       "      <td>1.0</td>\n",
       "      <td>0.0</td>\n",
       "      <td>0.0</td>\n",
       "      <td>0.0</td>\n",
       "      <td>35086</td>\n",
       "      <td>340.844844</td>\n",
       "      <td>259.419980</td>\n",
       "      <td>319.330429</td>\n",
       "      <td>402.629409</td>\n",
       "      <td>110354</td>\n",
       "      <td>360.052820</td>\n",
       "      <td>272.2800</td>\n",
       "      <td>330.370</td>\n",
       "      <td>424.3775</td>\n",
       "      <td>91826</td>\n",
       "      <td>363.817658</td>\n",
       "      <td>274.902517</td>\n",
       "      <td>341.808783</td>\n",
       "      <td>430.492305</td>\n",
       "    </tr>\n",
       "    <tr>\n",
       "      <th>73260</th>\n",
       "      <td>1993.0</td>\n",
       "      <td>2012.0</td>\n",
       "      <td>5</td>\n",
       "      <td>2</td>\n",
       "      <td>2683</td>\n",
       "      <td>50</td>\n",
       "      <td>4.0</td>\n",
       "      <td>3</td>\n",
       "      <td>372</td>\n",
       "      <td>0</td>\n",
       "      <td>1</td>\n",
       "      <td>4.0</td>\n",
       "      <td>51</td>\n",
       "      <td>150</td>\n",
       "      <td>2</td>\n",
       "      <td>720</td>\n",
       "      <td>3</td>\n",
       "      <td>0</td>\n",
       "      <td>1.0</td>\n",
       "      <td>2</td>\n",
       "      <td>24</td>\n",
       "      <td>3</td>\n",
       "      <td>0</td>\n",
       "      <td>1</td>\n",
       "      <td>0</td>\n",
       "      <td>19.0</td>\n",
       "      <td>0.0</td>\n",
       "      <td>0.0</td>\n",
       "      <td>1.0</td>\n",
       "      <td>0.0</td>\n",
       "      <td>0.0</td>\n",
       "      <td>1.0</td>\n",
       "      <td>0.0</td>\n",
       "      <td>0.0</td>\n",
       "      <td>0.0</td>\n",
       "      <td>0.0</td>\n",
       "      <td>35086</td>\n",
       "      <td>340.844844</td>\n",
       "      <td>259.419980</td>\n",
       "      <td>319.330429</td>\n",
       "      <td>402.629409</td>\n",
       "      <td>1137</td>\n",
       "      <td>325.568734</td>\n",
       "      <td>244.0800</td>\n",
       "      <td>313.770</td>\n",
       "      <td>390.4400</td>\n",
       "      <td>23369</td>\n",
       "      <td>296.880304</td>\n",
       "      <td>221.429119</td>\n",
       "      <td>280.141698</td>\n",
       "      <td>350.352716</td>\n",
       "    </tr>\n",
       "    <tr>\n",
       "      <th>73261</th>\n",
       "      <td>1993.0</td>\n",
       "      <td>2012.0</td>\n",
       "      <td>5</td>\n",
       "      <td>2</td>\n",
       "      <td>2683</td>\n",
       "      <td>50</td>\n",
       "      <td>4.0</td>\n",
       "      <td>3</td>\n",
       "      <td>372</td>\n",
       "      <td>0</td>\n",
       "      <td>1</td>\n",
       "      <td>4.0</td>\n",
       "      <td>51</td>\n",
       "      <td>150</td>\n",
       "      <td>2</td>\n",
       "      <td>720</td>\n",
       "      <td>3</td>\n",
       "      <td>0</td>\n",
       "      <td>1.0</td>\n",
       "      <td>2</td>\n",
       "      <td>24</td>\n",
       "      <td>3</td>\n",
       "      <td>0</td>\n",
       "      <td>1</td>\n",
       "      <td>0</td>\n",
       "      <td>19.0</td>\n",
       "      <td>0.0</td>\n",
       "      <td>0.0</td>\n",
       "      <td>1.0</td>\n",
       "      <td>0.0</td>\n",
       "      <td>0.0</td>\n",
       "      <td>1.0</td>\n",
       "      <td>0.0</td>\n",
       "      <td>0.0</td>\n",
       "      <td>0.0</td>\n",
       "      <td>0.0</td>\n",
       "      <td>35086</td>\n",
       "      <td>340.844844</td>\n",
       "      <td>259.419980</td>\n",
       "      <td>319.330429</td>\n",
       "      <td>402.629409</td>\n",
       "      <td>1137</td>\n",
       "      <td>325.568734</td>\n",
       "      <td>244.0800</td>\n",
       "      <td>313.770</td>\n",
       "      <td>390.4400</td>\n",
       "      <td>23369</td>\n",
       "      <td>296.880304</td>\n",
       "      <td>221.429119</td>\n",
       "      <td>280.141698</td>\n",
       "      <td>350.352716</td>\n",
       "    </tr>\n",
       "    <tr>\n",
       "      <th>79179</th>\n",
       "      <td>1989.0</td>\n",
       "      <td>2008.0</td>\n",
       "      <td>6</td>\n",
       "      <td>17</td>\n",
       "      <td>7443</td>\n",
       "      <td>85</td>\n",
       "      <td>8.0</td>\n",
       "      <td>3</td>\n",
       "      <td>272</td>\n",
       "      <td>0</td>\n",
       "      <td>2</td>\n",
       "      <td>1.0</td>\n",
       "      <td>110</td>\n",
       "      <td>200</td>\n",
       "      <td>17</td>\n",
       "      <td>1385</td>\n",
       "      <td>5</td>\n",
       "      <td>3</td>\n",
       "      <td>1.0</td>\n",
       "      <td>1</td>\n",
       "      <td>22</td>\n",
       "      <td>0</td>\n",
       "      <td>0</td>\n",
       "      <td>1</td>\n",
       "      <td>2</td>\n",
       "      <td>19.0</td>\n",
       "      <td>0.0</td>\n",
       "      <td>0.0</td>\n",
       "      <td>1.0</td>\n",
       "      <td>0.0</td>\n",
       "      <td>0.0</td>\n",
       "      <td>1.0</td>\n",
       "      <td>0.0</td>\n",
       "      <td>0.0</td>\n",
       "      <td>0.0</td>\n",
       "      <td>0.0</td>\n",
       "      <td>73371</td>\n",
       "      <td>336.598258</td>\n",
       "      <td>253.334394</td>\n",
       "      <td>314.509360</td>\n",
       "      <td>398.650308</td>\n",
       "      <td>15624</td>\n",
       "      <td>333.513677</td>\n",
       "      <td>253.1075</td>\n",
       "      <td>313.480</td>\n",
       "      <td>390.2275</td>\n",
       "      <td>54018</td>\n",
       "      <td>349.780423</td>\n",
       "      <td>269.352408</td>\n",
       "      <td>326.464964</td>\n",
       "      <td>408.151470</td>\n",
       "    </tr>\n",
       "    <tr>\n",
       "      <th>79180</th>\n",
       "      <td>1989.0</td>\n",
       "      <td>2008.0</td>\n",
       "      <td>6</td>\n",
       "      <td>17</td>\n",
       "      <td>7443</td>\n",
       "      <td>90</td>\n",
       "      <td>8.0</td>\n",
       "      <td>3</td>\n",
       "      <td>272</td>\n",
       "      <td>0</td>\n",
       "      <td>2</td>\n",
       "      <td>1.0</td>\n",
       "      <td>110</td>\n",
       "      <td>200</td>\n",
       "      <td>17</td>\n",
       "      <td>1385</td>\n",
       "      <td>5</td>\n",
       "      <td>3</td>\n",
       "      <td>1.0</td>\n",
       "      <td>1</td>\n",
       "      <td>22</td>\n",
       "      <td>0</td>\n",
       "      <td>0</td>\n",
       "      <td>1</td>\n",
       "      <td>2</td>\n",
       "      <td>19.0</td>\n",
       "      <td>0.0</td>\n",
       "      <td>0.0</td>\n",
       "      <td>1.0</td>\n",
       "      <td>0.0</td>\n",
       "      <td>0.0</td>\n",
       "      <td>1.0</td>\n",
       "      <td>0.0</td>\n",
       "      <td>0.0</td>\n",
       "      <td>0.0</td>\n",
       "      <td>0.0</td>\n",
       "      <td>73371</td>\n",
       "      <td>336.598258</td>\n",
       "      <td>253.334394</td>\n",
       "      <td>314.509360</td>\n",
       "      <td>398.650308</td>\n",
       "      <td>15624</td>\n",
       "      <td>333.513677</td>\n",
       "      <td>253.1075</td>\n",
       "      <td>313.480</td>\n",
       "      <td>390.2275</td>\n",
       "      <td>54018</td>\n",
       "      <td>349.780423</td>\n",
       "      <td>269.352408</td>\n",
       "      <td>326.464964</td>\n",
       "      <td>408.151470</td>\n",
       "    </tr>\n",
       "    <tr>\n",
       "      <th>90599</th>\n",
       "      <td>1983.0</td>\n",
       "      <td>2002.0</td>\n",
       "      <td>7</td>\n",
       "      <td>1</td>\n",
       "      <td>7149</td>\n",
       "      <td>63</td>\n",
       "      <td>14.0</td>\n",
       "      <td>5</td>\n",
       "      <td>372</td>\n",
       "      <td>0</td>\n",
       "      <td>1</td>\n",
       "      <td>10.0</td>\n",
       "      <td>90</td>\n",
       "      <td>170</td>\n",
       "      <td>1</td>\n",
       "      <td>1278</td>\n",
       "      <td>5</td>\n",
       "      <td>1</td>\n",
       "      <td>1.0</td>\n",
       "      <td>2</td>\n",
       "      <td>37</td>\n",
       "      <td>2</td>\n",
       "      <td>0</td>\n",
       "      <td>1</td>\n",
       "      <td>0</td>\n",
       "      <td>19.0</td>\n",
       "      <td>0.0</td>\n",
       "      <td>0.0</td>\n",
       "      <td>0.0</td>\n",
       "      <td>1.0</td>\n",
       "      <td>0.0</td>\n",
       "      <td>0.0</td>\n",
       "      <td>1.0</td>\n",
       "      <td>0.0</td>\n",
       "      <td>0.0</td>\n",
       "      <td>0.0</td>\n",
       "      <td>73371</td>\n",
       "      <td>336.598258</td>\n",
       "      <td>253.334394</td>\n",
       "      <td>314.509360</td>\n",
       "      <td>398.650308</td>\n",
       "      <td>110354</td>\n",
       "      <td>360.052820</td>\n",
       "      <td>272.2800</td>\n",
       "      <td>330.370</td>\n",
       "      <td>424.3775</td>\n",
       "      <td>91826</td>\n",
       "      <td>363.817658</td>\n",
       "      <td>274.902517</td>\n",
       "      <td>341.808783</td>\n",
       "      <td>430.492305</td>\n",
       "    </tr>\n",
       "    <tr>\n",
       "      <th>90600</th>\n",
       "      <td>1983.0</td>\n",
       "      <td>2002.0</td>\n",
       "      <td>7</td>\n",
       "      <td>1</td>\n",
       "      <td>7149</td>\n",
       "      <td>67</td>\n",
       "      <td>14.0</td>\n",
       "      <td>5</td>\n",
       "      <td>372</td>\n",
       "      <td>0</td>\n",
       "      <td>1</td>\n",
       "      <td>10.0</td>\n",
       "      <td>90</td>\n",
       "      <td>170</td>\n",
       "      <td>1</td>\n",
       "      <td>1278</td>\n",
       "      <td>5</td>\n",
       "      <td>1</td>\n",
       "      <td>1.0</td>\n",
       "      <td>2</td>\n",
       "      <td>37</td>\n",
       "      <td>2</td>\n",
       "      <td>0</td>\n",
       "      <td>1</td>\n",
       "      <td>0</td>\n",
       "      <td>19.0</td>\n",
       "      <td>0.0</td>\n",
       "      <td>0.0</td>\n",
       "      <td>0.0</td>\n",
       "      <td>1.0</td>\n",
       "      <td>0.0</td>\n",
       "      <td>0.0</td>\n",
       "      <td>1.0</td>\n",
       "      <td>0.0</td>\n",
       "      <td>0.0</td>\n",
       "      <td>0.0</td>\n",
       "      <td>73371</td>\n",
       "      <td>336.598258</td>\n",
       "      <td>253.334394</td>\n",
       "      <td>314.509360</td>\n",
       "      <td>398.650308</td>\n",
       "      <td>110354</td>\n",
       "      <td>360.052820</td>\n",
       "      <td>272.2800</td>\n",
       "      <td>330.370</td>\n",
       "      <td>424.3775</td>\n",
       "      <td>91826</td>\n",
       "      <td>363.817658</td>\n",
       "      <td>274.902517</td>\n",
       "      <td>341.808783</td>\n",
       "      <td>430.492305</td>\n",
       "    </tr>\n",
       "    <tr>\n",
       "      <th>98815</th>\n",
       "      <td>1980.0</td>\n",
       "      <td>2000.0</td>\n",
       "      <td>5</td>\n",
       "      <td>0</td>\n",
       "      <td>2810</td>\n",
       "      <td>50</td>\n",
       "      <td>16.0</td>\n",
       "      <td>3</td>\n",
       "      <td>272</td>\n",
       "      <td>0</td>\n",
       "      <td>2</td>\n",
       "      <td>1.0</td>\n",
       "      <td>55</td>\n",
       "      <td>155</td>\n",
       "      <td>0</td>\n",
       "      <td>790</td>\n",
       "      <td>3</td>\n",
       "      <td>0</td>\n",
       "      <td>1.0</td>\n",
       "      <td>1</td>\n",
       "      <td>22</td>\n",
       "      <td>0</td>\n",
       "      <td>1</td>\n",
       "      <td>1</td>\n",
       "      <td>1</td>\n",
       "      <td>20.0</td>\n",
       "      <td>0.0</td>\n",
       "      <td>1.0</td>\n",
       "      <td>0.0</td>\n",
       "      <td>0.0</td>\n",
       "      <td>0.0</td>\n",
       "      <td>1.0</td>\n",
       "      <td>0.0</td>\n",
       "      <td>0.0</td>\n",
       "      <td>0.0</td>\n",
       "      <td>0.0</td>\n",
       "      <td>73371</td>\n",
       "      <td>336.598258</td>\n",
       "      <td>253.334394</td>\n",
       "      <td>314.509360</td>\n",
       "      <td>398.650308</td>\n",
       "      <td>31471</td>\n",
       "      <td>323.086869</td>\n",
       "      <td>246.4650</td>\n",
       "      <td>301.030</td>\n",
       "      <td>375.9100</td>\n",
       "      <td>23369</td>\n",
       "      <td>296.880304</td>\n",
       "      <td>221.429119</td>\n",
       "      <td>280.141698</td>\n",
       "      <td>350.352716</td>\n",
       "    </tr>\n",
       "    <tr>\n",
       "      <th>98816</th>\n",
       "      <td>1980.0</td>\n",
       "      <td>2000.0</td>\n",
       "      <td>5</td>\n",
       "      <td>0</td>\n",
       "      <td>2810</td>\n",
       "      <td>50</td>\n",
       "      <td>16.0</td>\n",
       "      <td>3</td>\n",
       "      <td>272</td>\n",
       "      <td>0</td>\n",
       "      <td>2</td>\n",
       "      <td>1.0</td>\n",
       "      <td>55</td>\n",
       "      <td>155</td>\n",
       "      <td>0</td>\n",
       "      <td>790</td>\n",
       "      <td>3</td>\n",
       "      <td>0</td>\n",
       "      <td>1.0</td>\n",
       "      <td>1</td>\n",
       "      <td>22</td>\n",
       "      <td>0</td>\n",
       "      <td>1</td>\n",
       "      <td>1</td>\n",
       "      <td>1</td>\n",
       "      <td>20.0</td>\n",
       "      <td>0.0</td>\n",
       "      <td>1.0</td>\n",
       "      <td>0.0</td>\n",
       "      <td>0.0</td>\n",
       "      <td>0.0</td>\n",
       "      <td>1.0</td>\n",
       "      <td>0.0</td>\n",
       "      <td>0.0</td>\n",
       "      <td>0.0</td>\n",
       "      <td>0.0</td>\n",
       "      <td>73371</td>\n",
       "      <td>336.598258</td>\n",
       "      <td>253.334394</td>\n",
       "      <td>314.509360</td>\n",
       "      <td>398.650308</td>\n",
       "      <td>31471</td>\n",
       "      <td>323.086869</td>\n",
       "      <td>246.4650</td>\n",
       "      <td>301.030</td>\n",
       "      <td>375.9100</td>\n",
       "      <td>23369</td>\n",
       "      <td>296.880304</td>\n",
       "      <td>221.429119</td>\n",
       "      <td>280.141698</td>\n",
       "      <td>350.352716</td>\n",
       "    </tr>\n",
       "    <tr>\n",
       "      <th>106940</th>\n",
       "      <td>1991.0</td>\n",
       "      <td>2010.0</td>\n",
       "      <td>5</td>\n",
       "      <td>21</td>\n",
       "      <td>6308</td>\n",
       "      <td>58</td>\n",
       "      <td>6.0</td>\n",
       "      <td>4</td>\n",
       "      <td>272</td>\n",
       "      <td>0</td>\n",
       "      <td>1</td>\n",
       "      <td>1.0</td>\n",
       "      <td>65</td>\n",
       "      <td>161</td>\n",
       "      <td>21</td>\n",
       "      <td>995</td>\n",
       "      <td>5</td>\n",
       "      <td>3</td>\n",
       "      <td>2.0</td>\n",
       "      <td>2</td>\n",
       "      <td>23</td>\n",
       "      <td>0</td>\n",
       "      <td>0</td>\n",
       "      <td>1</td>\n",
       "      <td>1</td>\n",
       "      <td>19.0</td>\n",
       "      <td>0.0</td>\n",
       "      <td>0.0</td>\n",
       "      <td>1.0</td>\n",
       "      <td>0.0</td>\n",
       "      <td>0.0</td>\n",
       "      <td>0.0</td>\n",
       "      <td>0.0</td>\n",
       "      <td>1.0</td>\n",
       "      <td>0.0</td>\n",
       "      <td>0.0</td>\n",
       "      <td>73371</td>\n",
       "      <td>336.598258</td>\n",
       "      <td>253.334394</td>\n",
       "      <td>314.509360</td>\n",
       "      <td>398.650308</td>\n",
       "      <td>31471</td>\n",
       "      <td>323.086869</td>\n",
       "      <td>246.4650</td>\n",
       "      <td>301.030</td>\n",
       "      <td>375.9100</td>\n",
       "      <td>66389</td>\n",
       "      <td>358.238655</td>\n",
       "      <td>264.680191</td>\n",
       "      <td>335.825067</td>\n",
       "      <td>428.769809</td>\n",
       "    </tr>\n",
       "    <tr>\n",
       "      <th>106942</th>\n",
       "      <td>1991.0</td>\n",
       "      <td>2010.0</td>\n",
       "      <td>5</td>\n",
       "      <td>21</td>\n",
       "      <td>6308</td>\n",
       "      <td>58</td>\n",
       "      <td>6.0</td>\n",
       "      <td>4</td>\n",
       "      <td>272</td>\n",
       "      <td>0</td>\n",
       "      <td>1</td>\n",
       "      <td>1.0</td>\n",
       "      <td>65</td>\n",
       "      <td>161</td>\n",
       "      <td>21</td>\n",
       "      <td>995</td>\n",
       "      <td>5</td>\n",
       "      <td>3</td>\n",
       "      <td>2.0</td>\n",
       "      <td>2</td>\n",
       "      <td>23</td>\n",
       "      <td>0</td>\n",
       "      <td>0</td>\n",
       "      <td>1</td>\n",
       "      <td>1</td>\n",
       "      <td>19.0</td>\n",
       "      <td>0.0</td>\n",
       "      <td>0.0</td>\n",
       "      <td>1.0</td>\n",
       "      <td>0.0</td>\n",
       "      <td>0.0</td>\n",
       "      <td>0.0</td>\n",
       "      <td>0.0</td>\n",
       "      <td>1.0</td>\n",
       "      <td>0.0</td>\n",
       "      <td>0.0</td>\n",
       "      <td>73371</td>\n",
       "      <td>336.598258</td>\n",
       "      <td>253.334394</td>\n",
       "      <td>314.509360</td>\n",
       "      <td>398.650308</td>\n",
       "      <td>31471</td>\n",
       "      <td>323.086869</td>\n",
       "      <td>246.4650</td>\n",
       "      <td>301.030</td>\n",
       "      <td>375.9100</td>\n",
       "      <td>66389</td>\n",
       "      <td>358.238655</td>\n",
       "      <td>264.680191</td>\n",
       "      <td>335.825067</td>\n",
       "      <td>428.769809</td>\n",
       "    </tr>\n",
       "    <tr>\n",
       "      <th>109767</th>\n",
       "      <td>1985.0</td>\n",
       "      <td>2004.0</td>\n",
       "      <td>7</td>\n",
       "      <td>2</td>\n",
       "      <td>6861</td>\n",
       "      <td>58</td>\n",
       "      <td>12.0</td>\n",
       "      <td>5</td>\n",
       "      <td>372</td>\n",
       "      <td>0</td>\n",
       "      <td>1</td>\n",
       "      <td>1.0</td>\n",
       "      <td>112</td>\n",
       "      <td>195</td>\n",
       "      <td>2</td>\n",
       "      <td>1177</td>\n",
       "      <td>3</td>\n",
       "      <td>1</td>\n",
       "      <td>1.0</td>\n",
       "      <td>2</td>\n",
       "      <td>23</td>\n",
       "      <td>0</td>\n",
       "      <td>0</td>\n",
       "      <td>1</td>\n",
       "      <td>1</td>\n",
       "      <td>19.0</td>\n",
       "      <td>0.0</td>\n",
       "      <td>1.0</td>\n",
       "      <td>0.0</td>\n",
       "      <td>0.0</td>\n",
       "      <td>0.0</td>\n",
       "      <td>0.0</td>\n",
       "      <td>1.0</td>\n",
       "      <td>0.0</td>\n",
       "      <td>0.0</td>\n",
       "      <td>0.0</td>\n",
       "      <td>35086</td>\n",
       "      <td>340.844844</td>\n",
       "      <td>259.419980</td>\n",
       "      <td>319.330429</td>\n",
       "      <td>402.629409</td>\n",
       "      <td>110354</td>\n",
       "      <td>360.052820</td>\n",
       "      <td>272.2800</td>\n",
       "      <td>330.370</td>\n",
       "      <td>424.3775</td>\n",
       "      <td>91826</td>\n",
       "      <td>363.817658</td>\n",
       "      <td>274.902517</td>\n",
       "      <td>341.808783</td>\n",
       "      <td>430.492305</td>\n",
       "    </tr>\n",
       "    <tr>\n",
       "      <th>109768</th>\n",
       "      <td>1985.0</td>\n",
       "      <td>2004.0</td>\n",
       "      <td>7</td>\n",
       "      <td>2</td>\n",
       "      <td>6861</td>\n",
       "      <td>62</td>\n",
       "      <td>12.0</td>\n",
       "      <td>5</td>\n",
       "      <td>372</td>\n",
       "      <td>0</td>\n",
       "      <td>1</td>\n",
       "      <td>1.0</td>\n",
       "      <td>112</td>\n",
       "      <td>195</td>\n",
       "      <td>2</td>\n",
       "      <td>1177</td>\n",
       "      <td>3</td>\n",
       "      <td>1</td>\n",
       "      <td>1.0</td>\n",
       "      <td>2</td>\n",
       "      <td>23</td>\n",
       "      <td>0</td>\n",
       "      <td>0</td>\n",
       "      <td>1</td>\n",
       "      <td>1</td>\n",
       "      <td>19.0</td>\n",
       "      <td>0.0</td>\n",
       "      <td>1.0</td>\n",
       "      <td>0.0</td>\n",
       "      <td>0.0</td>\n",
       "      <td>0.0</td>\n",
       "      <td>0.0</td>\n",
       "      <td>1.0</td>\n",
       "      <td>0.0</td>\n",
       "      <td>0.0</td>\n",
       "      <td>0.0</td>\n",
       "      <td>35086</td>\n",
       "      <td>340.844844</td>\n",
       "      <td>259.419980</td>\n",
       "      <td>319.330429</td>\n",
       "      <td>402.629409</td>\n",
       "      <td>110354</td>\n",
       "      <td>360.052820</td>\n",
       "      <td>272.2800</td>\n",
       "      <td>330.370</td>\n",
       "      <td>424.3775</td>\n",
       "      <td>91826</td>\n",
       "      <td>363.817658</td>\n",
       "      <td>274.902517</td>\n",
       "      <td>341.808783</td>\n",
       "      <td>430.492305</td>\n",
       "    </tr>\n",
       "    <tr>\n",
       "      <th>113129</th>\n",
       "      <td>1988.0</td>\n",
       "      <td>2007.0</td>\n",
       "      <td>4</td>\n",
       "      <td>3</td>\n",
       "      <td>2626</td>\n",
       "      <td>100</td>\n",
       "      <td>9.0</td>\n",
       "      <td>2</td>\n",
       "      <td>372</td>\n",
       "      <td>2</td>\n",
       "      <td>1</td>\n",
       "      <td>1.0</td>\n",
       "      <td>55</td>\n",
       "      <td>158</td>\n",
       "      <td>3</td>\n",
       "      <td>690</td>\n",
       "      <td>5</td>\n",
       "      <td>1</td>\n",
       "      <td>1.0</td>\n",
       "      <td>1</td>\n",
       "      <td>37</td>\n",
       "      <td>1</td>\n",
       "      <td>1</td>\n",
       "      <td>1</td>\n",
       "      <td>0</td>\n",
       "      <td>19.0</td>\n",
       "      <td>0.0</td>\n",
       "      <td>1.0</td>\n",
       "      <td>0.0</td>\n",
       "      <td>0.0</td>\n",
       "      <td>0.0</td>\n",
       "      <td>0.0</td>\n",
       "      <td>0.0</td>\n",
       "      <td>1.0</td>\n",
       "      <td>0.0</td>\n",
       "      <td>0.0</td>\n",
       "      <td>35086</td>\n",
       "      <td>340.844844</td>\n",
       "      <td>259.419980</td>\n",
       "      <td>319.330429</td>\n",
       "      <td>402.629409</td>\n",
       "      <td>110354</td>\n",
       "      <td>360.052820</td>\n",
       "      <td>272.2800</td>\n",
       "      <td>330.370</td>\n",
       "      <td>424.3775</td>\n",
       "      <td>23369</td>\n",
       "      <td>296.880304</td>\n",
       "      <td>221.429119</td>\n",
       "      <td>280.141698</td>\n",
       "      <td>350.352716</td>\n",
       "    </tr>\n",
       "    <tr>\n",
       "      <th>113130</th>\n",
       "      <td>1988.0</td>\n",
       "      <td>2007.0</td>\n",
       "      <td>4</td>\n",
       "      <td>3</td>\n",
       "      <td>2626</td>\n",
       "      <td>118</td>\n",
       "      <td>9.0</td>\n",
       "      <td>2</td>\n",
       "      <td>372</td>\n",
       "      <td>2</td>\n",
       "      <td>1</td>\n",
       "      <td>1.0</td>\n",
       "      <td>55</td>\n",
       "      <td>158</td>\n",
       "      <td>3</td>\n",
       "      <td>690</td>\n",
       "      <td>5</td>\n",
       "      <td>1</td>\n",
       "      <td>1.0</td>\n",
       "      <td>1</td>\n",
       "      <td>37</td>\n",
       "      <td>1</td>\n",
       "      <td>1</td>\n",
       "      <td>1</td>\n",
       "      <td>0</td>\n",
       "      <td>19.0</td>\n",
       "      <td>0.0</td>\n",
       "      <td>1.0</td>\n",
       "      <td>0.0</td>\n",
       "      <td>0.0</td>\n",
       "      <td>0.0</td>\n",
       "      <td>0.0</td>\n",
       "      <td>0.0</td>\n",
       "      <td>1.0</td>\n",
       "      <td>0.0</td>\n",
       "      <td>0.0</td>\n",
       "      <td>35086</td>\n",
       "      <td>340.844844</td>\n",
       "      <td>259.419980</td>\n",
       "      <td>319.330429</td>\n",
       "      <td>402.629409</td>\n",
       "      <td>110354</td>\n",
       "      <td>360.052820</td>\n",
       "      <td>272.2800</td>\n",
       "      <td>330.370</td>\n",
       "      <td>424.3775</td>\n",
       "      <td>23369</td>\n",
       "      <td>296.880304</td>\n",
       "      <td>221.429119</td>\n",
       "      <td>280.141698</td>\n",
       "      <td>350.352716</td>\n",
       "    </tr>\n",
       "    <tr>\n",
       "      <th>117642</th>\n",
       "      <td>1986.0</td>\n",
       "      <td>2005.0</td>\n",
       "      <td>7</td>\n",
       "      <td>19</td>\n",
       "      <td>6244</td>\n",
       "      <td>50</td>\n",
       "      <td>11.0</td>\n",
       "      <td>1</td>\n",
       "      <td>372</td>\n",
       "      <td>0</td>\n",
       "      <td>1</td>\n",
       "      <td>20.0</td>\n",
       "      <td>60</td>\n",
       "      <td>142</td>\n",
       "      <td>19</td>\n",
       "      <td>975</td>\n",
       "      <td>5</td>\n",
       "      <td>0</td>\n",
       "      <td>1.0</td>\n",
       "      <td>2</td>\n",
       "      <td>24</td>\n",
       "      <td>2</td>\n",
       "      <td>0</td>\n",
       "      <td>1</td>\n",
       "      <td>0</td>\n",
       "      <td>19.0</td>\n",
       "      <td>0.0</td>\n",
       "      <td>1.0</td>\n",
       "      <td>0.0</td>\n",
       "      <td>0.0</td>\n",
       "      <td>0.0</td>\n",
       "      <td>1.0</td>\n",
       "      <td>0.0</td>\n",
       "      <td>0.0</td>\n",
       "      <td>0.0</td>\n",
       "      <td>0.0</td>\n",
       "      <td>73371</td>\n",
       "      <td>336.598258</td>\n",
       "      <td>253.334394</td>\n",
       "      <td>314.509360</td>\n",
       "      <td>398.650308</td>\n",
       "      <td>31471</td>\n",
       "      <td>323.086869</td>\n",
       "      <td>246.4650</td>\n",
       "      <td>301.030</td>\n",
       "      <td>375.9100</td>\n",
       "      <td>5357</td>\n",
       "      <td>298.593719</td>\n",
       "      <td>220.781801</td>\n",
       "      <td>280.351195</td>\n",
       "      <td>354.067195</td>\n",
       "    </tr>\n",
       "    <tr>\n",
       "      <th>117643</th>\n",
       "      <td>1986.0</td>\n",
       "      <td>2005.0</td>\n",
       "      <td>7</td>\n",
       "      <td>19</td>\n",
       "      <td>6244</td>\n",
       "      <td>50</td>\n",
       "      <td>11.0</td>\n",
       "      <td>1</td>\n",
       "      <td>372</td>\n",
       "      <td>0</td>\n",
       "      <td>1</td>\n",
       "      <td>20.0</td>\n",
       "      <td>60</td>\n",
       "      <td>142</td>\n",
       "      <td>19</td>\n",
       "      <td>975</td>\n",
       "      <td>5</td>\n",
       "      <td>0</td>\n",
       "      <td>1.0</td>\n",
       "      <td>2</td>\n",
       "      <td>24</td>\n",
       "      <td>2</td>\n",
       "      <td>0</td>\n",
       "      <td>1</td>\n",
       "      <td>0</td>\n",
       "      <td>19.0</td>\n",
       "      <td>0.0</td>\n",
       "      <td>1.0</td>\n",
       "      <td>0.0</td>\n",
       "      <td>0.0</td>\n",
       "      <td>0.0</td>\n",
       "      <td>1.0</td>\n",
       "      <td>0.0</td>\n",
       "      <td>0.0</td>\n",
       "      <td>0.0</td>\n",
       "      <td>0.0</td>\n",
       "      <td>73371</td>\n",
       "      <td>336.598258</td>\n",
       "      <td>253.334394</td>\n",
       "      <td>314.509360</td>\n",
       "      <td>398.650308</td>\n",
       "      <td>31471</td>\n",
       "      <td>323.086869</td>\n",
       "      <td>246.4650</td>\n",
       "      <td>301.030</td>\n",
       "      <td>375.9100</td>\n",
       "      <td>5357</td>\n",
       "      <td>298.593719</td>\n",
       "      <td>220.781801</td>\n",
       "      <td>280.351195</td>\n",
       "      <td>354.067195</td>\n",
       "    </tr>\n",
       "    <tr>\n",
       "      <th>118937</th>\n",
       "      <td>1987.0</td>\n",
       "      <td>2006.0</td>\n",
       "      <td>7</td>\n",
       "      <td>0</td>\n",
       "      <td>6324</td>\n",
       "      <td>100</td>\n",
       "      <td>10.0</td>\n",
       "      <td>5</td>\n",
       "      <td>372</td>\n",
       "      <td>1</td>\n",
       "      <td>1</td>\n",
       "      <td>1.0</td>\n",
       "      <td>103</td>\n",
       "      <td>185</td>\n",
       "      <td>0</td>\n",
       "      <td>1000</td>\n",
       "      <td>3</td>\n",
       "      <td>2</td>\n",
       "      <td>4.0</td>\n",
       "      <td>1</td>\n",
       "      <td>24</td>\n",
       "      <td>3</td>\n",
       "      <td>1</td>\n",
       "      <td>1</td>\n",
       "      <td>0</td>\n",
       "      <td>19.0</td>\n",
       "      <td>0.0</td>\n",
       "      <td>1.0</td>\n",
       "      <td>0.0</td>\n",
       "      <td>0.0</td>\n",
       "      <td>0.0</td>\n",
       "      <td>0.0</td>\n",
       "      <td>1.0</td>\n",
       "      <td>0.0</td>\n",
       "      <td>0.0</td>\n",
       "      <td>0.0</td>\n",
       "      <td>1579</td>\n",
       "      <td>333.450088</td>\n",
       "      <td>257.629711</td>\n",
       "      <td>315.799687</td>\n",
       "      <td>394.003689</td>\n",
       "      <td>13273</td>\n",
       "      <td>361.846247</td>\n",
       "      <td>272.9800</td>\n",
       "      <td>340.950</td>\n",
       "      <td>430.1100</td>\n",
       "      <td>91826</td>\n",
       "      <td>363.817658</td>\n",
       "      <td>274.902517</td>\n",
       "      <td>341.808783</td>\n",
       "      <td>430.492305</td>\n",
       "    </tr>\n",
       "    <tr>\n",
       "      <th>118938</th>\n",
       "      <td>1987.0</td>\n",
       "      <td>2006.0</td>\n",
       "      <td>7</td>\n",
       "      <td>0</td>\n",
       "      <td>6324</td>\n",
       "      <td>100</td>\n",
       "      <td>10.0</td>\n",
       "      <td>5</td>\n",
       "      <td>372</td>\n",
       "      <td>1</td>\n",
       "      <td>1</td>\n",
       "      <td>1.0</td>\n",
       "      <td>103</td>\n",
       "      <td>185</td>\n",
       "      <td>0</td>\n",
       "      <td>1000</td>\n",
       "      <td>3</td>\n",
       "      <td>2</td>\n",
       "      <td>4.0</td>\n",
       "      <td>1</td>\n",
       "      <td>24</td>\n",
       "      <td>3</td>\n",
       "      <td>1</td>\n",
       "      <td>1</td>\n",
       "      <td>0</td>\n",
       "      <td>19.0</td>\n",
       "      <td>0.0</td>\n",
       "      <td>1.0</td>\n",
       "      <td>0.0</td>\n",
       "      <td>0.0</td>\n",
       "      <td>0.0</td>\n",
       "      <td>0.0</td>\n",
       "      <td>1.0</td>\n",
       "      <td>0.0</td>\n",
       "      <td>0.0</td>\n",
       "      <td>0.0</td>\n",
       "      <td>1579</td>\n",
       "      <td>333.450088</td>\n",
       "      <td>257.629711</td>\n",
       "      <td>315.799687</td>\n",
       "      <td>394.003689</td>\n",
       "      <td>13273</td>\n",
       "      <td>361.846247</td>\n",
       "      <td>272.9800</td>\n",
       "      <td>340.950</td>\n",
       "      <td>430.1100</td>\n",
       "      <td>91826</td>\n",
       "      <td>363.817658</td>\n",
       "      <td>274.902517</td>\n",
       "      <td>341.808783</td>\n",
       "      <td>430.492305</td>\n",
       "    </tr>\n",
       "    <tr>\n",
       "      <th>120300</th>\n",
       "      <td>1991.0</td>\n",
       "      <td>2011.0</td>\n",
       "      <td>4</td>\n",
       "      <td>40</td>\n",
       "      <td>3052</td>\n",
       "      <td>90</td>\n",
       "      <td>5.0</td>\n",
       "      <td>4</td>\n",
       "      <td>272</td>\n",
       "      <td>0</td>\n",
       "      <td>2</td>\n",
       "      <td>1.0</td>\n",
       "      <td>61</td>\n",
       "      <td>158</td>\n",
       "      <td>40</td>\n",
       "      <td>932</td>\n",
       "      <td>3</td>\n",
       "      <td>0</td>\n",
       "      <td>4.0</td>\n",
       "      <td>1</td>\n",
       "      <td>23</td>\n",
       "      <td>0</td>\n",
       "      <td>1</td>\n",
       "      <td>1</td>\n",
       "      <td>1</td>\n",
       "      <td>20.0</td>\n",
       "      <td>0.0</td>\n",
       "      <td>1.0</td>\n",
       "      <td>0.0</td>\n",
       "      <td>0.0</td>\n",
       "      <td>0.0</td>\n",
       "      <td>0.0</td>\n",
       "      <td>1.0</td>\n",
       "      <td>0.0</td>\n",
       "      <td>0.0</td>\n",
       "      <td>0.0</td>\n",
       "      <td>35086</td>\n",
       "      <td>340.844844</td>\n",
       "      <td>259.419980</td>\n",
       "      <td>319.330429</td>\n",
       "      <td>402.629409</td>\n",
       "      <td>10424</td>\n",
       "      <td>317.036089</td>\n",
       "      <td>244.5775</td>\n",
       "      <td>297.725</td>\n",
       "      <td>366.5775</td>\n",
       "      <td>66389</td>\n",
       "      <td>358.238655</td>\n",
       "      <td>264.680191</td>\n",
       "      <td>335.825067</td>\n",
       "      <td>428.769809</td>\n",
       "    </tr>\n",
       "    <tr>\n",
       "      <th>120301</th>\n",
       "      <td>1991.0</td>\n",
       "      <td>2011.0</td>\n",
       "      <td>4</td>\n",
       "      <td>40</td>\n",
       "      <td>3052</td>\n",
       "      <td>83</td>\n",
       "      <td>5.0</td>\n",
       "      <td>4</td>\n",
       "      <td>272</td>\n",
       "      <td>0</td>\n",
       "      <td>2</td>\n",
       "      <td>1.0</td>\n",
       "      <td>61</td>\n",
       "      <td>158</td>\n",
       "      <td>40</td>\n",
       "      <td>932</td>\n",
       "      <td>3</td>\n",
       "      <td>0</td>\n",
       "      <td>4.0</td>\n",
       "      <td>1</td>\n",
       "      <td>23</td>\n",
       "      <td>0</td>\n",
       "      <td>1</td>\n",
       "      <td>1</td>\n",
       "      <td>1</td>\n",
       "      <td>20.0</td>\n",
       "      <td>0.0</td>\n",
       "      <td>1.0</td>\n",
       "      <td>0.0</td>\n",
       "      <td>0.0</td>\n",
       "      <td>0.0</td>\n",
       "      <td>0.0</td>\n",
       "      <td>1.0</td>\n",
       "      <td>0.0</td>\n",
       "      <td>0.0</td>\n",
       "      <td>0.0</td>\n",
       "      <td>35086</td>\n",
       "      <td>340.844844</td>\n",
       "      <td>259.419980</td>\n",
       "      <td>319.330429</td>\n",
       "      <td>402.629409</td>\n",
       "      <td>10424</td>\n",
       "      <td>317.036089</td>\n",
       "      <td>244.5775</td>\n",
       "      <td>297.725</td>\n",
       "      <td>366.5775</td>\n",
       "      <td>66389</td>\n",
       "      <td>358.238655</td>\n",
       "      <td>264.680191</td>\n",
       "      <td>335.825067</td>\n",
       "      <td>428.769809</td>\n",
       "    </tr>\n",
       "    <tr>\n",
       "      <th>135599</th>\n",
       "      <td>1984.0</td>\n",
       "      <td>2003.0</td>\n",
       "      <td>4</td>\n",
       "      <td>2</td>\n",
       "      <td>2683</td>\n",
       "      <td>90</td>\n",
       "      <td>13.0</td>\n",
       "      <td>5</td>\n",
       "      <td>372</td>\n",
       "      <td>2</td>\n",
       "      <td>1</td>\n",
       "      <td>1.0</td>\n",
       "      <td>34</td>\n",
       "      <td>122</td>\n",
       "      <td>2</td>\n",
       "      <td>720</td>\n",
       "      <td>5</td>\n",
       "      <td>2</td>\n",
       "      <td>1.0</td>\n",
       "      <td>2</td>\n",
       "      <td>26</td>\n",
       "      <td>0</td>\n",
       "      <td>1</td>\n",
       "      <td>1</td>\n",
       "      <td>1</td>\n",
       "      <td>19.0</td>\n",
       "      <td>0.0</td>\n",
       "      <td>1.0</td>\n",
       "      <td>0.0</td>\n",
       "      <td>0.0</td>\n",
       "      <td>0.0</td>\n",
       "      <td>1.0</td>\n",
       "      <td>0.0</td>\n",
       "      <td>0.0</td>\n",
       "      <td>0.0</td>\n",
       "      <td>0.0</td>\n",
       "      <td>73371</td>\n",
       "      <td>336.598258</td>\n",
       "      <td>253.334394</td>\n",
       "      <td>314.509360</td>\n",
       "      <td>398.650308</td>\n",
       "      <td>110354</td>\n",
       "      <td>360.052820</td>\n",
       "      <td>272.2800</td>\n",
       "      <td>330.370</td>\n",
       "      <td>424.3775</td>\n",
       "      <td>66389</td>\n",
       "      <td>358.238655</td>\n",
       "      <td>264.680191</td>\n",
       "      <td>335.825067</td>\n",
       "      <td>428.769809</td>\n",
       "    </tr>\n",
       "    <tr>\n",
       "      <th>135600</th>\n",
       "      <td>1984.0</td>\n",
       "      <td>2003.0</td>\n",
       "      <td>4</td>\n",
       "      <td>2</td>\n",
       "      <td>2683</td>\n",
       "      <td>90</td>\n",
       "      <td>13.0</td>\n",
       "      <td>5</td>\n",
       "      <td>372</td>\n",
       "      <td>2</td>\n",
       "      <td>1</td>\n",
       "      <td>1.0</td>\n",
       "      <td>34</td>\n",
       "      <td>122</td>\n",
       "      <td>2</td>\n",
       "      <td>720</td>\n",
       "      <td>5</td>\n",
       "      <td>2</td>\n",
       "      <td>1.0</td>\n",
       "      <td>2</td>\n",
       "      <td>26</td>\n",
       "      <td>0</td>\n",
       "      <td>1</td>\n",
       "      <td>1</td>\n",
       "      <td>1</td>\n",
       "      <td>19.0</td>\n",
       "      <td>0.0</td>\n",
       "      <td>1.0</td>\n",
       "      <td>0.0</td>\n",
       "      <td>0.0</td>\n",
       "      <td>0.0</td>\n",
       "      <td>1.0</td>\n",
       "      <td>0.0</td>\n",
       "      <td>0.0</td>\n",
       "      <td>0.0</td>\n",
       "      <td>0.0</td>\n",
       "      <td>73371</td>\n",
       "      <td>336.598258</td>\n",
       "      <td>253.334394</td>\n",
       "      <td>314.509360</td>\n",
       "      <td>398.650308</td>\n",
       "      <td>110354</td>\n",
       "      <td>360.052820</td>\n",
       "      <td>272.2800</td>\n",
       "      <td>330.370</td>\n",
       "      <td>424.3775</td>\n",
       "      <td>66389</td>\n",
       "      <td>358.238655</td>\n",
       "      <td>264.680191</td>\n",
       "      <td>335.825067</td>\n",
       "      <td>428.769809</td>\n",
       "    </tr>\n",
       "    <tr>\n",
       "      <th>137865</th>\n",
       "      <td>1979.0</td>\n",
       "      <td>1998.0</td>\n",
       "      <td>10</td>\n",
       "      <td>2</td>\n",
       "      <td>7127</td>\n",
       "      <td>50</td>\n",
       "      <td>18.0</td>\n",
       "      <td>0</td>\n",
       "      <td>372</td>\n",
       "      <td>0</td>\n",
       "      <td>2</td>\n",
       "      <td>5.0</td>\n",
       "      <td>147</td>\n",
       "      <td>212</td>\n",
       "      <td>2</td>\n",
       "      <td>1270</td>\n",
       "      <td>2</td>\n",
       "      <td>1</td>\n",
       "      <td>1.0</td>\n",
       "      <td>4</td>\n",
       "      <td>20</td>\n",
       "      <td>1</td>\n",
       "      <td>1</td>\n",
       "      <td>1</td>\n",
       "      <td>0</td>\n",
       "      <td>19.0</td>\n",
       "      <td>0.0</td>\n",
       "      <td>1.0</td>\n",
       "      <td>0.0</td>\n",
       "      <td>0.0</td>\n",
       "      <td>0.0</td>\n",
       "      <td>0.0</td>\n",
       "      <td>0.0</td>\n",
       "      <td>1.0</td>\n",
       "      <td>0.0</td>\n",
       "      <td>0.0</td>\n",
       "      <td>11316</td>\n",
       "      <td>343.936994</td>\n",
       "      <td>261.116258</td>\n",
       "      <td>323.655746</td>\n",
       "      <td>406.058685</td>\n",
       "      <td>110354</td>\n",
       "      <td>360.052820</td>\n",
       "      <td>272.2800</td>\n",
       "      <td>330.370</td>\n",
       "      <td>424.3775</td>\n",
       "      <td>54018</td>\n",
       "      <td>349.780423</td>\n",
       "      <td>269.352408</td>\n",
       "      <td>326.464964</td>\n",
       "      <td>408.151470</td>\n",
       "    </tr>\n",
       "    <tr>\n",
       "      <th>137866</th>\n",
       "      <td>1979.0</td>\n",
       "      <td>1998.0</td>\n",
       "      <td>10</td>\n",
       "      <td>2</td>\n",
       "      <td>7127</td>\n",
       "      <td>50</td>\n",
       "      <td>18.0</td>\n",
       "      <td>0</td>\n",
       "      <td>372</td>\n",
       "      <td>0</td>\n",
       "      <td>2</td>\n",
       "      <td>5.0</td>\n",
       "      <td>147</td>\n",
       "      <td>212</td>\n",
       "      <td>2</td>\n",
       "      <td>1270</td>\n",
       "      <td>2</td>\n",
       "      <td>1</td>\n",
       "      <td>1.0</td>\n",
       "      <td>4</td>\n",
       "      <td>20</td>\n",
       "      <td>1</td>\n",
       "      <td>1</td>\n",
       "      <td>1</td>\n",
       "      <td>0</td>\n",
       "      <td>19.0</td>\n",
       "      <td>0.0</td>\n",
       "      <td>1.0</td>\n",
       "      <td>0.0</td>\n",
       "      <td>0.0</td>\n",
       "      <td>0.0</td>\n",
       "      <td>0.0</td>\n",
       "      <td>0.0</td>\n",
       "      <td>1.0</td>\n",
       "      <td>0.0</td>\n",
       "      <td>0.0</td>\n",
       "      <td>11316</td>\n",
       "      <td>343.936994</td>\n",
       "      <td>261.116258</td>\n",
       "      <td>323.655746</td>\n",
       "      <td>406.058685</td>\n",
       "      <td>110354</td>\n",
       "      <td>360.052820</td>\n",
       "      <td>272.2800</td>\n",
       "      <td>330.370</td>\n",
       "      <td>424.3775</td>\n",
       "      <td>54018</td>\n",
       "      <td>349.780423</td>\n",
       "      <td>269.352408</td>\n",
       "      <td>326.464964</td>\n",
       "      <td>408.151470</td>\n",
       "    </tr>\n",
       "    <tr>\n",
       "      <th>142956</th>\n",
       "      <td>1989.0</td>\n",
       "      <td>2008.0</td>\n",
       "      <td>6</td>\n",
       "      <td>19</td>\n",
       "      <td>6870</td>\n",
       "      <td>85</td>\n",
       "      <td>8.0</td>\n",
       "      <td>2</td>\n",
       "      <td>372</td>\n",
       "      <td>1</td>\n",
       "      <td>1</td>\n",
       "      <td>1.0</td>\n",
       "      <td>110</td>\n",
       "      <td>193</td>\n",
       "      <td>19</td>\n",
       "      <td>1180</td>\n",
       "      <td>3</td>\n",
       "      <td>3</td>\n",
       "      <td>1.0</td>\n",
       "      <td>4</td>\n",
       "      <td>30</td>\n",
       "      <td>0</td>\n",
       "      <td>1</td>\n",
       "      <td>1</td>\n",
       "      <td>2</td>\n",
       "      <td>19.0</td>\n",
       "      <td>0.0</td>\n",
       "      <td>0.0</td>\n",
       "      <td>1.0</td>\n",
       "      <td>0.0</td>\n",
       "      <td>0.0</td>\n",
       "      <td>0.0</td>\n",
       "      <td>0.0</td>\n",
       "      <td>1.0</td>\n",
       "      <td>0.0</td>\n",
       "      <td>0.0</td>\n",
       "      <td>5603</td>\n",
       "      <td>336.903905</td>\n",
       "      <td>260.562722</td>\n",
       "      <td>314.149438</td>\n",
       "      <td>394.614844</td>\n",
       "      <td>31471</td>\n",
       "      <td>323.086869</td>\n",
       "      <td>246.4650</td>\n",
       "      <td>301.030</td>\n",
       "      <td>375.9100</td>\n",
       "      <td>91826</td>\n",
       "      <td>363.817658</td>\n",
       "      <td>274.902517</td>\n",
       "      <td>341.808783</td>\n",
       "      <td>430.492305</td>\n",
       "    </tr>\n",
       "    <tr>\n",
       "      <th>142957</th>\n",
       "      <td>1989.0</td>\n",
       "      <td>2008.0</td>\n",
       "      <td>6</td>\n",
       "      <td>19</td>\n",
       "      <td>6870</td>\n",
       "      <td>90</td>\n",
       "      <td>8.0</td>\n",
       "      <td>2</td>\n",
       "      <td>372</td>\n",
       "      <td>1</td>\n",
       "      <td>1</td>\n",
       "      <td>1.0</td>\n",
       "      <td>110</td>\n",
       "      <td>193</td>\n",
       "      <td>19</td>\n",
       "      <td>1180</td>\n",
       "      <td>3</td>\n",
       "      <td>3</td>\n",
       "      <td>1.0</td>\n",
       "      <td>4</td>\n",
       "      <td>30</td>\n",
       "      <td>0</td>\n",
       "      <td>1</td>\n",
       "      <td>1</td>\n",
       "      <td>2</td>\n",
       "      <td>19.0</td>\n",
       "      <td>0.0</td>\n",
       "      <td>0.0</td>\n",
       "      <td>1.0</td>\n",
       "      <td>0.0</td>\n",
       "      <td>0.0</td>\n",
       "      <td>0.0</td>\n",
       "      <td>0.0</td>\n",
       "      <td>1.0</td>\n",
       "      <td>0.0</td>\n",
       "      <td>0.0</td>\n",
       "      <td>5603</td>\n",
       "      <td>336.903905</td>\n",
       "      <td>260.562722</td>\n",
       "      <td>314.149438</td>\n",
       "      <td>394.614844</td>\n",
       "      <td>31471</td>\n",
       "      <td>323.086869</td>\n",
       "      <td>246.4650</td>\n",
       "      <td>301.030</td>\n",
       "      <td>375.9100</td>\n",
       "      <td>91826</td>\n",
       "      <td>363.817658</td>\n",
       "      <td>274.902517</td>\n",
       "      <td>341.808783</td>\n",
       "      <td>430.492305</td>\n",
       "    </tr>\n",
       "    <tr>\n",
       "      <th>170937</th>\n",
       "      <td>1989.0</td>\n",
       "      <td>2008.0</td>\n",
       "      <td>5</td>\n",
       "      <td>0</td>\n",
       "      <td>7183</td>\n",
       "      <td>100</td>\n",
       "      <td>8.0</td>\n",
       "      <td>3</td>\n",
       "      <td>272</td>\n",
       "      <td>0</td>\n",
       "      <td>1</td>\n",
       "      <td>10.0</td>\n",
       "      <td>80</td>\n",
       "      <td>162</td>\n",
       "      <td>0</td>\n",
       "      <td>1290</td>\n",
       "      <td>5</td>\n",
       "      <td>2</td>\n",
       "      <td>4.0</td>\n",
       "      <td>1</td>\n",
       "      <td>24</td>\n",
       "      <td>0</td>\n",
       "      <td>1</td>\n",
       "      <td>1</td>\n",
       "      <td>2</td>\n",
       "      <td>19.0</td>\n",
       "      <td>0.0</td>\n",
       "      <td>0.0</td>\n",
       "      <td>1.0</td>\n",
       "      <td>0.0</td>\n",
       "      <td>0.0</td>\n",
       "      <td>0.0</td>\n",
       "      <td>1.0</td>\n",
       "      <td>0.0</td>\n",
       "      <td>0.0</td>\n",
       "      <td>0.0</td>\n",
       "      <td>73371</td>\n",
       "      <td>336.598258</td>\n",
       "      <td>253.334394</td>\n",
       "      <td>314.509360</td>\n",
       "      <td>398.650308</td>\n",
       "      <td>10424</td>\n",
       "      <td>317.036089</td>\n",
       "      <td>244.5775</td>\n",
       "      <td>297.725</td>\n",
       "      <td>366.5775</td>\n",
       "      <td>91826</td>\n",
       "      <td>363.817658</td>\n",
       "      <td>274.902517</td>\n",
       "      <td>341.808783</td>\n",
       "      <td>430.492305</td>\n",
       "    </tr>\n",
       "    <tr>\n",
       "      <th>170938</th>\n",
       "      <td>1989.0</td>\n",
       "      <td>2008.0</td>\n",
       "      <td>5</td>\n",
       "      <td>0</td>\n",
       "      <td>7183</td>\n",
       "      <td>100</td>\n",
       "      <td>8.0</td>\n",
       "      <td>3</td>\n",
       "      <td>272</td>\n",
       "      <td>0</td>\n",
       "      <td>1</td>\n",
       "      <td>10.0</td>\n",
       "      <td>80</td>\n",
       "      <td>162</td>\n",
       "      <td>0</td>\n",
       "      <td>1290</td>\n",
       "      <td>5</td>\n",
       "      <td>2</td>\n",
       "      <td>4.0</td>\n",
       "      <td>1</td>\n",
       "      <td>24</td>\n",
       "      <td>0</td>\n",
       "      <td>1</td>\n",
       "      <td>1</td>\n",
       "      <td>2</td>\n",
       "      <td>19.0</td>\n",
       "      <td>0.0</td>\n",
       "      <td>0.0</td>\n",
       "      <td>1.0</td>\n",
       "      <td>0.0</td>\n",
       "      <td>0.0</td>\n",
       "      <td>0.0</td>\n",
       "      <td>1.0</td>\n",
       "      <td>0.0</td>\n",
       "      <td>0.0</td>\n",
       "      <td>0.0</td>\n",
       "      <td>73371</td>\n",
       "      <td>336.598258</td>\n",
       "      <td>253.334394</td>\n",
       "      <td>314.509360</td>\n",
       "      <td>398.650308</td>\n",
       "      <td>10424</td>\n",
       "      <td>317.036089</td>\n",
       "      <td>244.5775</td>\n",
       "      <td>297.725</td>\n",
       "      <td>366.5775</td>\n",
       "      <td>91826</td>\n",
       "      <td>363.817658</td>\n",
       "      <td>274.902517</td>\n",
       "      <td>341.808783</td>\n",
       "      <td>430.492305</td>\n",
       "    </tr>\n",
       "    <tr>\n",
       "      <th>170940</th>\n",
       "      <td>1991.0</td>\n",
       "      <td>2010.0</td>\n",
       "      <td>5</td>\n",
       "      <td>2</td>\n",
       "      <td>7099</td>\n",
       "      <td>72</td>\n",
       "      <td>6.0</td>\n",
       "      <td>4</td>\n",
       "      <td>372</td>\n",
       "      <td>3</td>\n",
       "      <td>2</td>\n",
       "      <td>1.0</td>\n",
       "      <td>110</td>\n",
       "      <td>193</td>\n",
       "      <td>2</td>\n",
       "      <td>1260</td>\n",
       "      <td>5</td>\n",
       "      <td>1</td>\n",
       "      <td>1.0</td>\n",
       "      <td>1</td>\n",
       "      <td>23</td>\n",
       "      <td>0</td>\n",
       "      <td>1</td>\n",
       "      <td>1</td>\n",
       "      <td>1</td>\n",
       "      <td>19.0</td>\n",
       "      <td>0.0</td>\n",
       "      <td>0.0</td>\n",
       "      <td>1.0</td>\n",
       "      <td>0.0</td>\n",
       "      <td>0.0</td>\n",
       "      <td>1.0</td>\n",
       "      <td>0.0</td>\n",
       "      <td>0.0</td>\n",
       "      <td>0.0</td>\n",
       "      <td>0.0</td>\n",
       "      <td>20023</td>\n",
       "      <td>366.939768</td>\n",
       "      <td>276.947978</td>\n",
       "      <td>344.918169</td>\n",
       "      <td>436.061776</td>\n",
       "      <td>110354</td>\n",
       "      <td>360.052820</td>\n",
       "      <td>272.2800</td>\n",
       "      <td>330.370</td>\n",
       "      <td>424.3775</td>\n",
       "      <td>91826</td>\n",
       "      <td>363.817658</td>\n",
       "      <td>274.902517</td>\n",
       "      <td>341.808783</td>\n",
       "      <td>430.492305</td>\n",
       "    </tr>\n",
       "    <tr>\n",
       "      <th>170941</th>\n",
       "      <td>1991.0</td>\n",
       "      <td>2010.0</td>\n",
       "      <td>5</td>\n",
       "      <td>2</td>\n",
       "      <td>7099</td>\n",
       "      <td>76</td>\n",
       "      <td>6.0</td>\n",
       "      <td>4</td>\n",
       "      <td>372</td>\n",
       "      <td>3</td>\n",
       "      <td>2</td>\n",
       "      <td>1.0</td>\n",
       "      <td>110</td>\n",
       "      <td>193</td>\n",
       "      <td>2</td>\n",
       "      <td>1260</td>\n",
       "      <td>5</td>\n",
       "      <td>1</td>\n",
       "      <td>1.0</td>\n",
       "      <td>1</td>\n",
       "      <td>23</td>\n",
       "      <td>0</td>\n",
       "      <td>1</td>\n",
       "      <td>1</td>\n",
       "      <td>1</td>\n",
       "      <td>19.0</td>\n",
       "      <td>0.0</td>\n",
       "      <td>0.0</td>\n",
       "      <td>1.0</td>\n",
       "      <td>0.0</td>\n",
       "      <td>0.0</td>\n",
       "      <td>1.0</td>\n",
       "      <td>0.0</td>\n",
       "      <td>0.0</td>\n",
       "      <td>0.0</td>\n",
       "      <td>0.0</td>\n",
       "      <td>20023</td>\n",
       "      <td>366.939768</td>\n",
       "      <td>276.947978</td>\n",
       "      <td>344.918169</td>\n",
       "      <td>436.061776</td>\n",
       "      <td>110354</td>\n",
       "      <td>360.052820</td>\n",
       "      <td>272.2800</td>\n",
       "      <td>330.370</td>\n",
       "      <td>424.3775</td>\n",
       "      <td>91826</td>\n",
       "      <td>363.817658</td>\n",
       "      <td>274.902517</td>\n",
       "      <td>341.808783</td>\n",
       "      <td>430.492305</td>\n",
       "    </tr>\n",
       "    <tr>\n",
       "      <th>203651</th>\n",
       "      <td>1991.0</td>\n",
       "      <td>2010.0</td>\n",
       "      <td>6</td>\n",
       "      <td>41</td>\n",
       "      <td>7183</td>\n",
       "      <td>85</td>\n",
       "      <td>6.0</td>\n",
       "      <td>4</td>\n",
       "      <td>272</td>\n",
       "      <td>0</td>\n",
       "      <td>1</td>\n",
       "      <td>8.0</td>\n",
       "      <td>63</td>\n",
       "      <td>141</td>\n",
       "      <td>41</td>\n",
       "      <td>1290</td>\n",
       "      <td>5</td>\n",
       "      <td>0</td>\n",
       "      <td>4.0</td>\n",
       "      <td>1</td>\n",
       "      <td>24</td>\n",
       "      <td>1</td>\n",
       "      <td>1</td>\n",
       "      <td>1</td>\n",
       "      <td>0</td>\n",
       "      <td>19.0</td>\n",
       "      <td>0.0</td>\n",
       "      <td>0.0</td>\n",
       "      <td>1.0</td>\n",
       "      <td>0.0</td>\n",
       "      <td>0.0</td>\n",
       "      <td>0.0</td>\n",
       "      <td>0.0</td>\n",
       "      <td>1.0</td>\n",
       "      <td>0.0</td>\n",
       "      <td>0.0</td>\n",
       "      <td>11316</td>\n",
       "      <td>343.936994</td>\n",
       "      <td>261.116258</td>\n",
       "      <td>323.655746</td>\n",
       "      <td>406.058685</td>\n",
       "      <td>74960</td>\n",
       "      <td>345.846929</td>\n",
       "      <td>261.5800</td>\n",
       "      <td>327.515</td>\n",
       "      <td>409.5225</td>\n",
       "      <td>91826</td>\n",
       "      <td>363.817658</td>\n",
       "      <td>274.902517</td>\n",
       "      <td>341.808783</td>\n",
       "      <td>430.492305</td>\n",
       "    </tr>\n",
       "    <tr>\n",
       "      <th>203652</th>\n",
       "      <td>1991.0</td>\n",
       "      <td>2010.0</td>\n",
       "      <td>6</td>\n",
       "      <td>41</td>\n",
       "      <td>7183</td>\n",
       "      <td>80</td>\n",
       "      <td>6.0</td>\n",
       "      <td>4</td>\n",
       "      <td>272</td>\n",
       "      <td>0</td>\n",
       "      <td>1</td>\n",
       "      <td>8.0</td>\n",
       "      <td>63</td>\n",
       "      <td>141</td>\n",
       "      <td>41</td>\n",
       "      <td>1290</td>\n",
       "      <td>5</td>\n",
       "      <td>0</td>\n",
       "      <td>4.0</td>\n",
       "      <td>1</td>\n",
       "      <td>24</td>\n",
       "      <td>1</td>\n",
       "      <td>1</td>\n",
       "      <td>1</td>\n",
       "      <td>0</td>\n",
       "      <td>19.0</td>\n",
       "      <td>0.0</td>\n",
       "      <td>0.0</td>\n",
       "      <td>1.0</td>\n",
       "      <td>0.0</td>\n",
       "      <td>0.0</td>\n",
       "      <td>0.0</td>\n",
       "      <td>0.0</td>\n",
       "      <td>1.0</td>\n",
       "      <td>0.0</td>\n",
       "      <td>0.0</td>\n",
       "      <td>11316</td>\n",
       "      <td>343.936994</td>\n",
       "      <td>261.116258</td>\n",
       "      <td>323.655746</td>\n",
       "      <td>406.058685</td>\n",
       "      <td>74960</td>\n",
       "      <td>345.846929</td>\n",
       "      <td>261.5800</td>\n",
       "      <td>327.515</td>\n",
       "      <td>409.5225</td>\n",
       "      <td>91826</td>\n",
       "      <td>363.817658</td>\n",
       "      <td>274.902517</td>\n",
       "      <td>341.808783</td>\n",
       "      <td>430.492305</td>\n",
       "    </tr>\n",
       "    <tr>\n",
       "      <th>213018</th>\n",
       "      <td>1983.0</td>\n",
       "      <td>2002.0</td>\n",
       "      <td>13</td>\n",
       "      <td>0</td>\n",
       "      <td>13416</td>\n",
       "      <td>50</td>\n",
       "      <td>14.0</td>\n",
       "      <td>1</td>\n",
       "      <td>372</td>\n",
       "      <td>0</td>\n",
       "      <td>2</td>\n",
       "      <td>11.0</td>\n",
       "      <td>211</td>\n",
       "      <td>200</td>\n",
       "      <td>0</td>\n",
       "      <td>2000</td>\n",
       "      <td>4</td>\n",
       "      <td>1</td>\n",
       "      <td>1.0</td>\n",
       "      <td>4</td>\n",
       "      <td>20</td>\n",
       "      <td>2</td>\n",
       "      <td>0</td>\n",
       "      <td>1</td>\n",
       "      <td>0</td>\n",
       "      <td>19.0</td>\n",
       "      <td>0.0</td>\n",
       "      <td>0.0</td>\n",
       "      <td>0.0</td>\n",
       "      <td>0.0</td>\n",
       "      <td>1.0</td>\n",
       "      <td>0.0</td>\n",
       "      <td>0.0</td>\n",
       "      <td>0.0</td>\n",
       "      <td>1.0</td>\n",
       "      <td>0.0</td>\n",
       "      <td>179</td>\n",
       "      <td>343.552538</td>\n",
       "      <td>266.581679</td>\n",
       "      <td>322.669028</td>\n",
       "      <td>398.901937</td>\n",
       "      <td>13273</td>\n",
       "      <td>361.846247</td>\n",
       "      <td>272.9800</td>\n",
       "      <td>340.950</td>\n",
       "      <td>430.1100</td>\n",
       "      <td>2710</td>\n",
       "      <td>316.996422</td>\n",
       "      <td>252.330724</td>\n",
       "      <td>301.383816</td>\n",
       "      <td>359.264533</td>\n",
       "    </tr>\n",
       "    <tr>\n",
       "      <th>213019</th>\n",
       "      <td>1983.0</td>\n",
       "      <td>2002.0</td>\n",
       "      <td>13</td>\n",
       "      <td>0</td>\n",
       "      <td>13416</td>\n",
       "      <td>50</td>\n",
       "      <td>14.0</td>\n",
       "      <td>1</td>\n",
       "      <td>372</td>\n",
       "      <td>0</td>\n",
       "      <td>2</td>\n",
       "      <td>11.0</td>\n",
       "      <td>211</td>\n",
       "      <td>200</td>\n",
       "      <td>0</td>\n",
       "      <td>2000</td>\n",
       "      <td>4</td>\n",
       "      <td>1</td>\n",
       "      <td>1.0</td>\n",
       "      <td>4</td>\n",
       "      <td>20</td>\n",
       "      <td>2</td>\n",
       "      <td>0</td>\n",
       "      <td>1</td>\n",
       "      <td>0</td>\n",
       "      <td>19.0</td>\n",
       "      <td>0.0</td>\n",
       "      <td>0.0</td>\n",
       "      <td>0.0</td>\n",
       "      <td>0.0</td>\n",
       "      <td>1.0</td>\n",
       "      <td>0.0</td>\n",
       "      <td>0.0</td>\n",
       "      <td>0.0</td>\n",
       "      <td>1.0</td>\n",
       "      <td>0.0</td>\n",
       "      <td>179</td>\n",
       "      <td>343.552538</td>\n",
       "      <td>266.581679</td>\n",
       "      <td>322.669028</td>\n",
       "      <td>398.901937</td>\n",
       "      <td>13273</td>\n",
       "      <td>361.846247</td>\n",
       "      <td>272.9800</td>\n",
       "      <td>340.950</td>\n",
       "      <td>430.1100</td>\n",
       "      <td>2710</td>\n",
       "      <td>316.996422</td>\n",
       "      <td>252.330724</td>\n",
       "      <td>301.383816</td>\n",
       "      <td>359.264533</td>\n",
       "    </tr>\n",
       "    <tr>\n",
       "      <th>218165</th>\n",
       "      <td>1986.0</td>\n",
       "      <td>2005.0</td>\n",
       "      <td>10</td>\n",
       "      <td>0</td>\n",
       "      <td>6985</td>\n",
       "      <td>50</td>\n",
       "      <td>11.0</td>\n",
       "      <td>4</td>\n",
       "      <td>372</td>\n",
       "      <td>0</td>\n",
       "      <td>2</td>\n",
       "      <td>11.0</td>\n",
       "      <td>149</td>\n",
       "      <td>185</td>\n",
       "      <td>0</td>\n",
       "      <td>1220</td>\n",
       "      <td>3</td>\n",
       "      <td>2</td>\n",
       "      <td>0.0</td>\n",
       "      <td>1</td>\n",
       "      <td>23</td>\n",
       "      <td>0</td>\n",
       "      <td>0</td>\n",
       "      <td>1</td>\n",
       "      <td>1</td>\n",
       "      <td>19.0</td>\n",
       "      <td>0.0</td>\n",
       "      <td>1.0</td>\n",
       "      <td>0.0</td>\n",
       "      <td>0.0</td>\n",
       "      <td>0.0</td>\n",
       "      <td>0.0</td>\n",
       "      <td>1.0</td>\n",
       "      <td>0.0</td>\n",
       "      <td>0.0</td>\n",
       "      <td>0.0</td>\n",
       "      <td>8944</td>\n",
       "      <td>359.080563</td>\n",
       "      <td>280.728319</td>\n",
       "      <td>333.647090</td>\n",
       "      <td>410.525845</td>\n",
       "      <td>4852</td>\n",
       "      <td>322.581082</td>\n",
       "      <td>247.5200</td>\n",
       "      <td>301.335</td>\n",
       "      <td>369.6525</td>\n",
       "      <td>6525</td>\n",
       "      <td>338.698721</td>\n",
       "      <td>267.595089</td>\n",
       "      <td>318.650178</td>\n",
       "      <td>384.381530</td>\n",
       "    </tr>\n",
       "    <tr>\n",
       "      <th>218166</th>\n",
       "      <td>1986.0</td>\n",
       "      <td>2005.0</td>\n",
       "      <td>10</td>\n",
       "      <td>0</td>\n",
       "      <td>6985</td>\n",
       "      <td>50</td>\n",
       "      <td>11.0</td>\n",
       "      <td>4</td>\n",
       "      <td>372</td>\n",
       "      <td>0</td>\n",
       "      <td>2</td>\n",
       "      <td>11.0</td>\n",
       "      <td>149</td>\n",
       "      <td>185</td>\n",
       "      <td>0</td>\n",
       "      <td>1220</td>\n",
       "      <td>3</td>\n",
       "      <td>2</td>\n",
       "      <td>0.0</td>\n",
       "      <td>1</td>\n",
       "      <td>23</td>\n",
       "      <td>0</td>\n",
       "      <td>0</td>\n",
       "      <td>1</td>\n",
       "      <td>1</td>\n",
       "      <td>19.0</td>\n",
       "      <td>0.0</td>\n",
       "      <td>1.0</td>\n",
       "      <td>0.0</td>\n",
       "      <td>0.0</td>\n",
       "      <td>0.0</td>\n",
       "      <td>0.0</td>\n",
       "      <td>1.0</td>\n",
       "      <td>0.0</td>\n",
       "      <td>0.0</td>\n",
       "      <td>0.0</td>\n",
       "      <td>8944</td>\n",
       "      <td>359.080563</td>\n",
       "      <td>280.728319</td>\n",
       "      <td>333.647090</td>\n",
       "      <td>410.525845</td>\n",
       "      <td>4852</td>\n",
       "      <td>322.581082</td>\n",
       "      <td>247.5200</td>\n",
       "      <td>301.335</td>\n",
       "      <td>369.6525</td>\n",
       "      <td>6525</td>\n",
       "      <td>338.698721</td>\n",
       "      <td>267.595089</td>\n",
       "      <td>318.650178</td>\n",
       "      <td>384.381530</td>\n",
       "    </tr>\n",
       "    <tr>\n",
       "      <th>242977</th>\n",
       "      <td>1985.0</td>\n",
       "      <td>2004.0</td>\n",
       "      <td>4</td>\n",
       "      <td>1</td>\n",
       "      <td>2792</td>\n",
       "      <td>112</td>\n",
       "      <td>12.0</td>\n",
       "      <td>1</td>\n",
       "      <td>372</td>\n",
       "      <td>2</td>\n",
       "      <td>1</td>\n",
       "      <td>1.0</td>\n",
       "      <td>60</td>\n",
       "      <td>165</td>\n",
       "      <td>1</td>\n",
       "      <td>780</td>\n",
       "      <td>3</td>\n",
       "      <td>3</td>\n",
       "      <td>1.0</td>\n",
       "      <td>1</td>\n",
       "      <td>23</td>\n",
       "      <td>0</td>\n",
       "      <td>0</td>\n",
       "      <td>1</td>\n",
       "      <td>0</td>\n",
       "      <td>19.0</td>\n",
       "      <td>0.0</td>\n",
       "      <td>1.0</td>\n",
       "      <td>0.0</td>\n",
       "      <td>0.0</td>\n",
       "      <td>0.0</td>\n",
       "      <td>0.0</td>\n",
       "      <td>1.0</td>\n",
       "      <td>0.0</td>\n",
       "      <td>0.0</td>\n",
       "      <td>0.0</td>\n",
       "      <td>51202</td>\n",
       "      <td>365.735693</td>\n",
       "      <td>276.511282</td>\n",
       "      <td>342.377918</td>\n",
       "      <td>431.396643</td>\n",
       "      <td>110354</td>\n",
       "      <td>360.052820</td>\n",
       "      <td>272.2800</td>\n",
       "      <td>330.370</td>\n",
       "      <td>424.3775</td>\n",
       "      <td>23369</td>\n",
       "      <td>296.880304</td>\n",
       "      <td>221.429119</td>\n",
       "      <td>280.141698</td>\n",
       "      <td>350.352716</td>\n",
       "    </tr>\n",
       "    <tr>\n",
       "      <th>242978</th>\n",
       "      <td>1985.0</td>\n",
       "      <td>2004.0</td>\n",
       "      <td>4</td>\n",
       "      <td>1</td>\n",
       "      <td>2792</td>\n",
       "      <td>100</td>\n",
       "      <td>12.0</td>\n",
       "      <td>1</td>\n",
       "      <td>372</td>\n",
       "      <td>2</td>\n",
       "      <td>1</td>\n",
       "      <td>1.0</td>\n",
       "      <td>60</td>\n",
       "      <td>165</td>\n",
       "      <td>1</td>\n",
       "      <td>780</td>\n",
       "      <td>3</td>\n",
       "      <td>3</td>\n",
       "      <td>1.0</td>\n",
       "      <td>1</td>\n",
       "      <td>23</td>\n",
       "      <td>0</td>\n",
       "      <td>0</td>\n",
       "      <td>1</td>\n",
       "      <td>0</td>\n",
       "      <td>19.0</td>\n",
       "      <td>0.0</td>\n",
       "      <td>1.0</td>\n",
       "      <td>0.0</td>\n",
       "      <td>0.0</td>\n",
       "      <td>0.0</td>\n",
       "      <td>0.0</td>\n",
       "      <td>1.0</td>\n",
       "      <td>0.0</td>\n",
       "      <td>0.0</td>\n",
       "      <td>0.0</td>\n",
       "      <td>51202</td>\n",
       "      <td>365.735693</td>\n",
       "      <td>276.511282</td>\n",
       "      <td>342.377918</td>\n",
       "      <td>431.396643</td>\n",
       "      <td>110354</td>\n",
       "      <td>360.052820</td>\n",
       "      <td>272.2800</td>\n",
       "      <td>330.370</td>\n",
       "      <td>424.3775</td>\n",
       "      <td>23369</td>\n",
       "      <td>296.880304</td>\n",
       "      <td>221.429119</td>\n",
       "      <td>280.141698</td>\n",
       "      <td>350.352716</td>\n",
       "    </tr>\n",
       "    <tr>\n",
       "      <th>245397</th>\n",
       "      <td>1983.0</td>\n",
       "      <td>2002.0</td>\n",
       "      <td>11</td>\n",
       "      <td>34</td>\n",
       "      <td>11868</td>\n",
       "      <td>95</td>\n",
       "      <td>14.0</td>\n",
       "      <td>5</td>\n",
       "      <td>272</td>\n",
       "      <td>0</td>\n",
       "      <td>2</td>\n",
       "      <td>7.0</td>\n",
       "      <td>152</td>\n",
       "      <td>183</td>\n",
       "      <td>34</td>\n",
       "      <td>1565</td>\n",
       "      <td>5</td>\n",
       "      <td>2</td>\n",
       "      <td>4.0</td>\n",
       "      <td>1</td>\n",
       "      <td>21</td>\n",
       "      <td>1</td>\n",
       "      <td>0</td>\n",
       "      <td>1</td>\n",
       "      <td>0</td>\n",
       "      <td>19.0</td>\n",
       "      <td>0.0</td>\n",
       "      <td>1.0</td>\n",
       "      <td>0.0</td>\n",
       "      <td>0.0</td>\n",
       "      <td>0.0</td>\n",
       "      <td>0.0</td>\n",
       "      <td>1.0</td>\n",
       "      <td>0.0</td>\n",
       "      <td>0.0</td>\n",
       "      <td>0.0</td>\n",
       "      <td>3144</td>\n",
       "      <td>374.874457</td>\n",
       "      <td>289.637651</td>\n",
       "      <td>344.699111</td>\n",
       "      <td>434.449188</td>\n",
       "      <td>74960</td>\n",
       "      <td>345.846929</td>\n",
       "      <td>261.5800</td>\n",
       "      <td>327.515</td>\n",
       "      <td>409.5225</td>\n",
       "      <td>25042</td>\n",
       "      <td>331.781948</td>\n",
       "      <td>261.069576</td>\n",
       "      <td>310.587232</td>\n",
       "      <td>379.246620</td>\n",
       "    </tr>\n",
       "    <tr>\n",
       "      <th>245398</th>\n",
       "      <td>1983.0</td>\n",
       "      <td>2002.0</td>\n",
       "      <td>11</td>\n",
       "      <td>34</td>\n",
       "      <td>11868</td>\n",
       "      <td>100</td>\n",
       "      <td>14.0</td>\n",
       "      <td>5</td>\n",
       "      <td>272</td>\n",
       "      <td>0</td>\n",
       "      <td>2</td>\n",
       "      <td>7.0</td>\n",
       "      <td>152</td>\n",
       "      <td>183</td>\n",
       "      <td>34</td>\n",
       "      <td>1565</td>\n",
       "      <td>5</td>\n",
       "      <td>2</td>\n",
       "      <td>4.0</td>\n",
       "      <td>1</td>\n",
       "      <td>21</td>\n",
       "      <td>1</td>\n",
       "      <td>0</td>\n",
       "      <td>1</td>\n",
       "      <td>0</td>\n",
       "      <td>19.0</td>\n",
       "      <td>0.0</td>\n",
       "      <td>1.0</td>\n",
       "      <td>0.0</td>\n",
       "      <td>0.0</td>\n",
       "      <td>0.0</td>\n",
       "      <td>0.0</td>\n",
       "      <td>1.0</td>\n",
       "      <td>0.0</td>\n",
       "      <td>0.0</td>\n",
       "      <td>0.0</td>\n",
       "      <td>3144</td>\n",
       "      <td>374.874457</td>\n",
       "      <td>289.637651</td>\n",
       "      <td>344.699111</td>\n",
       "      <td>434.449188</td>\n",
       "      <td>74960</td>\n",
       "      <td>345.846929</td>\n",
       "      <td>261.5800</td>\n",
       "      <td>327.515</td>\n",
       "      <td>409.5225</td>\n",
       "      <td>25042</td>\n",
       "      <td>331.781948</td>\n",
       "      <td>261.069576</td>\n",
       "      <td>310.587232</td>\n",
       "      <td>379.246620</td>\n",
       "    </tr>\n",
       "    <tr>\n",
       "      <th>258427</th>\n",
       "      <td>1983.0</td>\n",
       "      <td>2002.0</td>\n",
       "      <td>10</td>\n",
       "      <td>19</td>\n",
       "      <td>13764</td>\n",
       "      <td>50</td>\n",
       "      <td>14.0</td>\n",
       "      <td>5</td>\n",
       "      <td>372</td>\n",
       "      <td>0</td>\n",
       "      <td>1</td>\n",
       "      <td>11.0</td>\n",
       "      <td>115</td>\n",
       "      <td>146</td>\n",
       "      <td>19</td>\n",
       "      <td>2105</td>\n",
       "      <td>5</td>\n",
       "      <td>0</td>\n",
       "      <td>1.0</td>\n",
       "      <td>2</td>\n",
       "      <td>26</td>\n",
       "      <td>0</td>\n",
       "      <td>1</td>\n",
       "      <td>1</td>\n",
       "      <td>2</td>\n",
       "      <td>19.0</td>\n",
       "      <td>0.0</td>\n",
       "      <td>0.0</td>\n",
       "      <td>1.0</td>\n",
       "      <td>0.0</td>\n",
       "      <td>0.0</td>\n",
       "      <td>0.0</td>\n",
       "      <td>0.0</td>\n",
       "      <td>1.0</td>\n",
       "      <td>0.0</td>\n",
       "      <td>0.0</td>\n",
       "      <td>2340</td>\n",
       "      <td>334.326325</td>\n",
       "      <td>266.250053</td>\n",
       "      <td>315.182430</td>\n",
       "      <td>380.095634</td>\n",
       "      <td>15624</td>\n",
       "      <td>333.513677</td>\n",
       "      <td>253.1075</td>\n",
       "      <td>313.480</td>\n",
       "      <td>390.2275</td>\n",
       "      <td>7565</td>\n",
       "      <td>316.651778</td>\n",
       "      <td>252.913844</td>\n",
       "      <td>297.678159</td>\n",
       "      <td>358.948927</td>\n",
       "    </tr>\n",
       "    <tr>\n",
       "      <th>258428</th>\n",
       "      <td>1983.0</td>\n",
       "      <td>2002.0</td>\n",
       "      <td>10</td>\n",
       "      <td>19</td>\n",
       "      <td>13764</td>\n",
       "      <td>50</td>\n",
       "      <td>14.0</td>\n",
       "      <td>5</td>\n",
       "      <td>372</td>\n",
       "      <td>0</td>\n",
       "      <td>1</td>\n",
       "      <td>11.0</td>\n",
       "      <td>115</td>\n",
       "      <td>146</td>\n",
       "      <td>19</td>\n",
       "      <td>2105</td>\n",
       "      <td>5</td>\n",
       "      <td>0</td>\n",
       "      <td>1.0</td>\n",
       "      <td>2</td>\n",
       "      <td>26</td>\n",
       "      <td>0</td>\n",
       "      <td>1</td>\n",
       "      <td>1</td>\n",
       "      <td>2</td>\n",
       "      <td>19.0</td>\n",
       "      <td>0.0</td>\n",
       "      <td>0.0</td>\n",
       "      <td>1.0</td>\n",
       "      <td>0.0</td>\n",
       "      <td>0.0</td>\n",
       "      <td>0.0</td>\n",
       "      <td>0.0</td>\n",
       "      <td>1.0</td>\n",
       "      <td>0.0</td>\n",
       "      <td>0.0</td>\n",
       "      <td>2340</td>\n",
       "      <td>334.326325</td>\n",
       "      <td>266.250053</td>\n",
       "      <td>315.182430</td>\n",
       "      <td>380.095634</td>\n",
       "      <td>15624</td>\n",
       "      <td>333.513677</td>\n",
       "      <td>253.1075</td>\n",
       "      <td>313.480</td>\n",
       "      <td>390.2275</td>\n",
       "      <td>7565</td>\n",
       "      <td>316.651778</td>\n",
       "      <td>252.913844</td>\n",
       "      <td>297.678159</td>\n",
       "      <td>358.948927</td>\n",
       "    </tr>\n",
       "    <tr>\n",
       "      <th>258740</th>\n",
       "      <td>1992.0</td>\n",
       "      <td>2011.0</td>\n",
       "      <td>5</td>\n",
       "      <td>1</td>\n",
       "      <td>7224</td>\n",
       "      <td>112</td>\n",
       "      <td>5.0</td>\n",
       "      <td>4</td>\n",
       "      <td>372</td>\n",
       "      <td>0</td>\n",
       "      <td>1</td>\n",
       "      <td>1.0</td>\n",
       "      <td>80</td>\n",
       "      <td>170</td>\n",
       "      <td>1</td>\n",
       "      <td>1305</td>\n",
       "      <td>3</td>\n",
       "      <td>3</td>\n",
       "      <td>1.0</td>\n",
       "      <td>1</td>\n",
       "      <td>25</td>\n",
       "      <td>0</td>\n",
       "      <td>0</td>\n",
       "      <td>1</td>\n",
       "      <td>0</td>\n",
       "      <td>19.0</td>\n",
       "      <td>0.0</td>\n",
       "      <td>0.0</td>\n",
       "      <td>1.0</td>\n",
       "      <td>0.0</td>\n",
       "      <td>0.0</td>\n",
       "      <td>1.0</td>\n",
       "      <td>0.0</td>\n",
       "      <td>0.0</td>\n",
       "      <td>0.0</td>\n",
       "      <td>0.0</td>\n",
       "      <td>11316</td>\n",
       "      <td>343.936994</td>\n",
       "      <td>261.116258</td>\n",
       "      <td>323.655746</td>\n",
       "      <td>406.058685</td>\n",
       "      <td>110354</td>\n",
       "      <td>360.052820</td>\n",
       "      <td>272.2800</td>\n",
       "      <td>330.370</td>\n",
       "      <td>424.3775</td>\n",
       "      <td>91826</td>\n",
       "      <td>363.817658</td>\n",
       "      <td>274.902517</td>\n",
       "      <td>341.808783</td>\n",
       "      <td>430.492305</td>\n",
       "    </tr>\n",
       "    <tr>\n",
       "      <th>258741</th>\n",
       "      <td>1992.0</td>\n",
       "      <td>2011.0</td>\n",
       "      <td>5</td>\n",
       "      <td>1</td>\n",
       "      <td>7224</td>\n",
       "      <td>106</td>\n",
       "      <td>5.0</td>\n",
       "      <td>4</td>\n",
       "      <td>372</td>\n",
       "      <td>0</td>\n",
       "      <td>1</td>\n",
       "      <td>1.0</td>\n",
       "      <td>80</td>\n",
       "      <td>170</td>\n",
       "      <td>1</td>\n",
       "      <td>1305</td>\n",
       "      <td>3</td>\n",
       "      <td>3</td>\n",
       "      <td>1.0</td>\n",
       "      <td>1</td>\n",
       "      <td>25</td>\n",
       "      <td>0</td>\n",
       "      <td>0</td>\n",
       "      <td>1</td>\n",
       "      <td>0</td>\n",
       "      <td>19.0</td>\n",
       "      <td>0.0</td>\n",
       "      <td>0.0</td>\n",
       "      <td>1.0</td>\n",
       "      <td>0.0</td>\n",
       "      <td>0.0</td>\n",
       "      <td>1.0</td>\n",
       "      <td>0.0</td>\n",
       "      <td>0.0</td>\n",
       "      <td>0.0</td>\n",
       "      <td>0.0</td>\n",
       "      <td>11316</td>\n",
       "      <td>343.936994</td>\n",
       "      <td>261.116258</td>\n",
       "      <td>323.655746</td>\n",
       "      <td>406.058685</td>\n",
       "      <td>110354</td>\n",
       "      <td>360.052820</td>\n",
       "      <td>272.2800</td>\n",
       "      <td>330.370</td>\n",
       "      <td>424.3775</td>\n",
       "      <td>91826</td>\n",
       "      <td>363.817658</td>\n",
       "      <td>274.902517</td>\n",
       "      <td>341.808783</td>\n",
       "      <td>430.492305</td>\n",
       "    </tr>\n",
       "    <tr>\n",
       "      <th>264290</th>\n",
       "      <td>1979.0</td>\n",
       "      <td>1998.0</td>\n",
       "      <td>6</td>\n",
       "      <td>0</td>\n",
       "      <td>7039</td>\n",
       "      <td>100</td>\n",
       "      <td>18.0</td>\n",
       "      <td>5</td>\n",
       "      <td>372</td>\n",
       "      <td>0</td>\n",
       "      <td>1</td>\n",
       "      <td>1.0</td>\n",
       "      <td>100</td>\n",
       "      <td>188</td>\n",
       "      <td>0</td>\n",
       "      <td>1239</td>\n",
       "      <td>5</td>\n",
       "      <td>1</td>\n",
       "      <td>0.0</td>\n",
       "      <td>1</td>\n",
       "      <td>23</td>\n",
       "      <td>0</td>\n",
       "      <td>0</td>\n",
       "      <td>1</td>\n",
       "      <td>1</td>\n",
       "      <td>19.0</td>\n",
       "      <td>0.0</td>\n",
       "      <td>0.0</td>\n",
       "      <td>1.0</td>\n",
       "      <td>0.0</td>\n",
       "      <td>0.0</td>\n",
       "      <td>0.0</td>\n",
       "      <td>1.0</td>\n",
       "      <td>0.0</td>\n",
       "      <td>0.0</td>\n",
       "      <td>0.0</td>\n",
       "      <td>13343</td>\n",
       "      <td>367.635390</td>\n",
       "      <td>281.380627</td>\n",
       "      <td>346.902548</td>\n",
       "      <td>431.486170</td>\n",
       "      <td>4852</td>\n",
       "      <td>322.581082</td>\n",
       "      <td>247.5200</td>\n",
       "      <td>301.335</td>\n",
       "      <td>369.6525</td>\n",
       "      <td>91826</td>\n",
       "      <td>363.817658</td>\n",
       "      <td>274.902517</td>\n",
       "      <td>341.808783</td>\n",
       "      <td>430.492305</td>\n",
       "    </tr>\n",
       "    <tr>\n",
       "      <th>264291</th>\n",
       "      <td>1979.0</td>\n",
       "      <td>1998.0</td>\n",
       "      <td>6</td>\n",
       "      <td>0</td>\n",
       "      <td>7039</td>\n",
       "      <td>118</td>\n",
       "      <td>18.0</td>\n",
       "      <td>5</td>\n",
       "      <td>372</td>\n",
       "      <td>0</td>\n",
       "      <td>1</td>\n",
       "      <td>1.0</td>\n",
       "      <td>100</td>\n",
       "      <td>188</td>\n",
       "      <td>0</td>\n",
       "      <td>1239</td>\n",
       "      <td>5</td>\n",
       "      <td>1</td>\n",
       "      <td>0.0</td>\n",
       "      <td>1</td>\n",
       "      <td>23</td>\n",
       "      <td>0</td>\n",
       "      <td>0</td>\n",
       "      <td>1</td>\n",
       "      <td>1</td>\n",
       "      <td>19.0</td>\n",
       "      <td>0.0</td>\n",
       "      <td>0.0</td>\n",
       "      <td>1.0</td>\n",
       "      <td>0.0</td>\n",
       "      <td>0.0</td>\n",
       "      <td>0.0</td>\n",
       "      <td>1.0</td>\n",
       "      <td>0.0</td>\n",
       "      <td>0.0</td>\n",
       "      <td>0.0</td>\n",
       "      <td>13343</td>\n",
       "      <td>367.635390</td>\n",
       "      <td>281.380627</td>\n",
       "      <td>346.902548</td>\n",
       "      <td>431.486170</td>\n",
       "      <td>4852</td>\n",
       "      <td>322.581082</td>\n",
       "      <td>247.5200</td>\n",
       "      <td>301.335</td>\n",
       "      <td>369.6525</td>\n",
       "      <td>91826</td>\n",
       "      <td>363.817658</td>\n",
       "      <td>274.902517</td>\n",
       "      <td>341.808783</td>\n",
       "      <td>430.492305</td>\n",
       "    </tr>\n",
       "    <tr>\n",
       "      <th>279970</th>\n",
       "      <td>1981.0</td>\n",
       "      <td>2000.0</td>\n",
       "      <td>6</td>\n",
       "      <td>24</td>\n",
       "      <td>7071</td>\n",
       "      <td>85</td>\n",
       "      <td>16.0</td>\n",
       "      <td>2</td>\n",
       "      <td>372</td>\n",
       "      <td>0</td>\n",
       "      <td>2</td>\n",
       "      <td>7.0</td>\n",
       "      <td>90</td>\n",
       "      <td>165</td>\n",
       "      <td>24</td>\n",
       "      <td>1250</td>\n",
       "      <td>5</td>\n",
       "      <td>2</td>\n",
       "      <td>2.0</td>\n",
       "      <td>2</td>\n",
       "      <td>23</td>\n",
       "      <td>1</td>\n",
       "      <td>0</td>\n",
       "      <td>1</td>\n",
       "      <td>0</td>\n",
       "      <td>19.0</td>\n",
       "      <td>0.0</td>\n",
       "      <td>0.0</td>\n",
       "      <td>1.0</td>\n",
       "      <td>0.0</td>\n",
       "      <td>0.0</td>\n",
       "      <td>1.0</td>\n",
       "      <td>0.0</td>\n",
       "      <td>0.0</td>\n",
       "      <td>0.0</td>\n",
       "      <td>0.0</td>\n",
       "      <td>73371</td>\n",
       "      <td>336.598258</td>\n",
       "      <td>253.334394</td>\n",
       "      <td>314.509360</td>\n",
       "      <td>398.650308</td>\n",
       "      <td>13273</td>\n",
       "      <td>361.846247</td>\n",
       "      <td>272.9800</td>\n",
       "      <td>340.950</td>\n",
       "      <td>430.1100</td>\n",
       "      <td>25042</td>\n",
       "      <td>331.781948</td>\n",
       "      <td>261.069576</td>\n",
       "      <td>310.587232</td>\n",
       "      <td>379.246620</td>\n",
       "    </tr>\n",
       "    <tr>\n",
       "      <th>279971</th>\n",
       "      <td>1981.0</td>\n",
       "      <td>2000.0</td>\n",
       "      <td>6</td>\n",
       "      <td>24</td>\n",
       "      <td>7071</td>\n",
       "      <td>90</td>\n",
       "      <td>16.0</td>\n",
       "      <td>2</td>\n",
       "      <td>372</td>\n",
       "      <td>0</td>\n",
       "      <td>2</td>\n",
       "      <td>7.0</td>\n",
       "      <td>90</td>\n",
       "      <td>165</td>\n",
       "      <td>24</td>\n",
       "      <td>1250</td>\n",
       "      <td>5</td>\n",
       "      <td>2</td>\n",
       "      <td>2.0</td>\n",
       "      <td>2</td>\n",
       "      <td>23</td>\n",
       "      <td>1</td>\n",
       "      <td>0</td>\n",
       "      <td>1</td>\n",
       "      <td>0</td>\n",
       "      <td>19.0</td>\n",
       "      <td>0.0</td>\n",
       "      <td>0.0</td>\n",
       "      <td>1.0</td>\n",
       "      <td>0.0</td>\n",
       "      <td>0.0</td>\n",
       "      <td>1.0</td>\n",
       "      <td>0.0</td>\n",
       "      <td>0.0</td>\n",
       "      <td>0.0</td>\n",
       "      <td>0.0</td>\n",
       "      <td>73371</td>\n",
       "      <td>336.598258</td>\n",
       "      <td>253.334394</td>\n",
       "      <td>314.509360</td>\n",
       "      <td>398.650308</td>\n",
       "      <td>13273</td>\n",
       "      <td>361.846247</td>\n",
       "      <td>272.9800</td>\n",
       "      <td>340.950</td>\n",
       "      <td>430.1100</td>\n",
       "      <td>25042</td>\n",
       "      <td>331.781948</td>\n",
       "      <td>261.069576</td>\n",
       "      <td>310.587232</td>\n",
       "      <td>379.246620</td>\n",
       "    </tr>\n",
       "    <tr>\n",
       "      <th>281545</th>\n",
       "      <td>1992.0</td>\n",
       "      <td>2011.0</td>\n",
       "      <td>6</td>\n",
       "      <td>34</td>\n",
       "      <td>7560</td>\n",
       "      <td>100</td>\n",
       "      <td>5.0</td>\n",
       "      <td>3</td>\n",
       "      <td>272</td>\n",
       "      <td>3</td>\n",
       "      <td>1</td>\n",
       "      <td>8.0</td>\n",
       "      <td>109</td>\n",
       "      <td>173</td>\n",
       "      <td>34</td>\n",
       "      <td>1429</td>\n",
       "      <td>4</td>\n",
       "      <td>0</td>\n",
       "      <td>4.0</td>\n",
       "      <td>2</td>\n",
       "      <td>21</td>\n",
       "      <td>0</td>\n",
       "      <td>1</td>\n",
       "      <td>1</td>\n",
       "      <td>1</td>\n",
       "      <td>19.0</td>\n",
       "      <td>0.0</td>\n",
       "      <td>0.0</td>\n",
       "      <td>1.0</td>\n",
       "      <td>0.0</td>\n",
       "      <td>0.0</td>\n",
       "      <td>0.0</td>\n",
       "      <td>1.0</td>\n",
       "      <td>0.0</td>\n",
       "      <td>0.0</td>\n",
       "      <td>0.0</td>\n",
       "      <td>51202</td>\n",
       "      <td>365.735693</td>\n",
       "      <td>276.511282</td>\n",
       "      <td>342.377918</td>\n",
       "      <td>431.396643</td>\n",
       "      <td>74960</td>\n",
       "      <td>345.846929</td>\n",
       "      <td>261.5800</td>\n",
       "      <td>327.515</td>\n",
       "      <td>409.5225</td>\n",
       "      <td>91826</td>\n",
       "      <td>363.817658</td>\n",
       "      <td>274.902517</td>\n",
       "      <td>341.808783</td>\n",
       "      <td>430.492305</td>\n",
       "    </tr>\n",
       "    <tr>\n",
       "      <th>281546</th>\n",
       "      <td>1992.0</td>\n",
       "      <td>2011.0</td>\n",
       "      <td>6</td>\n",
       "      <td>34</td>\n",
       "      <td>7560</td>\n",
       "      <td>100</td>\n",
       "      <td>5.0</td>\n",
       "      <td>3</td>\n",
       "      <td>272</td>\n",
       "      <td>3</td>\n",
       "      <td>1</td>\n",
       "      <td>8.0</td>\n",
       "      <td>109</td>\n",
       "      <td>173</td>\n",
       "      <td>34</td>\n",
       "      <td>1429</td>\n",
       "      <td>4</td>\n",
       "      <td>0</td>\n",
       "      <td>4.0</td>\n",
       "      <td>2</td>\n",
       "      <td>21</td>\n",
       "      <td>0</td>\n",
       "      <td>1</td>\n",
       "      <td>1</td>\n",
       "      <td>1</td>\n",
       "      <td>19.0</td>\n",
       "      <td>0.0</td>\n",
       "      <td>0.0</td>\n",
       "      <td>1.0</td>\n",
       "      <td>0.0</td>\n",
       "      <td>0.0</td>\n",
       "      <td>0.0</td>\n",
       "      <td>1.0</td>\n",
       "      <td>0.0</td>\n",
       "      <td>0.0</td>\n",
       "      <td>0.0</td>\n",
       "      <td>51202</td>\n",
       "      <td>365.735693</td>\n",
       "      <td>276.511282</td>\n",
       "      <td>342.377918</td>\n",
       "      <td>431.396643</td>\n",
       "      <td>74960</td>\n",
       "      <td>345.846929</td>\n",
       "      <td>261.5800</td>\n",
       "      <td>327.515</td>\n",
       "      <td>409.5225</td>\n",
       "      <td>91826</td>\n",
       "      <td>363.817658</td>\n",
       "      <td>274.902517</td>\n",
       "      <td>341.808783</td>\n",
       "      <td>430.492305</td>\n",
       "    </tr>\n",
       "    <tr>\n",
       "      <th>283323</th>\n",
       "      <td>1987.0</td>\n",
       "      <td>2006.0</td>\n",
       "      <td>6</td>\n",
       "      <td>0</td>\n",
       "      <td>11560</td>\n",
       "      <td>90</td>\n",
       "      <td>10.0</td>\n",
       "      <td>4</td>\n",
       "      <td>272</td>\n",
       "      <td>0</td>\n",
       "      <td>1</td>\n",
       "      <td>1.0</td>\n",
       "      <td>110</td>\n",
       "      <td>191</td>\n",
       "      <td>0</td>\n",
       "      <td>1485</td>\n",
       "      <td>4</td>\n",
       "      <td>3</td>\n",
       "      <td>1.0</td>\n",
       "      <td>4</td>\n",
       "      <td>22</td>\n",
       "      <td>1</td>\n",
       "      <td>1</td>\n",
       "      <td>1</td>\n",
       "      <td>0</td>\n",
       "      <td>19.0</td>\n",
       "      <td>0.0</td>\n",
       "      <td>0.0</td>\n",
       "      <td>1.0</td>\n",
       "      <td>0.0</td>\n",
       "      <td>0.0</td>\n",
       "      <td>0.0</td>\n",
       "      <td>0.0</td>\n",
       "      <td>1.0</td>\n",
       "      <td>0.0</td>\n",
       "      <td>0.0</td>\n",
       "      <td>51202</td>\n",
       "      <td>365.735693</td>\n",
       "      <td>276.511282</td>\n",
       "      <td>342.377918</td>\n",
       "      <td>431.396643</td>\n",
       "      <td>74960</td>\n",
       "      <td>345.846929</td>\n",
       "      <td>261.5800</td>\n",
       "      <td>327.515</td>\n",
       "      <td>409.5225</td>\n",
       "      <td>54018</td>\n",
       "      <td>349.780423</td>\n",
       "      <td>269.352408</td>\n",
       "      <td>326.464964</td>\n",
       "      <td>408.151470</td>\n",
       "    </tr>\n",
       "    <tr>\n",
       "      <th>283325</th>\n",
       "      <td>1987.0</td>\n",
       "      <td>2006.0</td>\n",
       "      <td>6</td>\n",
       "      <td>0</td>\n",
       "      <td>11560</td>\n",
       "      <td>80</td>\n",
       "      <td>10.0</td>\n",
       "      <td>4</td>\n",
       "      <td>272</td>\n",
       "      <td>0</td>\n",
       "      <td>1</td>\n",
       "      <td>1.0</td>\n",
       "      <td>110</td>\n",
       "      <td>191</td>\n",
       "      <td>0</td>\n",
       "      <td>1485</td>\n",
       "      <td>4</td>\n",
       "      <td>3</td>\n",
       "      <td>1.0</td>\n",
       "      <td>4</td>\n",
       "      <td>22</td>\n",
       "      <td>1</td>\n",
       "      <td>1</td>\n",
       "      <td>1</td>\n",
       "      <td>0</td>\n",
       "      <td>19.0</td>\n",
       "      <td>0.0</td>\n",
       "      <td>0.0</td>\n",
       "      <td>1.0</td>\n",
       "      <td>0.0</td>\n",
       "      <td>0.0</td>\n",
       "      <td>0.0</td>\n",
       "      <td>0.0</td>\n",
       "      <td>1.0</td>\n",
       "      <td>0.0</td>\n",
       "      <td>0.0</td>\n",
       "      <td>51202</td>\n",
       "      <td>365.735693</td>\n",
       "      <td>276.511282</td>\n",
       "      <td>342.377918</td>\n",
       "      <td>431.396643</td>\n",
       "      <td>74960</td>\n",
       "      <td>345.846929</td>\n",
       "      <td>261.5800</td>\n",
       "      <td>327.515</td>\n",
       "      <td>409.5225</td>\n",
       "      <td>54018</td>\n",
       "      <td>349.780423</td>\n",
       "      <td>269.352408</td>\n",
       "      <td>326.464964</td>\n",
       "      <td>408.151470</td>\n",
       "    </tr>\n",
       "    <tr>\n",
       "      <th>294758</th>\n",
       "      <td>1989.0</td>\n",
       "      <td>2008.0</td>\n",
       "      <td>5</td>\n",
       "      <td>2</td>\n",
       "      <td>7191</td>\n",
       "      <td>50</td>\n",
       "      <td>8.0</td>\n",
       "      <td>4</td>\n",
       "      <td>372</td>\n",
       "      <td>0</td>\n",
       "      <td>2</td>\n",
       "      <td>1.0</td>\n",
       "      <td>115</td>\n",
       "      <td>185</td>\n",
       "      <td>2</td>\n",
       "      <td>1293</td>\n",
       "      <td>4</td>\n",
       "      <td>2</td>\n",
       "      <td>1.0</td>\n",
       "      <td>2</td>\n",
       "      <td>19</td>\n",
       "      <td>0</td>\n",
       "      <td>0</td>\n",
       "      <td>0</td>\n",
       "      <td>1</td>\n",
       "      <td>19.0</td>\n",
       "      <td>0.0</td>\n",
       "      <td>0.0</td>\n",
       "      <td>0.0</td>\n",
       "      <td>0.0</td>\n",
       "      <td>1.0</td>\n",
       "      <td>0.0</td>\n",
       "      <td>1.0</td>\n",
       "      <td>0.0</td>\n",
       "      <td>0.0</td>\n",
       "      <td>0.0</td>\n",
       "      <td>3144</td>\n",
       "      <td>374.874457</td>\n",
       "      <td>289.637651</td>\n",
       "      <td>344.699111</td>\n",
       "      <td>434.449188</td>\n",
       "      <td>110354</td>\n",
       "      <td>360.052820</td>\n",
       "      <td>272.2800</td>\n",
       "      <td>330.370</td>\n",
       "      <td>424.3775</td>\n",
       "      <td>91826</td>\n",
       "      <td>363.817658</td>\n",
       "      <td>274.902517</td>\n",
       "      <td>341.808783</td>\n",
       "      <td>430.492305</td>\n",
       "    </tr>\n",
       "    <tr>\n",
       "      <th>294759</th>\n",
       "      <td>1989.0</td>\n",
       "      <td>2008.0</td>\n",
       "      <td>5</td>\n",
       "      <td>2</td>\n",
       "      <td>7191</td>\n",
       "      <td>50</td>\n",
       "      <td>8.0</td>\n",
       "      <td>4</td>\n",
       "      <td>372</td>\n",
       "      <td>0</td>\n",
       "      <td>2</td>\n",
       "      <td>1.0</td>\n",
       "      <td>115</td>\n",
       "      <td>185</td>\n",
       "      <td>2</td>\n",
       "      <td>1293</td>\n",
       "      <td>4</td>\n",
       "      <td>2</td>\n",
       "      <td>1.0</td>\n",
       "      <td>2</td>\n",
       "      <td>19</td>\n",
       "      <td>0</td>\n",
       "      <td>0</td>\n",
       "      <td>0</td>\n",
       "      <td>1</td>\n",
       "      <td>19.0</td>\n",
       "      <td>0.0</td>\n",
       "      <td>0.0</td>\n",
       "      <td>0.0</td>\n",
       "      <td>0.0</td>\n",
       "      <td>1.0</td>\n",
       "      <td>0.0</td>\n",
       "      <td>1.0</td>\n",
       "      <td>0.0</td>\n",
       "      <td>0.0</td>\n",
       "      <td>0.0</td>\n",
       "      <td>3144</td>\n",
       "      <td>374.874457</td>\n",
       "      <td>289.637651</td>\n",
       "      <td>344.699111</td>\n",
       "      <td>434.449188</td>\n",
       "      <td>110354</td>\n",
       "      <td>360.052820</td>\n",
       "      <td>272.2800</td>\n",
       "      <td>330.370</td>\n",
       "      <td>424.3775</td>\n",
       "      <td>91826</td>\n",
       "      <td>363.817658</td>\n",
       "      <td>274.902517</td>\n",
       "      <td>341.808783</td>\n",
       "      <td>430.492305</td>\n",
       "    </tr>\n",
       "  </tbody>\n",
       "</table>\n",
       "</div>"
      ],
      "text/plain": [
       "        annee_naissance  annee_permis  puis_fiscale  anc_veh  kmage_annuel  \\\n",
       "id                                                                           \n",
       "20807            1988.0        2007.0             5        1          2837   \n",
       "20808            1988.0        2007.0             5        1          2837   \n",
       "72227            1989.0        2008.0             7        2          7056   \n",
       "72228            1989.0        2008.0             7        2          7056   \n",
       "73260            1993.0        2012.0             5        2          2683   \n",
       "73261            1993.0        2012.0             5        2          2683   \n",
       "79179            1989.0        2008.0             6       17          7443   \n",
       "79180            1989.0        2008.0             6       17          7443   \n",
       "90599            1983.0        2002.0             7        1          7149   \n",
       "90600            1983.0        2002.0             7        1          7149   \n",
       "98815            1980.0        2000.0             5        0          2810   \n",
       "98816            1980.0        2000.0             5        0          2810   \n",
       "106940           1991.0        2010.0             5       21          6308   \n",
       "106942           1991.0        2010.0             5       21          6308   \n",
       "109767           1985.0        2004.0             7        2          6861   \n",
       "109768           1985.0        2004.0             7        2          6861   \n",
       "113129           1988.0        2007.0             4        3          2626   \n",
       "113130           1988.0        2007.0             4        3          2626   \n",
       "117642           1986.0        2005.0             7       19          6244   \n",
       "117643           1986.0        2005.0             7       19          6244   \n",
       "118937           1987.0        2006.0             7        0          6324   \n",
       "118938           1987.0        2006.0             7        0          6324   \n",
       "120300           1991.0        2011.0             4       40          3052   \n",
       "120301           1991.0        2011.0             4       40          3052   \n",
       "135599           1984.0        2003.0             4        2          2683   \n",
       "135600           1984.0        2003.0             4        2          2683   \n",
       "137865           1979.0        1998.0            10        2          7127   \n",
       "137866           1979.0        1998.0            10        2          7127   \n",
       "142956           1989.0        2008.0             6       19          6870   \n",
       "142957           1989.0        2008.0             6       19          6870   \n",
       "170937           1989.0        2008.0             5        0          7183   \n",
       "170938           1989.0        2008.0             5        0          7183   \n",
       "170940           1991.0        2010.0             5        2          7099   \n",
       "170941           1991.0        2010.0             5        2          7099   \n",
       "203651           1991.0        2010.0             6       41          7183   \n",
       "203652           1991.0        2010.0             6       41          7183   \n",
       "213018           1983.0        2002.0            13        0         13416   \n",
       "213019           1983.0        2002.0            13        0         13416   \n",
       "218165           1986.0        2005.0            10        0          6985   \n",
       "218166           1986.0        2005.0            10        0          6985   \n",
       "242977           1985.0        2004.0             4        1          2792   \n",
       "242978           1985.0        2004.0             4        1          2792   \n",
       "245397           1983.0        2002.0            11       34         11868   \n",
       "245398           1983.0        2002.0            11       34         11868   \n",
       "258427           1983.0        2002.0            10       19         13764   \n",
       "258428           1983.0        2002.0            10       19         13764   \n",
       "258740           1992.0        2011.0             5        1          7224   \n",
       "258741           1992.0        2011.0             5        1          7224   \n",
       "264290           1979.0        1998.0             6        0          7039   \n",
       "264291           1979.0        1998.0             6        0          7039   \n",
       "279970           1981.0        2000.0             6       24          7071   \n",
       "279971           1981.0        2000.0             6       24          7071   \n",
       "281545           1992.0        2011.0             6       34          7560   \n",
       "281546           1992.0        2011.0             6       34          7560   \n",
       "283323           1987.0        2006.0             6        0         11560   \n",
       "283325           1987.0        2006.0             6        0         11560   \n",
       "294758           1989.0        2008.0             5        2          7191   \n",
       "294759           1989.0        2008.0             5        2          7191   \n",
       "\n",
       "        crm  var1  var2  var3  var4  var5  var7  var9  var10  var11  var12  \\\n",
       "id                                                                           \n",
       "20807   112   9.0     5   372     0     1   1.0    60    162      1    805   \n",
       "20808   106   9.0     5   372     0     1   1.0    60    162      1    805   \n",
       "72227    62   8.0     1   372     0     2  10.0   115    187      2   1245   \n",
       "72228    58   8.0     1   372     0     2  10.0   115    187      2   1245   \n",
       "73260    50   4.0     3   372     0     1   4.0    51    150      2    720   \n",
       "73261    50   4.0     3   372     0     1   4.0    51    150      2    720   \n",
       "79179    85   8.0     3   272     0     2   1.0   110    200     17   1385   \n",
       "79180    90   8.0     3   272     0     2   1.0   110    200     17   1385   \n",
       "90599    63  14.0     5   372     0     1  10.0    90    170      1   1278   \n",
       "90600    67  14.0     5   372     0     1  10.0    90    170      1   1278   \n",
       "98815    50  16.0     3   272     0     2   1.0    55    155      0    790   \n",
       "98816    50  16.0     3   272     0     2   1.0    55    155      0    790   \n",
       "106940   58   6.0     4   272     0     1   1.0    65    161     21    995   \n",
       "106942   58   6.0     4   272     0     1   1.0    65    161     21    995   \n",
       "109767   58  12.0     5   372     0     1   1.0   112    195      2   1177   \n",
       "109768   62  12.0     5   372     0     1   1.0   112    195      2   1177   \n",
       "113129  100   9.0     2   372     2     1   1.0    55    158      3    690   \n",
       "113130  118   9.0     2   372     2     1   1.0    55    158      3    690   \n",
       "117642   50  11.0     1   372     0     1  20.0    60    142     19    975   \n",
       "117643   50  11.0     1   372     0     1  20.0    60    142     19    975   \n",
       "118937  100  10.0     5   372     1     1   1.0   103    185      0   1000   \n",
       "118938  100  10.0     5   372     1     1   1.0   103    185      0   1000   \n",
       "120300   90   5.0     4   272     0     2   1.0    61    158     40    932   \n",
       "120301   83   5.0     4   272     0     2   1.0    61    158     40    932   \n",
       "135599   90  13.0     5   372     2     1   1.0    34    122      2    720   \n",
       "135600   90  13.0     5   372     2     1   1.0    34    122      2    720   \n",
       "137865   50  18.0     0   372     0     2   5.0   147    212      2   1270   \n",
       "137866   50  18.0     0   372     0     2   5.0   147    212      2   1270   \n",
       "142956   85   8.0     2   372     1     1   1.0   110    193     19   1180   \n",
       "142957   90   8.0     2   372     1     1   1.0   110    193     19   1180   \n",
       "170937  100   8.0     3   272     0     1  10.0    80    162      0   1290   \n",
       "170938  100   8.0     3   272     0     1  10.0    80    162      0   1290   \n",
       "170940   72   6.0     4   372     3     2   1.0   110    193      2   1260   \n",
       "170941   76   6.0     4   372     3     2   1.0   110    193      2   1260   \n",
       "203651   85   6.0     4   272     0     1   8.0    63    141     41   1290   \n",
       "203652   80   6.0     4   272     0     1   8.0    63    141     41   1290   \n",
       "213018   50  14.0     1   372     0     2  11.0   211    200      0   2000   \n",
       "213019   50  14.0     1   372     0     2  11.0   211    200      0   2000   \n",
       "218165   50  11.0     4   372     0     2  11.0   149    185      0   1220   \n",
       "218166   50  11.0     4   372     0     2  11.0   149    185      0   1220   \n",
       "242977  112  12.0     1   372     2     1   1.0    60    165      1    780   \n",
       "242978  100  12.0     1   372     2     1   1.0    60    165      1    780   \n",
       "245397   95  14.0     5   272     0     2   7.0   152    183     34   1565   \n",
       "245398  100  14.0     5   272     0     2   7.0   152    183     34   1565   \n",
       "258427   50  14.0     5   372     0     1  11.0   115    146     19   2105   \n",
       "258428   50  14.0     5   372     0     1  11.0   115    146     19   2105   \n",
       "258740  112   5.0     4   372     0     1   1.0    80    170      1   1305   \n",
       "258741  106   5.0     4   372     0     1   1.0    80    170      1   1305   \n",
       "264290  100  18.0     5   372     0     1   1.0   100    188      0   1239   \n",
       "264291  118  18.0     5   372     0     1   1.0   100    188      0   1239   \n",
       "279970   85  16.0     2   372     0     2   7.0    90    165     24   1250   \n",
       "279971   90  16.0     2   372     0     2   7.0    90    165     24   1250   \n",
       "281545  100   5.0     3   272     3     1   8.0   109    173     34   1429   \n",
       "281546  100   5.0     3   272     3     1   8.0   109    173     34   1429   \n",
       "283323   90  10.0     4   272     0     1   1.0   110    191      0   1485   \n",
       "283325   80  10.0     4   272     0     1   1.0   110    191      0   1485   \n",
       "294758   50   8.0     4   372     0     2   1.0   115    185      2   1293   \n",
       "294759   50   8.0     4   372     0     2   1.0   115    185      2   1293   \n",
       "\n",
       "        var13  var15  var16  var17  var18  var19  var20  var21  var22  \\\n",
       "id                                                                      \n",
       "20807       3      3    1.0      1     27      0      0      1      1   \n",
       "20808       3      3    1.0      1     27      0      0      1      1   \n",
       "72227       5      0    1.0      2     24      0      0      1      5   \n",
       "72228       5      0    1.0      2     24      0      0      1      5   \n",
       "73260       3      0    1.0      2     24      3      0      1      0   \n",
       "73261       3      0    1.0      2     24      3      0      1      0   \n",
       "79179       5      3    1.0      1     22      0      0      1      2   \n",
       "79180       5      3    1.0      1     22      0      0      1      2   \n",
       "90599       5      1    1.0      2     37      2      0      1      0   \n",
       "90600       5      1    1.0      2     37      2      0      1      0   \n",
       "98815       3      0    1.0      1     22      0      1      1      1   \n",
       "98816       3      0    1.0      1     22      0      1      1      1   \n",
       "106940      5      3    2.0      2     23      0      0      1      1   \n",
       "106942      5      3    2.0      2     23      0      0      1      1   \n",
       "109767      3      1    1.0      2     23      0      0      1      1   \n",
       "109768      3      1    1.0      2     23      0      0      1      1   \n",
       "113129      5      1    1.0      1     37      1      1      1      0   \n",
       "113130      5      1    1.0      1     37      1      1      1      0   \n",
       "117642      5      0    1.0      2     24      2      0      1      0   \n",
       "117643      5      0    1.0      2     24      2      0      1      0   \n",
       "118937      3      2    4.0      1     24      3      1      1      0   \n",
       "118938      3      2    4.0      1     24      3      1      1      0   \n",
       "120300      3      0    4.0      1     23      0      1      1      1   \n",
       "120301      3      0    4.0      1     23      0      1      1      1   \n",
       "135599      5      2    1.0      2     26      0      1      1      1   \n",
       "135600      5      2    1.0      2     26      0      1      1      1   \n",
       "137865      2      1    1.0      4     20      1      1      1      0   \n",
       "137866      2      1    1.0      4     20      1      1      1      0   \n",
       "142956      3      3    1.0      4     30      0      1      1      2   \n",
       "142957      3      3    1.0      4     30      0      1      1      2   \n",
       "170937      5      2    4.0      1     24      0      1      1      2   \n",
       "170938      5      2    4.0      1     24      0      1      1      2   \n",
       "170940      5      1    1.0      1     23      0      1      1      1   \n",
       "170941      5      1    1.0      1     23      0      1      1      1   \n",
       "203651      5      0    4.0      1     24      1      1      1      0   \n",
       "203652      5      0    4.0      1     24      1      1      1      0   \n",
       "213018      4      1    1.0      4     20      2      0      1      0   \n",
       "213019      4      1    1.0      4     20      2      0      1      0   \n",
       "218165      3      2    0.0      1     23      0      0      1      1   \n",
       "218166      3      2    0.0      1     23      0      0      1      1   \n",
       "242977      3      3    1.0      1     23      0      0      1      0   \n",
       "242978      3      3    1.0      1     23      0      0      1      0   \n",
       "245397      5      2    4.0      1     21      1      0      1      0   \n",
       "245398      5      2    4.0      1     21      1      0      1      0   \n",
       "258427      5      0    1.0      2     26      0      1      1      2   \n",
       "258428      5      0    1.0      2     26      0      1      1      2   \n",
       "258740      3      3    1.0      1     25      0      0      1      0   \n",
       "258741      3      3    1.0      1     25      0      0      1      0   \n",
       "264290      5      1    0.0      1     23      0      0      1      1   \n",
       "264291      5      1    0.0      1     23      0      0      1      1   \n",
       "279970      5      2    2.0      2     23      1      0      1      0   \n",
       "279971      5      2    2.0      2     23      1      0      1      0   \n",
       "281545      4      0    4.0      2     21      0      1      1      1   \n",
       "281546      4      0    4.0      2     21      0      1      1      1   \n",
       "283323      4      3    1.0      4     22      1      1      1      0   \n",
       "283325      4      3    1.0      4     22      1      1      1      0   \n",
       "294758      4      2    1.0      2     19      0      0      0      1   \n",
       "294759      4      2    1.0      2     19      0      0      0      1   \n",
       "\n",
       "        permis_age  energie_veh_electricite  energie_veh_essence  \\\n",
       "id                                                                 \n",
       "20807         19.0                      0.0                  1.0   \n",
       "20808         19.0                      0.0                  1.0   \n",
       "72227         19.0                      0.0                  1.0   \n",
       "72228         19.0                      0.0                  1.0   \n",
       "73260         19.0                      0.0                  0.0   \n",
       "73261         19.0                      0.0                  0.0   \n",
       "79179         19.0                      0.0                  0.0   \n",
       "79180         19.0                      0.0                  0.0   \n",
       "90599         19.0                      0.0                  0.0   \n",
       "90600         19.0                      0.0                  0.0   \n",
       "98815         20.0                      0.0                  1.0   \n",
       "98816         20.0                      0.0                  1.0   \n",
       "106940        19.0                      0.0                  0.0   \n",
       "106942        19.0                      0.0                  0.0   \n",
       "109767        19.0                      0.0                  1.0   \n",
       "109768        19.0                      0.0                  1.0   \n",
       "113129        19.0                      0.0                  1.0   \n",
       "113130        19.0                      0.0                  1.0   \n",
       "117642        19.0                      0.0                  1.0   \n",
       "117643        19.0                      0.0                  1.0   \n",
       "118937        19.0                      0.0                  1.0   \n",
       "118938        19.0                      0.0                  1.0   \n",
       "120300        20.0                      0.0                  1.0   \n",
       "120301        20.0                      0.0                  1.0   \n",
       "135599        19.0                      0.0                  1.0   \n",
       "135600        19.0                      0.0                  1.0   \n",
       "137865        19.0                      0.0                  1.0   \n",
       "137866        19.0                      0.0                  1.0   \n",
       "142956        19.0                      0.0                  0.0   \n",
       "142957        19.0                      0.0                  0.0   \n",
       "170937        19.0                      0.0                  0.0   \n",
       "170938        19.0                      0.0                  0.0   \n",
       "170940        19.0                      0.0                  0.0   \n",
       "170941        19.0                      0.0                  0.0   \n",
       "203651        19.0                      0.0                  0.0   \n",
       "203652        19.0                      0.0                  0.0   \n",
       "213018        19.0                      0.0                  0.0   \n",
       "213019        19.0                      0.0                  0.0   \n",
       "218165        19.0                      0.0                  1.0   \n",
       "218166        19.0                      0.0                  1.0   \n",
       "242977        19.0                      0.0                  1.0   \n",
       "242978        19.0                      0.0                  1.0   \n",
       "245397        19.0                      0.0                  1.0   \n",
       "245398        19.0                      0.0                  1.0   \n",
       "258427        19.0                      0.0                  0.0   \n",
       "258428        19.0                      0.0                  0.0   \n",
       "258740        19.0                      0.0                  0.0   \n",
       "258741        19.0                      0.0                  0.0   \n",
       "264290        19.0                      0.0                  0.0   \n",
       "264291        19.0                      0.0                  0.0   \n",
       "279970        19.0                      0.0                  0.0   \n",
       "279971        19.0                      0.0                  0.0   \n",
       "281545        19.0                      0.0                  0.0   \n",
       "281546        19.0                      0.0                  0.0   \n",
       "283323        19.0                      0.0                  0.0   \n",
       "283325        19.0                      0.0                  0.0   \n",
       "294758        19.0                      0.0                  0.0   \n",
       "294759        19.0                      0.0                  0.0   \n",
       "\n",
       "        energie_veh_gazole  energie_veh_gpl  energie_veh_hybride essence  \\\n",
       "id                                                                         \n",
       "20807                  0.0              0.0                          0.0   \n",
       "20808                  0.0              0.0                          0.0   \n",
       "72227                  0.0              0.0                          0.0   \n",
       "72228                  0.0              0.0                          0.0   \n",
       "73260                  1.0              0.0                          0.0   \n",
       "73261                  1.0              0.0                          0.0   \n",
       "79179                  1.0              0.0                          0.0   \n",
       "79180                  1.0              0.0                          0.0   \n",
       "90599                  0.0              1.0                          0.0   \n",
       "90600                  0.0              1.0                          0.0   \n",
       "98815                  0.0              0.0                          0.0   \n",
       "98816                  0.0              0.0                          0.0   \n",
       "106940                 1.0              0.0                          0.0   \n",
       "106942                 1.0              0.0                          0.0   \n",
       "109767                 0.0              0.0                          0.0   \n",
       "109768                 0.0              0.0                          0.0   \n",
       "113129                 0.0              0.0                          0.0   \n",
       "113130                 0.0              0.0                          0.0   \n",
       "117642                 0.0              0.0                          0.0   \n",
       "117643                 0.0              0.0                          0.0   \n",
       "118937                 0.0              0.0                          0.0   \n",
       "118938                 0.0              0.0                          0.0   \n",
       "120300                 0.0              0.0                          0.0   \n",
       "120301                 0.0              0.0                          0.0   \n",
       "135599                 0.0              0.0                          0.0   \n",
       "135600                 0.0              0.0                          0.0   \n",
       "137865                 0.0              0.0                          0.0   \n",
       "137866                 0.0              0.0                          0.0   \n",
       "142956                 1.0              0.0                          0.0   \n",
       "142957                 1.0              0.0                          0.0   \n",
       "170937                 1.0              0.0                          0.0   \n",
       "170938                 1.0              0.0                          0.0   \n",
       "170940                 1.0              0.0                          0.0   \n",
       "170941                 1.0              0.0                          0.0   \n",
       "203651                 1.0              0.0                          0.0   \n",
       "203652                 1.0              0.0                          0.0   \n",
       "213018                 0.0              0.0                          1.0   \n",
       "213019                 0.0              0.0                          1.0   \n",
       "218165                 0.0              0.0                          0.0   \n",
       "218166                 0.0              0.0                          0.0   \n",
       "242977                 0.0              0.0                          0.0   \n",
       "242978                 0.0              0.0                          0.0   \n",
       "245397                 0.0              0.0                          0.0   \n",
       "245398                 0.0              0.0                          0.0   \n",
       "258427                 1.0              0.0                          0.0   \n",
       "258428                 1.0              0.0                          0.0   \n",
       "258740                 1.0              0.0                          0.0   \n",
       "258741                 1.0              0.0                          0.0   \n",
       "264290                 1.0              0.0                          0.0   \n",
       "264291                 1.0              0.0                          0.0   \n",
       "279970                 1.0              0.0                          0.0   \n",
       "279971                 1.0              0.0                          0.0   \n",
       "281545                 1.0              0.0                          0.0   \n",
       "281546                 1.0              0.0                          0.0   \n",
       "283323                 1.0              0.0                          0.0   \n",
       "283325                 1.0              0.0                          0.0   \n",
       "294758                 0.0              0.0                          1.0   \n",
       "294759                 0.0              0.0                          1.0   \n",
       "\n",
       "        var6_A  var6_B  var6_C  var6_D  var6_N  marque_size  marque_Mean  \\\n",
       "id                                                                         \n",
       "20807      0.0     1.0     0.0     0.0     0.0        35086   340.844844   \n",
       "20808      0.0     1.0     0.0     0.0     0.0        35086   340.844844   \n",
       "72227      0.0     1.0     0.0     0.0     0.0        35086   340.844844   \n",
       "72228      0.0     1.0     0.0     0.0     0.0        35086   340.844844   \n",
       "73260      1.0     0.0     0.0     0.0     0.0        35086   340.844844   \n",
       "73261      1.0     0.0     0.0     0.0     0.0        35086   340.844844   \n",
       "79179      1.0     0.0     0.0     0.0     0.0        73371   336.598258   \n",
       "79180      1.0     0.0     0.0     0.0     0.0        73371   336.598258   \n",
       "90599      0.0     1.0     0.0     0.0     0.0        73371   336.598258   \n",
       "90600      0.0     1.0     0.0     0.0     0.0        73371   336.598258   \n",
       "98815      1.0     0.0     0.0     0.0     0.0        73371   336.598258   \n",
       "98816      1.0     0.0     0.0     0.0     0.0        73371   336.598258   \n",
       "106940     0.0     0.0     1.0     0.0     0.0        73371   336.598258   \n",
       "106942     0.0     0.0     1.0     0.0     0.0        73371   336.598258   \n",
       "109767     0.0     1.0     0.0     0.0     0.0        35086   340.844844   \n",
       "109768     0.0     1.0     0.0     0.0     0.0        35086   340.844844   \n",
       "113129     0.0     0.0     1.0     0.0     0.0        35086   340.844844   \n",
       "113130     0.0     0.0     1.0     0.0     0.0        35086   340.844844   \n",
       "117642     1.0     0.0     0.0     0.0     0.0        73371   336.598258   \n",
       "117643     1.0     0.0     0.0     0.0     0.0        73371   336.598258   \n",
       "118937     0.0     1.0     0.0     0.0     0.0         1579   333.450088   \n",
       "118938     0.0     1.0     0.0     0.0     0.0         1579   333.450088   \n",
       "120300     0.0     1.0     0.0     0.0     0.0        35086   340.844844   \n",
       "120301     0.0     1.0     0.0     0.0     0.0        35086   340.844844   \n",
       "135599     1.0     0.0     0.0     0.0     0.0        73371   336.598258   \n",
       "135600     1.0     0.0     0.0     0.0     0.0        73371   336.598258   \n",
       "137865     0.0     0.0     1.0     0.0     0.0        11316   343.936994   \n",
       "137866     0.0     0.0     1.0     0.0     0.0        11316   343.936994   \n",
       "142956     0.0     0.0     1.0     0.0     0.0         5603   336.903905   \n",
       "142957     0.0     0.0     1.0     0.0     0.0         5603   336.903905   \n",
       "170937     0.0     1.0     0.0     0.0     0.0        73371   336.598258   \n",
       "170938     0.0     1.0     0.0     0.0     0.0        73371   336.598258   \n",
       "170940     1.0     0.0     0.0     0.0     0.0        20023   366.939768   \n",
       "170941     1.0     0.0     0.0     0.0     0.0        20023   366.939768   \n",
       "203651     0.0     0.0     1.0     0.0     0.0        11316   343.936994   \n",
       "203652     0.0     0.0     1.0     0.0     0.0        11316   343.936994   \n",
       "213018     0.0     0.0     0.0     1.0     0.0          179   343.552538   \n",
       "213019     0.0     0.0     0.0     1.0     0.0          179   343.552538   \n",
       "218165     0.0     1.0     0.0     0.0     0.0         8944   359.080563   \n",
       "218166     0.0     1.0     0.0     0.0     0.0         8944   359.080563   \n",
       "242977     0.0     1.0     0.0     0.0     0.0        51202   365.735693   \n",
       "242978     0.0     1.0     0.0     0.0     0.0        51202   365.735693   \n",
       "245397     0.0     1.0     0.0     0.0     0.0         3144   374.874457   \n",
       "245398     0.0     1.0     0.0     0.0     0.0         3144   374.874457   \n",
       "258427     0.0     0.0     1.0     0.0     0.0         2340   334.326325   \n",
       "258428     0.0     0.0     1.0     0.0     0.0         2340   334.326325   \n",
       "258740     1.0     0.0     0.0     0.0     0.0        11316   343.936994   \n",
       "258741     1.0     0.0     0.0     0.0     0.0        11316   343.936994   \n",
       "264290     0.0     1.0     0.0     0.0     0.0        13343   367.635390   \n",
       "264291     0.0     1.0     0.0     0.0     0.0        13343   367.635390   \n",
       "279970     1.0     0.0     0.0     0.0     0.0        73371   336.598258   \n",
       "279971     1.0     0.0     0.0     0.0     0.0        73371   336.598258   \n",
       "281545     0.0     1.0     0.0     0.0     0.0        51202   365.735693   \n",
       "281546     0.0     1.0     0.0     0.0     0.0        51202   365.735693   \n",
       "283323     0.0     0.0     1.0     0.0     0.0        51202   365.735693   \n",
       "283325     0.0     0.0     1.0     0.0     0.0        51202   365.735693   \n",
       "294758     0.0     1.0     0.0     0.0     0.0         3144   374.874457   \n",
       "294759     0.0     1.0     0.0     0.0     0.0         3144   374.874457   \n",
       "\n",
       "         marque_25   marque_50   marque_75  profession_size  profession_Mean  \\\n",
       "id                                                                             \n",
       "20807   259.419980  319.330429  402.629409           110354       360.052820   \n",
       "20808   259.419980  319.330429  402.629409           110354       360.052820   \n",
       "72227   259.419980  319.330429  402.629409           110354       360.052820   \n",
       "72228   259.419980  319.330429  402.629409           110354       360.052820   \n",
       "73260   259.419980  319.330429  402.629409             1137       325.568734   \n",
       "73261   259.419980  319.330429  402.629409             1137       325.568734   \n",
       "79179   253.334394  314.509360  398.650308            15624       333.513677   \n",
       "79180   253.334394  314.509360  398.650308            15624       333.513677   \n",
       "90599   253.334394  314.509360  398.650308           110354       360.052820   \n",
       "90600   253.334394  314.509360  398.650308           110354       360.052820   \n",
       "98815   253.334394  314.509360  398.650308            31471       323.086869   \n",
       "98816   253.334394  314.509360  398.650308            31471       323.086869   \n",
       "106940  253.334394  314.509360  398.650308            31471       323.086869   \n",
       "106942  253.334394  314.509360  398.650308            31471       323.086869   \n",
       "109767  259.419980  319.330429  402.629409           110354       360.052820   \n",
       "109768  259.419980  319.330429  402.629409           110354       360.052820   \n",
       "113129  259.419980  319.330429  402.629409           110354       360.052820   \n",
       "113130  259.419980  319.330429  402.629409           110354       360.052820   \n",
       "117642  253.334394  314.509360  398.650308            31471       323.086869   \n",
       "117643  253.334394  314.509360  398.650308            31471       323.086869   \n",
       "118937  257.629711  315.799687  394.003689            13273       361.846247   \n",
       "118938  257.629711  315.799687  394.003689            13273       361.846247   \n",
       "120300  259.419980  319.330429  402.629409            10424       317.036089   \n",
       "120301  259.419980  319.330429  402.629409            10424       317.036089   \n",
       "135599  253.334394  314.509360  398.650308           110354       360.052820   \n",
       "135600  253.334394  314.509360  398.650308           110354       360.052820   \n",
       "137865  261.116258  323.655746  406.058685           110354       360.052820   \n",
       "137866  261.116258  323.655746  406.058685           110354       360.052820   \n",
       "142956  260.562722  314.149438  394.614844            31471       323.086869   \n",
       "142957  260.562722  314.149438  394.614844            31471       323.086869   \n",
       "170937  253.334394  314.509360  398.650308            10424       317.036089   \n",
       "170938  253.334394  314.509360  398.650308            10424       317.036089   \n",
       "170940  276.947978  344.918169  436.061776           110354       360.052820   \n",
       "170941  276.947978  344.918169  436.061776           110354       360.052820   \n",
       "203651  261.116258  323.655746  406.058685            74960       345.846929   \n",
       "203652  261.116258  323.655746  406.058685            74960       345.846929   \n",
       "213018  266.581679  322.669028  398.901937            13273       361.846247   \n",
       "213019  266.581679  322.669028  398.901937            13273       361.846247   \n",
       "218165  280.728319  333.647090  410.525845             4852       322.581082   \n",
       "218166  280.728319  333.647090  410.525845             4852       322.581082   \n",
       "242977  276.511282  342.377918  431.396643           110354       360.052820   \n",
       "242978  276.511282  342.377918  431.396643           110354       360.052820   \n",
       "245397  289.637651  344.699111  434.449188            74960       345.846929   \n",
       "245398  289.637651  344.699111  434.449188            74960       345.846929   \n",
       "258427  266.250053  315.182430  380.095634            15624       333.513677   \n",
       "258428  266.250053  315.182430  380.095634            15624       333.513677   \n",
       "258740  261.116258  323.655746  406.058685           110354       360.052820   \n",
       "258741  261.116258  323.655746  406.058685           110354       360.052820   \n",
       "264290  281.380627  346.902548  431.486170             4852       322.581082   \n",
       "264291  281.380627  346.902548  431.486170             4852       322.581082   \n",
       "279970  253.334394  314.509360  398.650308            13273       361.846247   \n",
       "279971  253.334394  314.509360  398.650308            13273       361.846247   \n",
       "281545  276.511282  342.377918  431.396643            74960       345.846929   \n",
       "281546  276.511282  342.377918  431.396643            74960       345.846929   \n",
       "283323  276.511282  342.377918  431.396643            74960       345.846929   \n",
       "283325  276.511282  342.377918  431.396643            74960       345.846929   \n",
       "294758  289.637651  344.699111  434.449188           110354       360.052820   \n",
       "294759  289.637651  344.699111  434.449188           110354       360.052820   \n",
       "\n",
       "        profession_25  profession_50  profession_75  var8_size   var8_Mean  \\\n",
       "id                                                                           \n",
       "20807        272.2800        330.370       424.3775      66389  358.238655   \n",
       "20808        272.2800        330.370       424.3775      66389  358.238655   \n",
       "72227        272.2800        330.370       424.3775      91826  363.817658   \n",
       "72228        272.2800        330.370       424.3775      91826  363.817658   \n",
       "73260        244.0800        313.770       390.4400      23369  296.880304   \n",
       "73261        244.0800        313.770       390.4400      23369  296.880304   \n",
       "79179        253.1075        313.480       390.2275      54018  349.780423   \n",
       "79180        253.1075        313.480       390.2275      54018  349.780423   \n",
       "90599        272.2800        330.370       424.3775      91826  363.817658   \n",
       "90600        272.2800        330.370       424.3775      91826  363.817658   \n",
       "98815        246.4650        301.030       375.9100      23369  296.880304   \n",
       "98816        246.4650        301.030       375.9100      23369  296.880304   \n",
       "106940       246.4650        301.030       375.9100      66389  358.238655   \n",
       "106942       246.4650        301.030       375.9100      66389  358.238655   \n",
       "109767       272.2800        330.370       424.3775      91826  363.817658   \n",
       "109768       272.2800        330.370       424.3775      91826  363.817658   \n",
       "113129       272.2800        330.370       424.3775      23369  296.880304   \n",
       "113130       272.2800        330.370       424.3775      23369  296.880304   \n",
       "117642       246.4650        301.030       375.9100       5357  298.593719   \n",
       "117643       246.4650        301.030       375.9100       5357  298.593719   \n",
       "118937       272.9800        340.950       430.1100      91826  363.817658   \n",
       "118938       272.9800        340.950       430.1100      91826  363.817658   \n",
       "120300       244.5775        297.725       366.5775      66389  358.238655   \n",
       "120301       244.5775        297.725       366.5775      66389  358.238655   \n",
       "135599       272.2800        330.370       424.3775      66389  358.238655   \n",
       "135600       272.2800        330.370       424.3775      66389  358.238655   \n",
       "137865       272.2800        330.370       424.3775      54018  349.780423   \n",
       "137866       272.2800        330.370       424.3775      54018  349.780423   \n",
       "142956       246.4650        301.030       375.9100      91826  363.817658   \n",
       "142957       246.4650        301.030       375.9100      91826  363.817658   \n",
       "170937       244.5775        297.725       366.5775      91826  363.817658   \n",
       "170938       244.5775        297.725       366.5775      91826  363.817658   \n",
       "170940       272.2800        330.370       424.3775      91826  363.817658   \n",
       "170941       272.2800        330.370       424.3775      91826  363.817658   \n",
       "203651       261.5800        327.515       409.5225      91826  363.817658   \n",
       "203652       261.5800        327.515       409.5225      91826  363.817658   \n",
       "213018       272.9800        340.950       430.1100       2710  316.996422   \n",
       "213019       272.9800        340.950       430.1100       2710  316.996422   \n",
       "218165       247.5200        301.335       369.6525       6525  338.698721   \n",
       "218166       247.5200        301.335       369.6525       6525  338.698721   \n",
       "242977       272.2800        330.370       424.3775      23369  296.880304   \n",
       "242978       272.2800        330.370       424.3775      23369  296.880304   \n",
       "245397       261.5800        327.515       409.5225      25042  331.781948   \n",
       "245398       261.5800        327.515       409.5225      25042  331.781948   \n",
       "258427       253.1075        313.480       390.2275       7565  316.651778   \n",
       "258428       253.1075        313.480       390.2275       7565  316.651778   \n",
       "258740       272.2800        330.370       424.3775      91826  363.817658   \n",
       "258741       272.2800        330.370       424.3775      91826  363.817658   \n",
       "264290       247.5200        301.335       369.6525      91826  363.817658   \n",
       "264291       247.5200        301.335       369.6525      91826  363.817658   \n",
       "279970       272.9800        340.950       430.1100      25042  331.781948   \n",
       "279971       272.9800        340.950       430.1100      25042  331.781948   \n",
       "281545       261.5800        327.515       409.5225      91826  363.817658   \n",
       "281546       261.5800        327.515       409.5225      91826  363.817658   \n",
       "283323       261.5800        327.515       409.5225      54018  349.780423   \n",
       "283325       261.5800        327.515       409.5225      54018  349.780423   \n",
       "294758       272.2800        330.370       424.3775      91826  363.817658   \n",
       "294759       272.2800        330.370       424.3775      91826  363.817658   \n",
       "\n",
       "           var8_25     var8_50     var8_75  \n",
       "id                                          \n",
       "20807   264.680191  335.825067  428.769809  \n",
       "20808   264.680191  335.825067  428.769809  \n",
       "72227   274.902517  341.808783  430.492305  \n",
       "72228   274.902517  341.808783  430.492305  \n",
       "73260   221.429119  280.141698  350.352716  \n",
       "73261   221.429119  280.141698  350.352716  \n",
       "79179   269.352408  326.464964  408.151470  \n",
       "79180   269.352408  326.464964  408.151470  \n",
       "90599   274.902517  341.808783  430.492305  \n",
       "90600   274.902517  341.808783  430.492305  \n",
       "98815   221.429119  280.141698  350.352716  \n",
       "98816   221.429119  280.141698  350.352716  \n",
       "106940  264.680191  335.825067  428.769809  \n",
       "106942  264.680191  335.825067  428.769809  \n",
       "109767  274.902517  341.808783  430.492305  \n",
       "109768  274.902517  341.808783  430.492305  \n",
       "113129  221.429119  280.141698  350.352716  \n",
       "113130  221.429119  280.141698  350.352716  \n",
       "117642  220.781801  280.351195  354.067195  \n",
       "117643  220.781801  280.351195  354.067195  \n",
       "118937  274.902517  341.808783  430.492305  \n",
       "118938  274.902517  341.808783  430.492305  \n",
       "120300  264.680191  335.825067  428.769809  \n",
       "120301  264.680191  335.825067  428.769809  \n",
       "135599  264.680191  335.825067  428.769809  \n",
       "135600  264.680191  335.825067  428.769809  \n",
       "137865  269.352408  326.464964  408.151470  \n",
       "137866  269.352408  326.464964  408.151470  \n",
       "142956  274.902517  341.808783  430.492305  \n",
       "142957  274.902517  341.808783  430.492305  \n",
       "170937  274.902517  341.808783  430.492305  \n",
       "170938  274.902517  341.808783  430.492305  \n",
       "170940  274.902517  341.808783  430.492305  \n",
       "170941  274.902517  341.808783  430.492305  \n",
       "203651  274.902517  341.808783  430.492305  \n",
       "203652  274.902517  341.808783  430.492305  \n",
       "213018  252.330724  301.383816  359.264533  \n",
       "213019  252.330724  301.383816  359.264533  \n",
       "218165  267.595089  318.650178  384.381530  \n",
       "218166  267.595089  318.650178  384.381530  \n",
       "242977  221.429119  280.141698  350.352716  \n",
       "242978  221.429119  280.141698  350.352716  \n",
       "245397  261.069576  310.587232  379.246620  \n",
       "245398  261.069576  310.587232  379.246620  \n",
       "258427  252.913844  297.678159  358.948927  \n",
       "258428  252.913844  297.678159  358.948927  \n",
       "258740  274.902517  341.808783  430.492305  \n",
       "258741  274.902517  341.808783  430.492305  \n",
       "264290  274.902517  341.808783  430.492305  \n",
       "264291  274.902517  341.808783  430.492305  \n",
       "279970  261.069576  310.587232  379.246620  \n",
       "279971  261.069576  310.587232  379.246620  \n",
       "281545  274.902517  341.808783  430.492305  \n",
       "281546  274.902517  341.808783  430.492305  \n",
       "283323  269.352408  326.464964  408.151470  \n",
       "283325  269.352408  326.464964  408.151470  \n",
       "294758  274.902517  341.808783  430.492305  \n",
       "294759  274.902517  341.808783  430.492305  "
      ]
     },
     "execution_count": 33,
     "metadata": {},
     "output_type": "execute_result"
    }
   ],
   "source": [
    "train[train.drop('crm', axis=1).duplicated(keep=False)]"
   ]
  },
  {
   "cell_type": "code",
   "execution_count": 34,
   "metadata": {
    "collapsed": false
   },
   "outputs": [],
   "source": [
    "first = (train[train.drop('crm', axis=1).duplicated(keep='last')]).index\n",
    "second = (train[train.drop('crm', axis=1).duplicated(keep='first')]).index\n",
    "slopes = (np.array(dfYtrain.COTIS[second]) - np.array(dfYtrain.COTIS[first])) / \\\n",
    "            (np.array(train.crm[second]) - np.array(train.crm[first]))\n",
    "intercepts = np.array(dfYtrain.COTIS[first]) - slopes * np.array(train.crm[first])"
   ]
  },
  {
   "cell_type": "code",
   "execution_count": 35,
   "metadata": {
    "collapsed": false
   },
   "outputs": [
    {
     "data": {
      "text/plain": [
       "array([ 3.83833333,  5.41      ,  3.68      ,  4.125     ,  4.55      ,\n",
       "        4.66333333,  2.13      ,  5.01      ,  4.725     ,  3.59      ,\n",
       "        4.2975    ,  2.89      ,  4.665     ,  4.43277778,  2.528     ,\n",
       "        4.503     ])"
      ]
     },
     "execution_count": 35,
     "metadata": {},
     "output_type": "execute_result"
    }
   ],
   "source": [
    "slopes[~np.isnan(slopes)]"
   ]
  },
  {
   "cell_type": "code",
   "execution_count": 36,
   "metadata": {
    "collapsed": false
   },
   "outputs": [
    {
     "data": {
      "text/plain": [
       "array([  57.49666667,   59.73      ,   21.11      ,   52.605     ,\n",
       "        111.92      ,   37.89666667,   69.67      ,   79.71      ,\n",
       "         74.39      ,   43.59      ,   72.55      ,   90.76      ,\n",
       "         36.45      ,   52.62222222,  109.81      ,   46.06      ])"
      ]
     },
     "execution_count": 36,
     "metadata": {},
     "output_type": "execute_result"
    }
   ],
   "source": [
    "intercepts[~np.isnan(intercepts)]"
   ]
  },
  {
   "cell_type": "code",
   "execution_count": 37,
   "metadata": {
    "collapsed": false
   },
   "outputs": [
    {
     "data": {
      "text/plain": [
       "array([ 0.43635252,  2.00801919,  0.27801919,  0.72301919,  1.14801919,\n",
       "        1.26135252, -1.27198081,  1.60801919,  1.32301919,  0.18801919,\n",
       "        0.89551919, -0.51198081,  1.26301919,  1.03079697, -0.87398081,\n",
       "        1.10101919])"
      ]
     },
     "execution_count": 37,
     "metadata": {},
     "output_type": "execute_result"
    }
   ],
   "source": [
    "slopes[~np.isnan(slopes)] - slope"
   ]
  },
  {
   "cell_type": "code",
   "execution_count": 38,
   "metadata": {
    "collapsed": false
   },
   "outputs": [
    {
     "data": {
      "text/plain": [
       "array([-38.34455448, -36.11122115, -74.73122115, -43.23622115,\n",
       "        16.07877885, -57.94455448, -26.17122115, -16.13122115,\n",
       "       -21.45122115, -52.25122115, -23.29122115,  -5.08122115,\n",
       "       -59.39122115, -43.21899893,  13.96877885, -49.78122115])"
      ]
     },
     "execution_count": 38,
     "metadata": {},
     "output_type": "execute_result"
    }
   ],
   "source": [
    "intercepts[~np.isnan(intercepts)] - intercept"
   ]
  },
  {
   "cell_type": "markdown",
   "metadata": {},
   "source": [
    "Завышение среднего intercept можно отыграть добавкой к наклону."
   ]
  },
  {
   "cell_type": "code",
   "execution_count": 39,
   "metadata": {
    "collapsed": false
   },
   "outputs": [
    {
     "data": {
      "text/plain": [
       "<matplotlib.axes._subplots.AxesSubplot at 0x7f86c5634e10>"
      ]
     },
     "execution_count": 39,
     "metadata": {},
     "output_type": "execute_result"
    },
    {
     "data": {
      "image/png": "[encoded data removed]",
      "text/plain": [
       "<matplotlib.figure.Figure at 0x7f86c5634898>"
      ]
     },
     "metadata": {},
     "output_type": "display_data"
    }
   ],
   "source": [
    "train.crm.hist(bins=100)"
   ]
  },
  {
   "cell_type": "code",
   "execution_count": 40,
   "metadata": {
    "collapsed": false
   },
   "outputs": [
    {
     "data": {
      "text/plain": [
       "50     95427\n",
       "100    33270\n",
       "90     20738\n",
       "95     18909\n",
       "85     14623\n",
       "Name: crm, dtype: int64"
      ]
     },
     "execution_count": 40,
     "metadata": {},
     "output_type": "execute_result"
    }
   ],
   "source": [
    "train.crm.value_counts().head()"
   ]
  },
  {
   "cell_type": "code",
   "execution_count": 41,
   "metadata": {
    "collapsed": false
   },
   "outputs": [
    {
     "data": {
      "text/plain": [
       "<matplotlib.collections.PathCollection at 0x7f86c4404780>"
      ]
     },
     "execution_count": 41,
     "metadata": {},
     "output_type": "execute_result"
    },
    {
     "data": {
      "image/png": "[encoded data removed]",
      "text/plain": [
       "<matplotlib.figure.Figure at 0x7f86c5658e10>"
      ]
     },
     "metadata": {},
     "output_type": "display_data"
    }
   ],
   "source": [
    "plt.scatter(train.crm, (dfYtrain.COTIS - slope * train.crm))"
   ]
  },
  {
   "cell_type": "code",
   "execution_count": 42,
   "metadata": {
    "collapsed": false
   },
   "outputs": [],
   "source": [
    "slopes = slopes[~np.isnan(slopes)]\n",
    "intercepts = intercepts[~np.isnan(intercepts)]"
   ]
  },
  {
   "cell_type": "code",
   "execution_count": 43,
   "metadata": {
    "collapsed": false
   },
   "outputs": [
    {
     "data": {
      "text/plain": [
       "(4.0648715277777754, 63.523159722222424)"
      ]
     },
     "execution_count": 43,
     "metadata": {},
     "output_type": "execute_result"
    }
   ],
   "source": [
    "slopes.mean(), intercepts.mean()"
   ]
  },
  {
   "cell_type": "code",
   "execution_count": 44,
   "metadata": {
    "collapsed": false
   },
   "outputs": [
    {
     "data": {
      "text/plain": [
       "(3.4019808086311301, 95.841221149398137)"
      ]
     },
     "execution_count": 44,
     "metadata": {},
     "output_type": "execute_result"
    }
   ],
   "source": [
    "slope, intercept"
   ]
  },
  {
   "cell_type": "code",
   "execution_count": 45,
   "metadata": {
    "collapsed": false
   },
   "outputs": [
    {
     "data": {
      "text/plain": [
       "(array([ 1.,  1.,  1.,  0.,  2.,  1.,  2.,  6.,  1.,  1.]),\n",
       " array([ 2.13 ,  2.458,  2.786,  3.114,  3.442,  3.77 ,  4.098,  4.426,\n",
       "         4.754,  5.082,  5.41 ]),\n",
       " <a list of 10 Patch objects>)"
      ]
     },
     "execution_count": 45,
     "metadata": {},
     "output_type": "execute_result"
    },
    {
     "data": {
      "image/png": "[encoded data removed]",
      "text/plain": [
       "<matplotlib.figure.Figure at 0x7f86c4428c88>"
      ]
     },
     "metadata": {},
     "output_type": "display_data"
    }
   ],
   "source": [
    "plt.hist(slopes)"
   ]
  },
  {
   "cell_type": "code",
   "execution_count": 46,
   "metadata": {
    "collapsed": false
   },
   "outputs": [
    {
     "data": {
      "text/plain": [
       "(array([ 1.,  2.,  2.,  2.,  2.,  3.,  1.,  1.,  0.,  2.]),\n",
       " array([  21.11 ,   30.191,   39.272,   48.353,   57.434,   66.515,\n",
       "          75.596,   84.677,   93.758,  102.839,  111.92 ]),\n",
       " <a list of 10 Patch objects>)"
      ]
     },
     "execution_count": 46,
     "metadata": {},
     "output_type": "execute_result"
    },
    {
     "data": {
      "image/png": "[encoded data removed]",
      "text/plain": [
       "<matplotlib.figure.Figure at 0x7f86c43a3e80>"
      ]
     },
     "metadata": {},
     "output_type": "display_data"
    }
   ],
   "source": [
    "plt.hist(intercepts)"
   ]
  },
  {
   "cell_type": "code",
   "execution_count": 47,
   "metadata": {
    "collapsed": true
   },
   "outputs": [],
   "source": [
    "def new_diff(zero_apprx):\n",
    "    return np.minimum((zero_apprx - 100) * 0.44 / train.crm, 3) + \\\n",
    "           np.minimum((zero_apprx - 20) * 0.44 / train.crm, 3)"
   ]
  },
  {
   "cell_type": "code",
   "execution_count": 48,
   "metadata": {
    "collapsed": true
   },
   "outputs": [],
   "source": [
    "def squeeze(apprx, number):\n",
    "    for i in range(number):\n",
    "        diff = new_diff(apprx)\n",
    "        apprx = apprx - diff * train.crm\n",
    "    return apprx\n"
   ]
  },
  {
   "cell_type": "code",
   "execution_count": 49,
   "metadata": {
    "collapsed": true
   },
   "outputs": [],
   "source": [
    "slope = 3.4019808086311301 #средний по всем\n",
    "slope = 4.0648715277777754 #средний по дублям\n",
    "slope = 3.8"
   ]
  },
  {
   "cell_type": "code",
   "execution_count": 157,
   "metadata": {
    "collapsed": false
   },
   "outputs": [
    {
     "data": {
      "text/plain": [
       "<matplotlib.collections.PathCollection at 0x7f86b32364a8>"
      ]
     },
     "execution_count": 157,
     "metadata": {},
     "output_type": "execute_result"
    },
    {
     "data": {
      "image/png": "[encoded data removed]",
      "text/plain": [
       "<matplotlib.figure.Figure at 0x7f86c3d596a0>"
      ]
     },
     "metadata": {},
     "output_type": "display_data"
    }
   ],
   "source": [
    "zero_apprx = (dfYtrain.COTIS - slope * train.crm)\n",
    "inters = squeeze(zero_apprx, 1)\n",
    "#inters = zero_apprx\n",
    "plt.scatter(train.crm, inters)"
   ]
  },
  {
   "cell_type": "code",
   "execution_count": 158,
   "metadata": {
    "collapsed": false
   },
   "outputs": [
    {
     "data": {
      "image/png": "[encoded data removed]",
      "text/plain": [
       "<matplotlib.figure.Figure at 0x7f86c3c79518>"
      ]
     },
     "metadata": {},
     "output_type": "display_data"
    }
   ],
   "source": [
    "plt.hist(inters, bins=100)\n",
    "plt.show()"
   ]
  },
  {
   "cell_type": "code",
   "execution_count": 51,
   "metadata": {
    "collapsed": true
   },
   "outputs": [],
   "source": [
    "zero_apprx = (dfYtrain.COTIS - slope * train.crm)\n",
    "diff = new_diff(zero_apprx)"
   ]
  },
  {
   "cell_type": "code",
   "execution_count": 52,
   "metadata": {
    "collapsed": false
   },
   "outputs": [
    {
     "data": {
      "image/png": "[encoded data removed]",
      "text/plain": [
       "<matplotlib.figure.Figure at 0x7f86c43b2dd8>"
      ]
     },
     "metadata": {},
     "output_type": "display_data"
    }
   ],
   "source": [
    "plt.hist(diff, bins=100)\n",
    "plt.show()"
   ]
  },
  {
   "cell_type": "markdown",
   "metadata": {},
   "source": [
    "Теперь у нас есть нулевое приближение для diff"
   ]
  },
  {
   "cell_type": "markdown",
   "metadata": {},
   "source": [
    "# Save routines"
   ]
  },
  {
   "cell_type": "code",
   "execution_count": 53,
   "metadata": {
    "collapsed": false
   },
   "outputs": [
    {
     "data": {
      "text/html": [
       "<div>\n",
       "<table border=\"1\" class=\"dataframe\">\n",
       "  <thead>\n",
       "    <tr style=\"text-align: right;\">\n",
       "      <th></th>\n",
       "      <th>ID</th>\n",
       "      <th>COTIS</th>\n",
       "    </tr>\n",
       "  </thead>\n",
       "  <tbody>\n",
       "    <tr>\n",
       "      <th>0</th>\n",
       "      <td>300001</td>\n",
       "      <td>0.0</td>\n",
       "    </tr>\n",
       "    <tr>\n",
       "      <th>1</th>\n",
       "      <td>300002</td>\n",
       "      <td>0.0</td>\n",
       "    </tr>\n",
       "    <tr>\n",
       "      <th>2</th>\n",
       "      <td>300003</td>\n",
       "      <td>0.0</td>\n",
       "    </tr>\n",
       "    <tr>\n",
       "      <th>3</th>\n",
       "      <td>300004</td>\n",
       "      <td>0.0</td>\n",
       "    </tr>\n",
       "    <tr>\n",
       "      <th>4</th>\n",
       "      <td>300005</td>\n",
       "      <td>0.0</td>\n",
       "    </tr>\n",
       "  </tbody>\n",
       "</table>\n",
       "</div>"
      ],
      "text/plain": [
       "       ID  COTIS\n",
       "0  300001    0.0\n",
       "1  300002    0.0\n",
       "2  300003    0.0\n",
       "3  300004    0.0\n",
       "4  300005    0.0"
      ]
     },
     "execution_count": 53,
     "metadata": {},
     "output_type": "execute_result"
    }
   ],
   "source": [
    "dfYtest = pd.DataFrame({'ID': dfXtest.index, 'COTIS': np.zeros(test.shape[0])})\n",
    "dfYtest = dfYtest[['ID', 'COTIS']]\n",
    "dfYtest.head()"
   ]
  },
  {
   "cell_type": "code",
   "execution_count": 54,
   "metadata": {
    "collapsed": true
   },
   "outputs": [],
   "source": [
    "def save_to_file(y, file_name):\n",
    "    dfYtest['COTIS'] = y\n",
    "    dfYtest.to_csv('results/{}'.format(file_name), index=False, sep=';')"
   ]
  },
  {
   "cell_type": "code",
   "execution_count": 55,
   "metadata": {
    "collapsed": false
   },
   "outputs": [
    {
     "data": {
      "text/html": [
       "<div>\n",
       "<table border=\"1\" class=\"dataframe\">\n",
       "  <thead>\n",
       "    <tr style=\"text-align: right;\">\n",
       "      <th></th>\n",
       "      <th>ID</th>\n",
       "      <th>lin_crm</th>\n",
       "    </tr>\n",
       "  </thead>\n",
       "  <tbody>\n",
       "    <tr>\n",
       "      <th>0</th>\n",
       "      <td>1</td>\n",
       "      <td>0.0</td>\n",
       "    </tr>\n",
       "    <tr>\n",
       "      <th>1</th>\n",
       "      <td>2</td>\n",
       "      <td>0.0</td>\n",
       "    </tr>\n",
       "    <tr>\n",
       "      <th>2</th>\n",
       "      <td>3</td>\n",
       "      <td>0.0</td>\n",
       "    </tr>\n",
       "    <tr>\n",
       "      <th>3</th>\n",
       "      <td>4</td>\n",
       "      <td>0.0</td>\n",
       "    </tr>\n",
       "    <tr>\n",
       "      <th>4</th>\n",
       "      <td>5</td>\n",
       "      <td>0.0</td>\n",
       "    </tr>\n",
       "  </tbody>\n",
       "</table>\n",
       "</div>"
      ],
      "text/plain": [
       "   ID  lin_crm\n",
       "0   1      0.0\n",
       "1   2      0.0\n",
       "2   3      0.0\n",
       "3   4      0.0\n",
       "4   5      0.0"
      ]
     },
     "execution_count": 55,
     "metadata": {},
     "output_type": "execute_result"
    }
   ],
   "source": [
    "model_name = 'lin_crm'\n",
    "dfYtest_stacking = pd.DataFrame({'ID': dfXtrain.index, model_name: np.zeros(train.shape[0])})\n",
    "dfYtest_stacking = dfYtest_stacking[['ID', model_name]]\n",
    "dfYtest_stacking.head()"
   ]
  },
  {
   "cell_type": "code",
   "execution_count": 56,
   "metadata": {
    "collapsed": true
   },
   "outputs": [],
   "source": [
    "def save_to_file_stacking(y, file_name):\n",
    "    dfYtest_stacking[model_name] = y\n",
    "    dfYtest_stacking.to_csv('stacking/{}'.format(file_name), index=False, sep=';')"
   ]
  },
  {
   "cell_type": "markdown",
   "metadata": {},
   "source": [
    "# Train"
   ]
  },
  {
   "cell_type": "code",
   "execution_count": 57,
   "metadata": {
    "collapsed": false
   },
   "outputs": [],
   "source": [
    "import xgboost as xgb\n",
    "XGBR = xgb.XGBRegressor\n",
    "from sklearn.ensemble import ExtraTreesRegressor\n",
    "from sklearn.cross_validation import LabelKFold\n",
    "from sklearn.cross_validation import KFold\n",
    "from sklearn.grid_search import GridSearchCV"
   ]
  },
  {
   "cell_type": "code",
   "execution_count": 58,
   "metadata": {
    "collapsed": false
   },
   "outputs": [],
   "source": [
    "def plot_quality(grid_searcher, param_name):\n",
    "    means = []\n",
    "    stds = []\n",
    "    for elem in grid_searcher.grid_scores_:\n",
    "        means.append(np.mean(elem.cv_validation_scores))\n",
    "        stds.append(np.sqrt(np.var(elem.cv_validation_scores)))\n",
    "    means = np.array(means)\n",
    "    stds = np.array(stds)\n",
    "    \n",
    "    params = grid_searcher.param_grid\n",
    "    \n",
    "    plt.figure(figsize=(10, 6))\n",
    "    plt.plot(params[param_name], means)\n",
    "    plt.fill_between(params[param_name], \\\n",
    "                 means + stds, means - stds, alpha = 0.3, facecolor='blue')\n",
    "    plt.xlabel(param_name)\n",
    "    plt.ylabel('MAPE')"
   ]
  },
  {
   "cell_type": "code",
   "execution_count": 59,
   "metadata": {
    "collapsed": false
   },
   "outputs": [],
   "source": [
    "def mape(y_true, y_pred):\n",
    "    y_pred = y_pred.reshape(y_true.shape)\n",
    "    return -np.mean(np.abs((y_true - y_pred) / y_true)) * 100"
   ]
  },
  {
   "cell_type": "code",
   "execution_count": 60,
   "metadata": {
    "collapsed": true
   },
   "outputs": [],
   "source": [
    "def mape_scorer(est, X, y):\n",
    "    gc.collect()\n",
    "    return mape(y, est.predict(X))"
   ]
  },
  {
   "cell_type": "code",
   "execution_count": 61,
   "metadata": {
    "collapsed": true
   },
   "outputs": [],
   "source": [
    "class MyGS():\n",
    "    class Element():\n",
    "        def __init__(self):\n",
    "            self.cv_validation_scores = []\n",
    "        \n",
    "        \n",
    "        def add(self, score):\n",
    "            self.cv_validation_scores.append(score)\n",
    "    \n",
    "    \n",
    "    def __init__(self, param_grid, name, n_folds):\n",
    "        self.param_grid = {name: param_grid}\n",
    "        self.grid_scores_ = [MyGS.Element() for item in param_grid]\n",
    "        \n",
    "    \n",
    "    def add(self, score, param_num):\n",
    "        self.grid_scores_[param_num].add(score)\n",
    "        "
   ]
  },
  {
   "cell_type": "code",
   "execution_count": 62,
   "metadata": {
    "collapsed": false
   },
   "outputs": [],
   "source": [
    "def get_score_list(X, y, clf, scorer):\n",
    "    predictions = list()\n",
    "    score = list()\n",
    "    for i, tree in enumerate(clf.estimators_):\n",
    "        proba = tree.predict(X)\n",
    "        predictions.append(proba)\n",
    "        rf_prediction = np.mean(predictions, axis=0)\n",
    "        score.append(scorer(y, rf_prediction))\n",
    "    return score"
   ]
  },
  {
   "cell_type": "code",
   "execution_count": 63,
   "metadata": {
    "collapsed": true
   },
   "outputs": [],
   "source": [
    "def restore_target(diff, inters, crm, slope):\n",
    "    return (diff + slope) * crm + inters"
   ]
  },
  {
   "cell_type": "code",
   "execution_count": 64,
   "metadata": {
    "collapsed": false
   },
   "outputs": [
    {
     "data": {
      "text/plain": [
       "-2.4779370292308642"
      ]
     },
     "execution_count": 64,
     "metadata": {},
     "output_type": "execute_result"
    }
   ],
   "source": [
    "mape(y_train[:, 0], 60 + train.crm * (slope + diff))"
   ]
  },
  {
   "cell_type": "code",
   "execution_count": 65,
   "metadata": {
    "collapsed": true
   },
   "outputs": [],
   "source": [
    "intercept = 60"
   ]
  },
  {
   "cell_type": "markdown",
   "metadata": {
    "collapsed": true
   },
   "source": [
    "Сегодня мы будем обучать ExtraTrees"
   ]
  },
  {
   "cell_type": "markdown",
   "metadata": {},
   "source": [
    "Разобьём на трейн и валидацию"
   ]
  },
  {
   "cell_type": "code",
   "execution_count": 66,
   "metadata": {
    "collapsed": false
   },
   "outputs": [],
   "source": [
    "validation_index = (dropped_train.department == 1) | (dropped_train.department > 90)\n",
    "train_index = ~validation_index"
   ]
  },
  {
   "cell_type": "code",
   "execution_count": 89,
   "metadata": {
    "collapsed": true
   },
   "outputs": [],
   "source": [
    "subtrain, validation = train[train_index], train[validation_index]\n",
    "x_subtrain = np.array(subtrain)\n",
    "x_validation = np.array(validation)\n",
    "\n",
    "ysubtrain, yvalidation = dfYtrain[train_index], dfYtrain[validation_index]\n",
    "y_subtrain = np.array(ysubtrain).flatten()\n",
    "y_validation = np.array(yvalidation).flatten()"
   ]
  },
  {
   "cell_type": "code",
   "execution_count": 90,
   "metadata": {
    "collapsed": false
   },
   "outputs": [],
   "source": [
    "diffsubtrain, diffvalidation = diff[train_index], diff[validation_index]\n",
    "diff_subtrain = np.array(diffsubtrain)\n",
    "diff_validation = np.array(diffvalidation)"
   ]
  },
  {
   "cell_type": "code",
   "execution_count": 91,
   "metadata": {
    "collapsed": false
   },
   "outputs": [
    {
     "data": {
      "text/plain": [
       "(34889,)"
      ]
     },
     "execution_count": 91,
     "metadata": {},
     "output_type": "execute_result"
    }
   ],
   "source": [
    "diff_validation.shape"
   ]
  },
  {
   "cell_type": "markdown",
   "metadata": {},
   "source": [
    "Сначала просто ExtraTree для diff"
   ]
  },
  {
   "cell_type": "code",
   "execution_count": 92,
   "metadata": {
    "collapsed": false,
    "scrolled": true
   },
   "outputs": [
    {
     "name": "stdout",
     "output_type": "stream",
     "text": [
      "CPU times: user 1min 14s, sys: 232 ms, total: 1min 14s\n",
      "Wall time: 21.9 s\n"
     ]
    }
   ],
   "source": [
    "%%time\n",
    "est = ExtraTreesRegressor(n_estimators=10, max_features=51, \n",
    "                          max_depth=None, n_jobs=-1, random_state=42).fit(X=x_subtrain, y=diff_subtrain)"
   ]
  },
  {
   "cell_type": "code",
   "execution_count": 93,
   "metadata": {
    "collapsed": false
   },
   "outputs": [
    {
     "data": {
      "text/plain": [
       "-9.9076416476335769"
      ]
     },
     "execution_count": 93,
     "metadata": {},
     "output_type": "execute_result"
    }
   ],
   "source": [
    "diff_pred = est.predict(x_validation)\n",
    "y_pred = restore_target(diff_pred, intercept, np.array(validation.crm), slope)\n",
    "mape(y_validation, y_pred)"
   ]
  },
  {
   "cell_type": "code",
   "execution_count": 94,
   "metadata": {
    "collapsed": false
   },
   "outputs": [
    {
     "data": {
      "text/plain": [
       "-2.4535180888420265"
      ]
     },
     "execution_count": 94,
     "metadata": {},
     "output_type": "execute_result"
    }
   ],
   "source": [
    "mape(y_validation, restore_target(diff_validation, intercept, np.array(validation.crm), slope))"
   ]
  },
  {
   "cell_type": "code",
   "execution_count": 95,
   "metadata": {
    "collapsed": false
   },
   "outputs": [
    {
     "data": {
      "image/png": "[encoded data removed]",
      "text/plain": [
       "<matplotlib.figure.Figure at 0x7f86a8d8ba20>"
      ]
     },
     "metadata": {},
     "output_type": "display_data"
    }
   ],
   "source": [
    "plt.hist(diff_validation, bins=100)\n",
    "plt.hist(diff_pred, bins=100)\n",
    "plt.show()"
   ]
  },
  {
   "cell_type": "markdown",
   "metadata": {},
   "source": [
    "Теперь поделим subtrain на две части. На одной опять обучим diff, на другой обучим inters по ответам diff"
   ]
  },
  {
   "cell_type": "code",
   "execution_count": 96,
   "metadata": {
    "collapsed": false
   },
   "outputs": [
    {
     "data": {
      "text/plain": [
       "31156"
      ]
     },
     "execution_count": 96,
     "metadata": {},
     "output_type": "execute_result"
    }
   ],
   "source": [
    "est = None\n",
    "gc.collect()"
   ]
  },
  {
   "cell_type": "code",
   "execution_count": 109,
   "metadata": {
    "collapsed": false,
    "scrolled": true
   },
   "outputs": [
    {
     "name": "stdout",
     "output_type": "stream",
     "text": [
      "CPU times: user 1min 9s, sys: 148 ms, total: 1min 9s\n",
      "Wall time: 17.7 s\n"
     ]
    }
   ],
   "source": [
    "%%time\n",
    "sub_index = x_subtrain.shape[0] // 2\n",
    "diff_est = ExtraTreesRegressor(\n",
    "                n_estimators=20, max_features=51, \n",
    "                max_depth=None, n_jobs=-1, random_state=42).fit(\n",
    "                        X=x_subtrain[:sub_index], y=diff_subtrain[:sub_index])"
   ]
  },
  {
   "cell_type": "code",
   "execution_count": 110,
   "metadata": {
    "collapsed": false
   },
   "outputs": [],
   "source": [
    "diff_sub = diff_est.predict(x_subtrain[sub_index:])\n",
    "inters_sub = y_subtrain[sub_index:] - restore_target(diff_sub, 0, np.array(subtrain.crm)[sub_index:], slope)"
   ]
  },
  {
   "cell_type": "code",
   "execution_count": 115,
   "metadata": {
    "collapsed": false,
    "scrolled": true
   },
   "outputs": [
    {
     "name": "stdout",
     "output_type": "stream",
     "text": [
      "CPU times: user 1min 17s, sys: 192 ms, total: 1min 17s\n",
      "Wall time: 19.8 s\n"
     ]
    }
   ],
   "source": [
    "%%time\n",
    "inters_est = ExtraTreesRegressor(\n",
    "                n_estimators=20, max_features=51, \n",
    "                max_depth=None, n_jobs=-1, random_state=42).fit(\n",
    "                        X=x_subtrain[sub_index:], y=inters_sub)"
   ]
  },
  {
   "cell_type": "code",
   "execution_count": 116,
   "metadata": {
    "collapsed": false
   },
   "outputs": [
    {
     "data": {
      "text/plain": [
       "-9.6758453547870928"
      ]
     },
     "execution_count": 116,
     "metadata": {},
     "output_type": "execute_result"
    }
   ],
   "source": [
    "diff_pred = diff_est.predict(x_validation)\n",
    "inters_pred = inters_est.predict(x_validation)\n",
    "y_pred = restore_target(diff_pred, inters_pred, np.array(validation.crm), slope)\n",
    "mape(y_validation, y_pred)"
   ]
  },
  {
   "cell_type": "markdown",
   "metadata": {
    "collapsed": true
   },
   "source": [
    "Теперь посмотрим, будет ли сходимость, если на вывод inters_est скорректировать diff, а затем провернуть новый круг обучения "
   ]
  },
  {
   "cell_type": "code",
   "execution_count": 125,
   "metadata": {
    "collapsed": true
   },
   "outputs": [],
   "source": [
    "from sklearn.utils import shuffle"
   ]
  },
  {
   "cell_type": "code",
   "execution_count": 152,
   "metadata": {
    "collapsed": false
   },
   "outputs": [
    {
     "name": "stderr",
     "output_type": "stream",
     "text": [
      "Widget Javascript not detected.  It may not be installed properly. Did you enable the widgetsnbextension? If not, then run \"jupyter nbextension enable --py --sys-prefix widgetsnbextension\"\n"
     ]
    },
    {
     "name": "stdout",
     "output_type": "stream",
     "text": [
      "\n",
      "CPU times: user 41min 34s, sys: 9.23 s, total: 41min 43s\n",
      "Wall time: 11min 5s\n"
     ]
    }
   ],
   "source": [
    "%%time\n",
    "sub_index = int(x_subtrain.shape[0] * 1)\n",
    "num_iter = 5\n",
    "diff_big_sub = diff_subtrain.copy()\n",
    "inters_big_sub = np.zeros(diff_big_sub.shape) + intercept\n",
    "scores = []\n",
    "\n",
    "for iteration in tnrange(num_iter):\n",
    "    x_sub, diff_sub = shuffle(x_subtrain, diff_big_sub, \n",
    "                              n_samples=sub_index, random_state=iteration * 4)\n",
    "    diff_est = ExtraTreesRegressor(\n",
    "                n_estimators=30, max_features=51, \n",
    "                max_depth=None, n_jobs=-1, random_state=iteration * 4 + 1).fit(\n",
    "                        X=x_sub, y=diff_sub)\n",
    "    diff_big_sub = diff_est.predict(x_subtrain)\n",
    "    \n",
    "    inters_big_sub = y_subtrain - (slope + diff_big_sub) * np.array(subtrain.crm)\n",
    "    x_sub, inters_sub = shuffle(x_subtrain, inters_big_sub, \n",
    "                                n_samples=sub_index, random_state=iteration * 4 + 2)\n",
    "    inters_est = ExtraTreesRegressor(\n",
    "                  n_estimators=30, max_features=51, \n",
    "                  max_depth=None, n_jobs=-1, random_state=iteration * 4 + 3).fit(\n",
    "                          X=x_sub, y=inters_sub)\n",
    "    inters_big_sub = inters_est.predict(x_subtrain)\n",
    "    diff_big_sub = (y_subtrain - inters_big_sub) / np.array(subtrain.crm) - slope\n",
    "    gc.collect()\n",
    "    \n",
    "    diff_pred = diff_est.predict(x_validation)\n",
    "    inters_pred = inters_est.predict(x_validation)\n",
    "    y_pred = restore_target(diff_pred, inters_pred, np.array(validation.crm), slope)\n",
    "    scores.append(mape(y_validation, y_pred))"
   ]
  },
  {
   "cell_type": "markdown",
   "metadata": {},
   "source": [
    "1, n_est_diff = 30, n_est_inters = 30"
   ]
  },
  {
   "cell_type": "code",
   "execution_count": 153,
   "metadata": {
    "collapsed": false
   },
   "outputs": [
    {
     "data": {
      "image/png": "[encoded data removed]",
      "text/plain": [
       "<matplotlib.figure.Figure at 0x7f86c3d7f0f0>"
      ]
     },
     "metadata": {},
     "output_type": "display_data"
    }
   ],
   "source": [
    "fig = plt.figure()\n",
    "plt.plot(scores)\n",
    "fig.suptitle(\"n_est = 30\")\n",
    "plt.xlabel('iteration')\n",
    "plt.ylabel('MAPE')\n",
    "plt.show()"
   ]
  },
  {
   "cell_type": "markdown",
   "metadata": {},
   "source": [
    "1, n_est_diff = 10, n_est_inters = 10"
   ]
  },
  {
   "cell_type": "code",
   "execution_count": 151,
   "metadata": {
    "collapsed": false
   },
   "outputs": [
    {
     "data": {
      "image/png": "[encoded data removed]",
      "text/plain": [
       "<matplotlib.figure.Figure at 0x7f86c3c872e8>"
      ]
     },
     "metadata": {},
     "output_type": "display_data"
    }
   ],
   "source": [
    "fig = plt.figure()\n",
    "plt.plot(scores)\n",
    "fig.suptitle(\"n_est = 10\")\n",
    "plt.xlabel('iteration')\n",
    "plt.ylabel('MAPE')\n",
    "plt.show()"
   ]
  },
  {
   "cell_type": "markdown",
   "metadata": {},
   "source": [
    "1, n_est_diff = 20, n_est_inters = 20"
   ]
  },
  {
   "cell_type": "code",
   "execution_count": 149,
   "metadata": {
    "collapsed": false
   },
   "outputs": [
    {
     "data": {
      "image/png": "[encoded data removed]",
      "text/plain": [
       "<matplotlib.figure.Figure at 0x7f86c3d242e8>"
      ]
     },
     "metadata": {},
     "output_type": "display_data"
    }
   ],
   "source": [
    "fig = plt.figure()\n",
    "plt.plot(scores)\n",
    "fig.suptitle(\"probability {:.2f}\".format(sub_index / x_subtrain.shape[0]))\n",
    "plt.xlabel('iteration')\n",
    "plt.ylabel('MAPE')\n",
    "plt.show()"
   ]
  },
  {
   "cell_type": "markdown",
   "metadata": {},
   "source": [
    "0.5"
   ]
  },
  {
   "cell_type": "code",
   "execution_count": 147,
   "metadata": {
    "collapsed": false
   },
   "outputs": [
    {
     "data": {
      "image/png": "[encoded data removed]",
      "text/plain": [
       "<matplotlib.figure.Figure at 0x7f86c3cf5048>"
      ]
     },
     "metadata": {},
     "output_type": "display_data"
    }
   ],
   "source": [
    "fig = plt.figure()\n",
    "plt.plot(scores)\n",
    "fig.suptitle(\"probability {:.2f}\".format(sub_index / x_subtrain.shape[0]))\n",
    "plt.xlabel('iteration')\n",
    "plt.ylabel('MAPE')\n",
    "plt.show()"
   ]
  },
  {
   "cell_type": "markdown",
   "metadata": {},
   "source": [
    "0.9"
   ]
  },
  {
   "cell_type": "code",
   "execution_count": 145,
   "metadata": {
    "collapsed": false
   },
   "outputs": [
    {
     "data": {
      "image/png": "[encoded data removed]",
      "text/plain": [
       "<matplotlib.figure.Figure at 0x7f86c3c315c0>"
      ]
     },
     "metadata": {},
     "output_type": "display_data"
    }
   ],
   "source": [
    "fig = plt.figure()\n",
    "plt.plot(scores)\n",
    "fig.suptitle(\"probability {:.2f}\".format(sub_index / x_subtrain.shape[0]))\n",
    "plt.xlabel('iteration')\n",
    "plt.ylabel('MAPE')\n",
    "plt.show()"
   ]
  },
  {
   "cell_type": "code",
   "execution_count": null,
   "metadata": {
    "collapsed": true
   },
   "outputs": [],
   "source": []
  },
  {
   "cell_type": "markdown",
   "metadata": {
    "collapsed": true
   },
   "source": [
    "Сделаем нормальный baseline. Обучим и diff, и inters на \"нулевых\" данных"
   ]
  },
  {
   "cell_type": "code",
   "execution_count": 137,
   "metadata": {
    "collapsed": true
   },
   "outputs": [],
   "source": [
    "inters_subtrain = y_subtrain - (slope + diff_subtrain) * np.array(subtrain.crm)"
   ]
  },
  {
   "cell_type": "code",
   "execution_count": 138,
   "metadata": {
    "collapsed": false,
    "scrolled": true
   },
   "outputs": [
    {
     "name": "stdout",
     "output_type": "stream",
     "text": [
      "CPU times: user 1min 13s, sys: 120 ms, total: 1min 13s\n",
      "Wall time: 21.9 s\n"
     ]
    }
   ],
   "source": [
    "%%time\n",
    "diff_est = ExtraTreesRegressor(n_estimators=10, max_features=51, \n",
    "                          max_depth=None, n_jobs=-1, random_state=42).fit(X=x_subtrain, y=diff_subtrain)"
   ]
  },
  {
   "cell_type": "code",
   "execution_count": 139,
   "metadata": {
    "collapsed": false,
    "scrolled": true
   },
   "outputs": [
    {
     "name": "stdout",
     "output_type": "stream",
     "text": [
      "CPU times: user 1min 15s, sys: 172 ms, total: 1min 15s\n",
      "Wall time: 22.3 s\n"
     ]
    }
   ],
   "source": [
    "%%time\n",
    "inters_est = ExtraTreesRegressor(n_estimators=10, max_features=51, \n",
    "                          max_depth=None, n_jobs=-1, random_state=42).fit(X=x_subtrain, y=inters_subtrain)"
   ]
  },
  {
   "cell_type": "code",
   "execution_count": 140,
   "metadata": {
    "collapsed": false
   },
   "outputs": [
    {
     "data": {
      "text/plain": [
       "-9.6657743379075658"
      ]
     },
     "execution_count": 140,
     "metadata": {},
     "output_type": "execute_result"
    }
   ],
   "source": [
    "diff_pred = diff_est.predict(x_validation)\n",
    "inters_pred = inters_est.predict(x_validation)\n",
    "y_pred = restore_target(diff_pred, inters_pred, np.array(validation.crm), slope)\n",
    "mape(y_validation, y_pred)"
   ]
  },
  {
   "cell_type": "code",
   "execution_count": null,
   "metadata": {
    "collapsed": true
   },
   "outputs": [],
   "source": []
  },
  {
   "cell_type": "markdown",
   "metadata": {},
   "source": [
    "Посмотрим поближе n_est = 30"
   ]
  },
  {
   "cell_type": "code",
   "execution_count": 226,
   "metadata": {
    "collapsed": false
   },
   "outputs": [
    {
     "name": "stdout",
     "output_type": "stream",
     "text": [
      "CPU times: user 8min 3s, sys: 1.33 s, total: 8min 4s\n",
      "Wall time: 2min 9s\n"
     ]
    }
   ],
   "source": [
    "%%time\n",
    "iteration = 0\n",
    "sub_index = x_subtrain.shape[0]\n",
    "diff_big_sub = diff_subtrain\n",
    "\n",
    "x_sub, diff_sub = shuffle(x_subtrain, diff_big_sub, \n",
    "                          n_samples=sub_index, random_state=iteration * 4)\n",
    "diff_est = ExtraTreesRegressor(\n",
    "            n_estimators=30, max_features=51, \n",
    "            max_depth=None, n_jobs=-1, random_state=iteration * 4 + 1).fit(\n",
    "                    X=x_sub, y=diff_sub)\n",
    "diff_big_sub = diff_est.predict(x_subtrain)\n",
    "\n",
    "inters_big_sub = y_subtrain - (slope + diff_big_sub) * np.array(subtrain.crm)\n",
    "x_sub, inters_sub = shuffle(x_subtrain, inters_big_sub, \n",
    "                            n_samples=sub_index, random_state=iteration * 4 + 2)\n",
    "inters_est = ExtraTreesRegressor(\n",
    "              n_estimators=30, max_features=51, \n",
    "              max_depth=None, n_jobs=-1, random_state=iteration * 4 + 3).fit(\n",
    "                      X=x_sub, y=inters_sub)\n",
    "inters_big_sub = inters_est.predict(x_subtrain)\n",
    "diff_big_sub = (y_subtrain - inters_big_sub) / np.array(subtrain.crm) - slope\n",
    "gc.collect()\n",
    "\n",
    "diff_pred = diff_est.predict(x_validation)\n",
    "inters_pred = inters_est.predict(x_validation)\n",
    "y_pred = restore_target(diff_pred, inters_pred, np.array(validation.crm), slope)"
   ]
  },
  {
   "cell_type": "code",
   "execution_count": 227,
   "metadata": {
    "collapsed": false
   },
   "outputs": [
    {
     "data": {
      "text/plain": [
       "-9.3791445464105703"
      ]
     },
     "execution_count": 227,
     "metadata": {},
     "output_type": "execute_result"
    }
   ],
   "source": [
    "mape(y_validation, y_pred)"
   ]
  },
  {
   "cell_type": "code",
   "execution_count": 228,
   "metadata": {
    "collapsed": false
   },
   "outputs": [
    {
     "data": {
      "image/png": "[encoded data removed]",
      "text/plain": [
       "<matplotlib.figure.Figure at 0x7f86a92cbcf8>"
      ]
     },
     "metadata": {},
     "output_type": "display_data"
    }
   ],
   "source": [
    "plt.hist(diff_validation, bins=100)\n",
    "plt.hist(diff_pred, bins=100)\n",
    "plt.show()"
   ]
  },
  {
   "cell_type": "code",
   "execution_count": 229,
   "metadata": {
    "collapsed": false
   },
   "outputs": [],
   "source": [
    "inters_validation = y_validation - (slope + diff_validation) * np.array(validation.crm)"
   ]
  },
  {
   "cell_type": "code",
   "execution_count": 230,
   "metadata": {
    "collapsed": false
   },
   "outputs": [
    {
     "data": {
      "image/png": "[encoded data removed]",
      "text/plain": [
       "<matplotlib.figure.Figure at 0x7f86a9433c88>"
      ]
     },
     "metadata": {},
     "output_type": "display_data"
    }
   ],
   "source": [
    "plt.hist(inters_validation, bins=100)\n",
    "plt.hist(inters_pred, bins=100)\n",
    "plt.show()"
   ]
  },
  {
   "cell_type": "code",
   "execution_count": 231,
   "metadata": {
    "collapsed": false
   },
   "outputs": [
    {
     "data": {
      "image/png": "[encoded data removed]",
      "text/plain": [
       "<matplotlib.figure.Figure at 0x7f86a9387278>"
      ]
     },
     "metadata": {},
     "output_type": "display_data"
    }
   ],
   "source": [
    "plt.hist(np.log(y_validation), bins=100)\n",
    "plt.hist(np.log(y_pred), bins=100)\n",
    "plt.show()"
   ]
  },
  {
   "cell_type": "code",
   "execution_count": 232,
   "metadata": {
    "collapsed": false
   },
   "outputs": [
    {
     "data": {
      "text/plain": [
       "-1.7336875165578416e-15"
      ]
     },
     "execution_count": 232,
     "metadata": {},
     "output_type": "execute_result"
    }
   ],
   "source": [
    "y_big_sub = restore_target(diff_big_sub, inters_big_sub, np.array(subtrain.crm), slope)\n",
    "mape(y_subtrain, y_big_sub)"
   ]
  },
  {
   "cell_type": "code",
   "execution_count": 233,
   "metadata": {
    "collapsed": false
   },
   "outputs": [
    {
     "data": {
      "image/png": "[encoded data removed]",
      "text/plain": [
       "<matplotlib.figure.Figure at 0x7f86a936d3c8>"
      ]
     },
     "metadata": {},
     "output_type": "display_data"
    }
   ],
   "source": [
    "plt.hist(diff_subtrain, bins=100)\n",
    "plt.hist(diff_big_sub, bins=100)\n",
    "plt.show()"
   ]
  },
  {
   "cell_type": "code",
   "execution_count": 234,
   "metadata": {
    "collapsed": false
   },
   "outputs": [
    {
     "data": {
      "image/png": "[encoded data removed]",
      "text/plain": [
       "<matplotlib.figure.Figure at 0x7f86a9368518>"
      ]
     },
     "metadata": {},
     "output_type": "display_data"
    }
   ],
   "source": [
    "plt.hist((y_pred - y_validation) / y_validation, bins=100)\n",
    "plt.show()"
   ]
  },
  {
   "cell_type": "code",
   "execution_count": 235,
   "metadata": {
    "collapsed": false
   },
   "outputs": [],
   "source": [
    "bad_val = validation.iloc[((y_pred - y_validation) / y_validation > 0.4)]"
   ]
  },
  {
   "cell_type": "code",
   "execution_count": 236,
   "metadata": {
    "collapsed": false
   },
   "outputs": [
    {
     "data": {
      "text/plain": [
       "(146, 51)"
      ]
     },
     "execution_count": 236,
     "metadata": {},
     "output_type": "execute_result"
    }
   ],
   "source": [
    "bad_val.shape"
   ]
  },
  {
   "cell_type": "code",
   "execution_count": 237,
   "metadata": {
    "collapsed": false
   },
   "outputs": [
    {
     "data": {
      "text/plain": [
       "0.004184700048725959"
      ]
     },
     "execution_count": 237,
     "metadata": {},
     "output_type": "execute_result"
    }
   ],
   "source": [
    "bad_val.shape[0] / validation.shape[0]"
   ]
  },
  {
   "cell_type": "markdown",
   "metadata": {
    "collapsed": true
   },
   "source": [
    "Надо поправить diff, увеличив дисперсию"
   ]
  },
  {
   "cell_type": "code",
   "execution_count": null,
   "metadata": {
    "collapsed": true
   },
   "outputs": [],
   "source": []
  },
  {
   "cell_type": "code",
   "execution_count": null,
   "metadata": {
    "collapsed": true
   },
   "outputs": [],
   "source": []
  },
  {
   "cell_type": "code",
   "execution_count": null,
   "metadata": {
    "collapsed": true
   },
   "outputs": [],
   "source": []
  },
  {
   "cell_type": "code",
   "execution_count": 256,
   "metadata": {
    "collapsed": false
   },
   "outputs": [
    {
     "data": {
      "text/plain": [
       "9"
      ]
     },
     "execution_count": 256,
     "metadata": {},
     "output_type": "execute_result"
    }
   ],
   "source": [
    "diff_est = None\n",
    "inters_est = None\n",
    "gc.collect()"
   ]
  },
  {
   "cell_type": "markdown",
   "metadata": {},
   "source": [
    "# Save"
   ]
  },
  {
   "cell_type": "code",
   "execution_count": 257,
   "metadata": {
    "collapsed": false
   },
   "outputs": [
    {
     "name": "stdout",
     "output_type": "stream",
     "text": [
      "CPU times: user 19min 3s, sys: 10.7 s, total: 19min 14s\n",
      "Wall time: 5min 21s\n"
     ]
    }
   ],
   "source": [
    "%%time\n",
    "iteration = 0\n",
    "sub_index = x_train.shape[0]\n",
    "diff_big_sub = diff\n",
    "\n",
    "x_sub, diff_sub = shuffle(x_train, diff_big_sub, \n",
    "                          n_samples=sub_index, random_state=iteration * 4)\n",
    "diff_est = ExtraTreesRegressor(\n",
    "            n_estimators=60, max_features=51, \n",
    "            max_depth=None, n_jobs=-1, random_state=iteration * 4 + 1).fit(\n",
    "                    X=x_sub, y=diff_sub)\n",
    "diff_big_sub = diff_est.predict(x_train)\n",
    "\n",
    "inters_big_sub = y_train.flatten() - (slope + diff_big_sub) * np.array(train.crm)\n",
    "x_sub, inters_sub = shuffle(x_train, inters_big_sub, \n",
    "                            n_samples=sub_index, random_state=iteration * 4 + 2)\n",
    "inters_est = ExtraTreesRegressor(\n",
    "              n_estimators=60, max_features=51, \n",
    "              max_depth=None, n_jobs=-1, random_state=iteration * 4 + 3).fit(\n",
    "                      X=x_sub, y=inters_sub)\n",
    "inters_big_sub = inters_est.predict(x_train)\n",
    "diff_big_sub = (y_train.flatten() - inters_big_sub) / np.array(train.crm) - slope\n",
    "gc.collect()\n",
    "\n",
    "diff_pred = diff_est.predict(x_test)\n",
    "inters_pred = inters_est.predict(x_test)\n",
    "y_pred = restore_target(diff_pred, inters_pred, np.array(test.crm), slope)"
   ]
  },
  {
   "cell_type": "code",
   "execution_count": 258,
   "metadata": {
    "collapsed": true
   },
   "outputs": [],
   "source": [
    "save_to_file(y_pred, 'xtr.csv')"
   ]
  },
  {
   "cell_type": "code",
   "execution_count": null,
   "metadata": {
    "collapsed": true
   },
   "outputs": [],
   "source": []
  },
  {
   "cell_type": "code",
   "execution_count": null,
   "metadata": {
    "collapsed": true
   },
   "outputs": [],
   "source": []
  },
  {
   "cell_type": "code",
   "execution_count": null,
   "metadata": {
    "collapsed": true
   },
   "outputs": [],
   "source": []
  }
 ],
 "metadata": {
  "kernelspec": {
   "display_name": "Python 3",
   "language": "python",
   "name": "python3"
  },
  "widgets": {
   "state": {
    "59297eaa06c04e5f8cc0287221a629d7": {
     "views": [
      {
       "cell_index": 98
      }
     ]
    }
   },
   "version": "1.2.0"
  }
 },
 "nbformat": 4,
 "nbformat_minor": 0
}
